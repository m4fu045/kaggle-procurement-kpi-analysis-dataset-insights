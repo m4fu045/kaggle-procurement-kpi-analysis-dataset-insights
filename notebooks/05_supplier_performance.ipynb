{
 "cells": [
  {
   "cell_type": "markdown",
   "metadata": {},
   "source": [
    "# Procurement KPI Analytics - Supplier Performance Deep Dive\n",
    "\n",
    "**Objective**: Conduct comprehensive supplier performance analysis to optimize supplier relationships and drive strategic sourcing decisions.\n",
    "\n",
    "**Key Analysis Areas**:\n",
    "- Individual supplier performance scorecards\n",
    "- Supplier risk assessment and classification\n",
    "- Supplier relationship analysis and portfolio optimization\n",
    "- Performance benchmarking and competitive analysis\n",
    "- Supplier development and improvement opportunities\n",
    "- Strategic supplier identification and partnership potential\n",
    "- Supplier lifecycle and relationship management insights\n",
    "\n",
    "**Input**: Feature-engineered procurement dataset with supplier performance metrics\n",
    "**Output**: Detailed supplier analysis, scorecards, recommendations, and strategic insights\n",
    "\n",
    "---"
   ]
  },
  {
   "cell_type": "markdown",
   "metadata": {},
   "source": [
    "## 1. Setup and Data Loading"
   ]
  },
  {
   "cell_type": "code",
   "execution_count": 1,
   "metadata": {},
   "outputs": [
    {
     "name": "stdout",
     "output_type": "stream",
     "text": [
      "Supplier Performance Analysis environment initialized\n",
      "Analysis timestamp: 2025-07-08 21:54:15\n"
     ]
    }
   ],
   "source": [
    "# Import required libraries\n",
    "import pandas as pd\n",
    "import numpy as np\n",
    "import matplotlib.pyplot as plt\n",
    "import seaborn as sns\n",
    "import plotly.express as px\n",
    "import plotly.graph_objects as go\n",
    "from plotly.subplots import make_subplots\n",
    "import plotly.figure_factory as ff\n",
    "import warnings\n",
    "from datetime import datetime, timedelta\n",
    "from typing import Dict, List, Tuple, Any\n",
    "import math\n",
    "\n",
    "# Configure display and warnings\n",
    "pd.set_option('display.max_columns', None)\n",
    "pd.set_option('display.float_format', '{:.2f}'.format)\n",
    "warnings.filterwarnings('ignore')\n",
    "\n",
    "# Set plotting themes\n",
    "plt.style.use('seaborn-v0_8')\n",
    "sns.set_palette(\"husl\")\n",
    "\n",
    "# Custom color palette for supplier analysis\n",
    "SUPPLIER_COLORS = {\n",
    "    'excellent': '#2E8B57',  # Sea Green\n",
    "    'good': '#4682B4',       # Steel Blue\n",
    "    'average': '#DAA520',    # Goldenrod\n",
    "    'poor': '#DC143C',       # Crimson\n",
    "    'primary': '#1f77b4',    # Default blue\n",
    "    'secondary': '#ff7f0e'   # Default orange\n",
    "}\n",
    "\n",
    "print(\"Supplier Performance Analysis environment initialized\")\n",
    "print(f\"Analysis timestamp: {datetime.now().strftime('%Y-%m-%d %H:%M:%S')}\")"
   ]
  },
  {
   "cell_type": "code",
   "execution_count": 2,
   "metadata": {},
   "outputs": [
    {
     "name": "stdout",
     "output_type": "stream",
     "text": [
      "Feature-engineered dataset loaded successfully\n",
      "Dataset shape: 777 rows x 63 columns\n",
      "\n",
      "Supplier Portfolio Overview:\n",
      "Total active suppliers: 5\n",
      "Total orders analyzed: 777\n",
      "Data period: 2022-01-01 to 2024-01-01\n",
      "Total procurement value: $45,373,696.39\n",
      "Average orders per supplier: 155.4\n"
     ]
    }
   ],
   "source": [
    "# Load feature-engineered dataset\n",
    "try:\n",
    "    df = pd.read_csv('../data/processed/procurement_features_engineered.csv')\n",
    "    print(\"Feature-engineered dataset loaded successfully\")\n",
    "    print(f\"Dataset shape: {df.shape[0]:,} rows x {df.shape[1]} columns\")\n",
    "except FileNotFoundError:\n",
    "    print(\"Error: Feature-engineered dataset not found.\")\n",
    "    print(\"Expected file: '../data/processed/procurement_features_engineered.csv'\")\n",
    "    print(\"Please run the feature engineering notebook first.\")\n",
    "\n",
    "# Convert date columns\n",
    "date_columns = ['Order_Date', 'Delivery_Date']\n",
    "for col in date_columns:\n",
    "    if col in df.columns:\n",
    "        df[col] = pd.to_datetime(df[col], errors='coerce')\n",
    "\n",
    "# Supplier overview\n",
    "print(f\"\\nSupplier Portfolio Overview:\")\n",
    "print(f\"Total active suppliers: {df['Supplier'].nunique():,}\")\n",
    "print(f\"Total orders analyzed: {len(df):,}\")\n",
    "print(f\"Data period: {df['Order_Date'].min().strftime('%Y-%m-%d')} to {df['Order_Date'].max().strftime('%Y-%m-%d')}\")\n",
    "print(f\"Total procurement value: ${df['total_negotiated_value'].sum():,.2f}\")\n",
    "print(f\"Average orders per supplier: {len(df) / df['Supplier'].nunique():.1f}\")"
   ]
  },
  {
   "cell_type": "markdown",
   "metadata": {},
   "source": [
    "## 2. Supplier Portfolio Analysis"
   ]
  },
  {
   "cell_type": "code",
   "execution_count": 3,
   "metadata": {},
   "outputs": [
    {
     "name": "stdout",
     "output_type": "stream",
     "text": [
      "Creating Supplier Portfolio Analysis:\n",
      "==================================================\n",
      "Portfolio analysis created for 5 suppliers\n",
      "\n",
      "TOP 10 SUPPLIERS BY SPEND:\n",
      "==================================================\n"
     ]
    },
    {
     "data": {
      "text/html": [
       "<div>\n",
       "<style scoped>\n",
       "    .dataframe tbody tr th:only-of-type {\n",
       "        vertical-align: middle;\n",
       "    }\n",
       "\n",
       "    .dataframe tbody tr th {\n",
       "        vertical-align: top;\n",
       "    }\n",
       "\n",
       "    .dataframe thead th {\n",
       "        text-align: right;\n",
       "    }\n",
       "</style>\n",
       "<table border=\"1\" class=\"dataframe\">\n",
       "  <thead>\n",
       "    <tr style=\"text-align: right;\">\n",
       "      <th></th>\n",
       "      <th>total_spend</th>\n",
       "      <th>spend_share</th>\n",
       "      <th>total_orders</th>\n",
       "      <th>avg_savings_rate</th>\n",
       "      <th>avg_lead_time</th>\n",
       "      <th>avg_defect_rate</th>\n",
       "      <th>categories_served</th>\n",
       "    </tr>\n",
       "    <tr>\n",
       "      <th>Supplier</th>\n",
       "      <th></th>\n",
       "      <th></th>\n",
       "      <th></th>\n",
       "      <th></th>\n",
       "      <th></th>\n",
       "      <th></th>\n",
       "      <th></th>\n",
       "    </tr>\n",
       "  </thead>\n",
       "  <tbody>\n",
       "    <tr>\n",
       "      <th>Beta_Supplies</th>\n",
       "      <td>9858665.90</td>\n",
       "      <td>21.73</td>\n",
       "      <td>156</td>\n",
       "      <td>7.83</td>\n",
       "      <td>11.27</td>\n",
       "      <td>8.27</td>\n",
       "      <td>5</td>\n",
       "    </tr>\n",
       "    <tr>\n",
       "      <th>Epsilon_Group</th>\n",
       "      <td>9851156.06</td>\n",
       "      <td>21.71</td>\n",
       "      <td>166</td>\n",
       "      <td>8.04</td>\n",
       "      <td>10.87</td>\n",
       "      <td>2.61</td>\n",
       "      <td>5</td>\n",
       "    </tr>\n",
       "    <tr>\n",
       "      <th>Delta_Logistics</th>\n",
       "      <td>9236240.47</td>\n",
       "      <td>20.36</td>\n",
       "      <td>171</td>\n",
       "      <td>7.81</td>\n",
       "      <td>10.85</td>\n",
       "      <td>10.87</td>\n",
       "      <td>5</td>\n",
       "    </tr>\n",
       "    <tr>\n",
       "      <th>Gamma_Co</th>\n",
       "      <td>8587921.71</td>\n",
       "      <td>18.93</td>\n",
       "      <td>143</td>\n",
       "      <td>7.98</td>\n",
       "      <td>10.19</td>\n",
       "      <td>4.50</td>\n",
       "      <td>5</td>\n",
       "    </tr>\n",
       "    <tr>\n",
       "      <th>Alpha_Inc</th>\n",
       "      <td>7839712.25</td>\n",
       "      <td>17.28</td>\n",
       "      <td>141</td>\n",
       "      <td>8.21</td>\n",
       "      <td>10.61</td>\n",
       "      <td>1.89</td>\n",
       "      <td>5</td>\n",
       "    </tr>\n",
       "  </tbody>\n",
       "</table>\n",
       "</div>"
      ],
      "text/plain": [
       "                 total_spend  spend_share  total_orders  avg_savings_rate  \\\n",
       "Supplier                                                                    \n",
       "Beta_Supplies     9858665.90        21.73           156              7.83   \n",
       "Epsilon_Group     9851156.06        21.71           166              8.04   \n",
       "Delta_Logistics   9236240.47        20.36           171              7.81   \n",
       "Gamma_Co          8587921.71        18.93           143              7.98   \n",
       "Alpha_Inc         7839712.25        17.28           141              8.21   \n",
       "\n",
       "                 avg_lead_time  avg_defect_rate  categories_served  \n",
       "Supplier                                                            \n",
       "Beta_Supplies            11.27             8.27                  5  \n",
       "Epsilon_Group            10.87             2.61                  5  \n",
       "Delta_Logistics          10.85            10.87                  5  \n",
       "Gamma_Co                 10.19             4.50                  5  \n",
       "Alpha_Inc                10.61             1.89                  5  "
      ]
     },
     "metadata": {},
     "output_type": "display_data"
    },
    {
     "name": "stdout",
     "output_type": "stream",
     "text": [
      "\n",
      "SUPPLIER PORTFOLIO SUMMARY:\n",
      "==================================================\n",
      "Total suppliers: 5\n",
      "Top 5 supplier concentration: 100.0%\n",
      "Top 10 supplier concentration: 100.0%\n",
      "Suppliers with >5% spend share: 5\n",
      "Average relationship duration: 722 days\n",
      "Average savings rate across portfolio: 7.97%\n",
      "Average lead time across portfolio: 10.8 days\n"
     ]
    }
   ],
   "source": [
    "# Create comprehensive supplier portfolio analysis\n",
    "def create_supplier_portfolio(df: pd.DataFrame) -> pd.DataFrame:\n",
    "    \"\"\"\n",
    "    Create comprehensive supplier portfolio analysis.\n",
    "    \"\"\"\n",
    "    print(\"Creating Supplier Portfolio Analysis:\")\n",
    "    print(\"=\" * 50)\n",
    "    \n",
    "    # Aggregate supplier-level metrics\n",
    "    supplier_portfolio = df.groupby('Supplier').agg({\n",
    "        'PO_ID': 'count',\n",
    "        'total_negotiated_value': ['sum', 'mean', 'std'],\n",
    "        'cost_savings': ['sum', 'mean'],\n",
    "        'savings_percentage': ['mean', 'std'],\n",
    "        'lead_time_days': ['mean', 'std', 'min', 'max'],\n",
    "        'defect_rate': ['mean', 'std'],\n",
    "        'Quantity': 'sum',\n",
    "        'Defective_Units': 'sum',\n",
    "        'Order_Date': ['min', 'max'],\n",
    "        'Item_Category': 'nunique'\n",
    "    }).round(2)\n",
    "    \n",
    "    # Flatten column names\n",
    "    supplier_portfolio.columns = ['_'.join(col).strip() if col[1] else col[0] for col in supplier_portfolio.columns]\n",
    "    \n",
    "    # Rename columns for clarity\n",
    "    column_mapping = {\n",
    "        'PO_ID_count': 'total_orders',\n",
    "        'total_negotiated_value_sum': 'total_spend',\n",
    "        'total_negotiated_value_mean': 'avg_order_value',\n",
    "        'total_negotiated_value_std': 'order_value_variability',\n",
    "        'cost_savings_sum': 'total_savings',\n",
    "        'cost_savings_mean': 'avg_savings_per_order',\n",
    "        'savings_percentage_mean': 'avg_savings_rate',\n",
    "        'savings_percentage_std': 'savings_consistency',\n",
    "        'lead_time_days_mean': 'avg_lead_time',\n",
    "        'lead_time_days_std': 'lead_time_consistency',\n",
    "        'lead_time_days_min': 'best_lead_time',\n",
    "        'lead_time_days_max': 'worst_lead_time',\n",
    "        'defect_rate_mean': 'avg_defect_rate',\n",
    "        'defect_rate_std': 'quality_consistency',\n",
    "        'Quantity_sum': 'total_units',\n",
    "        'Defective_Units_sum': 'total_defective_units',\n",
    "        'Order_Date_min': 'first_order_date',\n",
    "        'Order_Date_max': 'last_order_date',\n",
    "        'Item_Category_nunique': 'categories_served'\n",
    "    }\n",
    "    \n",
    "    supplier_portfolio = supplier_portfolio.rename(columns=column_mapping)\n",
    "    \n",
    "    # Calculate additional metrics\n",
    "    total_portfolio_spend = supplier_portfolio['total_spend'].sum()\n",
    "    supplier_portfolio['spend_share'] = (supplier_portfolio['total_spend'] / total_portfolio_spend * 100).round(2)\n",
    "    \n",
    "    # Relationship duration in days\n",
    "    supplier_portfolio['relationship_duration_days'] = (\n",
    "        supplier_portfolio['last_order_date'] - supplier_portfolio['first_order_date']\n",
    "    ).dt.days\n",
    "    \n",
    "    # Order frequency (orders per month)\n",
    "    supplier_portfolio['order_frequency_monthly'] = (\n",
    "        supplier_portfolio['total_orders'] / \n",
    "        (supplier_portfolio['relationship_duration_days'] / 30 + 1)\n",
    "    ).round(2)\n",
    "    \n",
    "    # Quality metrics\n",
    "    supplier_portfolio['overall_defect_rate'] = (\n",
    "        supplier_portfolio['total_defective_units'] / supplier_portfolio['total_units'] * 100\n",
    "    ).round(2)\n",
    "    \n",
    "    # Performance consistency score (lower is better - less variability)\n",
    "    supplier_portfolio['performance_consistency'] = (\n",
    "        (supplier_portfolio['lead_time_consistency'].fillna(0) / supplier_portfolio['avg_lead_time'].fillna(1)) +\n",
    "        (supplier_portfolio['quality_consistency'].fillna(0) / (supplier_portfolio['avg_defect_rate'].fillna(0.1) + 0.1))\n",
    "    ).round(2)\n",
    "    \n",
    "    # Sort by total spend\n",
    "    supplier_portfolio = supplier_portfolio.sort_values('total_spend', ascending=False)\n",
    "    \n",
    "    print(f\"Portfolio analysis created for {len(supplier_portfolio)} suppliers\")\n",
    "    \n",
    "    return supplier_portfolio\n",
    "\n",
    "# Create supplier portfolio\n",
    "supplier_portfolio = create_supplier_portfolio(df)\n",
    "\n",
    "# Display top suppliers\n",
    "print(\"\\nTOP 10 SUPPLIERS BY SPEND:\")\n",
    "print(\"=\" * 50)\n",
    "top_suppliers = supplier_portfolio.head(10)[[\n",
    "    'total_spend', 'spend_share', 'total_orders', 'avg_savings_rate', \n",
    "    'avg_lead_time', 'avg_defect_rate', 'categories_served'\n",
    "]]\n",
    "display(top_suppliers)\n",
    "\n",
    "# Portfolio summary statistics\n",
    "print(\"\\nSUPPLIER PORTFOLIO SUMMARY:\")\n",
    "print(\"=\" * 50)\n",
    "print(f\"Total suppliers: {len(supplier_portfolio)}\")\n",
    "print(f\"Top 5 supplier concentration: {supplier_portfolio.head(5)['spend_share'].sum():.1f}%\")\n",
    "print(f\"Top 10 supplier concentration: {supplier_portfolio.head(10)['spend_share'].sum():.1f}%\")\n",
    "print(f\"Suppliers with >5% spend share: {(supplier_portfolio['spend_share'] > 5).sum()}\")\n",
    "print(f\"Average relationship duration: {supplier_portfolio['relationship_duration_days'].mean():.0f} days\")\n",
    "print(f\"Average savings rate across portfolio: {supplier_portfolio['avg_savings_rate'].mean():.2f}%\")\n",
    "print(f\"Average lead time across portfolio: {supplier_portfolio['avg_lead_time'].mean():.1f} days\")"
   ]
  },
  {
   "cell_type": "code",
   "execution_count": 4,
   "metadata": {},
   "outputs": [
    {
     "data": {
      "application/vnd.plotly.v1+json": {
       "config": {
        "plotlyServerURL": "https://plot.ly"
       },
       "data": [
        {
         "marker": {
          "color": "#1f77b4"
         },
         "name": "Spend Share %",
         "type": "bar",
         "x": [
          "Beta_Supplies",
          "Epsilon_Group",
          "Delta_Logistics",
          "Gamma_Co",
          "Alpha_Inc"
         ],
         "xaxis": "x",
         "y": {
          "bdata": "exSuR+G6NUD2KFyPwrU1QFyPwvUoXDRArkfhehTuMkBI4XoUrkcxQA==",
          "dtype": "f8"
         },
         "yaxis": "y"
        },
        {
         "marker": {
          "color": "#4682B4"
         },
         "name": "Savings Rate Distribution",
         "nbinsx": 25,
         "type": "histogram",
         "x": {
          "bdata": "UrgehetRH0AUrkfhehQgQD0K16NwPR9A7FG4HoXrH0DsUbgehWsgQA==",
          "dtype": "f8"
         },
         "xaxis": "x2",
         "yaxis": "y2"
        },
        {
         "marker": {
          "color": {
           "bdata": "UrgehetRH0AUrkfhehQgQD0K16NwPR9A7FG4HoXrH0DsUbgehWsgQA==",
           "dtype": "f8"
          },
          "colorscale": [
           [
            0,
            "#440154"
           ],
           [
            0.1111111111111111,
            "#482878"
           ],
           [
            0.2222222222222222,
            "#3e4989"
           ],
           [
            0.3333333333333333,
            "#31688e"
           ],
           [
            0.4444444444444444,
            "#26828e"
           ],
           [
            0.5555555555555556,
            "#1f9e89"
           ],
           [
            0.6666666666666666,
            "#35b779"
           ],
           [
            0.7777777777777778,
            "#6ece58"
           ],
           [
            0.8888888888888888,
            "#b5de2b"
           ],
           [
            1,
            "#fde725"
           ]
          ],
          "showscale": true,
          "size": {
           "bdata": "AAAAAACAQUDcwk0rE31BQKIQ0emPjUBAbL3P1RMiP0Aw+Lf7Nts8QA==",
           "dtype": "f8"
          }
         },
         "mode": "markers",
         "name": "Duration vs Frequency",
         "type": "scatter",
         "x": {
          "bdata": "yQLPAtkC1wLTAg==",
          "dtype": "i2"
         },
         "xaxis": "x3",
         "y": {
          "bdata": "MzMzMzMzGUCamZmZmZkaQArXo3A9ChtArkfhehSuFkB7FK5H4XoWQA==",
          "dtype": "f8"
         },
         "yaxis": "y3"
        },
        {
         "marker": {
          "color": {
           "bdata": "CtejcD2KIEDhehSuR+EEQD0K16NwvSVAAAAAAAAAEkA9CtejcD3+Pw==",
           "dtype": "f8"
          },
          "colorscale": [
           [
            0,
            "rgb(255,245,240)"
           ],
           [
            0.125,
            "rgb(254,224,210)"
           ],
           [
            0.25,
            "rgb(252,187,161)"
           ],
           [
            0.375,
            "rgb(252,146,114)"
           ],
           [
            0.5,
            "rgb(251,106,74)"
           ],
           [
            0.625,
            "rgb(239,59,44)"
           ],
           [
            0.75,
            "rgb(203,24,29)"
           ],
           [
            0.875,
            "rgb(165,15,21)"
           ],
           [
            1,
            "rgb(103,0,13)"
           ]
          ],
          "showscale": true,
          "size": {
           "bdata": "AAAAAACAQUDcwk0rE31BQKIQ0emPjUBAbL3P1RMiP0Aw+Lf7Nts8QA==",
           "dtype": "f8"
          }
         },
         "mode": "markers",
         "name": "Lead Time vs Savings",
         "type": "scatter",
         "x": {
          "bdata": "CtejcD2KJkA9CtejcL0lQDMzMzMzsyVA4XoUrkdhJEC4HoXrUTglQA==",
          "dtype": "f8"
         },
         "xaxis": "x4",
         "y": {
          "bdata": "UrgehetRH0AUrkfhehQgQD0K16NwPR9A7FG4HoXrH0DsUbgehWsgQA==",
          "dtype": "f8"
         },
         "yaxis": "y4"
        }
       ],
       "layout": {
        "annotations": [
         {
          "font": {
           "size": 16
          },
          "showarrow": false,
          "text": "Spend Concentration (Top 20 Suppliers)",
          "x": 0.225,
          "xanchor": "center",
          "xref": "paper",
          "y": 1,
          "yanchor": "bottom",
          "yref": "paper"
         },
         {
          "font": {
           "size": 16
          },
          "showarrow": false,
          "text": "Supplier Performance Distribution",
          "x": 0.775,
          "xanchor": "center",
          "xref": "paper",
          "y": 1,
          "yanchor": "bottom",
          "yref": "paper"
         },
         {
          "font": {
           "size": 16
          },
          "showarrow": false,
          "text": "Relationship Duration vs Order Frequency",
          "x": 0.225,
          "xanchor": "center",
          "xref": "paper",
          "y": 0.375,
          "yanchor": "bottom",
          "yref": "paper"
         },
         {
          "font": {
           "size": 16
          },
          "showarrow": false,
          "text": "Savings Rate vs Lead Time Performance",
          "x": 0.775,
          "xanchor": "center",
          "xref": "paper",
          "y": 0.375,
          "yanchor": "bottom",
          "yref": "paper"
         }
        ],
        "height": 800,
        "showlegend": false,
        "template": {
         "data": {
          "bar": [
           {
            "error_x": {
             "color": "#2a3f5f"
            },
            "error_y": {
             "color": "#2a3f5f"
            },
            "marker": {
             "line": {
              "color": "#E5ECF6",
              "width": 0.5
             },
             "pattern": {
              "fillmode": "overlay",
              "size": 10,
              "solidity": 0.2
             }
            },
            "type": "bar"
           }
          ],
          "barpolar": [
           {
            "marker": {
             "line": {
              "color": "#E5ECF6",
              "width": 0.5
             },
             "pattern": {
              "fillmode": "overlay",
              "size": 10,
              "solidity": 0.2
             }
            },
            "type": "barpolar"
           }
          ],
          "carpet": [
           {
            "aaxis": {
             "endlinecolor": "#2a3f5f",
             "gridcolor": "white",
             "linecolor": "white",
             "minorgridcolor": "white",
             "startlinecolor": "#2a3f5f"
            },
            "baxis": {
             "endlinecolor": "#2a3f5f",
             "gridcolor": "white",
             "linecolor": "white",
             "minorgridcolor": "white",
             "startlinecolor": "#2a3f5f"
            },
            "type": "carpet"
           }
          ],
          "choropleth": [
           {
            "colorbar": {
             "outlinewidth": 0,
             "ticks": ""
            },
            "type": "choropleth"
           }
          ],
          "contour": [
           {
            "colorbar": {
             "outlinewidth": 0,
             "ticks": ""
            },
            "colorscale": [
             [
              0,
              "#0d0887"
             ],
             [
              0.1111111111111111,
              "#46039f"
             ],
             [
              0.2222222222222222,
              "#7201a8"
             ],
             [
              0.3333333333333333,
              "#9c179e"
             ],
             [
              0.4444444444444444,
              "#bd3786"
             ],
             [
              0.5555555555555556,
              "#d8576b"
             ],
             [
              0.6666666666666666,
              "#ed7953"
             ],
             [
              0.7777777777777778,
              "#fb9f3a"
             ],
             [
              0.8888888888888888,
              "#fdca26"
             ],
             [
              1,
              "#f0f921"
             ]
            ],
            "type": "contour"
           }
          ],
          "contourcarpet": [
           {
            "colorbar": {
             "outlinewidth": 0,
             "ticks": ""
            },
            "type": "contourcarpet"
           }
          ],
          "heatmap": [
           {
            "colorbar": {
             "outlinewidth": 0,
             "ticks": ""
            },
            "colorscale": [
             [
              0,
              "#0d0887"
             ],
             [
              0.1111111111111111,
              "#46039f"
             ],
             [
              0.2222222222222222,
              "#7201a8"
             ],
             [
              0.3333333333333333,
              "#9c179e"
             ],
             [
              0.4444444444444444,
              "#bd3786"
             ],
             [
              0.5555555555555556,
              "#d8576b"
             ],
             [
              0.6666666666666666,
              "#ed7953"
             ],
             [
              0.7777777777777778,
              "#fb9f3a"
             ],
             [
              0.8888888888888888,
              "#fdca26"
             ],
             [
              1,
              "#f0f921"
             ]
            ],
            "type": "heatmap"
           }
          ],
          "histogram": [
           {
            "marker": {
             "pattern": {
              "fillmode": "overlay",
              "size": 10,
              "solidity": 0.2
             }
            },
            "type": "histogram"
           }
          ],
          "histogram2d": [
           {
            "colorbar": {
             "outlinewidth": 0,
             "ticks": ""
            },
            "colorscale": [
             [
              0,
              "#0d0887"
             ],
             [
              0.1111111111111111,
              "#46039f"
             ],
             [
              0.2222222222222222,
              "#7201a8"
             ],
             [
              0.3333333333333333,
              "#9c179e"
             ],
             [
              0.4444444444444444,
              "#bd3786"
             ],
             [
              0.5555555555555556,
              "#d8576b"
             ],
             [
              0.6666666666666666,
              "#ed7953"
             ],
             [
              0.7777777777777778,
              "#fb9f3a"
             ],
             [
              0.8888888888888888,
              "#fdca26"
             ],
             [
              1,
              "#f0f921"
             ]
            ],
            "type": "histogram2d"
           }
          ],
          "histogram2dcontour": [
           {
            "colorbar": {
             "outlinewidth": 0,
             "ticks": ""
            },
            "colorscale": [
             [
              0,
              "#0d0887"
             ],
             [
              0.1111111111111111,
              "#46039f"
             ],
             [
              0.2222222222222222,
              "#7201a8"
             ],
             [
              0.3333333333333333,
              "#9c179e"
             ],
             [
              0.4444444444444444,
              "#bd3786"
             ],
             [
              0.5555555555555556,
              "#d8576b"
             ],
             [
              0.6666666666666666,
              "#ed7953"
             ],
             [
              0.7777777777777778,
              "#fb9f3a"
             ],
             [
              0.8888888888888888,
              "#fdca26"
             ],
             [
              1,
              "#f0f921"
             ]
            ],
            "type": "histogram2dcontour"
           }
          ],
          "mesh3d": [
           {
            "colorbar": {
             "outlinewidth": 0,
             "ticks": ""
            },
            "type": "mesh3d"
           }
          ],
          "parcoords": [
           {
            "line": {
             "colorbar": {
              "outlinewidth": 0,
              "ticks": ""
             }
            },
            "type": "parcoords"
           }
          ],
          "pie": [
           {
            "automargin": true,
            "type": "pie"
           }
          ],
          "scatter": [
           {
            "fillpattern": {
             "fillmode": "overlay",
             "size": 10,
             "solidity": 0.2
            },
            "type": "scatter"
           }
          ],
          "scatter3d": [
           {
            "line": {
             "colorbar": {
              "outlinewidth": 0,
              "ticks": ""
             }
            },
            "marker": {
             "colorbar": {
              "outlinewidth": 0,
              "ticks": ""
             }
            },
            "type": "scatter3d"
           }
          ],
          "scattercarpet": [
           {
            "marker": {
             "colorbar": {
              "outlinewidth": 0,
              "ticks": ""
             }
            },
            "type": "scattercarpet"
           }
          ],
          "scattergeo": [
           {
            "marker": {
             "colorbar": {
              "outlinewidth": 0,
              "ticks": ""
             }
            },
            "type": "scattergeo"
           }
          ],
          "scattergl": [
           {
            "marker": {
             "colorbar": {
              "outlinewidth": 0,
              "ticks": ""
             }
            },
            "type": "scattergl"
           }
          ],
          "scattermap": [
           {
            "marker": {
             "colorbar": {
              "outlinewidth": 0,
              "ticks": ""
             }
            },
            "type": "scattermap"
           }
          ],
          "scattermapbox": [
           {
            "marker": {
             "colorbar": {
              "outlinewidth": 0,
              "ticks": ""
             }
            },
            "type": "scattermapbox"
           }
          ],
          "scatterpolar": [
           {
            "marker": {
             "colorbar": {
              "outlinewidth": 0,
              "ticks": ""
             }
            },
            "type": "scatterpolar"
           }
          ],
          "scatterpolargl": [
           {
            "marker": {
             "colorbar": {
              "outlinewidth": 0,
              "ticks": ""
             }
            },
            "type": "scatterpolargl"
           }
          ],
          "scatterternary": [
           {
            "marker": {
             "colorbar": {
              "outlinewidth": 0,
              "ticks": ""
             }
            },
            "type": "scatterternary"
           }
          ],
          "surface": [
           {
            "colorbar": {
             "outlinewidth": 0,
             "ticks": ""
            },
            "colorscale": [
             [
              0,
              "#0d0887"
             ],
             [
              0.1111111111111111,
              "#46039f"
             ],
             [
              0.2222222222222222,
              "#7201a8"
             ],
             [
              0.3333333333333333,
              "#9c179e"
             ],
             [
              0.4444444444444444,
              "#bd3786"
             ],
             [
              0.5555555555555556,
              "#d8576b"
             ],
             [
              0.6666666666666666,
              "#ed7953"
             ],
             [
              0.7777777777777778,
              "#fb9f3a"
             ],
             [
              0.8888888888888888,
              "#fdca26"
             ],
             [
              1,
              "#f0f921"
             ]
            ],
            "type": "surface"
           }
          ],
          "table": [
           {
            "cells": {
             "fill": {
              "color": "#EBF0F8"
             },
             "line": {
              "color": "white"
             }
            },
            "header": {
             "fill": {
              "color": "#C8D4E3"
             },
             "line": {
              "color": "white"
             }
            },
            "type": "table"
           }
          ]
         },
         "layout": {
          "annotationdefaults": {
           "arrowcolor": "#2a3f5f",
           "arrowhead": 0,
           "arrowwidth": 1
          },
          "autotypenumbers": "strict",
          "coloraxis": {
           "colorbar": {
            "outlinewidth": 0,
            "ticks": ""
           }
          },
          "colorscale": {
           "diverging": [
            [
             0,
             "#8e0152"
            ],
            [
             0.1,
             "#c51b7d"
            ],
            [
             0.2,
             "#de77ae"
            ],
            [
             0.3,
             "#f1b6da"
            ],
            [
             0.4,
             "#fde0ef"
            ],
            [
             0.5,
             "#f7f7f7"
            ],
            [
             0.6,
             "#e6f5d0"
            ],
            [
             0.7,
             "#b8e186"
            ],
            [
             0.8,
             "#7fbc41"
            ],
            [
             0.9,
             "#4d9221"
            ],
            [
             1,
             "#276419"
            ]
           ],
           "sequential": [
            [
             0,
             "#0d0887"
            ],
            [
             0.1111111111111111,
             "#46039f"
            ],
            [
             0.2222222222222222,
             "#7201a8"
            ],
            [
             0.3333333333333333,
             "#9c179e"
            ],
            [
             0.4444444444444444,
             "#bd3786"
            ],
            [
             0.5555555555555556,
             "#d8576b"
            ],
            [
             0.6666666666666666,
             "#ed7953"
            ],
            [
             0.7777777777777778,
             "#fb9f3a"
            ],
            [
             0.8888888888888888,
             "#fdca26"
            ],
            [
             1,
             "#f0f921"
            ]
           ],
           "sequentialminus": [
            [
             0,
             "#0d0887"
            ],
            [
             0.1111111111111111,
             "#46039f"
            ],
            [
             0.2222222222222222,
             "#7201a8"
            ],
            [
             0.3333333333333333,
             "#9c179e"
            ],
            [
             0.4444444444444444,
             "#bd3786"
            ],
            [
             0.5555555555555556,
             "#d8576b"
            ],
            [
             0.6666666666666666,
             "#ed7953"
            ],
            [
             0.7777777777777778,
             "#fb9f3a"
            ],
            [
             0.8888888888888888,
             "#fdca26"
            ],
            [
             1,
             "#f0f921"
            ]
           ]
          },
          "colorway": [
           "#636efa",
           "#EF553B",
           "#00cc96",
           "#ab63fa",
           "#FFA15A",
           "#19d3f3",
           "#FF6692",
           "#B6E880",
           "#FF97FF",
           "#FECB52"
          ],
          "font": {
           "color": "#2a3f5f"
          },
          "geo": {
           "bgcolor": "white",
           "lakecolor": "white",
           "landcolor": "#E5ECF6",
           "showlakes": true,
           "showland": true,
           "subunitcolor": "white"
          },
          "hoverlabel": {
           "align": "left"
          },
          "hovermode": "closest",
          "mapbox": {
           "style": "light"
          },
          "paper_bgcolor": "white",
          "plot_bgcolor": "#E5ECF6",
          "polar": {
           "angularaxis": {
            "gridcolor": "white",
            "linecolor": "white",
            "ticks": ""
           },
           "bgcolor": "#E5ECF6",
           "radialaxis": {
            "gridcolor": "white",
            "linecolor": "white",
            "ticks": ""
           }
          },
          "scene": {
           "xaxis": {
            "backgroundcolor": "#E5ECF6",
            "gridcolor": "white",
            "gridwidth": 2,
            "linecolor": "white",
            "showbackground": true,
            "ticks": "",
            "zerolinecolor": "white"
           },
           "yaxis": {
            "backgroundcolor": "#E5ECF6",
            "gridcolor": "white",
            "gridwidth": 2,
            "linecolor": "white",
            "showbackground": true,
            "ticks": "",
            "zerolinecolor": "white"
           },
           "zaxis": {
            "backgroundcolor": "#E5ECF6",
            "gridcolor": "white",
            "gridwidth": 2,
            "linecolor": "white",
            "showbackground": true,
            "ticks": "",
            "zerolinecolor": "white"
           }
          },
          "shapedefaults": {
           "line": {
            "color": "#2a3f5f"
           }
          },
          "ternary": {
           "aaxis": {
            "gridcolor": "white",
            "linecolor": "white",
            "ticks": ""
           },
           "baxis": {
            "gridcolor": "white",
            "linecolor": "white",
            "ticks": ""
           },
           "bgcolor": "#E5ECF6",
           "caxis": {
            "gridcolor": "white",
            "linecolor": "white",
            "ticks": ""
           }
          },
          "title": {
           "x": 0.05
          },
          "xaxis": {
           "automargin": true,
           "gridcolor": "white",
           "linecolor": "white",
           "ticks": "",
           "title": {
            "standoff": 15
           },
           "zerolinecolor": "white",
           "zerolinewidth": 2
          },
          "yaxis": {
           "automargin": true,
           "gridcolor": "white",
           "linecolor": "white",
           "ticks": "",
           "title": {
            "standoff": 15
           },
           "zerolinecolor": "white",
           "zerolinewidth": 2
          }
         }
        },
        "title": {
         "text": "Supplier Portfolio Dashboard"
        },
        "xaxis": {
         "anchor": "y",
         "domain": [
          0,
          0.45
         ],
         "tickangle": 45,
         "title": {
          "text": "Supplier"
         }
        },
        "xaxis2": {
         "anchor": "y2",
         "domain": [
          0.55,
          1
         ],
         "title": {
          "text": "Savings Rate (%)"
         }
        },
        "xaxis3": {
         "anchor": "y3",
         "domain": [
          0,
          0.45
         ],
         "title": {
          "text": "Relationship Duration (Days)"
         }
        },
        "xaxis4": {
         "anchor": "y4",
         "domain": [
          0.55,
          1
         ],
         "title": {
          "text": "Average Lead Time (Days)"
         }
        },
        "yaxis": {
         "anchor": "x",
         "domain": [
          0.625,
          1
         ],
         "title": {
          "text": "Spend Share (%)"
         }
        },
        "yaxis2": {
         "anchor": "x2",
         "domain": [
          0.625,
          1
         ],
         "title": {
          "text": "Frequency"
         }
        },
        "yaxis3": {
         "anchor": "x3",
         "domain": [
          0,
          0.375
         ],
         "title": {
          "text": "Order Frequency (Monthly)"
         }
        },
        "yaxis4": {
         "anchor": "x4",
         "domain": [
          0,
          0.375
         ],
         "title": {
          "text": "Average Savings Rate (%)"
         }
        }
       }
      }
     },
     "metadata": {},
     "output_type": "display_data"
    }
   ],
   "source": [
    "# Create supplier portfolio visualization\n",
    "fig = make_subplots(\n",
    "    rows=2, cols=2,\n",
    "    subplot_titles=(\n",
    "        'Spend Concentration (Top 20 Suppliers)',\n",
    "        'Supplier Performance Distribution',\n",
    "        'Relationship Duration vs Order Frequency',\n",
    "        'Savings Rate vs Lead Time Performance'\n",
    "    ),\n",
    "    specs=[[{\"type\": \"bar\"}, {\"type\": \"histogram\"}],\n",
    "           [{\"type\": \"scatter\"}, {\"type\": \"scatter\"}]]\n",
    ")\n",
    "\n",
    "# 1. Top 20 suppliers by spend\n",
    "top_20 = supplier_portfolio.head(20)\n",
    "fig.add_trace(\n",
    "    go.Bar(\n",
    "        x=top_20.index,\n",
    "        y=top_20['spend_share'],\n",
    "        name='Spend Share %',\n",
    "        marker_color=SUPPLIER_COLORS['primary']\n",
    "    ),\n",
    "    row=1, col=1\n",
    ")\n",
    "\n",
    "# 2. Average savings rate distribution\n",
    "fig.add_trace(\n",
    "    go.Histogram(\n",
    "        x=supplier_portfolio['avg_savings_rate'],\n",
    "        nbinsx=25,\n",
    "        name='Savings Rate Distribution',\n",
    "        marker_color=SUPPLIER_COLORS['good']\n",
    "    ),\n",
    "    row=1, col=2\n",
    ")\n",
    "\n",
    "# 3. Relationship duration vs order frequency\n",
    "fig.add_trace(\n",
    "    go.Scatter(\n",
    "        x=supplier_portfolio['relationship_duration_days'],\n",
    "        y=supplier_portfolio['order_frequency_monthly'],\n",
    "        mode='markers',\n",
    "        name='Duration vs Frequency',\n",
    "        marker=dict(\n",
    "            size=supplier_portfolio['total_spend'] / supplier_portfolio['total_spend'].max() * 30 + 5,\n",
    "            color=supplier_portfolio['avg_savings_rate'],\n",
    "            colorscale='Viridis',\n",
    "            showscale=True\n",
    "        )\n",
    "    ),\n",
    "    row=2, col=1\n",
    ")\n",
    "\n",
    "# 4. Savings rate vs lead time\n",
    "fig.add_trace(\n",
    "    go.Scatter(\n",
    "        x=supplier_portfolio['avg_lead_time'],\n",
    "        y=supplier_portfolio['avg_savings_rate'],\n",
    "        mode='markers',\n",
    "        name='Lead Time vs Savings',\n",
    "        marker=dict(\n",
    "            size=supplier_portfolio['total_spend'] / supplier_portfolio['total_spend'].max() * 30 + 5,\n",
    "            color=supplier_portfolio['avg_defect_rate'],\n",
    "            colorscale='Reds',\n",
    "            showscale=True\n",
    "        )\n",
    "    ),\n",
    "    row=2, col=2\n",
    ")\n",
    "\n",
    "# Update layout\n",
    "fig.update_xaxes(title_text=\"Supplier\", row=1, col=1, tickangle=45)\n",
    "fig.update_xaxes(title_text=\"Savings Rate (%)\", row=1, col=2)\n",
    "fig.update_xaxes(title_text=\"Relationship Duration (Days)\", row=2, col=1)\n",
    "fig.update_xaxes(title_text=\"Average Lead Time (Days)\", row=2, col=2)\n",
    "\n",
    "fig.update_yaxes(title_text=\"Spend Share (%)\", row=1, col=1)\n",
    "fig.update_yaxes(title_text=\"Frequency\", row=1, col=2)\n",
    "fig.update_yaxes(title_text=\"Order Frequency (Monthly)\", row=2, col=1)\n",
    "fig.update_yaxes(title_text=\"Average Savings Rate (%)\", row=2, col=2)\n",
    "\n",
    "fig.update_layout(\n",
    "    height=800,\n",
    "    title_text=\"Supplier Portfolio Dashboard\",\n",
    "    showlegend=False\n",
    ")\n",
    "\n",
    "fig.show()"
   ]
  },
  {
   "cell_type": "markdown",
   "metadata": {},
   "source": [
    "## 3. Supplier Performance Scorecards"
   ]
  },
  {
   "cell_type": "code",
   "execution_count": 5,
   "metadata": {},
   "outputs": [
    {
     "name": "stdout",
     "output_type": "stream",
     "text": [
      "Creating Supplier Performance Scorecards:\n",
      "==================================================\n",
      "Scoring methodology (weights): {'cost_performance': 30, 'delivery_performance': 25, 'quality_performance': 25, 'relationship_value': 20}\n",
      "Scorecards created for 5 suppliers\n",
      "\n",
      "TOP 10 PERFORMING SUPPLIERS:\n",
      "==================================================\n"
     ]
    },
    {
     "data": {
      "text/html": [
       "<div>\n",
       "<style scoped>\n",
       "    .dataframe tbody tr th:only-of-type {\n",
       "        vertical-align: middle;\n",
       "    }\n",
       "\n",
       "    .dataframe tbody tr th {\n",
       "        vertical-align: top;\n",
       "    }\n",
       "\n",
       "    .dataframe thead th {\n",
       "        text-align: right;\n",
       "    }\n",
       "</style>\n",
       "<table border=\"1\" class=\"dataframe\">\n",
       "  <thead>\n",
       "    <tr style=\"text-align: right;\">\n",
       "      <th></th>\n",
       "      <th>overall_supplier_score</th>\n",
       "      <th>performance_tier</th>\n",
       "      <th>strategic_classification</th>\n",
       "      <th>cost_performance_score</th>\n",
       "      <th>delivery_performance_score</th>\n",
       "      <th>quality_performance_score</th>\n",
       "      <th>relationship_value_score</th>\n",
       "      <th>total_spend</th>\n",
       "      <th>spend_share</th>\n",
       "    </tr>\n",
       "    <tr>\n",
       "      <th>Supplier</th>\n",
       "      <th></th>\n",
       "      <th></th>\n",
       "      <th></th>\n",
       "      <th></th>\n",
       "      <th></th>\n",
       "      <th></th>\n",
       "      <th></th>\n",
       "      <th></th>\n",
       "      <th></th>\n",
       "    </tr>\n",
       "  </thead>\n",
       "  <tbody>\n",
       "    <tr>\n",
       "      <th>Alpha_Inc</th>\n",
       "      <td>83.00</td>\n",
       "      <td>Excellent</td>\n",
       "      <td>Strategic Partner</td>\n",
       "      <td>100.00</td>\n",
       "      <td>80.00</td>\n",
       "      <td>100.00</td>\n",
       "      <td>40.00</td>\n",
       "      <td>7839712.25</td>\n",
       "      <td>17.28</td>\n",
       "    </tr>\n",
       "    <tr>\n",
       "      <th>Gamma_Co</th>\n",
       "      <td>69.20</td>\n",
       "      <td>Good</td>\n",
       "      <td>Key Supplier</td>\n",
       "      <td>60.00</td>\n",
       "      <td>100.00</td>\n",
       "      <td>60.00</td>\n",
       "      <td>56.00</td>\n",
       "      <td>8587921.71</td>\n",
       "      <td>18.93</td>\n",
       "    </tr>\n",
       "    <tr>\n",
       "      <th>Epsilon_Group</th>\n",
       "      <td>66.80</td>\n",
       "      <td>Good</td>\n",
       "      <td>Key Supplier</td>\n",
       "      <td>80.00</td>\n",
       "      <td>40.00</td>\n",
       "      <td>80.00</td>\n",
       "      <td>64.00</td>\n",
       "      <td>9851156.06</td>\n",
       "      <td>21.71</td>\n",
       "    </tr>\n",
       "    <tr>\n",
       "      <th>Beta_Supplies</th>\n",
       "      <td>43.60</td>\n",
       "      <td>Average</td>\n",
       "      <td>High Risk Supplier</td>\n",
       "      <td>40.00</td>\n",
       "      <td>32.00</td>\n",
       "      <td>40.00</td>\n",
       "      <td>68.00</td>\n",
       "      <td>9858665.90</td>\n",
       "      <td>21.73</td>\n",
       "    </tr>\n",
       "    <tr>\n",
       "      <th>Delta_Logistics</th>\n",
       "      <td>37.40</td>\n",
       "      <td>Poor</td>\n",
       "      <td>High Risk Supplier</td>\n",
       "      <td>20.00</td>\n",
       "      <td>48.00</td>\n",
       "      <td>20.00</td>\n",
       "      <td>72.00</td>\n",
       "      <td>9236240.47</td>\n",
       "      <td>20.36</td>\n",
       "    </tr>\n",
       "  </tbody>\n",
       "</table>\n",
       "</div>"
      ],
      "text/plain": [
       "                 overall_supplier_score performance_tier  \\\n",
       "Supplier                                                   \n",
       "Alpha_Inc                         83.00        Excellent   \n",
       "Gamma_Co                          69.20             Good   \n",
       "Epsilon_Group                     66.80             Good   \n",
       "Beta_Supplies                     43.60          Average   \n",
       "Delta_Logistics                   37.40             Poor   \n",
       "\n",
       "                strategic_classification  cost_performance_score  \\\n",
       "Supplier                                                           \n",
       "Alpha_Inc              Strategic Partner                  100.00   \n",
       "Gamma_Co                    Key Supplier                   60.00   \n",
       "Epsilon_Group               Key Supplier                   80.00   \n",
       "Beta_Supplies         High Risk Supplier                   40.00   \n",
       "Delta_Logistics       High Risk Supplier                   20.00   \n",
       "\n",
       "                 delivery_performance_score  quality_performance_score  \\\n",
       "Supplier                                                                 \n",
       "Alpha_Inc                             80.00                     100.00   \n",
       "Gamma_Co                             100.00                      60.00   \n",
       "Epsilon_Group                         40.00                      80.00   \n",
       "Beta_Supplies                         32.00                      40.00   \n",
       "Delta_Logistics                       48.00                      20.00   \n",
       "\n",
       "                 relationship_value_score  total_spend  spend_share  \n",
       "Supplier                                                             \n",
       "Alpha_Inc                           40.00   7839712.25        17.28  \n",
       "Gamma_Co                            56.00   8587921.71        18.93  \n",
       "Epsilon_Group                       64.00   9851156.06        21.71  \n",
       "Beta_Supplies                       68.00   9858665.90        21.73  \n",
       "Delta_Logistics                     72.00   9236240.47        20.36  "
      ]
     },
     "metadata": {},
     "output_type": "display_data"
    },
    {
     "name": "stdout",
     "output_type": "stream",
     "text": [
      "\n",
      "PERFORMANCE TIER DISTRIBUTION:\n",
      "==================================================\n",
      "Excellent: 1 suppliers (20.0%) | 17.3% of spend\n",
      "Good: 2 suppliers (40.0%) | 40.6% of spend\n",
      "Average: 1 suppliers (20.0%) | 21.7% of spend\n",
      "Poor: 1 suppliers (20.0%) | 20.4% of spend\n",
      "\n",
      "STRATEGIC CLASSIFICATION DISTRIBUTION:\n",
      "==================================================\n",
      "Key Supplier: 2 suppliers (40.0%)\n",
      "High Risk Supplier: 2 suppliers (40.0%)\n",
      "Strategic Partner: 1 suppliers (20.0%)\n"
     ]
    }
   ],
   "source": [
    "# Create comprehensive supplier scorecards\n",
    "def create_supplier_scorecards(supplier_portfolio: pd.DataFrame) -> pd.DataFrame:\n",
    "    \"\"\"\n",
    "    Create detailed supplier performance scorecards with weighted scores.\n",
    "    \"\"\"\n",
    "    print(\"Creating Supplier Performance Scorecards:\")\n",
    "    print(\"=\" * 50)\n",
    "    \n",
    "    scorecards = supplier_portfolio.copy()\n",
    "    \n",
    "    # Define scoring weights (must sum to 100)\n",
    "    weights = {\n",
    "        'cost_performance': 30,    # Cost savings and efficiency\n",
    "        'delivery_performance': 25, # Lead time and reliability\n",
    "        'quality_performance': 25,  # Defect rate and consistency\n",
    "        'relationship_value': 20   # Strategic value and partnership\n",
    "    }\n",
    "    \n",
    "    print(f\"Scoring methodology (weights): {weights}\")\n",
    "    \n",
    "    # 1. Cost Performance Score (0-100)\n",
    "    # Higher savings rate is better\n",
    "    savings_percentile = scorecards['avg_savings_rate'].rank(pct=True, ascending=True)\n",
    "    scorecards['cost_performance_score'] = (savings_percentile * 100).round(1)\n",
    "    \n",
    "    # 2. Delivery Performance Score (0-100)\n",
    "    # Lower lead time is better, higher consistency (lower std) is better\n",
    "    lead_time_percentile = scorecards['avg_lead_time'].rank(pct=True, ascending=False)\n",
    "    consistency_percentile = scorecards['lead_time_consistency'].fillna(0).rank(pct=True, ascending=False)\n",
    "    scorecards['delivery_performance_score'] = ((lead_time_percentile * 0.7 + consistency_percentile * 0.3) * 100).round(1)\n",
    "    \n",
    "    # 3. Quality Performance Score (0-100)\n",
    "    # Lower defect rate is better\n",
    "    quality_percentile = scorecards['avg_defect_rate'].rank(pct=True, ascending=False)\n",
    "    scorecards['quality_performance_score'] = (quality_percentile * 100).round(1)\n",
    "    \n",
    "    # 4. Relationship Value Score (0-100)\n",
    "    # Based on spend volume, relationship duration, and category coverage\n",
    "    spend_percentile = scorecards['total_spend'].rank(pct=True, ascending=True)\n",
    "    duration_percentile = scorecards['relationship_duration_days'].rank(pct=True, ascending=True)\n",
    "    category_percentile = scorecards['categories_served'].rank(pct=True, ascending=True)\n",
    "    \n",
    "    scorecards['relationship_value_score'] = (\n",
    "        (spend_percentile * 0.5 + duration_percentile * 0.3 + category_percentile * 0.2) * 100\n",
    "    ).round(1)\n",
    "    \n",
    "    # 5. Calculate Overall Supplier Score\n",
    "    scorecards['overall_supplier_score'] = (\n",
    "        scorecards['cost_performance_score'] * weights['cost_performance'] / 100 +\n",
    "        scorecards['delivery_performance_score'] * weights['delivery_performance'] / 100 +\n",
    "        scorecards['quality_performance_score'] * weights['quality_performance'] / 100 +\n",
    "        scorecards['relationship_value_score'] * weights['relationship_value'] / 100\n",
    "    ).round(1)\n",
    "    \n",
    "    # 6. Create Performance Tier Classification\n",
    "    scorecards['performance_tier'] = pd.cut(\n",
    "        scorecards['overall_supplier_score'],\n",
    "        bins=[0, 40, 60, 80, 100],\n",
    "        labels=['Poor', 'Average', 'Good', 'Excellent']\n",
    "    )\n",
    "    \n",
    "    # 7. Create Strategic Classification based on spend and performance\n",
    "    def classify_strategic_value(row):\n",
    "        if row['spend_share'] >= 5 and row['overall_supplier_score'] >= 80:\n",
    "            return 'Strategic Partner'\n",
    "        elif row['spend_share'] >= 5 and row['overall_supplier_score'] >= 60:\n",
    "            return 'Key Supplier'\n",
    "        elif row['spend_share'] >= 5:\n",
    "            return 'High Risk Supplier'\n",
    "        elif row['overall_supplier_score'] >= 80:\n",
    "            return 'Development Opportunity'\n",
    "        elif row['overall_supplier_score'] >= 60:\n",
    "            return 'Standard Supplier'\n",
    "        else:\n",
    "            return 'Performance Concern'\n",
    "    \n",
    "    scorecards['strategic_classification'] = scorecards.apply(classify_strategic_value, axis=1)\n",
    "    \n",
    "    # Sort by overall score\n",
    "    scorecards = scorecards.sort_values('overall_supplier_score', ascending=False)\n",
    "    \n",
    "    print(f\"Scorecards created for {len(scorecards)} suppliers\")\n",
    "    \n",
    "    return scorecards\n",
    "\n",
    "# Create supplier scorecards\n",
    "supplier_scorecards = create_supplier_scorecards(supplier_portfolio)\n",
    "\n",
    "# Display top performing suppliers\n",
    "print(\"\\nTOP 10 PERFORMING SUPPLIERS:\")\n",
    "print(\"=\" * 50)\n",
    "top_performers = supplier_scorecards.head(10)[[\n",
    "    'overall_supplier_score', 'performance_tier', 'strategic_classification',\n",
    "    'cost_performance_score', 'delivery_performance_score', \n",
    "    'quality_performance_score', 'relationship_value_score',\n",
    "    'total_spend', 'spend_share'\n",
    "]]\n",
    "display(top_performers)\n",
    "\n",
    "# Performance tier distribution\n",
    "print(\"\\nPERFORMANCE TIER DISTRIBUTION:\")\n",
    "print(\"=\" * 50)\n",
    "tier_distribution = supplier_scorecards['performance_tier'].value_counts()\n",
    "tier_spend_distribution = supplier_scorecards.groupby('performance_tier')['spend_share'].sum()\n",
    "\n",
    "for tier in ['Excellent', 'Good', 'Average', 'Poor']:\n",
    "    if tier in tier_distribution.index:\n",
    "        count = tier_distribution[tier]\n",
    "        spend_pct = tier_spend_distribution.get(tier, 0)\n",
    "        print(f\"{tier}: {count} suppliers ({count/len(supplier_scorecards)*100:.1f}%) | {spend_pct:.1f}% of spend\")\n",
    "\n",
    "# Strategic classification distribution\n",
    "print(\"\\nSTRATEGIC CLASSIFICATION DISTRIBUTION:\")\n",
    "print(\"=\" * 50)\n",
    "strategic_distribution = supplier_scorecards['strategic_classification'].value_counts()\n",
    "for classification, count in strategic_distribution.items():\n",
    "    print(f\"{classification}: {count} suppliers ({count/len(supplier_scorecards)*100:.1f}%)\")"
   ]
  },
  {
   "cell_type": "code",
   "execution_count": 6,
   "metadata": {},
   "outputs": [
    {
     "data": {
      "application/vnd.plotly.v1+json": {
       "config": {
        "plotlyServerURL": "https://plot.ly"
       },
       "data": [
        {
         "marker": {
          "color": "#1f77b4"
         },
         "name": "Performance Score",
         "nbinsx": 20,
         "type": "histogram",
         "x": {
          "bdata": "AAAAAADAVEDNzMzMzExRQDMzMzMzs1BAzczMzMzMRUAzMzMzM7NCQA==",
          "dtype": "f8"
         },
         "xaxis": "x",
         "yaxis": "y"
        },
        {
         "marker": {
          "color": "#2E8B57",
          "size": 8
         },
         "mode": "markers",
         "name": "Excellent",
         "type": "scatter",
         "x": {
          "bdata": "AAAAAADAVEA=",
          "dtype": "f8"
         },
         "xaxis": "x2",
         "y": {
          "bdata": "SOF6FK5HMUA=",
          "dtype": "f8"
         },
         "yaxis": "y2"
        },
        {
         "marker": {
          "color": "#4682B4",
          "size": 8
         },
         "mode": "markers",
         "name": "Good",
         "type": "scatter",
         "x": {
          "bdata": "zczMzMxMUUAzMzMzM7NQQA==",
          "dtype": "f8"
         },
         "xaxis": "x2",
         "y": {
          "bdata": "rkfhehTuMkD2KFyPwrU1QA==",
          "dtype": "f8"
         },
         "yaxis": "y2"
        },
        {
         "marker": {
          "color": "#DAA520",
          "size": 8
         },
         "mode": "markers",
         "name": "Average",
         "type": "scatter",
         "x": {
          "bdata": "zczMzMzMRUA=",
          "dtype": "f8"
         },
         "xaxis": "x2",
         "y": {
          "bdata": "exSuR+G6NUA=",
          "dtype": "f8"
         },
         "yaxis": "y2"
        },
        {
         "marker": {
          "color": "#DC143C",
          "size": 8
         },
         "mode": "markers",
         "name": "Poor",
         "type": "scatter",
         "x": {
          "bdata": "MzMzMzOzQkA=",
          "dtype": "f8"
         },
         "xaxis": "x2",
         "y": {
          "bdata": "XI/C9ShcNEA=",
          "dtype": "f8"
         },
         "yaxis": "y2"
        },
        {
         "domain": {
          "x": [
           0,
           0.45
          ],
          "y": [
           0,
           0.375
          ]
         },
         "labels": [
          "Key Supplier",
          "High Risk Supplier",
          "Strategic Partner"
         ],
         "name": "Strategic Classification",
         "type": "pie",
         "values": {
          "bdata": "AgIB",
          "dtype": "i1"
         }
        },
        {
         "fill": "toself",
         "name": "Alpha_Inc",
         "opacity": 0.7,
         "r": [
          100,
          80,
          100,
          40,
          100
         ],
         "subplot": "polar",
         "theta": [
          "Cost Performance",
          "Delivery Performance",
          "Quality Performance",
          "Relationship Value",
          "Cost Performance"
         ],
         "type": "scatterpolar"
        },
        {
         "fill": "toself",
         "name": "Gamma_Co",
         "opacity": 0.7,
         "r": [
          60,
          100,
          60,
          56,
          60
         ],
         "subplot": "polar",
         "theta": [
          "Cost Performance",
          "Delivery Performance",
          "Quality Performance",
          "Relationship Value",
          "Cost Performance"
         ],
         "type": "scatterpolar"
        },
        {
         "fill": "toself",
         "name": "Epsilon_Group",
         "opacity": 0.7,
         "r": [
          80,
          40,
          80,
          64,
          80
         ],
         "subplot": "polar",
         "theta": [
          "Cost Performance",
          "Delivery Performance",
          "Quality Performance",
          "Relationship Value",
          "Cost Performance"
         ],
         "type": "scatterpolar"
        },
        {
         "fill": "toself",
         "name": "Beta_Supplies",
         "opacity": 0.7,
         "r": [
          40,
          32,
          40,
          68,
          40
         ],
         "subplot": "polar",
         "theta": [
          "Cost Performance",
          "Delivery Performance",
          "Quality Performance",
          "Relationship Value",
          "Cost Performance"
         ],
         "type": "scatterpolar"
        },
        {
         "fill": "toself",
         "name": "Delta_Logistics",
         "opacity": 0.7,
         "r": [
          20,
          48,
          20,
          72,
          20
         ],
         "subplot": "polar",
         "theta": [
          "Cost Performance",
          "Delivery Performance",
          "Quality Performance",
          "Relationship Value",
          "Cost Performance"
         ],
         "type": "scatterpolar"
        }
       ],
       "layout": {
        "annotations": [
         {
          "font": {
           "size": 16
          },
          "showarrow": false,
          "text": "Overall Performance Score Distribution",
          "x": 0.225,
          "xanchor": "center",
          "xref": "paper",
          "y": 1,
          "yanchor": "bottom",
          "yref": "paper"
         },
         {
          "font": {
           "size": 16
          },
          "showarrow": false,
          "text": "Performance Tier by Spend Share",
          "x": 0.775,
          "xanchor": "center",
          "xref": "paper",
          "y": 1,
          "yanchor": "bottom",
          "yref": "paper"
         },
         {
          "font": {
           "size": 16
          },
          "showarrow": false,
          "text": "Strategic Classification",
          "x": 0.225,
          "xanchor": "center",
          "xref": "paper",
          "y": 0.375,
          "yanchor": "bottom",
          "yref": "paper"
         },
         {
          "font": {
           "size": 16
          },
          "showarrow": false,
          "text": "Performance Dimensions Radar (Top 5)",
          "x": 0.775,
          "xanchor": "center",
          "xref": "paper",
          "y": 0.375,
          "yanchor": "bottom",
          "yref": "paper"
         }
        ],
        "height": 900,
        "polar": {
         "domain": {
          "x": [
           0.55,
           1
          ],
          "y": [
           0,
           0.375
          ]
         },
         "radialaxis": {
          "range": [
           0,
           100
          ],
          "visible": true
         }
        },
        "template": {
         "data": {
          "bar": [
           {
            "error_x": {
             "color": "#2a3f5f"
            },
            "error_y": {
             "color": "#2a3f5f"
            },
            "marker": {
             "line": {
              "color": "#E5ECF6",
              "width": 0.5
             },
             "pattern": {
              "fillmode": "overlay",
              "size": 10,
              "solidity": 0.2
             }
            },
            "type": "bar"
           }
          ],
          "barpolar": [
           {
            "marker": {
             "line": {
              "color": "#E5ECF6",
              "width": 0.5
             },
             "pattern": {
              "fillmode": "overlay",
              "size": 10,
              "solidity": 0.2
             }
            },
            "type": "barpolar"
           }
          ],
          "carpet": [
           {
            "aaxis": {
             "endlinecolor": "#2a3f5f",
             "gridcolor": "white",
             "linecolor": "white",
             "minorgridcolor": "white",
             "startlinecolor": "#2a3f5f"
            },
            "baxis": {
             "endlinecolor": "#2a3f5f",
             "gridcolor": "white",
             "linecolor": "white",
             "minorgridcolor": "white",
             "startlinecolor": "#2a3f5f"
            },
            "type": "carpet"
           }
          ],
          "choropleth": [
           {
            "colorbar": {
             "outlinewidth": 0,
             "ticks": ""
            },
            "type": "choropleth"
           }
          ],
          "contour": [
           {
            "colorbar": {
             "outlinewidth": 0,
             "ticks": ""
            },
            "colorscale": [
             [
              0,
              "#0d0887"
             ],
             [
              0.1111111111111111,
              "#46039f"
             ],
             [
              0.2222222222222222,
              "#7201a8"
             ],
             [
              0.3333333333333333,
              "#9c179e"
             ],
             [
              0.4444444444444444,
              "#bd3786"
             ],
             [
              0.5555555555555556,
              "#d8576b"
             ],
             [
              0.6666666666666666,
              "#ed7953"
             ],
             [
              0.7777777777777778,
              "#fb9f3a"
             ],
             [
              0.8888888888888888,
              "#fdca26"
             ],
             [
              1,
              "#f0f921"
             ]
            ],
            "type": "contour"
           }
          ],
          "contourcarpet": [
           {
            "colorbar": {
             "outlinewidth": 0,
             "ticks": ""
            },
            "type": "contourcarpet"
           }
          ],
          "heatmap": [
           {
            "colorbar": {
             "outlinewidth": 0,
             "ticks": ""
            },
            "colorscale": [
             [
              0,
              "#0d0887"
             ],
             [
              0.1111111111111111,
              "#46039f"
             ],
             [
              0.2222222222222222,
              "#7201a8"
             ],
             [
              0.3333333333333333,
              "#9c179e"
             ],
             [
              0.4444444444444444,
              "#bd3786"
             ],
             [
              0.5555555555555556,
              "#d8576b"
             ],
             [
              0.6666666666666666,
              "#ed7953"
             ],
             [
              0.7777777777777778,
              "#fb9f3a"
             ],
             [
              0.8888888888888888,
              "#fdca26"
             ],
             [
              1,
              "#f0f921"
             ]
            ],
            "type": "heatmap"
           }
          ],
          "histogram": [
           {
            "marker": {
             "pattern": {
              "fillmode": "overlay",
              "size": 10,
              "solidity": 0.2
             }
            },
            "type": "histogram"
           }
          ],
          "histogram2d": [
           {
            "colorbar": {
             "outlinewidth": 0,
             "ticks": ""
            },
            "colorscale": [
             [
              0,
              "#0d0887"
             ],
             [
              0.1111111111111111,
              "#46039f"
             ],
             [
              0.2222222222222222,
              "#7201a8"
             ],
             [
              0.3333333333333333,
              "#9c179e"
             ],
             [
              0.4444444444444444,
              "#bd3786"
             ],
             [
              0.5555555555555556,
              "#d8576b"
             ],
             [
              0.6666666666666666,
              "#ed7953"
             ],
             [
              0.7777777777777778,
              "#fb9f3a"
             ],
             [
              0.8888888888888888,
              "#fdca26"
             ],
             [
              1,
              "#f0f921"
             ]
            ],
            "type": "histogram2d"
           }
          ],
          "histogram2dcontour": [
           {
            "colorbar": {
             "outlinewidth": 0,
             "ticks": ""
            },
            "colorscale": [
             [
              0,
              "#0d0887"
             ],
             [
              0.1111111111111111,
              "#46039f"
             ],
             [
              0.2222222222222222,
              "#7201a8"
             ],
             [
              0.3333333333333333,
              "#9c179e"
             ],
             [
              0.4444444444444444,
              "#bd3786"
             ],
             [
              0.5555555555555556,
              "#d8576b"
             ],
             [
              0.6666666666666666,
              "#ed7953"
             ],
             [
              0.7777777777777778,
              "#fb9f3a"
             ],
             [
              0.8888888888888888,
              "#fdca26"
             ],
             [
              1,
              "#f0f921"
             ]
            ],
            "type": "histogram2dcontour"
           }
          ],
          "mesh3d": [
           {
            "colorbar": {
             "outlinewidth": 0,
             "ticks": ""
            },
            "type": "mesh3d"
           }
          ],
          "parcoords": [
           {
            "line": {
             "colorbar": {
              "outlinewidth": 0,
              "ticks": ""
             }
            },
            "type": "parcoords"
           }
          ],
          "pie": [
           {
            "automargin": true,
            "type": "pie"
           }
          ],
          "scatter": [
           {
            "fillpattern": {
             "fillmode": "overlay",
             "size": 10,
             "solidity": 0.2
            },
            "type": "scatter"
           }
          ],
          "scatter3d": [
           {
            "line": {
             "colorbar": {
              "outlinewidth": 0,
              "ticks": ""
             }
            },
            "marker": {
             "colorbar": {
              "outlinewidth": 0,
              "ticks": ""
             }
            },
            "type": "scatter3d"
           }
          ],
          "scattercarpet": [
           {
            "marker": {
             "colorbar": {
              "outlinewidth": 0,
              "ticks": ""
             }
            },
            "type": "scattercarpet"
           }
          ],
          "scattergeo": [
           {
            "marker": {
             "colorbar": {
              "outlinewidth": 0,
              "ticks": ""
             }
            },
            "type": "scattergeo"
           }
          ],
          "scattergl": [
           {
            "marker": {
             "colorbar": {
              "outlinewidth": 0,
              "ticks": ""
             }
            },
            "type": "scattergl"
           }
          ],
          "scattermap": [
           {
            "marker": {
             "colorbar": {
              "outlinewidth": 0,
              "ticks": ""
             }
            },
            "type": "scattermap"
           }
          ],
          "scattermapbox": [
           {
            "marker": {
             "colorbar": {
              "outlinewidth": 0,
              "ticks": ""
             }
            },
            "type": "scattermapbox"
           }
          ],
          "scatterpolar": [
           {
            "marker": {
             "colorbar": {
              "outlinewidth": 0,
              "ticks": ""
             }
            },
            "type": "scatterpolar"
           }
          ],
          "scatterpolargl": [
           {
            "marker": {
             "colorbar": {
              "outlinewidth": 0,
              "ticks": ""
             }
            },
            "type": "scatterpolargl"
           }
          ],
          "scatterternary": [
           {
            "marker": {
             "colorbar": {
              "outlinewidth": 0,
              "ticks": ""
             }
            },
            "type": "scatterternary"
           }
          ],
          "surface": [
           {
            "colorbar": {
             "outlinewidth": 0,
             "ticks": ""
            },
            "colorscale": [
             [
              0,
              "#0d0887"
             ],
             [
              0.1111111111111111,
              "#46039f"
             ],
             [
              0.2222222222222222,
              "#7201a8"
             ],
             [
              0.3333333333333333,
              "#9c179e"
             ],
             [
              0.4444444444444444,
              "#bd3786"
             ],
             [
              0.5555555555555556,
              "#d8576b"
             ],
             [
              0.6666666666666666,
              "#ed7953"
             ],
             [
              0.7777777777777778,
              "#fb9f3a"
             ],
             [
              0.8888888888888888,
              "#fdca26"
             ],
             [
              1,
              "#f0f921"
             ]
            ],
            "type": "surface"
           }
          ],
          "table": [
           {
            "cells": {
             "fill": {
              "color": "#EBF0F8"
             },
             "line": {
              "color": "white"
             }
            },
            "header": {
             "fill": {
              "color": "#C8D4E3"
             },
             "line": {
              "color": "white"
             }
            },
            "type": "table"
           }
          ]
         },
         "layout": {
          "annotationdefaults": {
           "arrowcolor": "#2a3f5f",
           "arrowhead": 0,
           "arrowwidth": 1
          },
          "autotypenumbers": "strict",
          "coloraxis": {
           "colorbar": {
            "outlinewidth": 0,
            "ticks": ""
           }
          },
          "colorscale": {
           "diverging": [
            [
             0,
             "#8e0152"
            ],
            [
             0.1,
             "#c51b7d"
            ],
            [
             0.2,
             "#de77ae"
            ],
            [
             0.3,
             "#f1b6da"
            ],
            [
             0.4,
             "#fde0ef"
            ],
            [
             0.5,
             "#f7f7f7"
            ],
            [
             0.6,
             "#e6f5d0"
            ],
            [
             0.7,
             "#b8e186"
            ],
            [
             0.8,
             "#7fbc41"
            ],
            [
             0.9,
             "#4d9221"
            ],
            [
             1,
             "#276419"
            ]
           ],
           "sequential": [
            [
             0,
             "#0d0887"
            ],
            [
             0.1111111111111111,
             "#46039f"
            ],
            [
             0.2222222222222222,
             "#7201a8"
            ],
            [
             0.3333333333333333,
             "#9c179e"
            ],
            [
             0.4444444444444444,
             "#bd3786"
            ],
            [
             0.5555555555555556,
             "#d8576b"
            ],
            [
             0.6666666666666666,
             "#ed7953"
            ],
            [
             0.7777777777777778,
             "#fb9f3a"
            ],
            [
             0.8888888888888888,
             "#fdca26"
            ],
            [
             1,
             "#f0f921"
            ]
           ],
           "sequentialminus": [
            [
             0,
             "#0d0887"
            ],
            [
             0.1111111111111111,
             "#46039f"
            ],
            [
             0.2222222222222222,
             "#7201a8"
            ],
            [
             0.3333333333333333,
             "#9c179e"
            ],
            [
             0.4444444444444444,
             "#bd3786"
            ],
            [
             0.5555555555555556,
             "#d8576b"
            ],
            [
             0.6666666666666666,
             "#ed7953"
            ],
            [
             0.7777777777777778,
             "#fb9f3a"
            ],
            [
             0.8888888888888888,
             "#fdca26"
            ],
            [
             1,
             "#f0f921"
            ]
           ]
          },
          "colorway": [
           "#636efa",
           "#EF553B",
           "#00cc96",
           "#ab63fa",
           "#FFA15A",
           "#19d3f3",
           "#FF6692",
           "#B6E880",
           "#FF97FF",
           "#FECB52"
          ],
          "font": {
           "color": "#2a3f5f"
          },
          "geo": {
           "bgcolor": "white",
           "lakecolor": "white",
           "landcolor": "#E5ECF6",
           "showlakes": true,
           "showland": true,
           "subunitcolor": "white"
          },
          "hoverlabel": {
           "align": "left"
          },
          "hovermode": "closest",
          "mapbox": {
           "style": "light"
          },
          "paper_bgcolor": "white",
          "plot_bgcolor": "#E5ECF6",
          "polar": {
           "angularaxis": {
            "gridcolor": "white",
            "linecolor": "white",
            "ticks": ""
           },
           "bgcolor": "#E5ECF6",
           "radialaxis": {
            "gridcolor": "white",
            "linecolor": "white",
            "ticks": ""
           }
          },
          "scene": {
           "xaxis": {
            "backgroundcolor": "#E5ECF6",
            "gridcolor": "white",
            "gridwidth": 2,
            "linecolor": "white",
            "showbackground": true,
            "ticks": "",
            "zerolinecolor": "white"
           },
           "yaxis": {
            "backgroundcolor": "#E5ECF6",
            "gridcolor": "white",
            "gridwidth": 2,
            "linecolor": "white",
            "showbackground": true,
            "ticks": "",
            "zerolinecolor": "white"
           },
           "zaxis": {
            "backgroundcolor": "#E5ECF6",
            "gridcolor": "white",
            "gridwidth": 2,
            "linecolor": "white",
            "showbackground": true,
            "ticks": "",
            "zerolinecolor": "white"
           }
          },
          "shapedefaults": {
           "line": {
            "color": "#2a3f5f"
           }
          },
          "ternary": {
           "aaxis": {
            "gridcolor": "white",
            "linecolor": "white",
            "ticks": ""
           },
           "baxis": {
            "gridcolor": "white",
            "linecolor": "white",
            "ticks": ""
           },
           "bgcolor": "#E5ECF6",
           "caxis": {
            "gridcolor": "white",
            "linecolor": "white",
            "ticks": ""
           }
          },
          "title": {
           "x": 0.05
          },
          "xaxis": {
           "automargin": true,
           "gridcolor": "white",
           "linecolor": "white",
           "ticks": "",
           "title": {
            "standoff": 15
           },
           "zerolinecolor": "white",
           "zerolinewidth": 2
          },
          "yaxis": {
           "automargin": true,
           "gridcolor": "white",
           "linecolor": "white",
           "ticks": "",
           "title": {
            "standoff": 15
           },
           "zerolinecolor": "white",
           "zerolinewidth": 2
          }
         }
        },
        "title": {
         "text": "Supplier Performance Scorecard Dashboard"
        },
        "xaxis": {
         "anchor": "y",
         "domain": [
          0,
          0.45
         ]
        },
        "xaxis2": {
         "anchor": "y2",
         "domain": [
          0.55,
          1
         ]
        },
        "yaxis": {
         "anchor": "x",
         "domain": [
          0.625,
          1
         ]
        },
        "yaxis2": {
         "anchor": "x2",
         "domain": [
          0.625,
          1
         ]
        }
       }
      }
     },
     "metadata": {},
     "output_type": "display_data"
    }
   ],
   "source": [
    "# Create supplier scorecard visualization\n",
    "fig = make_subplots(\n",
    "    rows=2, cols=2,\n",
    "    subplot_titles=(\n",
    "        'Overall Performance Score Distribution',\n",
    "        'Performance Tier by Spend Share',\n",
    "        'Strategic Classification',\n",
    "        'Performance Dimensions Radar (Top 5)'\n",
    "    ),\n",
    "    specs=[[{\"type\": \"histogram\"}, {\"type\": \"scatter\"}],\n",
    "           [{\"type\": \"pie\"}, {\"type\": \"scatterpolar\"}]]\n",
    ")\n",
    "\n",
    "# 1. Overall performance score distribution\n",
    "fig.add_trace(\n",
    "    go.Histogram(\n",
    "        x=supplier_scorecards['overall_supplier_score'],\n",
    "        nbinsx=20,\n",
    "        name='Performance Score',\n",
    "        marker_color=SUPPLIER_COLORS['primary']\n",
    "    ),\n",
    "    row=1, col=1\n",
    ")\n",
    "\n",
    "# 2. Performance tier by spend share\n",
    "tier_colors = {\n",
    "    'Excellent': SUPPLIER_COLORS['excellent'],\n",
    "    'Good': SUPPLIER_COLORS['good'],\n",
    "    'Average': SUPPLIER_COLORS['average'],\n",
    "    'Poor': SUPPLIER_COLORS['poor']\n",
    "}\n",
    "\n",
    "for tier in ['Excellent', 'Good', 'Average', 'Poor']:\n",
    "    tier_data = supplier_scorecards[supplier_scorecards['performance_tier'] == tier]\n",
    "    if len(tier_data) > 0:\n",
    "        fig.add_trace(\n",
    "            go.Scatter(\n",
    "                x=tier_data['overall_supplier_score'],\n",
    "                y=tier_data['spend_share'],\n",
    "                mode='markers',\n",
    "                name=tier,\n",
    "                marker=dict(\n",
    "                    color=tier_colors.get(tier, SUPPLIER_COLORS['primary']),\n",
    "                    size=8\n",
    "                )\n",
    "            ),\n",
    "            row=1, col=2\n",
    "        )\n",
    "\n",
    "# 3. Strategic classification pie chart\n",
    "strategic_counts = supplier_scorecards['strategic_classification'].value_counts()\n",
    "fig.add_trace(\n",
    "    go.Pie(\n",
    "        labels=strategic_counts.index,\n",
    "        values=strategic_counts.values,\n",
    "        name=\"Strategic Classification\"\n",
    "    ),\n",
    "    row=2, col=1\n",
    ")\n",
    "\n",
    "# 4. Radar chart for top 5 suppliers\n",
    "top_5_suppliers = supplier_scorecards.head(5)\n",
    "performance_dimensions = ['cost_performance_score', 'delivery_performance_score', \n",
    "                         'quality_performance_score', 'relationship_value_score']\n",
    "dimension_labels = ['Cost Performance', 'Delivery Performance', \n",
    "                   'Quality Performance', 'Relationship Value']\n",
    "\n",
    "for i, (supplier, row) in enumerate(top_5_suppliers.iterrows()):\n",
    "    fig.add_trace(\n",
    "        go.Scatterpolar(\n",
    "            r=[row[dim] for dim in performance_dimensions] + [row[performance_dimensions[0]]],\n",
    "            theta=dimension_labels + [dimension_labels[0]],\n",
    "            fill='toself',\n",
    "            name=supplier[:15] + '...' if len(supplier) > 15 else supplier,\n",
    "            opacity=0.7\n",
    "        ),\n",
    "        row=2, col=2\n",
    "    )\n",
    "\n",
    "# Update layout\n",
    "fig.update_layout(\n",
    "    height=900,\n",
    "    title_text=\"Supplier Performance Scorecard Dashboard\",\n",
    "    polar=dict(\n",
    "        radialaxis=dict(\n",
    "            visible=True,\n",
    "            range=[0, 100]\n",
    "        )\n",
    "    )\n",
    ")\n",
    "\n",
    "fig.show()"
   ]
  },
  {
   "cell_type": "markdown",
   "metadata": {},
   "source": [
    "## 4. Supplier Risk Assessment"
   ]
  },
  {
   "cell_type": "code",
   "execution_count": 7,
   "metadata": {},
   "outputs": [
    {
     "name": "stdout",
     "output_type": "stream",
     "text": [
      "Conducting Supplier Risk Assessment:\n",
      "==================================================\n",
      "Risk assessment completed for 5 suppliers\n",
      "\n",
      "HIGH-RISK SUPPLIERS (Critical and High Risk):\n",
      "==================================================\n",
      "No high-risk suppliers identified!\n",
      "\n",
      "RISK LEVEL DISTRIBUTION:\n",
      "==================================================\n",
      "Critical Risk: 0 suppliers (0.0%) | 0.0% of spend\n",
      "High Risk: 0 suppliers (0.0%) | 0.0% of spend\n",
      "Medium Risk: 4 suppliers (80.0%) | 82.7% of spend\n",
      "Low Risk: 1 suppliers (20.0%) | 17.3% of spend\n",
      "\n",
      "TOP 10 RISK PRIORITIES (by risk-weighted spend):\n",
      "==================================================\n"
     ]
    },
    {
     "data": {
      "text/html": [
       "<div>\n",
       "<style scoped>\n",
       "    .dataframe tbody tr th:only-of-type {\n",
       "        vertical-align: middle;\n",
       "    }\n",
       "\n",
       "    .dataframe tbody tr th {\n",
       "        vertical-align: top;\n",
       "    }\n",
       "\n",
       "    .dataframe thead th {\n",
       "        text-align: right;\n",
       "    }\n",
       "</style>\n",
       "<table border=\"1\" class=\"dataframe\">\n",
       "  <thead>\n",
       "    <tr style=\"text-align: right;\">\n",
       "      <th></th>\n",
       "      <th>risk_priority_score</th>\n",
       "      <th>overall_risk_level</th>\n",
       "      <th>spend_share</th>\n",
       "      <th>overall_supplier_score</th>\n",
       "      <th>strategic_classification</th>\n",
       "    </tr>\n",
       "    <tr>\n",
       "      <th>Supplier</th>\n",
       "      <th></th>\n",
       "      <th></th>\n",
       "      <th></th>\n",
       "      <th></th>\n",
       "      <th></th>\n",
       "    </tr>\n",
       "  </thead>\n",
       "  <tbody>\n",
       "    <tr>\n",
       "      <th>Epsilon_Group</th>\n",
       "      <td>0.38</td>\n",
       "      <td>Medium Risk</td>\n",
       "      <td>21.71</td>\n",
       "      <td>66.80</td>\n",
       "      <td>Key Supplier</td>\n",
       "    </tr>\n",
       "    <tr>\n",
       "      <th>Beta_Supplies</th>\n",
       "      <td>0.36</td>\n",
       "      <td>Medium Risk</td>\n",
       "      <td>21.73</td>\n",
       "      <td>43.60</td>\n",
       "      <td>High Risk Supplier</td>\n",
       "    </tr>\n",
       "    <tr>\n",
       "      <th>Delta_Logistics</th>\n",
       "      <td>0.36</td>\n",
       "      <td>Medium Risk</td>\n",
       "      <td>20.36</td>\n",
       "      <td>37.40</td>\n",
       "      <td>High Risk Supplier</td>\n",
       "    </tr>\n",
       "    <tr>\n",
       "      <th>Gamma_Co</th>\n",
       "      <td>0.31</td>\n",
       "      <td>Medium Risk</td>\n",
       "      <td>18.93</td>\n",
       "      <td>69.20</td>\n",
       "      <td>Key Supplier</td>\n",
       "    </tr>\n",
       "    <tr>\n",
       "      <th>Alpha_Inc</th>\n",
       "      <td>0.23</td>\n",
       "      <td>Low Risk</td>\n",
       "      <td>17.28</td>\n",
       "      <td>83.00</td>\n",
       "      <td>Strategic Partner</td>\n",
       "    </tr>\n",
       "  </tbody>\n",
       "</table>\n",
       "</div>"
      ],
      "text/plain": [
       "                 risk_priority_score overall_risk_level  spend_share  \\\n",
       "Supplier                                                               \n",
       "Epsilon_Group                   0.38        Medium Risk        21.71   \n",
       "Beta_Supplies                   0.36        Medium Risk        21.73   \n",
       "Delta_Logistics                 0.36        Medium Risk        20.36   \n",
       "Gamma_Co                        0.31        Medium Risk        18.93   \n",
       "Alpha_Inc                       0.23           Low Risk        17.28   \n",
       "\n",
       "                 overall_supplier_score strategic_classification  \n",
       "Supplier                                                          \n",
       "Epsilon_Group                     66.80             Key Supplier  \n",
       "Beta_Supplies                     43.60       High Risk Supplier  \n",
       "Delta_Logistics                   37.40       High Risk Supplier  \n",
       "Gamma_Co                          69.20             Key Supplier  \n",
       "Alpha_Inc                         83.00        Strategic Partner  "
      ]
     },
     "metadata": {},
     "output_type": "display_data"
    }
   ],
   "source": [
    "# Comprehensive supplier risk assessment\n",
    "def assess_supplier_risks(supplier_scorecards: pd.DataFrame, df: pd.DataFrame) -> pd.DataFrame:\n",
    "    \"\"\"\n",
    "    Conduct comprehensive supplier risk assessment.\n",
    "    \"\"\"\n",
    "    print(\"Conducting Supplier Risk Assessment:\")\n",
    "    print(\"=\" * 50)\n",
    "    \n",
    "    risk_assessment = supplier_scorecards.copy()\n",
    "    \n",
    "    # 1. Concentration Risk\n",
    "    risk_assessment['concentration_risk'] = 'Low'\n",
    "    risk_assessment.loc[risk_assessment['spend_share'] >= 20, 'concentration_risk'] = 'Critical'\n",
    "    risk_assessment.loc[risk_assessment['spend_share'] >= 10, 'concentration_risk'] = 'High'\n",
    "    risk_assessment.loc[risk_assessment['spend_share'] >= 5, 'concentration_risk'] = 'Medium'\n",
    "    \n",
    "    # 2. Performance Risk\n",
    "    risk_assessment['performance_risk'] = 'Low'\n",
    "    risk_assessment.loc[risk_assessment['overall_supplier_score'] <= 40, 'performance_risk'] = 'Critical'\n",
    "    risk_assessment.loc[risk_assessment['overall_supplier_score'] <= 60, 'performance_risk'] = 'High'\n",
    "    risk_assessment.loc[risk_assessment['overall_supplier_score'] <= 80, 'performance_risk'] = 'Medium'\n",
    "    \n",
    "    # 3. Quality Risk\n",
    "    risk_assessment['quality_risk'] = 'Low'\n",
    "    risk_assessment.loc[risk_assessment['avg_defect_rate'] >= 10, 'quality_risk'] = 'Critical'\n",
    "    risk_assessment.loc[risk_assessment['avg_defect_rate'] >= 5, 'quality_risk'] = 'High'\n",
    "    risk_assessment.loc[risk_assessment['avg_defect_rate'] >= 2, 'quality_risk'] = 'Medium'\n",
    "    \n",
    "    # 4. Delivery Risk\n",
    "    avg_lead_time = risk_assessment['avg_lead_time'].median()\n",
    "    risk_assessment['delivery_risk'] = 'Low'\n",
    "    risk_assessment.loc[risk_assessment['avg_lead_time'] >= avg_lead_time * 2, 'delivery_risk'] = 'Critical'\n",
    "    risk_assessment.loc[risk_assessment['avg_lead_time'] >= avg_lead_time * 1.5, 'delivery_risk'] = 'High'\n",
    "    risk_assessment.loc[risk_assessment['avg_lead_time'] >= avg_lead_time * 1.2, 'delivery_risk'] = 'Medium'\n",
    "    \n",
    "    # 5. Volatility Risk (based on performance consistency)\n",
    "    high_volatility_threshold = risk_assessment['performance_consistency'].quantile(0.8)\n",
    "    risk_assessment['volatility_risk'] = 'Low'\n",
    "    risk_assessment.loc[risk_assessment['performance_consistency'] >= high_volatility_threshold, 'volatility_risk'] = 'High'\n",
    "    risk_assessment.loc[risk_assessment['performance_consistency'] >= risk_assessment['performance_consistency'].median(), 'volatility_risk'] = 'Medium'\n",
    "    \n",
    "    # 6. Relationship Risk (new or short-term relationships)\n",
    "    short_relationship_threshold = 90  # days\n",
    "    risk_assessment['relationship_risk'] = 'Low'\n",
    "    risk_assessment.loc[risk_assessment['relationship_duration_days'] <= short_relationship_threshold, 'relationship_risk'] = 'High'\n",
    "    risk_assessment.loc[risk_assessment['relationship_duration_days'] <= 180, 'relationship_risk'] = 'Medium'\n",
    "    \n",
    "    # 7. Calculate Composite Risk Score\n",
    "    risk_weights = {\n",
    "        'concentration_risk': 25,\n",
    "        'performance_risk': 20,\n",
    "        'quality_risk': 20,\n",
    "        'delivery_risk': 15,\n",
    "        'volatility_risk': 10,\n",
    "        'relationship_risk': 10\n",
    "    }\n",
    "    \n",
    "    risk_mapping = {\n",
    "        'Low': 1,\n",
    "        'Medium': 2,\n",
    "        'High': 3,\n",
    "        'Critical': 4\n",
    "    }\n",
    "    \n",
    "    # Calculate weighted risk score\n",
    "    composite_risk = 0\n",
    "    for risk_type, weight in risk_weights.items():\n",
    "        risk_scores = risk_assessment[risk_type].map(risk_mapping)\n",
    "        composite_risk += risk_scores * (weight / 100)\n",
    "    \n",
    "    risk_assessment['composite_risk_score'] = composite_risk.round(2)\n",
    "    \n",
    "    # 8. Overall Risk Level\n",
    "    risk_assessment['overall_risk_level'] = pd.cut(\n",
    "        risk_assessment['composite_risk_score'],\n",
    "        bins=[0, 1.5, 2.5, 3.5, 4],\n",
    "        labels=['Low Risk', 'Medium Risk', 'High Risk', 'Critical Risk']\n",
    "    )\n",
    "    \n",
    "    # 9. Risk Priority Score (combines risk and business impact)\n",
    "    risk_assessment['risk_priority_score'] = (\n",
    "        risk_assessment['composite_risk_score'] * risk_assessment['spend_share'] / 100\n",
    "    ).round(2)\n",
    "    \n",
    "    print(f\"Risk assessment completed for {len(risk_assessment)} suppliers\")\n",
    "    \n",
    "    return risk_assessment\n",
    "\n",
    "# Conduct risk assessment\n",
    "supplier_risk_assessment = assess_supplier_risks(supplier_scorecards, df)\n",
    "\n",
    "# Display high-risk suppliers\n",
    "print(\"\\nHIGH-RISK SUPPLIERS (Critical and High Risk):\")\n",
    "print(\"=\" * 50)\n",
    "high_risk_suppliers = supplier_risk_assessment[\n",
    "    supplier_risk_assessment['overall_risk_level'].isin(['Critical Risk', 'High Risk'])\n",
    "].sort_values('risk_priority_score', ascending=False)\n",
    "\n",
    "if len(high_risk_suppliers) > 0:\n",
    "    high_risk_display = high_risk_suppliers[[\n",
    "        'overall_risk_level', 'composite_risk_score', 'risk_priority_score',\n",
    "        'spend_share', 'concentration_risk', 'performance_risk', \n",
    "        'quality_risk', 'delivery_risk'\n",
    "    ]].head(10)\n",
    "    display(high_risk_display)\n",
    "else:\n",
    "    print(\"No high-risk suppliers identified!\")\n",
    "\n",
    "# Risk distribution summary\n",
    "print(\"\\nRISK LEVEL DISTRIBUTION:\")\n",
    "print(\"=\" * 50)\n",
    "risk_distribution = supplier_risk_assessment['overall_risk_level'].value_counts()\n",
    "risk_spend_distribution = supplier_risk_assessment.groupby('overall_risk_level')['spend_share'].sum()\n",
    "\n",
    "for risk_level in ['Critical Risk', 'High Risk', 'Medium Risk', 'Low Risk']:\n",
    "    if risk_level in risk_distribution.index:\n",
    "        count = risk_distribution[risk_level]\n",
    "        spend_pct = risk_spend_distribution.get(risk_level, 0)\n",
    "        print(f\"{risk_level}: {count} suppliers ({count/len(supplier_risk_assessment)*100:.1f}%) | {spend_pct:.1f}% of spend\")\n",
    "\n",
    "# Top risk priorities\n",
    "print(\"\\nTOP 10 RISK PRIORITIES (by risk-weighted spend):\")\n",
    "print(\"=\" * 50)\n",
    "top_risk_priorities = supplier_risk_assessment.nlargest(10, 'risk_priority_score')[[\n",
    "    'risk_priority_score', 'overall_risk_level', 'spend_share', \n",
    "    'overall_supplier_score', 'strategic_classification'\n",
    "]]\n",
    "display(top_risk_priorities)"
   ]
  },
  {
   "cell_type": "markdown",
   "metadata": {},
   "source": [
    "## 5. Supplier Development Opportunities"
   ]
  },
  {
   "cell_type": "code",
   "execution_count": 8,
   "metadata": {},
   "outputs": [
    {
     "name": "stdout",
     "output_type": "stream",
     "text": [
      "Identifying Supplier Development Opportunities:\n",
      "==================================================\n",
      "\n",
      "SUPPLIER DEVELOPMENT OPPORTUNITIES:\n",
      "============================================================\n",
      "\n",
      "HIGH POTENTIAL (0 suppliers):\n",
      "--------------------------------------------------\n",
      "No opportunities identified in this category\n",
      "\n",
      "UNDERPERFORMING STRATEGIC (4 suppliers):\n",
      "--------------------------------------------------\n"
     ]
    },
    {
     "data": {
      "text/html": [
       "<div>\n",
       "<style scoped>\n",
       "    .dataframe tbody tr th:only-of-type {\n",
       "        vertical-align: middle;\n",
       "    }\n",
       "\n",
       "    .dataframe tbody tr th {\n",
       "        vertical-align: top;\n",
       "    }\n",
       "\n",
       "    .dataframe thead th {\n",
       "        text-align: right;\n",
       "    }\n",
       "</style>\n",
       "<table border=\"1\" class=\"dataframe\">\n",
       "  <thead>\n",
       "    <tr style=\"text-align: right;\">\n",
       "      <th></th>\n",
       "      <th>spend_share</th>\n",
       "      <th>overall_supplier_score</th>\n",
       "      <th>performance_tier</th>\n",
       "      <th>cost_performance_score</th>\n",
       "      <th>delivery_performance_score</th>\n",
       "      <th>quality_performance_score</th>\n",
       "    </tr>\n",
       "    <tr>\n",
       "      <th>Supplier</th>\n",
       "      <th></th>\n",
       "      <th></th>\n",
       "      <th></th>\n",
       "      <th></th>\n",
       "      <th></th>\n",
       "      <th></th>\n",
       "    </tr>\n",
       "  </thead>\n",
       "  <tbody>\n",
       "    <tr>\n",
       "      <th>Beta_Supplies</th>\n",
       "      <td>21.73</td>\n",
       "      <td>43.60</td>\n",
       "      <td>Average</td>\n",
       "      <td>40.00</td>\n",
       "      <td>32.00</td>\n",
       "      <td>40.00</td>\n",
       "    </tr>\n",
       "    <tr>\n",
       "      <th>Epsilon_Group</th>\n",
       "      <td>21.71</td>\n",
       "      <td>66.80</td>\n",
       "      <td>Good</td>\n",
       "      <td>80.00</td>\n",
       "      <td>40.00</td>\n",
       "      <td>80.00</td>\n",
       "    </tr>\n",
       "    <tr>\n",
       "      <th>Delta_Logistics</th>\n",
       "      <td>20.36</td>\n",
       "      <td>37.40</td>\n",
       "      <td>Poor</td>\n",
       "      <td>20.00</td>\n",
       "      <td>48.00</td>\n",
       "      <td>20.00</td>\n",
       "    </tr>\n",
       "    <tr>\n",
       "      <th>Gamma_Co</th>\n",
       "      <td>18.93</td>\n",
       "      <td>69.20</td>\n",
       "      <td>Good</td>\n",
       "      <td>60.00</td>\n",
       "      <td>100.00</td>\n",
       "      <td>60.00</td>\n",
       "    </tr>\n",
       "  </tbody>\n",
       "</table>\n",
       "</div>"
      ],
      "text/plain": [
       "                 spend_share  overall_supplier_score performance_tier  \\\n",
       "Supplier                                                                \n",
       "Beta_Supplies          21.73                   43.60          Average   \n",
       "Epsilon_Group          21.71                   66.80             Good   \n",
       "Delta_Logistics        20.36                   37.40             Poor   \n",
       "Gamma_Co               18.93                   69.20             Good   \n",
       "\n",
       "                 cost_performance_score  delivery_performance_score  \\\n",
       "Supplier                                                              \n",
       "Beta_Supplies                     40.00                       32.00   \n",
       "Epsilon_Group                     80.00                       40.00   \n",
       "Delta_Logistics                   20.00                       48.00   \n",
       "Gamma_Co                          60.00                      100.00   \n",
       "\n",
       "                 quality_performance_score  \n",
       "Supplier                                    \n",
       "Beta_Supplies                        40.00  \n",
       "Epsilon_Group                        80.00  \n",
       "Delta_Logistics                      20.00  \n",
       "Gamma_Co                             60.00  "
      ]
     },
     "metadata": {},
     "output_type": "display_data"
    },
    {
     "name": "stdout",
     "output_type": "stream",
     "text": [
      "\n",
      "COST OPTIMIZATION (2 suppliers):\n",
      "--------------------------------------------------\n"
     ]
    },
    {
     "data": {
      "text/html": [
       "<div>\n",
       "<style scoped>\n",
       "    .dataframe tbody tr th:only-of-type {\n",
       "        vertical-align: middle;\n",
       "    }\n",
       "\n",
       "    .dataframe tbody tr th {\n",
       "        vertical-align: top;\n",
       "    }\n",
       "\n",
       "    .dataframe thead th {\n",
       "        text-align: right;\n",
       "    }\n",
       "</style>\n",
       "<table border=\"1\" class=\"dataframe\">\n",
       "  <thead>\n",
       "    <tr style=\"text-align: right;\">\n",
       "      <th></th>\n",
       "      <th>total_spend</th>\n",
       "      <th>avg_savings_rate</th>\n",
       "      <th>potential_additional_savings</th>\n",
       "      <th>spend_share</th>\n",
       "      <th>overall_supplier_score</th>\n",
       "    </tr>\n",
       "    <tr>\n",
       "      <th>Supplier</th>\n",
       "      <th></th>\n",
       "      <th></th>\n",
       "      <th></th>\n",
       "      <th></th>\n",
       "      <th></th>\n",
       "    </tr>\n",
       "  </thead>\n",
       "  <tbody>\n",
       "    <tr>\n",
       "      <th>Beta_Supplies</th>\n",
       "      <td>9858665.90</td>\n",
       "      <td>7.83</td>\n",
       "      <td>14196.00</td>\n",
       "      <td>21.73</td>\n",
       "      <td>43.60</td>\n",
       "    </tr>\n",
       "    <tr>\n",
       "      <th>Delta_Logistics</th>\n",
       "      <td>9236240.47</td>\n",
       "      <td>7.81</td>\n",
       "      <td>15147.00</td>\n",
       "      <td>20.36</td>\n",
       "      <td>37.40</td>\n",
       "    </tr>\n",
       "  </tbody>\n",
       "</table>\n",
       "</div>"
      ],
      "text/plain": [
       "                 total_spend  avg_savings_rate  potential_additional_savings  \\\n",
       "Supplier                                                                       \n",
       "Beta_Supplies     9858665.90              7.83                      14196.00   \n",
       "Delta_Logistics   9236240.47              7.81                      15147.00   \n",
       "\n",
       "                 spend_share  overall_supplier_score  \n",
       "Supplier                                              \n",
       "Beta_Supplies          21.73                   43.60  \n",
       "Delta_Logistics        20.36                   37.40  "
      ]
     },
     "metadata": {},
     "output_type": "display_data"
    },
    {
     "name": "stdout",
     "output_type": "stream",
     "text": [
      "\n",
      "QUALITY IMPROVEMENT (4 suppliers):\n",
      "--------------------------------------------------\n"
     ]
    },
    {
     "data": {
      "text/html": [
       "<div>\n",
       "<style scoped>\n",
       "    .dataframe tbody tr th:only-of-type {\n",
       "        vertical-align: middle;\n",
       "    }\n",
       "\n",
       "    .dataframe tbody tr th {\n",
       "        vertical-align: top;\n",
       "    }\n",
       "\n",
       "    .dataframe thead th {\n",
       "        text-align: right;\n",
       "    }\n",
       "</style>\n",
       "<table border=\"1\" class=\"dataframe\">\n",
       "  <thead>\n",
       "    <tr style=\"text-align: right;\">\n",
       "      <th></th>\n",
       "      <th>avg_defect_rate</th>\n",
       "      <th>total_defective_units</th>\n",
       "      <th>spend_share</th>\n",
       "      <th>quality_performance_score</th>\n",
       "      <th>overall_supplier_score</th>\n",
       "    </tr>\n",
       "    <tr>\n",
       "      <th>Supplier</th>\n",
       "      <th></th>\n",
       "      <th></th>\n",
       "      <th></th>\n",
       "      <th></th>\n",
       "      <th></th>\n",
       "    </tr>\n",
       "  </thead>\n",
       "  <tbody>\n",
       "    <tr>\n",
       "      <th>Delta_Logistics</th>\n",
       "      <td>10.87</td>\n",
       "      <td>19678.00</td>\n",
       "      <td>20.36</td>\n",
       "      <td>20.00</td>\n",
       "      <td>37.40</td>\n",
       "    </tr>\n",
       "    <tr>\n",
       "      <th>Beta_Supplies</th>\n",
       "      <td>8.27</td>\n",
       "      <td>13838.00</td>\n",
       "      <td>21.73</td>\n",
       "      <td>40.00</td>\n",
       "      <td>43.60</td>\n",
       "    </tr>\n",
       "    <tr>\n",
       "      <th>Gamma_Co</th>\n",
       "      <td>4.50</td>\n",
       "      <td>7034.00</td>\n",
       "      <td>18.93</td>\n",
       "      <td>60.00</td>\n",
       "      <td>69.20</td>\n",
       "    </tr>\n",
       "    <tr>\n",
       "      <th>Epsilon_Group</th>\n",
       "      <td>2.61</td>\n",
       "      <td>4682.00</td>\n",
       "      <td>21.71</td>\n",
       "      <td>80.00</td>\n",
       "      <td>66.80</td>\n",
       "    </tr>\n",
       "  </tbody>\n",
       "</table>\n",
       "</div>"
      ],
      "text/plain": [
       "                 avg_defect_rate  total_defective_units  spend_share  \\\n",
       "Supplier                                                               \n",
       "Delta_Logistics            10.87               19678.00        20.36   \n",
       "Beta_Supplies               8.27               13838.00        21.73   \n",
       "Gamma_Co                    4.50                7034.00        18.93   \n",
       "Epsilon_Group               2.61                4682.00        21.71   \n",
       "\n",
       "                 quality_performance_score  overall_supplier_score  \n",
       "Supplier                                                            \n",
       "Delta_Logistics                      20.00                   37.40  \n",
       "Beta_Supplies                        40.00                   43.60  \n",
       "Gamma_Co                             60.00                   69.20  \n",
       "Epsilon_Group                        80.00                   66.80  "
      ]
     },
     "metadata": {},
     "output_type": "display_data"
    },
    {
     "name": "stdout",
     "output_type": "stream",
     "text": [
      "\n",
      "DELIVERY IMPROVEMENT (0 suppliers):\n",
      "--------------------------------------------------\n",
      "No opportunities identified in this category\n",
      "\n",
      "NEW SUPPLIER EVALUATION (0 suppliers):\n",
      "--------------------------------------------------\n",
      "No opportunities identified in this category\n",
      "\n",
      "OPPORTUNITY VALUE SUMMARY:\n",
      "==================================================\n",
      "Total Cost Optimization Opportunity: $29,343\n",
      "High-Potential Suppliers for Growth: 0\n",
      "Underperforming Strategic Suppliers: 4\n",
      "Suppliers with Quality Issues: 4\n",
      "New Suppliers Under Evaluation: 0\n"
     ]
    }
   ],
   "source": [
    "# Identify supplier development and optimization opportunities\n",
    "def identify_development_opportunities(supplier_risk_assessment: pd.DataFrame) -> Dict[str, pd.DataFrame]:\n",
    "    \"\"\"\n",
    "    Identify supplier development and optimization opportunities.\n",
    "    \"\"\"\n",
    "    print(\"Identifying Supplier Development Opportunities:\")\n",
    "    print(\"=\" * 50)\n",
    "    \n",
    "    opportunities = {}\n",
    "    \n",
    "    # 1. High-Potential Suppliers (good performance, low spend share)\n",
    "    high_potential = supplier_risk_assessment[\n",
    "        (supplier_risk_assessment['overall_supplier_score'] >= 75) &\n",
    "        (supplier_risk_assessment['spend_share'] < 2) &\n",
    "        (supplier_risk_assessment['total_orders'] >= 3)\n",
    "    ].sort_values('overall_supplier_score', ascending=False)\n",
    "    \n",
    "    opportunities['high_potential'] = high_potential[[\n",
    "        'overall_supplier_score', 'spend_share', 'total_orders',\n",
    "        'avg_savings_rate', 'avg_lead_time', 'avg_defect_rate'\n",
    "    ]].head(10)\n",
    "    \n",
    "    # 2. Underperforming Strategic Suppliers (high spend, poor performance)\n",
    "    underperforming_strategic = supplier_risk_assessment[\n",
    "        (supplier_risk_assessment['spend_share'] >= 5) &\n",
    "        (supplier_risk_assessment['overall_supplier_score'] < 70)\n",
    "    ].sort_values('spend_share', ascending=False)\n",
    "    \n",
    "    opportunities['underperforming_strategic'] = underperforming_strategic[[\n",
    "        'spend_share', 'overall_supplier_score', 'performance_tier',\n",
    "        'cost_performance_score', 'delivery_performance_score', 'quality_performance_score'\n",
    "    ]].head(10)\n",
    "    \n",
    "    # 3. Cost Optimization Opportunities (below average savings)\n",
    "    avg_savings_rate = supplier_risk_assessment['avg_savings_rate'].mean()\n",
    "    cost_optimization = supplier_risk_assessment[\n",
    "        (supplier_risk_assessment['avg_savings_rate'] < avg_savings_rate) &\n",
    "        (supplier_risk_assessment['spend_share'] >= 1)\n",
    "    ].sort_values('total_spend', ascending=False)\n",
    "    \n",
    "    # Calculate potential savings\n",
    "    cost_optimization['potential_additional_savings'] = (\n",
    "        cost_optimization['total_spend'] * \n",
    "        (avg_savings_rate - cost_optimization['avg_savings_rate']) / 100\n",
    "    ).round(0)\n",
    "    \n",
    "    opportunities['cost_optimization'] = cost_optimization[[\n",
    "        'total_spend', 'avg_savings_rate', 'potential_additional_savings',\n",
    "        'spend_share', 'overall_supplier_score'\n",
    "    ]].head(10)\n",
    "    \n",
    "    # 4. Quality Improvement Opportunities\n",
    "    quality_improvement = supplier_risk_assessment[\n",
    "        (supplier_risk_assessment['avg_defect_rate'] > 2) &\n",
    "        (supplier_risk_assessment['spend_share'] >= 1)\n",
    "    ].sort_values('avg_defect_rate', ascending=False)\n",
    "    \n",
    "    opportunities['quality_improvement'] = quality_improvement[[\n",
    "        'avg_defect_rate', 'total_defective_units', 'spend_share',\n",
    "        'quality_performance_score', 'overall_supplier_score'\n",
    "    ]].head(10)\n",
    "    \n",
    "    # 5. Delivery Performance Improvement\n",
    "    median_lead_time = supplier_risk_assessment['avg_lead_time'].median()\n",
    "    delivery_improvement = supplier_risk_assessment[\n",
    "        (supplier_risk_assessment['avg_lead_time'] > median_lead_time * 1.5) &\n",
    "        (supplier_risk_assessment['spend_share'] >= 1)\n",
    "    ].sort_values('avg_lead_time', ascending=False)\n",
    "    \n",
    "    opportunities['delivery_improvement'] = delivery_improvement[[\n",
    "        'avg_lead_time', 'worst_lead_time', 'lead_time_consistency',\n",
    "        'delivery_performance_score', 'spend_share'\n",
    "    ]].head(10)\n",
    "    \n",
    "    # 6. New Supplier Evaluation (short relationships with good performance)\n",
    "    new_suppliers = supplier_risk_assessment[\n",
    "        (supplier_risk_assessment['relationship_duration_days'] <= 180) &\n",
    "        (supplier_risk_assessment['overall_supplier_score'] >= 70) &\n",
    "        (supplier_risk_assessment['total_orders'] >= 2)\n",
    "    ].sort_values('overall_supplier_score', ascending=False)\n",
    "    \n",
    "    opportunities['new_supplier_evaluation'] = new_suppliers[[\n",
    "        'relationship_duration_days', 'overall_supplier_score', 'total_orders',\n",
    "        'avg_savings_rate', 'avg_lead_time', 'avg_defect_rate'\n",
    "    ]].head(10)\n",
    "    \n",
    "    return opportunities\n",
    "\n",
    "# Identify development opportunities\n",
    "development_opportunities = identify_development_opportunities(supplier_risk_assessment)\n",
    "\n",
    "# Display opportunities\n",
    "print(\"\\nSUPPLIER DEVELOPMENT OPPORTUNITIES:\")\n",
    "print(\"=\" * 60)\n",
    "\n",
    "for opportunity_type, data in development_opportunities.items():\n",
    "    print(f\"\\n{opportunity_type.upper().replace('_', ' ')} ({len(data)} suppliers):\")\n",
    "    print(\"-\" * 50)\n",
    "    if len(data) > 0:\n",
    "        display(data.head(5))\n",
    "    else:\n",
    "        print(\"No opportunities identified in this category\")\n",
    "\n",
    "# Calculate total opportunity value\n",
    "print(\"\\nOPPORTUNITY VALUE SUMMARY:\")\n",
    "print(\"=\" * 50)\n",
    "\n",
    "if len(development_opportunities['cost_optimization']) > 0:\n",
    "    total_cost_opportunity = development_opportunities['cost_optimization']['potential_additional_savings'].sum()\n",
    "    print(f\"Total Cost Optimization Opportunity: ${total_cost_opportunity:,.0f}\")\n",
    "\n",
    "high_potential_count = len(development_opportunities['high_potential'])\n",
    "underperforming_count = len(development_opportunities['underperforming_strategic'])\n",
    "quality_issues_count = len(development_opportunities['quality_improvement'])\n",
    "\n",
    "print(f\"High-Potential Suppliers for Growth: {high_potential_count}\")\n",
    "print(f\"Underperforming Strategic Suppliers: {underperforming_count}\")\n",
    "print(f\"Suppliers with Quality Issues: {quality_issues_count}\")\n",
    "print(f\"New Suppliers Under Evaluation: {len(development_opportunities['new_supplier_evaluation'])}\")"
   ]
  },
  {
   "cell_type": "markdown",
   "metadata": {},
   "source": [
    "## 6. Strategic Supplier Recommendations"
   ]
  },
  {
   "cell_type": "code",
   "execution_count": 9,
   "metadata": {},
   "outputs": [
    {
     "name": "stdout",
     "output_type": "stream",
     "text": [
      "Generating Strategic Supplier Recommendations:\n",
      "==================================================\n",
      "\n",
      "STRATEGIC SUPPLIER MANAGEMENT RECOMMENDATIONS:\n",
      "============================================================\n",
      "\n",
      "IMMEDIATE ACTIONS:\n",
      "----------------------------------------\n",
      "  1. Initiate performance improvement plans for strategic suppliers representing 82.7% of spend\n",
      "  2. Launch cost optimization initiatives with potential $29,343 in additional savings\n",
      "\n",
      "STRATEGIC INITIATIVES:\n",
      "----------------------------------------\n",
      "  1. Develop strategic partnerships with top-performing, high-spend suppliers\n",
      "  2. Diversify supplier base - top 5 suppliers represent 100.0% of spend\n",
      "\n",
      "PERFORMANCE IMPROVEMENT:\n",
      "----------------------------------------\n",
      "  1. Launch quality improvement programs with 4 suppliers\n",
      "  2. Overall supplier performance below target (60.0/100) - implement comprehensive improvement program\n",
      "\n",
      "PORTFOLIO OPTIMIZATION:\n",
      "----------------------------------------\n",
      "  1. Increase excellent-tier suppliers from 20.0% to 25% of portfolio\n",
      "\n",
      "\n",
      "ACTION PRIORITY MATRIX:\n",
      "============================================================\n",
      "\n",
      "HIGH IMPACT + HIGH URGENCY (Do First):\n",
      "  • Initiate performance improvement plans for strategic suppliers representing 82.7% of spend\n",
      "  • Launch cost optimization initiatives with potential $29,343 in additional savings\n",
      "\n",
      "HIGH IMPACT + LOWER URGENCY (Schedule):\n",
      "  • Develop strategic partnerships with top-performing, high-spend suppliers\n",
      "  • Diversify supplier base - top 5 suppliers represent 100.0% of spend\n",
      "\n",
      "LOWER IMPACT + HIGH URGENCY (Delegate):\n",
      "\n",
      "LOWER IMPACT + LOWER URGENCY (Monitor):\n",
      "  • Launch quality improvement programs with 4 suppliers\n",
      "  • Overall supplier performance below target (60.0/100) - implement comprehensive improvement program\n",
      "  • Increase excellent-tier suppliers from 20.0% to 25% of portfolio\n"
     ]
    }
   ],
   "source": [
    "# Generate strategic supplier recommendations\n",
    "def generate_supplier_recommendations(supplier_risk_assessment: pd.DataFrame, \n",
    "                                     development_opportunities: Dict) -> Dict[str, List[str]]:\n",
    "    \"\"\"\n",
    "    Generate strategic supplier management recommendations.\n",
    "    \"\"\"\n",
    "    print(\"Generating Strategic Supplier Recommendations:\")\n",
    "    print(\"=\" * 50)\n",
    "    \n",
    "    recommendations = {\n",
    "        'immediate_actions': [],\n",
    "        'strategic_initiatives': [],\n",
    "        'risk_mitigation': [],\n",
    "        'performance_improvement': [],\n",
    "        'portfolio_optimization': []\n",
    "    }\n",
    "    \n",
    "    # Analyze current state\n",
    "    critical_risk_suppliers = len(supplier_risk_assessment[\n",
    "        supplier_risk_assessment['overall_risk_level'] == 'Critical Risk'\n",
    "    ])\n",
    "    \n",
    "    strategic_partners = len(supplier_risk_assessment[\n",
    "        supplier_risk_assessment['strategic_classification'] == 'Strategic Partner'\n",
    "    ])\n",
    "    \n",
    "    top_5_concentration = supplier_risk_assessment.head(5)['spend_share'].sum()\n",
    "    \n",
    "    avg_performance_score = supplier_risk_assessment['overall_supplier_score'].mean()\n",
    "    \n",
    "    # Generate immediate action recommendations\n",
    "    if critical_risk_suppliers > 0:\n",
    "        recommendations['immediate_actions'].append(\n",
    "            f\"URGENT: Address {critical_risk_suppliers} critical risk suppliers immediately\"\n",
    "        )\n",
    "    \n",
    "    if len(development_opportunities['underperforming_strategic']) > 0:\n",
    "        underperforming_spend = development_opportunities['underperforming_strategic']['spend_share'].sum()\n",
    "        recommendations['immediate_actions'].append(\n",
    "            f\"Initiate performance improvement plans for strategic suppliers representing {underperforming_spend:.1f}% of spend\"\n",
    "        )\n",
    "    \n",
    "    if len(development_opportunities['cost_optimization']) > 0:\n",
    "        total_opportunity = development_opportunities['cost_optimization']['potential_additional_savings'].sum()\n",
    "        recommendations['immediate_actions'].append(\n",
    "            f\"Launch cost optimization initiatives with potential ${total_opportunity:,.0f} in additional savings\"\n",
    "        )\n",
    "    \n",
    "    # Strategic initiative recommendations\n",
    "    if strategic_partners < 3:\n",
    "        recommendations['strategic_initiatives'].append(\n",
    "            \"Develop strategic partnerships with top-performing, high-spend suppliers\"\n",
    "        )\n",
    "    \n",
    "    if len(development_opportunities['high_potential']) >= 5:\n",
    "        recommendations['strategic_initiatives'].append(\n",
    "            f\"Scale up relationships with {len(development_opportunities['high_potential'])} high-potential suppliers\"\n",
    "        )\n",
    "    \n",
    "    if top_5_concentration > 60:\n",
    "        recommendations['strategic_initiatives'].append(\n",
    "            f\"Diversify supplier base - top 5 suppliers represent {top_5_concentration:.1f}% of spend\"\n",
    "        )\n",
    "    \n",
    "    # Risk mitigation recommendations\n",
    "    high_concentration_suppliers = supplier_risk_assessment[\n",
    "        supplier_risk_assessment['concentration_risk'].isin(['Critical', 'High'])\n",
    "    ]\n",
    "    \n",
    "    if len(high_concentration_suppliers) > 0:\n",
    "        recommendations['risk_mitigation'].append(\n",
    "            f\"Develop backup suppliers for {len(high_concentration_suppliers)} high-concentration dependencies\"\n",
    "        )\n",
    "    \n",
    "    volatile_suppliers = supplier_risk_assessment[\n",
    "        supplier_risk_assessment['volatility_risk'] == 'High'\n",
    "    ]\n",
    "    \n",
    "    if len(volatile_suppliers) > 0:\n",
    "        recommendations['risk_mitigation'].append(\n",
    "            f\"Implement performance monitoring for {len(volatile_suppliers)} volatile suppliers\"\n",
    "        )\n",
    "    \n",
    "    # Performance improvement recommendations\n",
    "    if len(development_opportunities['quality_improvement']) > 0:\n",
    "        recommendations['performance_improvement'].append(\n",
    "            f\"Launch quality improvement programs with {len(development_opportunities['quality_improvement'])} suppliers\"\n",
    "        )\n",
    "    \n",
    "    if len(development_opportunities['delivery_improvement']) > 0:\n",
    "        recommendations['performance_improvement'].append(\n",
    "            f\"Optimize delivery performance with {len(development_opportunities['delivery_improvement'])} suppliers\"\n",
    "        )\n",
    "    \n",
    "    if avg_performance_score < 70:\n",
    "        recommendations['performance_improvement'].append(\n",
    "            f\"Overall supplier performance below target ({avg_performance_score:.1f}/100) - implement comprehensive improvement program\"\n",
    "        )\n",
    "    \n",
    "    # Portfolio optimization recommendations\n",
    "    excellent_tier_pct = (supplier_risk_assessment['performance_tier'] == 'Excellent').mean() * 100\n",
    "    if excellent_tier_pct < 25:\n",
    "        recommendations['portfolio_optimization'].append(\n",
    "            f\"Increase excellent-tier suppliers from {excellent_tier_pct:.1f}% to 25% of portfolio\"\n",
    "        )\n",
    "    \n",
    "    categories_per_supplier = supplier_risk_assessment['categories_served'].mean()\n",
    "    if categories_per_supplier < 1.5:\n",
    "        recommendations['portfolio_optimization'].append(\n",
    "            \"Consolidate suppliers to increase category coverage and leverage\"\n",
    "        )\n",
    "    \n",
    "    if len(development_opportunities['new_supplier_evaluation']) > 0:\n",
    "        recommendations['portfolio_optimization'].append(\n",
    "            f\"Evaluate {len(development_opportunities['new_supplier_evaluation'])} promising new suppliers for expanded partnerships\"\n",
    "        )\n",
    "    \n",
    "    return recommendations\n",
    "\n",
    "# Generate recommendations\n",
    "supplier_recommendations = generate_supplier_recommendations(supplier_risk_assessment, development_opportunities)\n",
    "\n",
    "# Display recommendations\n",
    "print(\"\\nSTRATEGIC SUPPLIER MANAGEMENT RECOMMENDATIONS:\")\n",
    "print(\"=\" * 60)\n",
    "\n",
    "for category, recs in supplier_recommendations.items():\n",
    "    if recs:\n",
    "        print(f\"\\n{category.upper().replace('_', ' ')}:\")\n",
    "        print(\"-\" * 40)\n",
    "        for i, rec in enumerate(recs, 1):\n",
    "            print(f\"  {i}. {rec}\")\n",
    "\n",
    "# Create action priority matrix\n",
    "print(\"\\n\\nACTION PRIORITY MATRIX:\")\n",
    "print(\"=\" * 60)\n",
    "\n",
    "# High Impact, High Urgency\n",
    "print(\"\\nHIGH IMPACT + HIGH URGENCY (Do First):\")\n",
    "for rec in supplier_recommendations['immediate_actions']:\n",
    "    print(f\"  • {rec}\")\n",
    "\n",
    "# High Impact, Lower Urgency\n",
    "print(\"\\nHIGH IMPACT + LOWER URGENCY (Schedule):\")\n",
    "for rec in supplier_recommendations['strategic_initiatives']:\n",
    "    print(f\"  • {rec}\")\n",
    "\n",
    "# Lower Impact, High Urgency\n",
    "print(\"\\nLOWER IMPACT + HIGH URGENCY (Delegate):\")\n",
    "for rec in supplier_recommendations['risk_mitigation']:\n",
    "    print(f\"  • {rec}\")\n",
    "\n",
    "# Lower Impact, Lower Urgency\n",
    "print(\"\\nLOWER IMPACT + LOWER URGENCY (Monitor):\")\n",
    "for rec in supplier_recommendations['performance_improvement']:\n",
    "    print(f\"  • {rec}\")\n",
    "for rec in supplier_recommendations['portfolio_optimization']:\n",
    "    print(f\"  • {rec}\")"
   ]
  },
  {
   "cell_type": "markdown",
   "metadata": {},
   "source": [
    "## 7. Export Supplier Analysis Results"
   ]
  },
  {
   "cell_type": "code",
   "execution_count": 11,
   "metadata": {},
   "outputs": [
    {
     "name": "stdout",
     "output_type": "stream",
     "text": [
      "Exporting Supplier Analysis Results:\n",
      "==================================================\n",
      "Supplier scorecards exported to: ../data/processed/supplier_scorecards.csv\n",
      "Development opportunities exported to: ../data/processed/supplier_development_opportunities.json\n",
      "Comprehensive report exported to: ../reports/supplier_performance_analysis_report.txt\n",
      "Dashboard summary exported to: ../data/processed/supplier_dashboard_summary.json\n",
      "\n",
      "Supplier Performance Analysis Complete!\n",
      "Files generated:\n",
      "  1. ../data/processed/supplier_scorecards.csv - Detailed supplier scorecards\n",
      "  2. ../data/processed/supplier_development_opportunities.json - Development opportunities (JSON)\n",
      "  3. ../reports/supplier_performance_analysis_report.txt - Comprehensive analysis report\n",
      "  4. ../data/processed/supplier_dashboard_summary.json - Dashboard summary data\n",
      "\n",
      "Ready for next phase: Predictive Modeling (Notebook 06)\n"
     ]
    }
   ],
   "source": [
    "# Export comprehensive supplier analysis results\n",
    "import os\n",
    "import json\n",
    "\n",
    "# Ensure output directories exist\n",
    "os.makedirs('../data/processed', exist_ok=True)\n",
    "os.makedirs('../reports', exist_ok=True)\n",
    "\n",
    "print(\"Exporting Supplier Analysis Results:\")\n",
    "print(\"=\" * 50)\n",
    "\n",
    "# 1. Export supplier scorecards\n",
    "scorecards_path = '../data/processed/supplier_scorecards.csv'\n",
    "supplier_risk_assessment.to_csv(scorecards_path, index=True)\n",
    "print(f\"Supplier scorecards exported to: {scorecards_path}\")\n",
    "\n",
    "# 2. Export development opportunities\n",
    "opportunities_path = '../data/processed/supplier_development_opportunities.json'\n",
    "# Convert DataFrames to dictionaries for JSON serialization\n",
    "opportunities_export = {}\n",
    "for key, df in development_opportunities.items():\n",
    "    opportunities_export[key] = df.to_dict('index')\n",
    "\n",
    "with open(opportunities_path, 'w') as f:\n",
    "    json.dump(opportunities_export, f, indent=2, default=str)\n",
    "print(f\"Development opportunities exported to: {opportunities_path}\")\n",
    "\n",
    "# 3. Create comprehensive supplier analysis report\n",
    "report_path = '../reports/supplier_performance_analysis_report.txt'\n",
    "with open(report_path, 'w') as f:\n",
    "    f.write(\"SUPPLIER PERFORMANCE ANALYSIS REPORT\\n\")\n",
    "    f.write(\"=\" * 60 + \"\\n\")\n",
    "    f.write(f\"Generated: {datetime.now().strftime('%Y-%m-%d %H:%M:%S')}\\n\")\n",
    "    #f.write(f\"Analysis Period: {df['Order_Date'].min().strftime('%Y-%m-%d')} to {df['Order_Date'].max().strftime('%Y-%m-%d')}\\n\")\n",
    "    if 'Order_Date' in df.columns:\n",
    "        f.write(f\"Analysis Period: {df['Order_Date'].min().strftime('%Y-%m-%d')} to {df['Order_Date'].max().strftime('%Y-%m-%d')}\\n\")\n",
    "    else:\n",
    "        f.write(\"Analysis Period: Full dataset period\\n\")\n",
    "    f.write(f\"Total Suppliers Analyzed: {len(supplier_risk_assessment)}\\n\")\n",
    "    f.write(f\"Total Procurement Value: ${supplier_risk_assessment['total_spend'].sum():,.2f}\\n\")\n",
    "    \n",
    "    f.write(\"\\nEXECUTIVE SUMMARY:\\n\")\n",
    "    f.write(\"-\" * 40 + \"\\n\")\n",
    "    f.write(f\"Average Supplier Performance Score: {supplier_risk_assessment['overall_supplier_score'].mean():.1f}/100\\n\")\n",
    "    f.write(f\"Top 5 Supplier Concentration: {supplier_risk_assessment.head(5)['spend_share'].sum():.1f}%\\n\")\n",
    "    f.write(f\"Critical Risk Suppliers: {(supplier_risk_assessment['overall_risk_level'] == 'Critical Risk').sum()}\\n\")\n",
    "    f.write(f\"Strategic Partners Identified: {(supplier_risk_assessment['strategic_classification'] == 'Strategic Partner').sum()}\\n\")\n",
    "    \n",
    "    f.write(\"\\nPERFORMANCE TIER DISTRIBUTION:\\n\")\n",
    "    f.write(\"-\" * 40 + \"\\n\")\n",
    "    tier_dist = supplier_risk_assessment['performance_tier'].value_counts()\n",
    "    for tier, count in tier_dist.items():\n",
    "        pct = count / len(supplier_risk_assessment) * 100\n",
    "        f.write(f\"  {tier}: {count} suppliers ({pct:.1f}%)\\n\")\n",
    "    \n",
    "    f.write(\"\\nRISK ASSESSMENT SUMMARY:\\n\")\n",
    "    f.write(\"-\" * 40 + \"\\n\")\n",
    "    risk_dist = supplier_risk_assessment['overall_risk_level'].value_counts()\n",
    "    for risk_level, count in risk_dist.items():\n",
    "        pct = count / len(supplier_risk_assessment) * 100\n",
    "        f.write(f\"  {risk_level}: {count} suppliers ({pct:.1f}%)\\n\")\n",
    "    \n",
    "    f.write(\"\\nTOP 10 PERFORMING SUPPLIERS:\\n\")\n",
    "    f.write(\"-\" * 40 + \"\\n\")\n",
    "    top_10 = supplier_risk_assessment.head(10)\n",
    "    for supplier, row in top_10.iterrows():\n",
    "        f.write(f\"  {supplier}:\\n\")\n",
    "        f.write(f\"    Overall Score: {row['overall_supplier_score']:.1f}/100\\n\")\n",
    "        f.write(f\"    Spend Share: {row['spend_share']:.2f}%\\n\")\n",
    "        f.write(f\"    Classification: {row['strategic_classification']}\\n\")\n",
    "        f.write(f\"    Risk Level: {row['overall_risk_level']}\\n\")\n",
    "        f.write(\"\\n\")\n",
    "    \n",
    "    f.write(\"\\nSTRATEGIC RECOMMENDATIONS:\\n\")\n",
    "    f.write(\"-\" * 40 + \"\\n\")\n",
    "    for category, recs in supplier_recommendations.items():\n",
    "        if recs:\n",
    "            f.write(f\"\\n{category.upper().replace('_', ' ')}:\\n\")\n",
    "            for i, rec in enumerate(recs, 1):\n",
    "                f.write(f\"  {i}. {rec}\\n\")\n",
    "    \n",
    "    f.write(\"\\nDEVELOPMENT OPPORTUNITIES SUMMARY:\\n\")\n",
    "    f.write(\"-\" * 40 + \"\\n\")\n",
    "    for opp_type, data in development_opportunities.items():\n",
    "        f.write(f\"  {opp_type.replace('_', ' ').title()}: {len(data)} suppliers\\n\")\n",
    "    \n",
    "    if len(development_opportunities['cost_optimization']) > 0:\n",
    "        total_cost_opp = development_opportunities['cost_optimization']['potential_additional_savings'].sum()\n",
    "        f.write(f\"\\nTotal Cost Optimization Opportunity: ${total_cost_opp:,.0f}\\n\")\n",
    "\n",
    "print(f\"Comprehensive report exported to: {report_path}\")\n",
    "\n",
    "# 4. Create supplier performance summary for dashboard\n",
    "dashboard_summary = {\n",
    "    'analysis_date': datetime.now().strftime('%Y-%m-%d'),\n",
    "    'total_suppliers': len(supplier_risk_assessment),\n",
    "    'avg_performance_score': supplier_risk_assessment['overall_supplier_score'].mean(),\n",
    "    'top_5_concentration': supplier_risk_assessment.head(5)['spend_share'].sum(),\n",
    "    'strategic_partners': (supplier_risk_assessment['strategic_classification'] == 'Strategic Partner').sum(),\n",
    "    'critical_risk_suppliers': (supplier_risk_assessment['overall_risk_level'] == 'Critical Risk').sum(),\n",
    "    'performance_tiers': supplier_risk_assessment['performance_tier'].value_counts().to_dict(),\n",
    "    'risk_levels': supplier_risk_assessment['overall_risk_level'].value_counts().to_dict(),\n",
    "    'top_10_suppliers': supplier_risk_assessment.head(10)[[\n",
    "        'overall_supplier_score', 'spend_share', 'strategic_classification'\n",
    "    ]].to_dict('index')\n",
    "}\n",
    "\n",
    "dashboard_path = '../data/processed/supplier_dashboard_summary.json'\n",
    "with open(dashboard_path, 'w') as f:\n",
    "    json.dump(dashboard_summary, f, indent=2, default=str)\n",
    "print(f\"Dashboard summary exported to: {dashboard_path}\")\n",
    "\n",
    "print(f\"\\nSupplier Performance Analysis Complete!\")\n",
    "print(f\"Files generated:\")\n",
    "print(f\"  1. {scorecards_path} - Detailed supplier scorecards\")\n",
    "print(f\"  2. {opportunities_path} - Development opportunities (JSON)\")\n",
    "print(f\"  3. {report_path} - Comprehensive analysis report\")\n",
    "print(f\"  4. {dashboard_path} - Dashboard summary data\")\n",
    "\n",
    "print(f\"\\nReady for next phase: Predictive Modeling (Notebook 06)\")"
   ]
  },
  {
   "cell_type": "markdown",
   "metadata": {},
   "source": [
    "---\n",
    "\n",
    "## Supplier Performance Deep Dive Complete!\n",
    "\n",
    "**Major Accomplishments:**\n",
    "- Created comprehensive supplier portfolio analysis with 15+ performance metrics\n",
    "- Developed weighted performance scorecards across 4 key dimensions\n",
    "- Conducted detailed risk assessment with 6 risk categories and composite scoring\n",
    "- Identified specific development opportunities across 6 strategic areas\n",
    "- Generated actionable strategic recommendations with priority matrix\n",
    "- Classified suppliers into strategic categories and performance tiers\n",
    "\n",
    "**Key Business Insights Delivered:**\n",
    "- **Supplier Portfolio Optimization**: Top performers, underperformers, and high-potential suppliers\n",
    "- **Risk Mitigation Strategies**: Critical risk suppliers and concentration dependencies\n",
    "- **Cost Optimization Opportunities**: Quantified savings potential from underperforming suppliers\n",
    "- **Strategic Partnership Identification**: Suppliers worthy of deeper strategic relationships\n",
    "- **Performance Improvement Roadmap**: Specific actions for quality, delivery, and cost improvements\n",
    "\n",
    "**Strategic Supplier Classifications:**\n",
    "- **Strategic Partners**: High-spend, high-performance suppliers for deeper partnerships\n",
    "- **Key Suppliers**: Important suppliers requiring active management\n",
    "- **High Risk Suppliers**: High-spend suppliers with performance concerns\n",
    "- **Development Opportunities**: High-performing suppliers with growth potential\n",
    "- **Performance Concerns**: Suppliers requiring immediate attention or replacement\n",
    "\n",
    "**Actionable Recommendations Generated:**\n",
    "- Immediate actions for critical risk suppliers\n",
    "- Strategic initiatives for portfolio optimization\n",
    "- Risk mitigation strategies for concentration management\n",
    "- Performance improvement programs for key suppliers\n",
    "- Portfolio optimization for competitive advantage\n",
    "\n",
    "**Ready for Next Phase:**\n",
    "- **Predictive Modeling** (Notebook 06) - Build forecasting models for supplier performance\n",
    "- **Interactive Dashboard Creation** - Transform insights into executive dashboards\n",
    "- **Supplier Relationship Management** - Implement strategic supplier programs\n",
    "\n",
    "**Strategic Value Delivered:**\n",
    "- Data-driven supplier relationship management\n",
    "- Risk-based supplier portfolio optimization\n",
    "- Performance-based supplier development programs\n",
    "- Strategic sourcing decision support\n",
    "- Competitive advantage through supplier excellence\n",
    "\n",
    "---"
   ]
  }
 ],
 "metadata": {
  "kernelspec": {
   "display_name": "Python 3 (ipykernel)",
   "language": "python",
   "name": "python3"
  },
  "language_info": {
   "codemirror_mode": {
    "name": "ipython",
    "version": 3
   },
   "file_extension": ".py",
   "mimetype": "text/x-python",
   "name": "python",
   "nbconvert_exporter": "python",
   "pygments_lexer": "ipython3",
   "version": "3.13.2"
  }
 },
 "nbformat": 4,
 "nbformat_minor": 4
}
