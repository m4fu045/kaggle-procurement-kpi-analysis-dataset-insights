{
 "cells": [
  {
   "cell_type": "markdown",
   "metadata": {},
   "source": [
    "# Procurement KPI Analytics - Key Performance Indicators Analysis\n",
    "\n",
    "**Objective**: Calculate, analyze, and visualize key procurement performance indicators to drive strategic decision-making.\n",
    "\n",
    "**Key Analysis Areas**:\n",
    "- Financial Performance KPIs (cost savings, spend analysis, ROI)\n",
    "- Supplier Performance KPIs (delivery, quality, compliance)\n",
    "- Operational Efficiency KPIs (lead times, order fulfillment)\n",
    "- Quality and Risk KPIs (defect rates, compliance, risk scores)\n",
    "- Category and Trend Analysis\n",
    "- Executive Dashboard Creation\n",
    "\n",
    "**Input**: Feature-engineered procurement dataset\n",
    "\n",
    "**Output**: Comprehensive KPI analysis, dashboards, and strategic insights\n",
    "\n",
    "---"
   ]
  },
  {
   "cell_type": "markdown",
   "metadata": {},
   "source": [
    "## 1. Setup and Data Loading"
   ]
  },
  {
   "cell_type": "code",
   "execution_count": 1,
   "metadata": {},
   "outputs": [
    {
     "name": "stdout",
     "output_type": "stream",
     "text": [
      "KPI Analysis environment initialized\n",
      "Analysis timestamp: 2025-07-09 07:56:03\n"
     ]
    }
   ],
   "source": [
    "# Import required libraries\n",
    "import pandas as pd\n",
    "import numpy as np\n",
    "import matplotlib.pyplot as plt\n",
    "import seaborn as sns\n",
    "import plotly.express as px\n",
    "import plotly.graph_objects as go\n",
    "from plotly.subplots import make_subplots\n",
    "import plotly.figure_factory as ff\n",
    "import warnings\n",
    "from datetime import datetime, timedelta\n",
    "from typing import Dict, List, Tuple, Any\n",
    "import calendar\n",
    "\n",
    "# Configure display and warnings\n",
    "pd.set_option('display.max_columns', None)\n",
    "pd.set_option('display.float_format', '{:.2f}'.format)\n",
    "warnings.filterwarnings('ignore')\n",
    "\n",
    "# Set plotting themes\n",
    "plt.style.use('seaborn-v0_8')\n",
    "sns.set_palette(\"husl\")\n",
    "\n",
    "# Custom color palette for consistency\n",
    "COLORS = {\n",
    "    'primary': '#2E86AB',\n",
    "    'secondary': '#A23B72', \n",
    "    'success': '#F18F01',\n",
    "    'warning': '#C73E1D',\n",
    "    'neutral': '#7209B7'\n",
    "}\n",
    "\n",
    "print(\"KPI Analysis environment initialized\")\n",
    "print(f\"Analysis timestamp: {datetime.now().strftime('%Y-%m-%d %H:%M:%S')}\")"
   ]
  },
  {
   "cell_type": "code",
   "execution_count": 2,
   "metadata": {},
   "outputs": [
    {
     "name": "stdout",
     "output_type": "stream",
     "text": [
      "Feature-engineered dataset loaded successfully\n",
      "Dataset shape: 777 rows x 63 columns\n",
      "\n",
      "Data period: 2022-01-01 to 2024-01-01\n",
      "Total procurement records: 777\n",
      "Unique suppliers: 5\n",
      "Unique categories: 5\n",
      "Total procurement value: $45,373,696.39\n"
     ]
    }
   ],
   "source": [
    "# Load feature-engineered dataset\n",
    "try:\n",
    "    df = pd.read_csv('../data/processed/procurement_features_engineered.csv')\n",
    "    print(\"Feature-engineered dataset loaded successfully\")\n",
    "    print(f\"Dataset shape: {df.shape[0]:,} rows x {df.shape[1]} columns\")\n",
    "except FileNotFoundError:\n",
    "    print(\"Error: Feature-engineered dataset not found.\")\n",
    "    print(\"Expected file: '../data/processed/procurement_features_engineered.csv'\")\n",
    "    print(\"Please run the feature engineering notebook first.\")\n",
    "\n",
    "# Convert date columns\n",
    "date_columns = ['Order_Date', 'Delivery_Date']\n",
    "for col in date_columns:\n",
    "    if col in df.columns:\n",
    "        df[col] = pd.to_datetime(df[col], errors='coerce')\n",
    "\n",
    "# Data overview\n",
    "print(f\"\\nData period: {df['Order_Date'].min().strftime('%Y-%m-%d')} to {df['Order_Date'].max().strftime('%Y-%m-%d')}\")\n",
    "print(f\"Total procurement records: {len(df):,}\")\n",
    "print(f\"Unique suppliers: {df['Supplier'].nunique():,}\")\n",
    "print(f\"Unique categories: {df['Item_Category'].nunique():,}\")\n",
    "print(f\"Total procurement value: ${df['total_negotiated_value'].sum():,.2f}\")"
   ]
  },
  {
   "cell_type": "markdown",
   "metadata": {},
   "source": [
    "## 2. Financial Performance KPIs"
   ]
  },
  {
   "cell_type": "code",
   "execution_count": 3,
   "metadata": {},
   "outputs": [
    {
     "name": "stdout",
     "output_type": "stream",
     "text": [
      "Calculating Financial Performance KPIs:\n",
      "==================================================\n",
      "KEY FINANCIAL PERFORMANCE INDICATORS:\n",
      "==================================================\n",
      "Total Procurement Spend: $45,373,696.39\n",
      "Total Cost Savings: $3,931,126.47\n",
      "Overall Savings Rate: 7.97%\n",
      "Negotiation Success Rate: 100.0%\n",
      "Average Order Value: $58,396.01\n",
      "Average Savings per Order: $5,059.36\n",
      "Average Monthly Spend: $1,814,947.86\n"
     ]
    }
   ],
   "source": [
    "# Calculate comprehensive financial KPIs\n",
    "def calculate_financial_kpis(df: pd.DataFrame) -> Dict[str, Any]:\n",
    "    \"\"\"\n",
    "    Calculate key financial performance indicators.\n",
    "    \"\"\"\n",
    "    print(\"Calculating Financial Performance KPIs:\")\n",
    "    print(\"=\" * 50)\n",
    "    \n",
    "    kpis = {}\n",
    "    \n",
    "    # Total spend and savings\n",
    "    kpis['total_procurement_spend'] = df['total_negotiated_value'].sum()\n",
    "    kpis['total_original_spend'] = df['total_original_value'].sum()\n",
    "    kpis['total_cost_savings'] = df['cost_savings'].sum()\n",
    "    kpis['overall_savings_rate'] = (kpis['total_cost_savings'] / kpis['total_original_spend'] * 100)\n",
    "    \n",
    "    # Order metrics\n",
    "    kpis['total_orders'] = len(df)\n",
    "    kpis['average_order_value'] = df['total_negotiated_value'].mean()\n",
    "    kpis['median_order_value'] = df['total_negotiated_value'].median()\n",
    "    \n",
    "    # Negotiation effectiveness\n",
    "    successful_negotiations = (df['savings_percentage'] > 0).sum()\n",
    "    kpis['negotiation_success_rate'] = (successful_negotiations / len(df) * 100)\n",
    "    kpis['average_savings_per_order'] = df['cost_savings'].mean()\n",
    "    \n",
    "    # Monthly spending patterns\n",
    "    monthly_spend = df.groupby(['order_year', 'order_month'])['total_negotiated_value'].sum()\n",
    "    kpis['average_monthly_spend'] = monthly_spend.mean()\n",
    "    kpis['monthly_spend_volatility'] = monthly_spend.std()\n",
    "    \n",
    "    # Cost efficiency metrics\n",
    "    if 'cost_per_unit_negotiated' in df.columns:\n",
    "        kpis['average_cost_per_unit'] = df['cost_per_unit_negotiated'].mean()\n",
    "    \n",
    "    # High-value order analysis\n",
    "    if 'is_high_value_order' in df.columns:\n",
    "        high_value_orders = df[df['is_high_value_order'] == True]\n",
    "        kpis['high_value_order_count'] = len(high_value_orders)\n",
    "        kpis['high_value_order_percentage'] = (len(high_value_orders) / len(df) * 100)\n",
    "        kpis['high_value_order_savings_rate'] = high_value_orders['savings_percentage'].mean()\n",
    "    \n",
    "    return kpis\n",
    "\n",
    "# Calculate financial KPIs\n",
    "financial_kpis = calculate_financial_kpis(df)\n",
    "\n",
    "# Display key financial metrics\n",
    "print(\"KEY FINANCIAL PERFORMANCE INDICATORS:\")\n",
    "print(\"=\" * 50)\n",
    "print(f\"Total Procurement Spend: ${financial_kpis['total_procurement_spend']:,.2f}\")\n",
    "print(f\"Total Cost Savings: ${financial_kpis['total_cost_savings']:,.2f}\")\n",
    "print(f\"Overall Savings Rate: {financial_kpis['overall_savings_rate']:.2f}%\")\n",
    "print(f\"Negotiation Success Rate: {financial_kpis['negotiation_success_rate']:.1f}%\")\n",
    "print(f\"Average Order Value: ${financial_kpis['average_order_value']:,.2f}\")\n",
    "print(f\"Average Savings per Order: ${financial_kpis['average_savings_per_order']:,.2f}\")\n",
    "print(f\"Average Monthly Spend: ${financial_kpis['average_monthly_spend']:,.2f}\")"
   ]
  },
  {
   "cell_type": "code",
   "execution_count": 4,
   "metadata": {},
   "outputs": [
    {
     "data": {
      "application/vnd.plotly.v1+json": {
       "config": {
        "plotlyServerURL": "https://plot.ly"
       },
       "data": [
        {
         "line": {
          "color": "#2E86AB"
         },
         "mode": "lines+markers",
         "name": "Monthly Spend",
         "type": "scatter",
         "x": [
          "2022-01",
          "2022-02",
          "2022-03",
          "2022-04",
          "2022-05",
          "2022-06",
          "2022-07",
          "2022-08",
          "2022-09",
          "2022-10",
          "2022-11",
          "2022-12",
          "2023-01",
          "2023-02",
          "2023-03",
          "2023-04",
          "2023-05",
          "2023-06",
          "2023-07",
          "2023-08",
          "2023-09",
          "2023-10",
          "2023-11",
          "2023-12",
          "2024-01"
         ],
         "xaxis": "x",
         "y": {
          "bdata": "4XoU7npxN0GPwvWo6gQ1QXsUrifgx0NBj8L16MptPUGuR+H6+QgyQVK4HgVZwTdBwvUoHBy9M0HXo3AdSMVBQR+F63H+mUBB4XoUbocxO0GkcD2KDW03QTMzM1NnkEBB7FG4/vxeQUH2KFzPoxE7QUjhetQ98ERBzczMzJEWOkEzMzMzkhE3QWZmZmaoTTVBzczM7HQMQkFI4XpUbaw+QT0K16O6BEFBMzMzMxOIPEFSuB6lPbZDQR+F65H7YDNBzMzMzJqrBEE=",
          "dtype": "f8"
         },
         "yaxis": "y"
        },
        {
         "marker": {
          "color": "#F18F01"
         },
         "name": "Savings %",
         "nbinsx": 30,
         "type": "histogram",
         "x": {
          "bdata": "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",
          "dtype": "f8"
         },
         "xaxis": "x2",
         "yaxis": "y2"
        },
        {
         "domain": {
          "x": [
           0,
           0.45
          ],
          "y": [
           0,
           0.375
          ]
         },
         "labels": [
          "Medium",
          "Small",
          "Large"
         ],
         "name": "Order Size",
         "type": "pie",
         "values": {
          "bdata": "hAHDAMIA",
          "dtype": "i2"
         }
        },
        {
         "marker": {
          "color": "#A23B72"
         },
         "name": "Negotiation Results",
         "type": "bar",
         "x": [
          "Successful"
         ],
         "xaxis": "x3",
         "y": {
          "bdata": "CQM=",
          "dtype": "i2"
         },
         "yaxis": "y3"
        }
       ],
       "layout": {
        "annotations": [
         {
          "font": {
           "size": 16
          },
          "showarrow": false,
          "text": "Monthly Procurement Spend Trend",
          "x": 0.225,
          "xanchor": "center",
          "xref": "paper",
          "y": 1,
          "yanchor": "bottom",
          "yref": "paper"
         },
         {
          "font": {
           "size": 16
          },
          "showarrow": false,
          "text": "Cost Savings Distribution",
          "x": 0.775,
          "xanchor": "center",
          "xref": "paper",
          "y": 1,
          "yanchor": "bottom",
          "yref": "paper"
         },
         {
          "font": {
           "size": 16
          },
          "showarrow": false,
          "text": "Order Value Categories",
          "x": 0.225,
          "xanchor": "center",
          "xref": "paper",
          "y": 0.375,
          "yanchor": "bottom",
          "yref": "paper"
         },
         {
          "font": {
           "size": 16
          },
          "showarrow": false,
          "text": "Negotiation Effectiveness",
          "x": 0.775,
          "xanchor": "center",
          "xref": "paper",
          "y": 0.375,
          "yanchor": "bottom",
          "yref": "paper"
         }
        ],
        "height": 800,
        "showlegend": false,
        "template": {
         "data": {
          "bar": [
           {
            "error_x": {
             "color": "#2a3f5f"
            },
            "error_y": {
             "color": "#2a3f5f"
            },
            "marker": {
             "line": {
              "color": "#E5ECF6",
              "width": 0.5
             },
             "pattern": {
              "fillmode": "overlay",
              "size": 10,
              "solidity": 0.2
             }
            },
            "type": "bar"
           }
          ],
          "barpolar": [
           {
            "marker": {
             "line": {
              "color": "#E5ECF6",
              "width": 0.5
             },
             "pattern": {
              "fillmode": "overlay",
              "size": 10,
              "solidity": 0.2
             }
            },
            "type": "barpolar"
           }
          ],
          "carpet": [
           {
            "aaxis": {
             "endlinecolor": "#2a3f5f",
             "gridcolor": "white",
             "linecolor": "white",
             "minorgridcolor": "white",
             "startlinecolor": "#2a3f5f"
            },
            "baxis": {
             "endlinecolor": "#2a3f5f",
             "gridcolor": "white",
             "linecolor": "white",
             "minorgridcolor": "white",
             "startlinecolor": "#2a3f5f"
            },
            "type": "carpet"
           }
          ],
          "choropleth": [
           {
            "colorbar": {
             "outlinewidth": 0,
             "ticks": ""
            },
            "type": "choropleth"
           }
          ],
          "contour": [
           {
            "colorbar": {
             "outlinewidth": 0,
             "ticks": ""
            },
            "colorscale": [
             [
              0,
              "#0d0887"
             ],
             [
              0.1111111111111111,
              "#46039f"
             ],
             [
              0.2222222222222222,
              "#7201a8"
             ],
             [
              0.3333333333333333,
              "#9c179e"
             ],
             [
              0.4444444444444444,
              "#bd3786"
             ],
             [
              0.5555555555555556,
              "#d8576b"
             ],
             [
              0.6666666666666666,
              "#ed7953"
             ],
             [
              0.7777777777777778,
              "#fb9f3a"
             ],
             [
              0.8888888888888888,
              "#fdca26"
             ],
             [
              1,
              "#f0f921"
             ]
            ],
            "type": "contour"
           }
          ],
          "contourcarpet": [
           {
            "colorbar": {
             "outlinewidth": 0,
             "ticks": ""
            },
            "type": "contourcarpet"
           }
          ],
          "heatmap": [
           {
            "colorbar": {
             "outlinewidth": 0,
             "ticks": ""
            },
            "colorscale": [
             [
              0,
              "#0d0887"
             ],
             [
              0.1111111111111111,
              "#46039f"
             ],
             [
              0.2222222222222222,
              "#7201a8"
             ],
             [
              0.3333333333333333,
              "#9c179e"
             ],
             [
              0.4444444444444444,
              "#bd3786"
             ],
             [
              0.5555555555555556,
              "#d8576b"
             ],
             [
              0.6666666666666666,
              "#ed7953"
             ],
             [
              0.7777777777777778,
              "#fb9f3a"
             ],
             [
              0.8888888888888888,
              "#fdca26"
             ],
             [
              1,
              "#f0f921"
             ]
            ],
            "type": "heatmap"
           }
          ],
          "histogram": [
           {
            "marker": {
             "pattern": {
              "fillmode": "overlay",
              "size": 10,
              "solidity": 0.2
             }
            },
            "type": "histogram"
           }
          ],
          "histogram2d": [
           {
            "colorbar": {
             "outlinewidth": 0,
             "ticks": ""
            },
            "colorscale": [
             [
              0,
              "#0d0887"
             ],
             [
              0.1111111111111111,
              "#46039f"
             ],
             [
              0.2222222222222222,
              "#7201a8"
             ],
             [
              0.3333333333333333,
              "#9c179e"
             ],
             [
              0.4444444444444444,
              "#bd3786"
             ],
             [
              0.5555555555555556,
              "#d8576b"
             ],
             [
              0.6666666666666666,
              "#ed7953"
             ],
             [
              0.7777777777777778,
              "#fb9f3a"
             ],
             [
              0.8888888888888888,
              "#fdca26"
             ],
             [
              1,
              "#f0f921"
             ]
            ],
            "type": "histogram2d"
           }
          ],
          "histogram2dcontour": [
           {
            "colorbar": {
             "outlinewidth": 0,
             "ticks": ""
            },
            "colorscale": [
             [
              0,
              "#0d0887"
             ],
             [
              0.1111111111111111,
              "#46039f"
             ],
             [
              0.2222222222222222,
              "#7201a8"
             ],
             [
              0.3333333333333333,
              "#9c179e"
             ],
             [
              0.4444444444444444,
              "#bd3786"
             ],
             [
              0.5555555555555556,
              "#d8576b"
             ],
             [
              0.6666666666666666,
              "#ed7953"
             ],
             [
              0.7777777777777778,
              "#fb9f3a"
             ],
             [
              0.8888888888888888,
              "#fdca26"
             ],
             [
              1,
              "#f0f921"
             ]
            ],
            "type": "histogram2dcontour"
           }
          ],
          "mesh3d": [
           {
            "colorbar": {
             "outlinewidth": 0,
             "ticks": ""
            },
            "type": "mesh3d"
           }
          ],
          "parcoords": [
           {
            "line": {
             "colorbar": {
              "outlinewidth": 0,
              "ticks": ""
             }
            },
            "type": "parcoords"
           }
          ],
          "pie": [
           {
            "automargin": true,
            "type": "pie"
           }
          ],
          "scatter": [
           {
            "fillpattern": {
             "fillmode": "overlay",
             "size": 10,
             "solidity": 0.2
            },
            "type": "scatter"
           }
          ],
          "scatter3d": [
           {
            "line": {
             "colorbar": {
              "outlinewidth": 0,
              "ticks": ""
             }
            },
            "marker": {
             "colorbar": {
              "outlinewidth": 0,
              "ticks": ""
             }
            },
            "type": "scatter3d"
           }
          ],
          "scattercarpet": [
           {
            "marker": {
             "colorbar": {
              "outlinewidth": 0,
              "ticks": ""
             }
            },
            "type": "scattercarpet"
           }
          ],
          "scattergeo": [
           {
            "marker": {
             "colorbar": {
              "outlinewidth": 0,
              "ticks": ""
             }
            },
            "type": "scattergeo"
           }
          ],
          "scattergl": [
           {
            "marker": {
             "colorbar": {
              "outlinewidth": 0,
              "ticks": ""
             }
            },
            "type": "scattergl"
           }
          ],
          "scattermap": [
           {
            "marker": {
             "colorbar": {
              "outlinewidth": 0,
              "ticks": ""
             }
            },
            "type": "scattermap"
           }
          ],
          "scattermapbox": [
           {
            "marker": {
             "colorbar": {
              "outlinewidth": 0,
              "ticks": ""
             }
            },
            "type": "scattermapbox"
           }
          ],
          "scatterpolar": [
           {
            "marker": {
             "colorbar": {
              "outlinewidth": 0,
              "ticks": ""
             }
            },
            "type": "scatterpolar"
           }
          ],
          "scatterpolargl": [
           {
            "marker": {
             "colorbar": {
              "outlinewidth": 0,
              "ticks": ""
             }
            },
            "type": "scatterpolargl"
           }
          ],
          "scatterternary": [
           {
            "marker": {
             "colorbar": {
              "outlinewidth": 0,
              "ticks": ""
             }
            },
            "type": "scatterternary"
           }
          ],
          "surface": [
           {
            "colorbar": {
             "outlinewidth": 0,
             "ticks": ""
            },
            "colorscale": [
             [
              0,
              "#0d0887"
             ],
             [
              0.1111111111111111,
              "#46039f"
             ],
             [
              0.2222222222222222,
              "#7201a8"
             ],
             [
              0.3333333333333333,
              "#9c179e"
             ],
             [
              0.4444444444444444,
              "#bd3786"
             ],
             [
              0.5555555555555556,
              "#d8576b"
             ],
             [
              0.6666666666666666,
              "#ed7953"
             ],
             [
              0.7777777777777778,
              "#fb9f3a"
             ],
             [
              0.8888888888888888,
              "#fdca26"
             ],
             [
              1,
              "#f0f921"
             ]
            ],
            "type": "surface"
           }
          ],
          "table": [
           {
            "cells": {
             "fill": {
              "color": "#EBF0F8"
             },
             "line": {
              "color": "white"
             }
            },
            "header": {
             "fill": {
              "color": "#C8D4E3"
             },
             "line": {
              "color": "white"
             }
            },
            "type": "table"
           }
          ]
         },
         "layout": {
          "annotationdefaults": {
           "arrowcolor": "#2a3f5f",
           "arrowhead": 0,
           "arrowwidth": 1
          },
          "autotypenumbers": "strict",
          "coloraxis": {
           "colorbar": {
            "outlinewidth": 0,
            "ticks": ""
           }
          },
          "colorscale": {
           "diverging": [
            [
             0,
             "#8e0152"
            ],
            [
             0.1,
             "#c51b7d"
            ],
            [
             0.2,
             "#de77ae"
            ],
            [
             0.3,
             "#f1b6da"
            ],
            [
             0.4,
             "#fde0ef"
            ],
            [
             0.5,
             "#f7f7f7"
            ],
            [
             0.6,
             "#e6f5d0"
            ],
            [
             0.7,
             "#b8e186"
            ],
            [
             0.8,
             "#7fbc41"
            ],
            [
             0.9,
             "#4d9221"
            ],
            [
             1,
             "#276419"
            ]
           ],
           "sequential": [
            [
             0,
             "#0d0887"
            ],
            [
             0.1111111111111111,
             "#46039f"
            ],
            [
             0.2222222222222222,
             "#7201a8"
            ],
            [
             0.3333333333333333,
             "#9c179e"
            ],
            [
             0.4444444444444444,
             "#bd3786"
            ],
            [
             0.5555555555555556,
             "#d8576b"
            ],
            [
             0.6666666666666666,
             "#ed7953"
            ],
            [
             0.7777777777777778,
             "#fb9f3a"
            ],
            [
             0.8888888888888888,
             "#fdca26"
            ],
            [
             1,
             "#f0f921"
            ]
           ],
           "sequentialminus": [
            [
             0,
             "#0d0887"
            ],
            [
             0.1111111111111111,
             "#46039f"
            ],
            [
             0.2222222222222222,
             "#7201a8"
            ],
            [
             0.3333333333333333,
             "#9c179e"
            ],
            [
             0.4444444444444444,
             "#bd3786"
            ],
            [
             0.5555555555555556,
             "#d8576b"
            ],
            [
             0.6666666666666666,
             "#ed7953"
            ],
            [
             0.7777777777777778,
             "#fb9f3a"
            ],
            [
             0.8888888888888888,
             "#fdca26"
            ],
            [
             1,
             "#f0f921"
            ]
           ]
          },
          "colorway": [
           "#636efa",
           "#EF553B",
           "#00cc96",
           "#ab63fa",
           "#FFA15A",
           "#19d3f3",
           "#FF6692",
           "#B6E880",
           "#FF97FF",
           "#FECB52"
          ],
          "font": {
           "color": "#2a3f5f"
          },
          "geo": {
           "bgcolor": "white",
           "lakecolor": "white",
           "landcolor": "#E5ECF6",
           "showlakes": true,
           "showland": true,
           "subunitcolor": "white"
          },
          "hoverlabel": {
           "align": "left"
          },
          "hovermode": "closest",
          "mapbox": {
           "style": "light"
          },
          "paper_bgcolor": "white",
          "plot_bgcolor": "#E5ECF6",
          "polar": {
           "angularaxis": {
            "gridcolor": "white",
            "linecolor": "white",
            "ticks": ""
           },
           "bgcolor": "#E5ECF6",
           "radialaxis": {
            "gridcolor": "white",
            "linecolor": "white",
            "ticks": ""
           }
          },
          "scene": {
           "xaxis": {
            "backgroundcolor": "#E5ECF6",
            "gridcolor": "white",
            "gridwidth": 2,
            "linecolor": "white",
            "showbackground": true,
            "ticks": "",
            "zerolinecolor": "white"
           },
           "yaxis": {
            "backgroundcolor": "#E5ECF6",
            "gridcolor": "white",
            "gridwidth": 2,
            "linecolor": "white",
            "showbackground": true,
            "ticks": "",
            "zerolinecolor": "white"
           },
           "zaxis": {
            "backgroundcolor": "#E5ECF6",
            "gridcolor": "white",
            "gridwidth": 2,
            "linecolor": "white",
            "showbackground": true,
            "ticks": "",
            "zerolinecolor": "white"
           }
          },
          "shapedefaults": {
           "line": {
            "color": "#2a3f5f"
           }
          },
          "ternary": {
           "aaxis": {
            "gridcolor": "white",
            "linecolor": "white",
            "ticks": ""
           },
           "baxis": {
            "gridcolor": "white",
            "linecolor": "white",
            "ticks": ""
           },
           "bgcolor": "#E5ECF6",
           "caxis": {
            "gridcolor": "white",
            "linecolor": "white",
            "ticks": ""
           }
          },
          "title": {
           "x": 0.05
          },
          "xaxis": {
           "automargin": true,
           "gridcolor": "white",
           "linecolor": "white",
           "ticks": "",
           "title": {
            "standoff": 15
           },
           "zerolinecolor": "white",
           "zerolinewidth": 2
          },
          "yaxis": {
           "automargin": true,
           "gridcolor": "white",
           "linecolor": "white",
           "ticks": "",
           "title": {
            "standoff": 15
           },
           "zerolinecolor": "white",
           "zerolinewidth": 2
          }
         }
        },
        "title": {
         "text": "Financial Performance Dashboard"
        },
        "xaxis": {
         "anchor": "y",
         "domain": [
          0,
          0.45
         ]
        },
        "xaxis2": {
         "anchor": "y2",
         "domain": [
          0.55,
          1
         ]
        },
        "xaxis3": {
         "anchor": "y3",
         "domain": [
          0.55,
          1
         ]
        },
        "yaxis": {
         "anchor": "x",
         "domain": [
          0.625,
          1
         ]
        },
        "yaxis2": {
         "anchor": "x2",
         "domain": [
          0.625,
          1
         ]
        },
        "yaxis3": {
         "anchor": "x3",
         "domain": [
          0,
          0.375
         ]
        }
       }
      },
      "image/png": "[encoded data removed]"
     },
     "metadata": {},
     "output_type": "display_data"
    }
   ],
   "source": [
    "# Create financial performance visualizations\n",
    "fig = make_subplots(\n",
    "    rows=2, cols=2,\n",
    "    subplot_titles=(\n",
    "        'Monthly Procurement Spend Trend',\n",
    "        'Cost Savings Distribution',\n",
    "        'Order Value Categories',\n",
    "        'Negotiation Effectiveness'\n",
    "    ),\n",
    "    specs=[[{\"type\": \"scatter\"}, {\"type\": \"histogram\"}],\n",
    "           [{\"type\": \"pie\"}, {\"type\": \"bar\"}]]\n",
    ")\n",
    "\n",
    "# 1. Monthly spend trend\n",
    "monthly_data = df.groupby(['order_year', 'order_month']).agg({\n",
    "    'total_negotiated_value': 'sum',\n",
    "    'cost_savings': 'sum'\n",
    "}).reset_index()\n",
    "monthly_data['year_month'] = monthly_data['order_year'].astype(str) + '-' + monthly_data['order_month'].astype(str).str.zfill(2)\n",
    "\n",
    "fig.add_trace(\n",
    "    go.Scatter(\n",
    "        x=monthly_data['year_month'],\n",
    "        y=monthly_data['total_negotiated_value'],\n",
    "        mode='lines+markers',\n",
    "        name='Monthly Spend',\n",
    "        line=dict(color=COLORS['primary'])\n",
    "    ),\n",
    "    row=1, col=1\n",
    ")\n",
    "\n",
    "# 2. Cost savings distribution\n",
    "fig.add_trace(\n",
    "    go.Histogram(\n",
    "        x=df['savings_percentage'],\n",
    "        nbinsx=30,\n",
    "        name='Savings %',\n",
    "        marker_color=COLORS['success']\n",
    "    ),\n",
    "    row=1, col=2\n",
    ")\n",
    "\n",
    "# 3. Order value categories\n",
    "if 'order_size_category' in df.columns:\n",
    "    size_counts = df['order_size_category'].value_counts()\n",
    "    fig.add_trace(\n",
    "        go.Pie(\n",
    "            labels=size_counts.index,\n",
    "            values=size_counts.values,\n",
    "            name=\"Order Size\"\n",
    "        ),\n",
    "        row=2, col=1\n",
    "    )\n",
    "\n",
    "# 4. Negotiation effectiveness\n",
    "if 'negotiation_effectiveness' in df.columns:\n",
    "    neg_counts = df['negotiation_effectiveness'].value_counts()\n",
    "    fig.add_trace(\n",
    "        go.Bar(\n",
    "            x=neg_counts.index,\n",
    "            y=neg_counts.values,\n",
    "            name=\"Negotiation Results\",\n",
    "            marker_color=COLORS['secondary']\n",
    "        ),\n",
    "        row=2, col=2\n",
    "    )\n",
    "\n",
    "fig.update_layout(\n",
    "    height=800,\n",
    "    title_text=\"Financial Performance Dashboard\",\n",
    "    showlegend=False\n",
    ")\n",
    "\n",
    "fig.show()"
   ]
  },
  {
   "cell_type": "markdown",
   "metadata": {},
   "source": [
    "## 3. Supplier Performance KPIs"
   ]
  },
  {
   "cell_type": "code",
   "execution_count": 5,
   "metadata": {},
   "outputs": [
    {
     "name": "stdout",
     "output_type": "stream",
     "text": [
      "Calculating Supplier Performance KPIs:\n",
      "==================================================\n",
      "KEY SUPPLIER PERFORMANCE INDICATORS:\n",
      "==================================================\n",
      "Total Active Suppliers: 5\n",
      "Average Lead Time: 10.8 days\n",
      "On-Time Delivery Rate: 60.7%\n",
      "Top Supplier Concentration: 21.7%\n",
      "Top 5 Suppliers Concentration: 100.0%\n",
      "Average Supplier Score: 51.4/100\n",
      "Fast Delivery Rate (≤7 days): 29.5%\n"
     ]
    }
   ],
   "source": [
    "# Calculate supplier performance KPIs\n",
    "def calculate_supplier_kpis(df: pd.DataFrame) -> Dict[str, Any]:\n",
    "    \"\"\"\n",
    "    Calculate key supplier performance indicators.\n",
    "    \"\"\"\n",
    "    print(\"Calculating Supplier Performance KPIs:\")\n",
    "    print(\"=\" * 50)\n",
    "    \n",
    "    kpis = {}\n",
    "    \n",
    "    # Basic supplier metrics\n",
    "    kpis['total_suppliers'] = df['Supplier'].nunique()\n",
    "    kpis['average_orders_per_supplier'] = len(df) / kpis['total_suppliers']\n",
    "    \n",
    "    # Lead time performance\n",
    "    kpis['average_lead_time'] = df['lead_time_days'].mean()\n",
    "    kpis['median_lead_time'] = df['lead_time_days'].median()\n",
    "    kpis['lead_time_std'] = df['lead_time_days'].std()\n",
    "    \n",
    "    # On-time delivery (assuming orders with lead time <= 14 days are on-time)\n",
    "    on_time_orders = (df['lead_time_days'] <= 14).sum()\n",
    "    kpis['on_time_delivery_rate'] = (on_time_orders / len(df) * 100)\n",
    "    \n",
    "    # Fast delivery rate\n",
    "    if 'is_fast_delivery' in df.columns:\n",
    "        kpis['fast_delivery_rate'] = (df['is_fast_delivery'].sum() / len(df) * 100)\n",
    "    \n",
    "    # Supplier tier distribution\n",
    "    if 'supplier_tier' in df.columns:\n",
    "        tier_distribution = df['supplier_tier'].value_counts(normalize=True) * 100\n",
    "        kpis['excellent_suppliers_pct'] = tier_distribution.get('Excellent', 0)\n",
    "        kpis['good_suppliers_pct'] = tier_distribution.get('Good', 0)\n",
    "        kpis['poor_suppliers_pct'] = tier_distribution.get('Poor', 0)\n",
    "    \n",
    "    # Supplier concentration risk\n",
    "    supplier_spend = df.groupby('Supplier')['total_negotiated_value'].sum().sort_values(ascending=False)\n",
    "    total_spend = supplier_spend.sum()\n",
    "    \n",
    "    kpis['top_supplier_concentration'] = (supplier_spend.iloc[0] / total_spend * 100)\n",
    "    kpis['top_5_supplier_concentration'] = (supplier_spend.head(5).sum() / total_spend * 100)\n",
    "    \n",
    "    # Supplier performance scores\n",
    "    if 'supplier_overall_score' in df.columns:\n",
    "        supplier_scores = df.groupby('Supplier')['supplier_overall_score'].first()\n",
    "        kpis['average_supplier_score'] = supplier_scores.mean()\n",
    "        kpis['supplier_score_std'] = supplier_scores.std()\n",
    "    \n",
    "    return kpis\n",
    "\n",
    "# Calculate supplier KPIs\n",
    "supplier_kpis = calculate_supplier_kpis(df)\n",
    "\n",
    "# Display key supplier metrics\n",
    "print(\"KEY SUPPLIER PERFORMANCE INDICATORS:\")\n",
    "print(\"=\" * 50)\n",
    "print(f\"Total Active Suppliers: {supplier_kpis['total_suppliers']}\")\n",
    "print(f\"Average Lead Time: {supplier_kpis['average_lead_time']:.1f} days\")\n",
    "print(f\"On-Time Delivery Rate: {supplier_kpis['on_time_delivery_rate']:.1f}%\")\n",
    "print(f\"Top Supplier Concentration: {supplier_kpis['top_supplier_concentration']:.1f}%\")\n",
    "print(f\"Top 5 Suppliers Concentration: {supplier_kpis['top_5_supplier_concentration']:.1f}%\")\n",
    "\n",
    "if 'average_supplier_score' in supplier_kpis:\n",
    "    print(f\"Average Supplier Score: {supplier_kpis['average_supplier_score']:.1f}/100\")\n",
    "\n",
    "if 'fast_delivery_rate' in supplier_kpis:\n",
    "    print(f\"Fast Delivery Rate (≤7 days): {supplier_kpis['fast_delivery_rate']:.1f}%\")"
   ]
  },
  {
   "cell_type": "code",
   "execution_count": 6,
   "metadata": {},
   "outputs": [
    {
     "data": {
      "application/vnd.plotly.v1+json": {
       "config": {
        "plotlyServerURL": "https://plot.ly"
       },
       "data": [
        {
         "marker": {
          "color": "#2E86AB"
         },
         "name": "Lead Time",
         "nbinsx": 25,
         "type": "histogram",
         "x": {
          "bdata": "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",
          "dtype": "f8"
         },
         "xaxis": "x",
         "yaxis": "y"
        },
        {
         "marker": {
          "color": "#F18F01"
         },
         "name": "Spend",
         "orientation": "h",
         "type": "bar",
         "x": {
          "bdata": "zczMPM3NYkEfheuBIspiQXE9Cg/inWFB7FG4NlJhYEEAAAAQ+OddQQ==",
          "dtype": "f8"
         },
         "xaxis": "x2",
         "y": [
          "Beta_Supplies",
          "Epsilon_Group",
          "Delta_Logistics",
          "Gamma_Co",
          "Alpha_Inc"
         ],
         "yaxis": "y2"
        },
        {
         "domain": {
          "x": [
           0,
           0.45
          ],
          "y": [
           0,
           0.375
          ]
         },
         "labels": [
          "Poor",
          "Average",
          "Good"
         ],
         "name": "Supplier Tiers",
         "type": "pie",
         "values": {
          "bdata": "7QGPAI0A",
          "dtype": "i2"
         }
        },
        {
         "marker": {
          "color": "#A23B72"
         },
         "name": "Delivery Categories",
         "type": "bar",
         "x": [
          "Standard",
          "Express",
          "Extended"
         ],
         "xaxis": "x3",
         "y": {
          "bdata": "8wDlANoA",
          "dtype": "i2"
         },
         "yaxis": "y3"
        }
       ],
       "layout": {
        "annotations": [
         {
          "font": {
           "size": 16
          },
          "showarrow": false,
          "text": "Lead Time Distribution",
          "x": 0.225,
          "xanchor": "center",
          "xref": "paper",
          "y": 1,
          "yanchor": "bottom",
          "yref": "paper"
         },
         {
          "font": {
           "size": 16
          },
          "showarrow": false,
          "text": "Top 10 Suppliers by Spend",
          "x": 0.775,
          "xanchor": "center",
          "xref": "paper",
          "y": 1,
          "yanchor": "bottom",
          "yref": "paper"
         },
         {
          "font": {
           "size": 16
          },
          "showarrow": false,
          "text": "Supplier Tier Distribution",
          "x": 0.225,
          "xanchor": "center",
          "xref": "paper",
          "y": 0.375,
          "yanchor": "bottom",
          "yref": "paper"
         },
         {
          "font": {
           "size": 16
          },
          "showarrow": false,
          "text": "Delivery Performance Categories",
          "x": 0.775,
          "xanchor": "center",
          "xref": "paper",
          "y": 0.375,
          "yanchor": "bottom",
          "yref": "paper"
         }
        ],
        "height": 800,
        "showlegend": false,
        "template": {
         "data": {
          "bar": [
           {
            "error_x": {
             "color": "#2a3f5f"
            },
            "error_y": {
             "color": "#2a3f5f"
            },
            "marker": {
             "line": {
              "color": "#E5ECF6",
              "width": 0.5
             },
             "pattern": {
              "fillmode": "overlay",
              "size": 10,
              "solidity": 0.2
             }
            },
            "type": "bar"
           }
          ],
          "barpolar": [
           {
            "marker": {
             "line": {
              "color": "#E5ECF6",
              "width": 0.5
             },
             "pattern": {
              "fillmode": "overlay",
              "size": 10,
              "solidity": 0.2
             }
            },
            "type": "barpolar"
           }
          ],
          "carpet": [
           {
            "aaxis": {
             "endlinecolor": "#2a3f5f",
             "gridcolor": "white",
             "linecolor": "white",
             "minorgridcolor": "white",
             "startlinecolor": "#2a3f5f"
            },
            "baxis": {
             "endlinecolor": "#2a3f5f",
             "gridcolor": "white",
             "linecolor": "white",
             "minorgridcolor": "white",
             "startlinecolor": "#2a3f5f"
            },
            "type": "carpet"
           }
          ],
          "choropleth": [
           {
            "colorbar": {
             "outlinewidth": 0,
             "ticks": ""
            },
            "type": "choropleth"
           }
          ],
          "contour": [
           {
            "colorbar": {
             "outlinewidth": 0,
             "ticks": ""
            },
            "colorscale": [
             [
              0,
              "#0d0887"
             ],
             [
              0.1111111111111111,
              "#46039f"
             ],
             [
              0.2222222222222222,
              "#7201a8"
             ],
             [
              0.3333333333333333,
              "#9c179e"
             ],
             [
              0.4444444444444444,
              "#bd3786"
             ],
             [
              0.5555555555555556,
              "#d8576b"
             ],
             [
              0.6666666666666666,
              "#ed7953"
             ],
             [
              0.7777777777777778,
              "#fb9f3a"
             ],
             [
              0.8888888888888888,
              "#fdca26"
             ],
             [
              1,
              "#f0f921"
             ]
            ],
            "type": "contour"
           }
          ],
          "contourcarpet": [
           {
            "colorbar": {
             "outlinewidth": 0,
             "ticks": ""
            },
            "type": "contourcarpet"
           }
          ],
          "heatmap": [
           {
            "colorbar": {
             "outlinewidth": 0,
             "ticks": ""
            },
            "colorscale": [
             [
              0,
              "#0d0887"
             ],
             [
              0.1111111111111111,
              "#46039f"
             ],
             [
              0.2222222222222222,
              "#7201a8"
             ],
             [
              0.3333333333333333,
              "#9c179e"
             ],
             [
              0.4444444444444444,
              "#bd3786"
             ],
             [
              0.5555555555555556,
              "#d8576b"
             ],
             [
              0.6666666666666666,
              "#ed7953"
             ],
             [
              0.7777777777777778,
              "#fb9f3a"
             ],
             [
              0.8888888888888888,
              "#fdca26"
             ],
             [
              1,
              "#f0f921"
             ]
            ],
            "type": "heatmap"
           }
          ],
          "histogram": [
           {
            "marker": {
             "pattern": {
              "fillmode": "overlay",
              "size": 10,
              "solidity": 0.2
             }
            },
            "type": "histogram"
           }
          ],
          "histogram2d": [
           {
            "colorbar": {
             "outlinewidth": 0,
             "ticks": ""
            },
            "colorscale": [
             [
              0,
              "#0d0887"
             ],
             [
              0.1111111111111111,
              "#46039f"
             ],
             [
              0.2222222222222222,
              "#7201a8"
             ],
             [
              0.3333333333333333,
              "#9c179e"
             ],
             [
              0.4444444444444444,
              "#bd3786"
             ],
             [
              0.5555555555555556,
              "#d8576b"
             ],
             [
              0.6666666666666666,
              "#ed7953"
             ],
             [
              0.7777777777777778,
              "#fb9f3a"
             ],
             [
              0.8888888888888888,
              "#fdca26"
             ],
             [
              1,
              "#f0f921"
             ]
            ],
            "type": "histogram2d"
           }
          ],
          "histogram2dcontour": [
           {
            "colorbar": {
             "outlinewidth": 0,
             "ticks": ""
            },
            "colorscale": [
             [
              0,
              "#0d0887"
             ],
             [
              0.1111111111111111,
              "#46039f"
             ],
             [
              0.2222222222222222,
              "#7201a8"
             ],
             [
              0.3333333333333333,
              "#9c179e"
             ],
             [
              0.4444444444444444,
              "#bd3786"
             ],
             [
              0.5555555555555556,
              "#d8576b"
             ],
             [
              0.6666666666666666,
              "#ed7953"
             ],
             [
              0.7777777777777778,
              "#fb9f3a"
             ],
             [
              0.8888888888888888,
              "#fdca26"
             ],
             [
              1,
              "#f0f921"
             ]
            ],
            "type": "histogram2dcontour"
           }
          ],
          "mesh3d": [
           {
            "colorbar": {
             "outlinewidth": 0,
             "ticks": ""
            },
            "type": "mesh3d"
           }
          ],
          "parcoords": [
           {
            "line": {
             "colorbar": {
              "outlinewidth": 0,
              "ticks": ""
             }
            },
            "type": "parcoords"
           }
          ],
          "pie": [
           {
            "automargin": true,
            "type": "pie"
           }
          ],
          "scatter": [
           {
            "fillpattern": {
             "fillmode": "overlay",
             "size": 10,
             "solidity": 0.2
            },
            "type": "scatter"
           }
          ],
          "scatter3d": [
           {
            "line": {
             "colorbar": {
              "outlinewidth": 0,
              "ticks": ""
             }
            },
            "marker": {
             "colorbar": {
              "outlinewidth": 0,
              "ticks": ""
             }
            },
            "type": "scatter3d"
           }
          ],
          "scattercarpet": [
           {
            "marker": {
             "colorbar": {
              "outlinewidth": 0,
              "ticks": ""
             }
            },
            "type": "scattercarpet"
           }
          ],
          "scattergeo": [
           {
            "marker": {
             "colorbar": {
              "outlinewidth": 0,
              "ticks": ""
             }
            },
            "type": "scattergeo"
           }
          ],
          "scattergl": [
           {
            "marker": {
             "colorbar": {
              "outlinewidth": 0,
              "ticks": ""
             }
            },
            "type": "scattergl"
           }
          ],
          "scattermap": [
           {
            "marker": {
             "colorbar": {
              "outlinewidth": 0,
              "ticks": ""
             }
            },
            "type": "scattermap"
           }
          ],
          "scattermapbox": [
           {
            "marker": {
             "colorbar": {
              "outlinewidth": 0,
              "ticks": ""
             }
            },
            "type": "scattermapbox"
           }
          ],
          "scatterpolar": [
           {
            "marker": {
             "colorbar": {
              "outlinewidth": 0,
              "ticks": ""
             }
            },
            "type": "scatterpolar"
           }
          ],
          "scatterpolargl": [
           {
            "marker": {
             "colorbar": {
              "outlinewidth": 0,
              "ticks": ""
             }
            },
            "type": "scatterpolargl"
           }
          ],
          "scatterternary": [
           {
            "marker": {
             "colorbar": {
              "outlinewidth": 0,
              "ticks": ""
             }
            },
            "type": "scatterternary"
           }
          ],
          "surface": [
           {
            "colorbar": {
             "outlinewidth": 0,
             "ticks": ""
            },
            "colorscale": [
             [
              0,
              "#0d0887"
             ],
             [
              0.1111111111111111,
              "#46039f"
             ],
             [
              0.2222222222222222,
              "#7201a8"
             ],
             [
              0.3333333333333333,
              "#9c179e"
             ],
             [
              0.4444444444444444,
              "#bd3786"
             ],
             [
              0.5555555555555556,
              "#d8576b"
             ],
             [
              0.6666666666666666,
              "#ed7953"
             ],
             [
              0.7777777777777778,
              "#fb9f3a"
             ],
             [
              0.8888888888888888,
              "#fdca26"
             ],
             [
              1,
              "#f0f921"
             ]
            ],
            "type": "surface"
           }
          ],
          "table": [
           {
            "cells": {
             "fill": {
              "color": "#EBF0F8"
             },
             "line": {
              "color": "white"
             }
            },
            "header": {
             "fill": {
              "color": "#C8D4E3"
             },
             "line": {
              "color": "white"
             }
            },
            "type": "table"
           }
          ]
         },
         "layout": {
          "annotationdefaults": {
           "arrowcolor": "#2a3f5f",
           "arrowhead": 0,
           "arrowwidth": 1
          },
          "autotypenumbers": "strict",
          "coloraxis": {
           "colorbar": {
            "outlinewidth": 0,
            "ticks": ""
           }
          },
          "colorscale": {
           "diverging": [
            [
             0,
             "#8e0152"
            ],
            [
             0.1,
             "#c51b7d"
            ],
            [
             0.2,
             "#de77ae"
            ],
            [
             0.3,
             "#f1b6da"
            ],
            [
             0.4,
             "#fde0ef"
            ],
            [
             0.5,
             "#f7f7f7"
            ],
            [
             0.6,
             "#e6f5d0"
            ],
            [
             0.7,
             "#b8e186"
            ],
            [
             0.8,
             "#7fbc41"
            ],
            [
             0.9,
             "#4d9221"
            ],
            [
             1,
             "#276419"
            ]
           ],
           "sequential": [
            [
             0,
             "#0d0887"
            ],
            [
             0.1111111111111111,
             "#46039f"
            ],
            [
             0.2222222222222222,
             "#7201a8"
            ],
            [
             0.3333333333333333,
             "#9c179e"
            ],
            [
             0.4444444444444444,
             "#bd3786"
            ],
            [
             0.5555555555555556,
             "#d8576b"
            ],
            [
             0.6666666666666666,
             "#ed7953"
            ],
            [
             0.7777777777777778,
             "#fb9f3a"
            ],
            [
             0.8888888888888888,
             "#fdca26"
            ],
            [
             1,
             "#f0f921"
            ]
           ],
           "sequentialminus": [
            [
             0,
             "#0d0887"
            ],
            [
             0.1111111111111111,
             "#46039f"
            ],
            [
             0.2222222222222222,
             "#7201a8"
            ],
            [
             0.3333333333333333,
             "#9c179e"
            ],
            [
             0.4444444444444444,
             "#bd3786"
            ],
            [
             0.5555555555555556,
             "#d8576b"
            ],
            [
             0.6666666666666666,
             "#ed7953"
            ],
            [
             0.7777777777777778,
             "#fb9f3a"
            ],
            [
             0.8888888888888888,
             "#fdca26"
            ],
            [
             1,
             "#f0f921"
            ]
           ]
          },
          "colorway": [
           "#636efa",
           "#EF553B",
           "#00cc96",
           "#ab63fa",
           "#FFA15A",
           "#19d3f3",
           "#FF6692",
           "#B6E880",
           "#FF97FF",
           "#FECB52"
          ],
          "font": {
           "color": "#2a3f5f"
          },
          "geo": {
           "bgcolor": "white",
           "lakecolor": "white",
           "landcolor": "#E5ECF6",
           "showlakes": true,
           "showland": true,
           "subunitcolor": "white"
          },
          "hoverlabel": {
           "align": "left"
          },
          "hovermode": "closest",
          "mapbox": {
           "style": "light"
          },
          "paper_bgcolor": "white",
          "plot_bgcolor": "#E5ECF6",
          "polar": {
           "angularaxis": {
            "gridcolor": "white",
            "linecolor": "white",
            "ticks": ""
           },
           "bgcolor": "#E5ECF6",
           "radialaxis": {
            "gridcolor": "white",
            "linecolor": "white",
            "ticks": ""
           }
          },
          "scene": {
           "xaxis": {
            "backgroundcolor": "#E5ECF6",
            "gridcolor": "white",
            "gridwidth": 2,
            "linecolor": "white",
            "showbackground": true,
            "ticks": "",
            "zerolinecolor": "white"
           },
           "yaxis": {
            "backgroundcolor": "#E5ECF6",
            "gridcolor": "white",
            "gridwidth": 2,
            "linecolor": "white",
            "showbackground": true,
            "ticks": "",
            "zerolinecolor": "white"
           },
           "zaxis": {
            "backgroundcolor": "#E5ECF6",
            "gridcolor": "white",
            "gridwidth": 2,
            "linecolor": "white",
            "showbackground": true,
            "ticks": "",
            "zerolinecolor": "white"
           }
          },
          "shapedefaults": {
           "line": {
            "color": "#2a3f5f"
           }
          },
          "ternary": {
           "aaxis": {
            "gridcolor": "white",
            "linecolor": "white",
            "ticks": ""
           },
           "baxis": {
            "gridcolor": "white",
            "linecolor": "white",
            "ticks": ""
           },
           "bgcolor": "#E5ECF6",
           "caxis": {
            "gridcolor": "white",
            "linecolor": "white",
            "ticks": ""
           }
          },
          "title": {
           "x": 0.05
          },
          "xaxis": {
           "automargin": true,
           "gridcolor": "white",
           "linecolor": "white",
           "ticks": "",
           "title": {
            "standoff": 15
           },
           "zerolinecolor": "white",
           "zerolinewidth": 2
          },
          "yaxis": {
           "automargin": true,
           "gridcolor": "white",
           "linecolor": "white",
           "ticks": "",
           "title": {
            "standoff": 15
           },
           "zerolinecolor": "white",
           "zerolinewidth": 2
          }
         }
        },
        "title": {
         "text": "Supplier Performance Dashboard"
        },
        "xaxis": {
         "anchor": "y",
         "domain": [
          0,
          0.45
         ]
        },
        "xaxis2": {
         "anchor": "y2",
         "domain": [
          0.55,
          1
         ]
        },
        "xaxis3": {
         "anchor": "y3",
         "domain": [
          0.55,
          1
         ]
        },
        "yaxis": {
         "anchor": "x",
         "domain": [
          0.625,
          1
         ]
        },
        "yaxis2": {
         "anchor": "x2",
         "domain": [
          0.625,
          1
         ]
        },
        "yaxis3": {
         "anchor": "x3",
         "domain": [
          0,
          0.375
         ]
        }
       }
      },
      "image/png": "[encoded data removed]"
     },
     "metadata": {},
     "output_type": "display_data"
    }
   ],
   "source": [
    "# Create supplier performance dashboard\n",
    "fig = make_subplots(\n",
    "    rows=2, cols=2,\n",
    "    subplot_titles=(\n",
    "        'Lead Time Distribution',\n",
    "        'Top 10 Suppliers by Spend',\n",
    "        'Supplier Tier Distribution',\n",
    "        'Delivery Performance Categories'\n",
    "    ),\n",
    "    specs=[[{\"type\": \"histogram\"}, {\"type\": \"bar\"}],\n",
    "           [{\"type\": \"pie\"}, {\"type\": \"bar\"}]]\n",
    ")\n",
    "\n",
    "# 1. Lead time distribution\n",
    "fig.add_trace(\n",
    "    go.Histogram(\n",
    "        x=df['lead_time_days'],\n",
    "        nbinsx=25,\n",
    "        name='Lead Time',\n",
    "        marker_color=COLORS['primary']\n",
    "    ),\n",
    "    row=1, col=1\n",
    ")\n",
    "\n",
    "# 2. Top suppliers by spend\n",
    "top_suppliers = df.groupby('Supplier')['total_negotiated_value'].sum().nlargest(10)\n",
    "fig.add_trace(\n",
    "    go.Bar(\n",
    "        x=top_suppliers.values,\n",
    "        y=top_suppliers.index,\n",
    "        orientation='h',\n",
    "        name='Spend',\n",
    "        marker_color=COLORS['success']\n",
    "    ),\n",
    "    row=1, col=2\n",
    ")\n",
    "\n",
    "# 3. Supplier tier distribution\n",
    "if 'supplier_tier' in df.columns:\n",
    "    tier_counts = df['supplier_tier'].value_counts()\n",
    "    fig.add_trace(\n",
    "        go.Pie(\n",
    "            labels=tier_counts.index,\n",
    "            values=tier_counts.values,\n",
    "            name=\"Supplier Tiers\"\n",
    "        ),\n",
    "        row=2, col=1\n",
    "    )\n",
    "\n",
    "# 4. Delivery performance categories\n",
    "if 'lead_time_category' in df.columns:\n",
    "    delivery_counts = df['lead_time_category'].value_counts()\n",
    "    fig.add_trace(\n",
    "        go.Bar(\n",
    "            x=delivery_counts.index,\n",
    "            y=delivery_counts.values,\n",
    "            name=\"Delivery Categories\",\n",
    "            marker_color=COLORS['secondary']\n",
    "        ),\n",
    "        row=2, col=2\n",
    "    )\n",
    "\n",
    "fig.update_layout(\n",
    "    height=800,\n",
    "    title_text=\"Supplier Performance Dashboard\",\n",
    "    showlegend=False\n",
    ")\n",
    "\n",
    "fig.show()"
   ]
  },
  {
   "cell_type": "markdown",
   "metadata": {},
   "source": [
    "## 4. Quality and Compliance KPIs"
   ]
  },
  {
   "cell_type": "code",
   "execution_count": 7,
   "metadata": {},
   "outputs": [
    {
     "name": "stdout",
     "output_type": "stream",
     "text": [
      "Calculating Quality and Compliance KPIs:\n",
      "==================================================\n",
      "KEY QUALITY AND COMPLIANCE INDICATORS:\n",
      "==================================================\n",
      "Overall Defect Rate: 5.78%\n",
      "Defective Units Rate: 5.64%\n",
      "Perfect Order Rate: 18.0%\n",
      "Compliance Rate: 0.0%\n",
      "Non-Compliance Rate: 0.0%\n",
      "Total Defective Units: 47,949\n"
     ]
    }
   ],
   "source": [
    "# Calculate quality and compliance KPIs\n",
    "def calculate_quality_kpis(df: pd.DataFrame) -> Dict[str, Any]:\n",
    "    \"\"\"\n",
    "    Calculate key quality and compliance indicators.\n",
    "    \"\"\"\n",
    "    print(\"Calculating Quality and Compliance KPIs:\")\n",
    "    print(\"=\" * 50)\n",
    "    \n",
    "    kpis = {}\n",
    "    \n",
    "    # Quality metrics\n",
    "    kpis['overall_defect_rate'] = df['defect_rate'].mean()\n",
    "    kpis['median_defect_rate'] = df['defect_rate'].median()\n",
    "    kpis['defect_rate_std'] = df['defect_rate'].std()\n",
    "    \n",
    "    # Perfect orders\n",
    "    if 'is_perfect_order' in df.columns:\n",
    "        perfect_orders = df['is_perfect_order'].sum()\n",
    "        kpis['perfect_order_rate'] = (perfect_orders / len(df) * 100)\n",
    "    \n",
    "    # Quality severity distribution\n",
    "    if 'defect_severity' in df.columns:\n",
    "        severity_dist = df['defect_severity'].value_counts(normalize=True) * 100\n",
    "        kpis['excellent_quality_pct'] = severity_dist.get('Excellent', 0)\n",
    "        kpis['critical_quality_pct'] = severity_dist.get('Critical', 0)\n",
    "    \n",
    "    # Compliance metrics\n",
    "    if 'Compliance' in df.columns:\n",
    "        compliant_orders = (df['Compliance'] == 'Compliant').sum()\n",
    "        kpis['compliance_rate'] = (compliant_orders / len(df) * 100)\n",
    "        \n",
    "        non_compliant_orders = (df['Compliance'] == 'Non-Compliant').sum()\n",
    "        kpis['non_compliance_rate'] = (non_compliant_orders / len(df) * 100)\n",
    "    \n",
    "    # Cost of quality (defective units cost impact)\n",
    "    total_defective_units = df['Defective_Units'].sum()\n",
    "    total_units = df['Quantity'].sum()\n",
    "    kpis['total_defective_units'] = total_defective_units\n",
    "    kpis['defective_units_rate'] = (total_defective_units / total_units * 100)\n",
    "    \n",
    "    # Quality cost impact\n",
    "    if 'defect_cost_impact' in df.columns:\n",
    "        kpis['total_quality_cost_impact'] = df['defect_cost_impact'].sum()\n",
    "        kpis['quality_cost_percentage'] = (kpis['total_quality_cost_impact'] / df['total_negotiated_value'].sum() * 100)\n",
    "    \n",
    "    return kpis\n",
    "\n",
    "# Calculate quality KPIs\n",
    "quality_kpis = calculate_quality_kpis(df)\n",
    "\n",
    "# Display key quality metrics\n",
    "print(\"KEY QUALITY AND COMPLIANCE INDICATORS:\")\n",
    "print(\"=\" * 50)\n",
    "print(f\"Overall Defect Rate: {quality_kpis['overall_defect_rate']:.2f}%\")\n",
    "print(f\"Defective Units Rate: {quality_kpis['defective_units_rate']:.2f}%\")\n",
    "\n",
    "if 'perfect_order_rate' in quality_kpis:\n",
    "    print(f\"Perfect Order Rate: {quality_kpis['perfect_order_rate']:.1f}%\")\n",
    "\n",
    "if 'compliance_rate' in quality_kpis:\n",
    "    print(f\"Compliance Rate: {quality_kpis['compliance_rate']:.1f}%\")\n",
    "    print(f\"Non-Compliance Rate: {quality_kpis['non_compliance_rate']:.1f}%\")\n",
    "\n",
    "if 'total_quality_cost_impact' in quality_kpis:\n",
    "    print(f\"Total Quality Cost Impact: ${quality_kpis['total_quality_cost_impact']:,.2f}\")\n",
    "    print(f\"Quality Cost as % of Spend: {quality_kpis['quality_cost_percentage']:.2f}%\")\n",
    "\n",
    "print(f\"Total Defective Units: {quality_kpis['total_defective_units']:,.0f}\")"
   ]
  },
  {
   "cell_type": "code",
   "execution_count": 8,
   "metadata": {},
   "outputs": [
    {
     "data": {
      "application/vnd.plotly.v1+json": {
       "config": {
        "plotlyServerURL": "https://plot.ly"
       },
       "data": [
        {
         "marker": {
          "color": "#C73E1D"
         },
         "name": "Defect Rate",
         "nbinsx": 20,
         "type": "histogram",
         "x": {
          "bdata": "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",
          "dtype": "f8"
         },
         "xaxis": "x",
         "yaxis": "y"
        },
        {
         "domain": {
          "x": [
           0.55,
           1
          ],
          "y": [
           0.625,
           1
          ]
         },
         "labels": [
          "Good",
          "Critical",
          "Poor",
          "Excellent"
         ],
         "name": "Quality Severity",
         "type": "pie",
         "values": {
          "bdata": "MAG3AJEABQA=",
          "dtype": "i2"
         }
        },
        {
         "domain": {
          "x": [
           0,
           0.45
          ],
          "y": [
           0,
           0.375
          ]
         },
         "labels": [
          "Yes",
          "No"
         ],
         "name": "Compliance Status",
         "type": "pie",
         "values": {
          "bdata": "gAKJAA==",
          "dtype": "i2"
         }
        },
        {
         "marker": {
          "color": "#7209B7"
         },
         "name": "Defect Rate by Category",
         "orientation": "h",
         "type": "bar",
         "x": {
          "bdata": "AH+3l4mRGUDMF2/0DhcZQJbeGXCQPBdAH4TvQfheFUDK/afVLDYUQA==",
          "dtype": "f8"
         },
         "xaxis": "x2",
         "y": [
          "Office Supplies",
          "Raw Materials",
          "Electronics",
          "MRO",
          "Packaging"
         ],
         "yaxis": "y2"
        }
       ],
       "layout": {
        "annotations": [
         {
          "font": {
           "size": 16
          },
          "showarrow": false,
          "text": "Defect Rate Distribution",
          "x": 0.225,
          "xanchor": "center",
          "xref": "paper",
          "y": 1,
          "yanchor": "bottom",
          "yref": "paper"
         },
         {
          "font": {
           "size": 16
          },
          "showarrow": false,
          "text": "Quality Severity Categories",
          "x": 0.775,
          "xanchor": "center",
          "xref": "paper",
          "y": 1,
          "yanchor": "bottom",
          "yref": "paper"
         },
         {
          "font": {
           "size": 16
          },
          "showarrow": false,
          "text": "Compliance Status",
          "x": 0.225,
          "xanchor": "center",
          "xref": "paper",
          "y": 0.375,
          "yanchor": "bottom",
          "yref": "paper"
         },
         {
          "font": {
           "size": 16
          },
          "showarrow": false,
          "text": "Quality Trends by Category",
          "x": 0.775,
          "xanchor": "center",
          "xref": "paper",
          "y": 0.375,
          "yanchor": "bottom",
          "yref": "paper"
         }
        ],
        "height": 800,
        "showlegend": false,
        "template": {
         "data": {
          "bar": [
           {
            "error_x": {
             "color": "#2a3f5f"
            },
            "error_y": {
             "color": "#2a3f5f"
            },
            "marker": {
             "line": {
              "color": "#E5ECF6",
              "width": 0.5
             },
             "pattern": {
              "fillmode": "overlay",
              "size": 10,
              "solidity": 0.2
             }
            },
            "type": "bar"
           }
          ],
          "barpolar": [
           {
            "marker": {
             "line": {
              "color": "#E5ECF6",
              "width": 0.5
             },
             "pattern": {
              "fillmode": "overlay",
              "size": 10,
              "solidity": 0.2
             }
            },
            "type": "barpolar"
           }
          ],
          "carpet": [
           {
            "aaxis": {
             "endlinecolor": "#2a3f5f",
             "gridcolor": "white",
             "linecolor": "white",
             "minorgridcolor": "white",
             "startlinecolor": "#2a3f5f"
            },
            "baxis": {
             "endlinecolor": "#2a3f5f",
             "gridcolor": "white",
             "linecolor": "white",
             "minorgridcolor": "white",
             "startlinecolor": "#2a3f5f"
            },
            "type": "carpet"
           }
          ],
          "choropleth": [
           {
            "colorbar": {
             "outlinewidth": 0,
             "ticks": ""
            },
            "type": "choropleth"
           }
          ],
          "contour": [
           {
            "colorbar": {
             "outlinewidth": 0,
             "ticks": ""
            },
            "colorscale": [
             [
              0,
              "#0d0887"
             ],
             [
              0.1111111111111111,
              "#46039f"
             ],
             [
              0.2222222222222222,
              "#7201a8"
             ],
             [
              0.3333333333333333,
              "#9c179e"
             ],
             [
              0.4444444444444444,
              "#bd3786"
             ],
             [
              0.5555555555555556,
              "#d8576b"
             ],
             [
              0.6666666666666666,
              "#ed7953"
             ],
             [
              0.7777777777777778,
              "#fb9f3a"
             ],
             [
              0.8888888888888888,
              "#fdca26"
             ],
             [
              1,
              "#f0f921"
             ]
            ],
            "type": "contour"
           }
          ],
          "contourcarpet": [
           {
            "colorbar": {
             "outlinewidth": 0,
             "ticks": ""
            },
            "type": "contourcarpet"
           }
          ],
          "heatmap": [
           {
            "colorbar": {
             "outlinewidth": 0,
             "ticks": ""
            },
            "colorscale": [
             [
              0,
              "#0d0887"
             ],
             [
              0.1111111111111111,
              "#46039f"
             ],
             [
              0.2222222222222222,
              "#7201a8"
             ],
             [
              0.3333333333333333,
              "#9c179e"
             ],
             [
              0.4444444444444444,
              "#bd3786"
             ],
             [
              0.5555555555555556,
              "#d8576b"
             ],
             [
              0.6666666666666666,
              "#ed7953"
             ],
             [
              0.7777777777777778,
              "#fb9f3a"
             ],
             [
              0.8888888888888888,
              "#fdca26"
             ],
             [
              1,
              "#f0f921"
             ]
            ],
            "type": "heatmap"
           }
          ],
          "histogram": [
           {
            "marker": {
             "pattern": {
              "fillmode": "overlay",
              "size": 10,
              "solidity": 0.2
             }
            },
            "type": "histogram"
           }
          ],
          "histogram2d": [
           {
            "colorbar": {
             "outlinewidth": 0,
             "ticks": ""
            },
            "colorscale": [
             [
              0,
              "#0d0887"
             ],
             [
              0.1111111111111111,
              "#46039f"
             ],
             [
              0.2222222222222222,
              "#7201a8"
             ],
             [
              0.3333333333333333,
              "#9c179e"
             ],
             [
              0.4444444444444444,
              "#bd3786"
             ],
             [
              0.5555555555555556,
              "#d8576b"
             ],
             [
              0.6666666666666666,
              "#ed7953"
             ],
             [
              0.7777777777777778,
              "#fb9f3a"
             ],
             [
              0.8888888888888888,
              "#fdca26"
             ],
             [
              1,
              "#f0f921"
             ]
            ],
            "type": "histogram2d"
           }
          ],
          "histogram2dcontour": [
           {
            "colorbar": {
             "outlinewidth": 0,
             "ticks": ""
            },
            "colorscale": [
             [
              0,
              "#0d0887"
             ],
             [
              0.1111111111111111,
              "#46039f"
             ],
             [
              0.2222222222222222,
              "#7201a8"
             ],
             [
              0.3333333333333333,
              "#9c179e"
             ],
             [
              0.4444444444444444,
              "#bd3786"
             ],
             [
              0.5555555555555556,
              "#d8576b"
             ],
             [
              0.6666666666666666,
              "#ed7953"
             ],
             [
              0.7777777777777778,
              "#fb9f3a"
             ],
             [
              0.8888888888888888,
              "#fdca26"
             ],
             [
              1,
              "#f0f921"
             ]
            ],
            "type": "histogram2dcontour"
           }
          ],
          "mesh3d": [
           {
            "colorbar": {
             "outlinewidth": 0,
             "ticks": ""
            },
            "type": "mesh3d"
           }
          ],
          "parcoords": [
           {
            "line": {
             "colorbar": {
              "outlinewidth": 0,
              "ticks": ""
             }
            },
            "type": "parcoords"
           }
          ],
          "pie": [
           {
            "automargin": true,
            "type": "pie"
           }
          ],
          "scatter": [
           {
            "fillpattern": {
             "fillmode": "overlay",
             "size": 10,
             "solidity": 0.2
            },
            "type": "scatter"
           }
          ],
          "scatter3d": [
           {
            "line": {
             "colorbar": {
              "outlinewidth": 0,
              "ticks": ""
             }
            },
            "marker": {
             "colorbar": {
              "outlinewidth": 0,
              "ticks": ""
             }
            },
            "type": "scatter3d"
           }
          ],
          "scattercarpet": [
           {
            "marker": {
             "colorbar": {
              "outlinewidth": 0,
              "ticks": ""
             }
            },
            "type": "scattercarpet"
           }
          ],
          "scattergeo": [
           {
            "marker": {
             "colorbar": {
              "outlinewidth": 0,
              "ticks": ""
             }
            },
            "type": "scattergeo"
           }
          ],
          "scattergl": [
           {
            "marker": {
             "colorbar": {
              "outlinewidth": 0,
              "ticks": ""
             }
            },
            "type": "scattergl"
           }
          ],
          "scattermap": [
           {
            "marker": {
             "colorbar": {
              "outlinewidth": 0,
              "ticks": ""
             }
            },
            "type": "scattermap"
           }
          ],
          "scattermapbox": [
           {
            "marker": {
             "colorbar": {
              "outlinewidth": 0,
              "ticks": ""
             }
            },
            "type": "scattermapbox"
           }
          ],
          "scatterpolar": [
           {
            "marker": {
             "colorbar": {
              "outlinewidth": 0,
              "ticks": ""
             }
            },
            "type": "scatterpolar"
           }
          ],
          "scatterpolargl": [
           {
            "marker": {
             "colorbar": {
              "outlinewidth": 0,
              "ticks": ""
             }
            },
            "type": "scatterpolargl"
           }
          ],
          "scatterternary": [
           {
            "marker": {
             "colorbar": {
              "outlinewidth": 0,
              "ticks": ""
             }
            },
            "type": "scatterternary"
           }
          ],
          "surface": [
           {
            "colorbar": {
             "outlinewidth": 0,
             "ticks": ""
            },
            "colorscale": [
             [
              0,
              "#0d0887"
             ],
             [
              0.1111111111111111,
              "#46039f"
             ],
             [
              0.2222222222222222,
              "#7201a8"
             ],
             [
              0.3333333333333333,
              "#9c179e"
             ],
             [
              0.4444444444444444,
              "#bd3786"
             ],
             [
              0.5555555555555556,
              "#d8576b"
             ],
             [
              0.6666666666666666,
              "#ed7953"
             ],
             [
              0.7777777777777778,
              "#fb9f3a"
             ],
             [
              0.8888888888888888,
              "#fdca26"
             ],
             [
              1,
              "#f0f921"
             ]
            ],
            "type": "surface"
           }
          ],
          "table": [
           {
            "cells": {
             "fill": {
              "color": "#EBF0F8"
             },
             "line": {
              "color": "white"
             }
            },
            "header": {
             "fill": {
              "color": "#C8D4E3"
             },
             "line": {
              "color": "white"
             }
            },
            "type": "table"
           }
          ]
         },
         "layout": {
          "annotationdefaults": {
           "arrowcolor": "#2a3f5f",
           "arrowhead": 0,
           "arrowwidth": 1
          },
          "autotypenumbers": "strict",
          "coloraxis": {
           "colorbar": {
            "outlinewidth": 0,
            "ticks": ""
           }
          },
          "colorscale": {
           "diverging": [
            [
             0,
             "#8e0152"
            ],
            [
             0.1,
             "#c51b7d"
            ],
            [
             0.2,
             "#de77ae"
            ],
            [
             0.3,
             "#f1b6da"
            ],
            [
             0.4,
             "#fde0ef"
            ],
            [
             0.5,
             "#f7f7f7"
            ],
            [
             0.6,
             "#e6f5d0"
            ],
            [
             0.7,
             "#b8e186"
            ],
            [
             0.8,
             "#7fbc41"
            ],
            [
             0.9,
             "#4d9221"
            ],
            [
             1,
             "#276419"
            ]
           ],
           "sequential": [
            [
             0,
             "#0d0887"
            ],
            [
             0.1111111111111111,
             "#46039f"
            ],
            [
             0.2222222222222222,
             "#7201a8"
            ],
            [
             0.3333333333333333,
             "#9c179e"
            ],
            [
             0.4444444444444444,
             "#bd3786"
            ],
            [
             0.5555555555555556,
             "#d8576b"
            ],
            [
             0.6666666666666666,
             "#ed7953"
            ],
            [
             0.7777777777777778,
             "#fb9f3a"
            ],
            [
             0.8888888888888888,
             "#fdca26"
            ],
            [
             1,
             "#f0f921"
            ]
           ],
           "sequentialminus": [
            [
             0,
             "#0d0887"
            ],
            [
             0.1111111111111111,
             "#46039f"
            ],
            [
             0.2222222222222222,
             "#7201a8"
            ],
            [
             0.3333333333333333,
             "#9c179e"
            ],
            [
             0.4444444444444444,
             "#bd3786"
            ],
            [
             0.5555555555555556,
             "#d8576b"
            ],
            [
             0.6666666666666666,
             "#ed7953"
            ],
            [
             0.7777777777777778,
             "#fb9f3a"
            ],
            [
             0.8888888888888888,
             "#fdca26"
            ],
            [
             1,
             "#f0f921"
            ]
           ]
          },
          "colorway": [
           "#636efa",
           "#EF553B",
           "#00cc96",
           "#ab63fa",
           "#FFA15A",
           "#19d3f3",
           "#FF6692",
           "#B6E880",
           "#FF97FF",
           "#FECB52"
          ],
          "font": {
           "color": "#2a3f5f"
          },
          "geo": {
           "bgcolor": "white",
           "lakecolor": "white",
           "landcolor": "#E5ECF6",
           "showlakes": true,
           "showland": true,
           "subunitcolor": "white"
          },
          "hoverlabel": {
           "align": "left"
          },
          "hovermode": "closest",
          "mapbox": {
           "style": "light"
          },
          "paper_bgcolor": "white",
          "plot_bgcolor": "#E5ECF6",
          "polar": {
           "angularaxis": {
            "gridcolor": "white",
            "linecolor": "white",
            "ticks": ""
           },
           "bgcolor": "#E5ECF6",
           "radialaxis": {
            "gridcolor": "white",
            "linecolor": "white",
            "ticks": ""
           }
          },
          "scene": {
           "xaxis": {
            "backgroundcolor": "#E5ECF6",
            "gridcolor": "white",
            "gridwidth": 2,
            "linecolor": "white",
            "showbackground": true,
            "ticks": "",
            "zerolinecolor": "white"
           },
           "yaxis": {
            "backgroundcolor": "#E5ECF6",
            "gridcolor": "white",
            "gridwidth": 2,
            "linecolor": "white",
            "showbackground": true,
            "ticks": "",
            "zerolinecolor": "white"
           },
           "zaxis": {
            "backgroundcolor": "#E5ECF6",
            "gridcolor": "white",
            "gridwidth": 2,
            "linecolor": "white",
            "showbackground": true,
            "ticks": "",
            "zerolinecolor": "white"
           }
          },
          "shapedefaults": {
           "line": {
            "color": "#2a3f5f"
           }
          },
          "ternary": {
           "aaxis": {
            "gridcolor": "white",
            "linecolor": "white",
            "ticks": ""
           },
           "baxis": {
            "gridcolor": "white",
            "linecolor": "white",
            "ticks": ""
           },
           "bgcolor": "#E5ECF6",
           "caxis": {
            "gridcolor": "white",
            "linecolor": "white",
            "ticks": ""
           }
          },
          "title": {
           "x": 0.05
          },
          "xaxis": {
           "automargin": true,
           "gridcolor": "white",
           "linecolor": "white",
           "ticks": "",
           "title": {
            "standoff": 15
           },
           "zerolinecolor": "white",
           "zerolinewidth": 2
          },
          "yaxis": {
           "automargin": true,
           "gridcolor": "white",
           "linecolor": "white",
           "ticks": "",
           "title": {
            "standoff": 15
           },
           "zerolinecolor": "white",
           "zerolinewidth": 2
          }
         }
        },
        "title": {
         "text": "Quality and Compliance Dashboard"
        },
        "xaxis": {
         "anchor": "y",
         "domain": [
          0,
          0.45
         ]
        },
        "xaxis2": {
         "anchor": "y2",
         "domain": [
          0.55,
          1
         ]
        },
        "yaxis": {
         "anchor": "x",
         "domain": [
          0.625,
          1
         ]
        },
        "yaxis2": {
         "anchor": "x2",
         "domain": [
          0,
          0.375
         ]
        }
       }
      },
      "image/png": "[encoded data removed]"
     },
     "metadata": {},
     "output_type": "display_data"
    }
   ],
   "source": [
    "# Create quality and compliance dashboard\n",
    "fig = make_subplots(\n",
    "    rows=2, cols=2,\n",
    "    subplot_titles=(\n",
    "        'Defect Rate Distribution',\n",
    "        'Quality Severity Categories',\n",
    "        'Compliance Status',\n",
    "        'Quality Trends by Category'\n",
    "    ),\n",
    "    specs=[[{\"type\": \"histogram\"}, {\"type\": \"pie\"}],\n",
    "           [{\"type\": \"pie\"}, {\"type\": \"bar\"}]]\n",
    ")\n",
    "\n",
    "# 1. Defect rate distribution\n",
    "fig.add_trace(\n",
    "    go.Histogram(\n",
    "        x=df['defect_rate'],\n",
    "        nbinsx=20,\n",
    "        name='Defect Rate',\n",
    "        marker_color=COLORS['warning']\n",
    "    ),\n",
    "    row=1, col=1\n",
    ")\n",
    "\n",
    "# 2. Quality severity categories\n",
    "if 'defect_severity' in df.columns:\n",
    "    severity_counts = df['defect_severity'].value_counts()\n",
    "    fig.add_trace(\n",
    "        go.Pie(\n",
    "            labels=severity_counts.index,\n",
    "            values=severity_counts.values,\n",
    "            name=\"Quality Severity\"\n",
    "        ),\n",
    "        row=1, col=2\n",
    "    )\n",
    "\n",
    "# 3. Compliance status\n",
    "if 'Compliance' in df.columns:\n",
    "    compliance_counts = df['Compliance'].value_counts()\n",
    "    fig.add_trace(\n",
    "        go.Pie(\n",
    "            labels=compliance_counts.index,\n",
    "            values=compliance_counts.values,\n",
    "            name=\"Compliance Status\"\n",
    "        ),\n",
    "        row=2, col=1\n",
    "    )\n",
    "\n",
    "# 4. Average defect rate by category\n",
    "category_quality = df.groupby('Item_Category')['defect_rate'].mean().sort_values(ascending=False).head(10)\n",
    "fig.add_trace(\n",
    "    go.Bar(\n",
    "        x=category_quality.values,\n",
    "        y=category_quality.index,\n",
    "        orientation='h',\n",
    "        name=\"Defect Rate by Category\",\n",
    "        marker_color=COLORS['neutral']\n",
    "    ),\n",
    "    row=2, col=2\n",
    ")\n",
    "\n",
    "fig.update_layout(\n",
    "    height=800,\n",
    "    title_text=\"Quality and Compliance Dashboard\",\n",
    "    showlegend=False\n",
    ")\n",
    "\n",
    "fig.show()"
   ]
  },
  {
   "cell_type": "markdown",
   "metadata": {},
   "source": [
    "## 5. Risk Assessment KPIs"
   ]
  },
  {
   "cell_type": "code",
   "execution_count": 9,
   "metadata": {},
   "outputs": [
    {
     "name": "stdout",
     "output_type": "stream",
     "text": [
      "Calculating Risk Assessment KPIs:\n",
      "==================================================\n",
      "KEY RISK ASSESSMENT INDICATORS:\n",
      "==================================================\n",
      "Average Risk Score: 0.46\n",
      "High Risk Orders: 18 (2.3%)\n",
      "Delivery Risk: 4.1%\n",
      "Quality Risk: 42.2%\n",
      "Compliance Risk: 0.0%\n",
      "High Dependency Suppliers (>20% spend): 3\n",
      "Top Category Concentration: 22.3%\n",
      "High-Value High-Risk Orders: 1\n"
     ]
    }
   ],
   "source": [
    "# Calculate risk assessment KPIs\n",
    "def calculate_risk_kpis(df: pd.DataFrame) -> Dict[str, Any]:\n",
    "    \"\"\"\n",
    "    Calculate key risk assessment indicators.\n",
    "    \"\"\"\n",
    "    print(\"Calculating Risk Assessment KPIs:\")\n",
    "    print(\"=\" * 50)\n",
    "    \n",
    "    kpis = {}\n",
    "    \n",
    "    # Overall risk distribution\n",
    "    if 'composite_risk_score' in df.columns:\n",
    "        kpis['average_risk_score'] = df['composite_risk_score'].mean()\n",
    "        kpis['high_risk_orders_count'] = (df['composite_risk_score'] >= 2).sum()\n",
    "        kpis['high_risk_orders_pct'] = (kpis['high_risk_orders_count'] / len(df) * 100)\n",
    "    \n",
    "    # Risk level distribution\n",
    "    if 'risk_level' in df.columns:\n",
    "        risk_dist = df['risk_level'].value_counts(normalize=True) * 100\n",
    "        kpis['low_risk_pct'] = risk_dist.get('Low', 0)\n",
    "        kpis['critical_risk_pct'] = risk_dist.get('Critical', 0)\n",
    "    \n",
    "    # Specific risk categories\n",
    "    risk_categories = ['delivery_risk', 'quality_risk', 'compliance_risk']\n",
    "    for risk_cat in risk_categories:\n",
    "        if risk_cat in df.columns:\n",
    "            risk_count = df[risk_cat].sum()\n",
    "            kpis[f'{risk_cat}_count'] = risk_count\n",
    "            kpis[f'{risk_cat}_pct'] = (risk_count / len(df) * 100)\n",
    "    \n",
    "    # Supplier dependency risk\n",
    "    supplier_spend = df.groupby('Supplier')['total_negotiated_value'].sum()\n",
    "    total_spend = supplier_spend.sum()\n",
    "    suppliers_over_20pct = (supplier_spend / total_spend > 0.20).sum()\n",
    "    kpis['high_dependency_suppliers'] = suppliers_over_20pct\n",
    "    \n",
    "    # Category concentration risk\n",
    "    category_spend = df.groupby('Item_Category')['total_negotiated_value'].sum()\n",
    "    top_category_concentration = (category_spend.max() / total_spend * 100)\n",
    "    kpis['top_category_concentration'] = top_category_concentration\n",
    "    \n",
    "    # Financial risk (high-value orders with issues)\n",
    "    if 'is_high_value_order' in df.columns and 'composite_risk_score' in df.columns:\n",
    "        high_value_high_risk = ((df['is_high_value_order'] == True) & \n",
    "                               (df['composite_risk_score'] >= 2)).sum()\n",
    "        kpis['high_value_high_risk_orders'] = high_value_high_risk\n",
    "    \n",
    "    return kpis\n",
    "\n",
    "# Calculate risk KPIs\n",
    "risk_kpis = calculate_risk_kpis(df)\n",
    "\n",
    "# Display key risk metrics\n",
    "print(\"KEY RISK ASSESSMENT INDICATORS:\")\n",
    "print(\"=\" * 50)\n",
    "\n",
    "if 'average_risk_score' in risk_kpis:\n",
    "    print(f\"Average Risk Score: {risk_kpis['average_risk_score']:.2f}\")\n",
    "    print(f\"High Risk Orders: {risk_kpis['high_risk_orders_count']} ({risk_kpis['high_risk_orders_pct']:.1f}%)\")\n",
    "\n",
    "# Display individual risk categories\n",
    "risk_categories = ['delivery_risk', 'quality_risk', 'compliance_risk']\n",
    "for risk_cat in risk_categories:\n",
    "    if f'{risk_cat}_pct' in risk_kpis:\n",
    "        print(f\"{risk_cat.replace('_', ' ').title()}: {risk_kpis[f'{risk_cat}_pct']:.1f}%\")\n",
    "\n",
    "print(f\"High Dependency Suppliers (>20% spend): {risk_kpis['high_dependency_suppliers']}\")\n",
    "print(f\"Top Category Concentration: {risk_kpis['top_category_concentration']:.1f}%\")\n",
    "\n",
    "if 'high_value_high_risk_orders' in risk_kpis:\n",
    "    print(f\"High-Value High-Risk Orders: {risk_kpis['high_value_high_risk_orders']}\")"
   ]
  },
  {
   "cell_type": "markdown",
   "metadata": {},
   "source": [
    "## 6. Category and Trend Analysis"
   ]
  },
  {
   "cell_type": "code",
   "execution_count": 10,
   "metadata": {},
   "outputs": [
    {
     "name": "stdout",
     "output_type": "stream",
     "text": [
      "Analyzing Category Performance:\n",
      "==================================================\n",
      "TOP 10 CATEGORIES BY SPEND:\n",
      "==================================================\n"
     ]
    },
    {
     "data": {
      "text/html": [
       "<div>\n",
       "<style scoped>\n",
       "    .dataframe tbody tr th:only-of-type {\n",
       "        vertical-align: middle;\n",
       "    }\n",
       "\n",
       "    .dataframe tbody tr th {\n",
       "        vertical-align: top;\n",
       "    }\n",
       "\n",
       "    .dataframe thead th {\n",
       "        text-align: right;\n",
       "    }\n",
       "</style>\n",
       "<table border=\"1\" class=\"dataframe\">\n",
       "  <thead>\n",
       "    <tr style=\"text-align: right;\">\n",
       "      <th></th>\n",
       "      <th>Total_Orders</th>\n",
       "      <th>Total_Spend</th>\n",
       "      <th>Avg_Order_Value</th>\n",
       "      <th>Total_Savings</th>\n",
       "      <th>Avg_Savings_Per_Order</th>\n",
       "      <th>Avg_Savings_Rate</th>\n",
       "      <th>Avg_Lead_Time</th>\n",
       "      <th>Avg_Defect_Rate</th>\n",
       "      <th>Supplier_Count</th>\n",
       "      <th>Spend_Share_Pct</th>\n",
       "    </tr>\n",
       "    <tr>\n",
       "      <th>Item_Category</th>\n",
       "      <th></th>\n",
       "      <th></th>\n",
       "      <th></th>\n",
       "      <th></th>\n",
       "      <th></th>\n",
       "      <th></th>\n",
       "      <th></th>\n",
       "      <th></th>\n",
       "      <th></th>\n",
       "      <th></th>\n",
       "    </tr>\n",
       "  </thead>\n",
       "  <tbody>\n",
       "    <tr>\n",
       "      <th>MRO</th>\n",
       "      <td>164</td>\n",
       "      <td>10126608.86</td>\n",
       "      <td>61747.62</td>\n",
       "      <td>902312.31</td>\n",
       "      <td>5501.90</td>\n",
       "      <td>8.21</td>\n",
       "      <td>11.60</td>\n",
       "      <td>5.34</td>\n",
       "      <td>5</td>\n",
       "      <td>22.32</td>\n",
       "    </tr>\n",
       "    <tr>\n",
       "      <th>Office Supplies</th>\n",
       "      <td>174</td>\n",
       "      <td>10007583.03</td>\n",
       "      <td>57514.84</td>\n",
       "      <td>844096.16</td>\n",
       "      <td>4851.13</td>\n",
       "      <td>7.66</td>\n",
       "      <td>10.41</td>\n",
       "      <td>6.39</td>\n",
       "      <td>5</td>\n",
       "      <td>22.06</td>\n",
       "    </tr>\n",
       "    <tr>\n",
       "      <th>Electronics</th>\n",
       "      <td>152</td>\n",
       "      <td>8642550.60</td>\n",
       "      <td>56858.89</td>\n",
       "      <td>742876.23</td>\n",
       "      <td>4887.34</td>\n",
       "      <td>7.72</td>\n",
       "      <td>11.02</td>\n",
       "      <td>5.81</td>\n",
       "      <td>5</td>\n",
       "      <td>19.05</td>\n",
       "    </tr>\n",
       "    <tr>\n",
       "      <th>Raw Materials</th>\n",
       "      <td>139</td>\n",
       "      <td>8471241.42</td>\n",
       "      <td>60944.18</td>\n",
       "      <td>709097.25</td>\n",
       "      <td>5101.42</td>\n",
       "      <td>7.84</td>\n",
       "      <td>10.34</td>\n",
       "      <td>6.27</td>\n",
       "      <td>5</td>\n",
       "      <td>18.67</td>\n",
       "    </tr>\n",
       "    <tr>\n",
       "      <th>Packaging</th>\n",
       "      <td>148</td>\n",
       "      <td>8125712.48</td>\n",
       "      <td>54903.46</td>\n",
       "      <td>732744.52</td>\n",
       "      <td>4950.98</td>\n",
       "      <td>8.44</td>\n",
       "      <td>10.41</td>\n",
       "      <td>5.05</td>\n",
       "      <td>5</td>\n",
       "      <td>17.91</td>\n",
       "    </tr>\n",
       "  </tbody>\n",
       "</table>\n",
       "</div>"
      ],
      "text/plain": [
       "                 Total_Orders  Total_Spend  Avg_Order_Value  Total_Savings  \\\n",
       "Item_Category                                                                \n",
       "MRO                       164  10126608.86         61747.62      902312.31   \n",
       "Office Supplies           174  10007583.03         57514.84      844096.16   \n",
       "Electronics               152   8642550.60         56858.89      742876.23   \n",
       "Raw Materials             139   8471241.42         60944.18      709097.25   \n",
       "Packaging                 148   8125712.48         54903.46      732744.52   \n",
       "\n",
       "                 Avg_Savings_Per_Order  Avg_Savings_Rate  Avg_Lead_Time  \\\n",
       "Item_Category                                                             \n",
       "MRO                            5501.90              8.21          11.60   \n",
       "Office Supplies                4851.13              7.66          10.41   \n",
       "Electronics                    4887.34              7.72          11.02   \n",
       "Raw Materials                  5101.42              7.84          10.34   \n",
       "Packaging                      4950.98              8.44          10.41   \n",
       "\n",
       "                 Avg_Defect_Rate  Supplier_Count  Spend_Share_Pct  \n",
       "Item_Category                                                      \n",
       "MRO                         5.34               5            22.32  \n",
       "Office Supplies             6.39               5            22.06  \n",
       "Electronics                 5.81               5            19.05  \n",
       "Raw Materials               6.27               5            18.67  \n",
       "Packaging                   5.05               5            17.91  "
      ]
     },
     "metadata": {},
     "output_type": "display_data"
    },
    {
     "name": "stdout",
     "output_type": "stream",
     "text": [
      "\n",
      "CATEGORY PERFORMANCE INSIGHTS:\n",
      "==================================================\n",
      "Top 3 Categories by Savings Rate:\n",
      "  Packaging: 8.44% ($732,745 total)\n",
      "  MRO: 8.21% ($902,312 total)\n",
      "  Raw Materials: 7.84% ($709,097 total)\n",
      "\n",
      "Top 3 Categories by Lead Time:\n",
      "  Raw Materials: 10.3 days\n",
      "  Office Supplies: 10.4 days\n",
      "  Packaging: 10.4 days\n",
      "\n",
      "Top 3 Categories by Quality (Lowest Defect Rate):\n",
      "  Packaging: 5.05% defect rate\n",
      "  MRO: 5.34% defect rate\n",
      "  Electronics: 5.81% defect rate\n"
     ]
    }
   ],
   "source": [
    "# Comprehensive category analysis\n",
    "def analyze_category_performance(df: pd.DataFrame) -> pd.DataFrame:\n",
    "    \"\"\"\n",
    "    Analyze performance by item category.\n",
    "    \"\"\"\n",
    "    print(\"Analyzing Category Performance:\")\n",
    "    print(\"=\" * 50)\n",
    "    \n",
    "    category_analysis = df.groupby('Item_Category').agg({\n",
    "        'PO_ID': 'count',\n",
    "        'total_negotiated_value': ['sum', 'mean'],\n",
    "        'cost_savings': ['sum', 'mean'],\n",
    "        'savings_percentage': 'mean',\n",
    "        'lead_time_days': 'mean',\n",
    "        'defect_rate': 'mean',\n",
    "        'Supplier': 'nunique'\n",
    "    }).round(2)\n",
    "    \n",
    "    # Flatten column names\n",
    "    category_analysis.columns = ['_'.join(col).strip() if col[1] else col[0] for col in category_analysis.columns]\n",
    "    \n",
    "    # Rename columns for clarity\n",
    "    column_mapping = {\n",
    "        'PO_ID_count': 'Total_Orders',\n",
    "        'total_negotiated_value_sum': 'Total_Spend',\n",
    "        'total_negotiated_value_mean': 'Avg_Order_Value',\n",
    "        'cost_savings_sum': 'Total_Savings',\n",
    "        'cost_savings_mean': 'Avg_Savings_Per_Order',\n",
    "        'savings_percentage_mean': 'Avg_Savings_Rate',\n",
    "        'lead_time_days_mean': 'Avg_Lead_Time',\n",
    "        'defect_rate_mean': 'Avg_Defect_Rate',\n",
    "        'Supplier_nunique': 'Supplier_Count'\n",
    "    }\n",
    "    \n",
    "    category_analysis = category_analysis.rename(columns=column_mapping)\n",
    "    \n",
    "    # Calculate spend share\n",
    "    total_spend = category_analysis['Total_Spend'].sum()\n",
    "    category_analysis['Spend_Share_Pct'] = (category_analysis['Total_Spend'] / total_spend * 100).round(2)\n",
    "    \n",
    "    # Sort by total spend\n",
    "    category_analysis = category_analysis.sort_values('Total_Spend', ascending=False)\n",
    "    \n",
    "    return category_analysis\n",
    "\n",
    "# Perform category analysis\n",
    "category_performance = analyze_category_performance(df)\n",
    "\n",
    "print(\"TOP 10 CATEGORIES BY SPEND:\")\n",
    "print(\"=\" * 50)\n",
    "display(category_performance.head(10))\n",
    "\n",
    "# Identify best and worst performing categories\n",
    "print(\"\\nCATEGORY PERFORMANCE INSIGHTS:\")\n",
    "print(\"=\" * 50)\n",
    "\n",
    "# Best savings rate\n",
    "best_savings = category_performance.nlargest(3, 'Avg_Savings_Rate')\n",
    "print(\"Top 3 Categories by Savings Rate:\")\n",
    "for idx, row in best_savings.iterrows():\n",
    "    print(f\"  {idx}: {row['Avg_Savings_Rate']:.2f}% (${row['Total_Savings']:,.0f} total)\")\n",
    "\n",
    "# Fastest delivery\n",
    "fastest_delivery = category_performance.nsmallest(3, 'Avg_Lead_Time')\n",
    "print(\"\\nTop 3 Categories by Lead Time:\")\n",
    "for idx, row in fastest_delivery.iterrows():\n",
    "    print(f\"  {idx}: {row['Avg_Lead_Time']:.1f} days\")\n",
    "\n",
    "# Best quality\n",
    "best_quality = category_performance.nsmallest(3, 'Avg_Defect_Rate')\n",
    "print(\"\\nTop 3 Categories by Quality (Lowest Defect Rate):\")\n",
    "for idx, row in best_quality.iterrows():\n",
    "    print(f\"  {idx}: {row['Avg_Defect_Rate']:.2f}% defect rate\")"
   ]
  },
  {
   "cell_type": "code",
   "execution_count": 11,
   "metadata": {},
   "outputs": [
    {
     "data": {
      "application/vnd.plotly.v1+json": {
       "config": {
        "plotlyServerURL": "https://plot.ly"
       },
       "data": [
        {
         "marker": {
          "color": "#2E86AB"
         },
         "name": "Total Spend",
         "type": "bar",
         "x": [
          "MRO",
          "Office Supplies",
          "Electronics",
          "Raw Materials",
          "Packaging"
         ],
         "xaxis": "x",
         "y": {
          "bdata": "uB6FG6JQY0GPwvXggxZjQTMzM9P+e2BB16NwLVkoYEHsUbgeRP9eQQ==",
          "dtype": "f8"
         },
         "yaxis": "y"
        },
        {
         "marker": {
          "color": "#F18F01"
         },
         "name": "Avg Savings Rate",
         "type": "bar",
         "x": [
          "MRO",
          "Office Supplies",
          "Electronics",
          "Raw Materials",
          "Packaging"
         ],
         "xaxis": "x2",
         "y": {
          "bdata": "7FG4HoVrIECkcD0K16MeQOF6FK5H4R5AXI/C9ShcH0DhehSuR+EgQA==",
          "dtype": "f8"
         },
         "yaxis": "y2"
        },
        {
         "marker": {
          "color": "#C73E1D"
         },
         "name": "Avg Lead Time",
         "type": "bar",
         "x": [
          "MRO",
          "Office Supplies",
          "Electronics",
          "Raw Materials",
          "Packaging"
         ],
         "xaxis": "x3",
         "y": {
          "bdata": "MzMzMzMzJ0BSuB6F69EkQArXo3A9CiZArkfhehSuJEBSuB6F69EkQA==",
          "dtype": "f8"
         },
         "yaxis": "y3"
        },
        {
         "marker": {
          "color": "#A23B72"
         },
         "name": "Avg Defect Rate",
         "type": "bar",
         "x": [
          "MRO",
          "Office Supplies",
          "Electronics",
          "Raw Materials",
          "Packaging"
         ],
         "xaxis": "x4",
         "y": {
          "bdata": "XI/C9ShcFUCPwvUoXI8ZQD0K16NwPRdAFK5H4XoUGUAzMzMzMzMUQA==",
          "dtype": "f8"
         },
         "yaxis": "y4"
        }
       ],
       "layout": {
        "annotations": [
         {
          "font": {
           "size": 16
          },
          "showarrow": false,
          "text": "Category Spend Distribution (Top 10)",
          "x": 0.225,
          "xanchor": "center",
          "xref": "paper",
          "y": 1,
          "yanchor": "bottom",
          "yref": "paper"
         },
         {
          "font": {
           "size": 16
          },
          "showarrow": false,
          "text": "Average Savings Rate by Category",
          "x": 0.775,
          "xanchor": "center",
          "xref": "paper",
          "y": 1,
          "yanchor": "bottom",
          "yref": "paper"
         },
         {
          "font": {
           "size": 16
          },
          "showarrow": false,
          "text": "Average Lead Time by Category",
          "x": 0.225,
          "xanchor": "center",
          "xref": "paper",
          "y": 0.375,
          "yanchor": "bottom",
          "yref": "paper"
         },
         {
          "font": {
           "size": 16
          },
          "showarrow": false,
          "text": "Average Defect Rate by Category",
          "x": 0.775,
          "xanchor": "center",
          "xref": "paper",
          "y": 0.375,
          "yanchor": "bottom",
          "yref": "paper"
         }
        ],
        "height": 800,
        "showlegend": false,
        "template": {
         "data": {
          "bar": [
           {
            "error_x": {
             "color": "#2a3f5f"
            },
            "error_y": {
             "color": "#2a3f5f"
            },
            "marker": {
             "line": {
              "color": "#E5ECF6",
              "width": 0.5
             },
             "pattern": {
              "fillmode": "overlay",
              "size": 10,
              "solidity": 0.2
             }
            },
            "type": "bar"
           }
          ],
          "barpolar": [
           {
            "marker": {
             "line": {
              "color": "#E5ECF6",
              "width": 0.5
             },
             "pattern": {
              "fillmode": "overlay",
              "size": 10,
              "solidity": 0.2
             }
            },
            "type": "barpolar"
           }
          ],
          "carpet": [
           {
            "aaxis": {
             "endlinecolor": "#2a3f5f",
             "gridcolor": "white",
             "linecolor": "white",
             "minorgridcolor": "white",
             "startlinecolor": "#2a3f5f"
            },
            "baxis": {
             "endlinecolor": "#2a3f5f",
             "gridcolor": "white",
             "linecolor": "white",
             "minorgridcolor": "white",
             "startlinecolor": "#2a3f5f"
            },
            "type": "carpet"
           }
          ],
          "choropleth": [
           {
            "colorbar": {
             "outlinewidth": 0,
             "ticks": ""
            },
            "type": "choropleth"
           }
          ],
          "contour": [
           {
            "colorbar": {
             "outlinewidth": 0,
             "ticks": ""
            },
            "colorscale": [
             [
              0,
              "#0d0887"
             ],
             [
              0.1111111111111111,
              "#46039f"
             ],
             [
              0.2222222222222222,
              "#7201a8"
             ],
             [
              0.3333333333333333,
              "#9c179e"
             ],
             [
              0.4444444444444444,
              "#bd3786"
             ],
             [
              0.5555555555555556,
              "#d8576b"
             ],
             [
              0.6666666666666666,
              "#ed7953"
             ],
             [
              0.7777777777777778,
              "#fb9f3a"
             ],
             [
              0.8888888888888888,
              "#fdca26"
             ],
             [
              1,
              "#f0f921"
             ]
            ],
            "type": "contour"
           }
          ],
          "contourcarpet": [
           {
            "colorbar": {
             "outlinewidth": 0,
             "ticks": ""
            },
            "type": "contourcarpet"
           }
          ],
          "heatmap": [
           {
            "colorbar": {
             "outlinewidth": 0,
             "ticks": ""
            },
            "colorscale": [
             [
              0,
              "#0d0887"
             ],
             [
              0.1111111111111111,
              "#46039f"
             ],
             [
              0.2222222222222222,
              "#7201a8"
             ],
             [
              0.3333333333333333,
              "#9c179e"
             ],
             [
              0.4444444444444444,
              "#bd3786"
             ],
             [
              0.5555555555555556,
              "#d8576b"
             ],
             [
              0.6666666666666666,
              "#ed7953"
             ],
             [
              0.7777777777777778,
              "#fb9f3a"
             ],
             [
              0.8888888888888888,
              "#fdca26"
             ],
             [
              1,
              "#f0f921"
             ]
            ],
            "type": "heatmap"
           }
          ],
          "histogram": [
           {
            "marker": {
             "pattern": {
              "fillmode": "overlay",
              "size": 10,
              "solidity": 0.2
             }
            },
            "type": "histogram"
           }
          ],
          "histogram2d": [
           {
            "colorbar": {
             "outlinewidth": 0,
             "ticks": ""
            },
            "colorscale": [
             [
              0,
              "#0d0887"
             ],
             [
              0.1111111111111111,
              "#46039f"
             ],
             [
              0.2222222222222222,
              "#7201a8"
             ],
             [
              0.3333333333333333,
              "#9c179e"
             ],
             [
              0.4444444444444444,
              "#bd3786"
             ],
             [
              0.5555555555555556,
              "#d8576b"
             ],
             [
              0.6666666666666666,
              "#ed7953"
             ],
             [
              0.7777777777777778,
              "#fb9f3a"
             ],
             [
              0.8888888888888888,
              "#fdca26"
             ],
             [
              1,
              "#f0f921"
             ]
            ],
            "type": "histogram2d"
           }
          ],
          "histogram2dcontour": [
           {
            "colorbar": {
             "outlinewidth": 0,
             "ticks": ""
            },
            "colorscale": [
             [
              0,
              "#0d0887"
             ],
             [
              0.1111111111111111,
              "#46039f"
             ],
             [
              0.2222222222222222,
              "#7201a8"
             ],
             [
              0.3333333333333333,
              "#9c179e"
             ],
             [
              0.4444444444444444,
              "#bd3786"
             ],
             [
              0.5555555555555556,
              "#d8576b"
             ],
             [
              0.6666666666666666,
              "#ed7953"
             ],
             [
              0.7777777777777778,
              "#fb9f3a"
             ],
             [
              0.8888888888888888,
              "#fdca26"
             ],
             [
              1,
              "#f0f921"
             ]
            ],
            "type": "histogram2dcontour"
           }
          ],
          "mesh3d": [
           {
            "colorbar": {
             "outlinewidth": 0,
             "ticks": ""
            },
            "type": "mesh3d"
           }
          ],
          "parcoords": [
           {
            "line": {
             "colorbar": {
              "outlinewidth": 0,
              "ticks": ""
             }
            },
            "type": "parcoords"
           }
          ],
          "pie": [
           {
            "automargin": true,
            "type": "pie"
           }
          ],
          "scatter": [
           {
            "fillpattern": {
             "fillmode": "overlay",
             "size": 10,
             "solidity": 0.2
            },
            "type": "scatter"
           }
          ],
          "scatter3d": [
           {
            "line": {
             "colorbar": {
              "outlinewidth": 0,
              "ticks": ""
             }
            },
            "marker": {
             "colorbar": {
              "outlinewidth": 0,
              "ticks": ""
             }
            },
            "type": "scatter3d"
           }
          ],
          "scattercarpet": [
           {
            "marker": {
             "colorbar": {
              "outlinewidth": 0,
              "ticks": ""
             }
            },
            "type": "scattercarpet"
           }
          ],
          "scattergeo": [
           {
            "marker": {
             "colorbar": {
              "outlinewidth": 0,
              "ticks": ""
             }
            },
            "type": "scattergeo"
           }
          ],
          "scattergl": [
           {
            "marker": {
             "colorbar": {
              "outlinewidth": 0,
              "ticks": ""
             }
            },
            "type": "scattergl"
           }
          ],
          "scattermap": [
           {
            "marker": {
             "colorbar": {
              "outlinewidth": 0,
              "ticks": ""
             }
            },
            "type": "scattermap"
           }
          ],
          "scattermapbox": [
           {
            "marker": {
             "colorbar": {
              "outlinewidth": 0,
              "ticks": ""
             }
            },
            "type": "scattermapbox"
           }
          ],
          "scatterpolar": [
           {
            "marker": {
             "colorbar": {
              "outlinewidth": 0,
              "ticks": ""
             }
            },
            "type": "scatterpolar"
           }
          ],
          "scatterpolargl": [
           {
            "marker": {
             "colorbar": {
              "outlinewidth": 0,
              "ticks": ""
             }
            },
            "type": "scatterpolargl"
           }
          ],
          "scatterternary": [
           {
            "marker": {
             "colorbar": {
              "outlinewidth": 0,
              "ticks": ""
             }
            },
            "type": "scatterternary"
           }
          ],
          "surface": [
           {
            "colorbar": {
             "outlinewidth": 0,
             "ticks": ""
            },
            "colorscale": [
             [
              0,
              "#0d0887"
             ],
             [
              0.1111111111111111,
              "#46039f"
             ],
             [
              0.2222222222222222,
              "#7201a8"
             ],
             [
              0.3333333333333333,
              "#9c179e"
             ],
             [
              0.4444444444444444,
              "#bd3786"
             ],
             [
              0.5555555555555556,
              "#d8576b"
             ],
             [
              0.6666666666666666,
              "#ed7953"
             ],
             [
              0.7777777777777778,
              "#fb9f3a"
             ],
             [
              0.8888888888888888,
              "#fdca26"
             ],
             [
              1,
              "#f0f921"
             ]
            ],
            "type": "surface"
           }
          ],
          "table": [
           {
            "cells": {
             "fill": {
              "color": "#EBF0F8"
             },
             "line": {
              "color": "white"
             }
            },
            "header": {
             "fill": {
              "color": "#C8D4E3"
             },
             "line": {
              "color": "white"
             }
            },
            "type": "table"
           }
          ]
         },
         "layout": {
          "annotationdefaults": {
           "arrowcolor": "#2a3f5f",
           "arrowhead": 0,
           "arrowwidth": 1
          },
          "autotypenumbers": "strict",
          "coloraxis": {
           "colorbar": {
            "outlinewidth": 0,
            "ticks": ""
           }
          },
          "colorscale": {
           "diverging": [
            [
             0,
             "#8e0152"
            ],
            [
             0.1,
             "#c51b7d"
            ],
            [
             0.2,
             "#de77ae"
            ],
            [
             0.3,
             "#f1b6da"
            ],
            [
             0.4,
             "#fde0ef"
            ],
            [
             0.5,
             "#f7f7f7"
            ],
            [
             0.6,
             "#e6f5d0"
            ],
            [
             0.7,
             "#b8e186"
            ],
            [
             0.8,
             "#7fbc41"
            ],
            [
             0.9,
             "#4d9221"
            ],
            [
             1,
             "#276419"
            ]
           ],
           "sequential": [
            [
             0,
             "#0d0887"
            ],
            [
             0.1111111111111111,
             "#46039f"
            ],
            [
             0.2222222222222222,
             "#7201a8"
            ],
            [
             0.3333333333333333,
             "#9c179e"
            ],
            [
             0.4444444444444444,
             "#bd3786"
            ],
            [
             0.5555555555555556,
             "#d8576b"
            ],
            [
             0.6666666666666666,
             "#ed7953"
            ],
            [
             0.7777777777777778,
             "#fb9f3a"
            ],
            [
             0.8888888888888888,
             "#fdca26"
            ],
            [
             1,
             "#f0f921"
            ]
           ],
           "sequentialminus": [
            [
             0,
             "#0d0887"
            ],
            [
             0.1111111111111111,
             "#46039f"
            ],
            [
             0.2222222222222222,
             "#7201a8"
            ],
            [
             0.3333333333333333,
             "#9c179e"
            ],
            [
             0.4444444444444444,
             "#bd3786"
            ],
            [
             0.5555555555555556,
             "#d8576b"
            ],
            [
             0.6666666666666666,
             "#ed7953"
            ],
            [
             0.7777777777777778,
             "#fb9f3a"
            ],
            [
             0.8888888888888888,
             "#fdca26"
            ],
            [
             1,
             "#f0f921"
            ]
           ]
          },
          "colorway": [
           "#636efa",
           "#EF553B",
           "#00cc96",
           "#ab63fa",
           "#FFA15A",
           "#19d3f3",
           "#FF6692",
           "#B6E880",
           "#FF97FF",
           "#FECB52"
          ],
          "font": {
           "color": "#2a3f5f"
          },
          "geo": {
           "bgcolor": "white",
           "lakecolor": "white",
           "landcolor": "#E5ECF6",
           "showlakes": true,
           "showland": true,
           "subunitcolor": "white"
          },
          "hoverlabel": {
           "align": "left"
          },
          "hovermode": "closest",
          "mapbox": {
           "style": "light"
          },
          "paper_bgcolor": "white",
          "plot_bgcolor": "#E5ECF6",
          "polar": {
           "angularaxis": {
            "gridcolor": "white",
            "linecolor": "white",
            "ticks": ""
           },
           "bgcolor": "#E5ECF6",
           "radialaxis": {
            "gridcolor": "white",
            "linecolor": "white",
            "ticks": ""
           }
          },
          "scene": {
           "xaxis": {
            "backgroundcolor": "#E5ECF6",
            "gridcolor": "white",
            "gridwidth": 2,
            "linecolor": "white",
            "showbackground": true,
            "ticks": "",
            "zerolinecolor": "white"
           },
           "yaxis": {
            "backgroundcolor": "#E5ECF6",
            "gridcolor": "white",
            "gridwidth": 2,
            "linecolor": "white",
            "showbackground": true,
            "ticks": "",
            "zerolinecolor": "white"
           },
           "zaxis": {
            "backgroundcolor": "#E5ECF6",
            "gridcolor": "white",
            "gridwidth": 2,
            "linecolor": "white",
            "showbackground": true,
            "ticks": "",
            "zerolinecolor": "white"
           }
          },
          "shapedefaults": {
           "line": {
            "color": "#2a3f5f"
           }
          },
          "ternary": {
           "aaxis": {
            "gridcolor": "white",
            "linecolor": "white",
            "ticks": ""
           },
           "baxis": {
            "gridcolor": "white",
            "linecolor": "white",
            "ticks": ""
           },
           "bgcolor": "#E5ECF6",
           "caxis": {
            "gridcolor": "white",
            "linecolor": "white",
            "ticks": ""
           }
          },
          "title": {
           "x": 0.05
          },
          "xaxis": {
           "automargin": true,
           "gridcolor": "white",
           "linecolor": "white",
           "ticks": "",
           "title": {
            "standoff": 15
           },
           "zerolinecolor": "white",
           "zerolinewidth": 2
          },
          "yaxis": {
           "automargin": true,
           "gridcolor": "white",
           "linecolor": "white",
           "ticks": "",
           "title": {
            "standoff": 15
           },
           "zerolinecolor": "white",
           "zerolinewidth": 2
          }
         }
        },
        "title": {
         "text": "Category Performance Analysis"
        },
        "xaxis": {
         "anchor": "y",
         "domain": [
          0,
          0.45
         ],
         "tickangle": 45
        },
        "xaxis2": {
         "anchor": "y2",
         "domain": [
          0.55,
          1
         ],
         "tickangle": 45
        },
        "xaxis3": {
         "anchor": "y3",
         "domain": [
          0,
          0.45
         ],
         "tickangle": 45
        },
        "xaxis4": {
         "anchor": "y4",
         "domain": [
          0.55,
          1
         ],
         "tickangle": 45
        },
        "yaxis": {
         "anchor": "x",
         "domain": [
          0.625,
          1
         ]
        },
        "yaxis2": {
         "anchor": "x2",
         "domain": [
          0.625,
          1
         ]
        },
        "yaxis3": {
         "anchor": "x3",
         "domain": [
          0,
          0.375
         ]
        },
        "yaxis4": {
         "anchor": "x4",
         "domain": [
          0,
          0.375
         ]
        }
       }
      },
      "image/png": "[encoded data removed]"
     },
     "metadata": {},
     "output_type": "display_data"
    }
   ],
   "source": [
    "# Create category performance visualization\n",
    "top_10_categories = category_performance.head(10)\n",
    "\n",
    "fig = make_subplots(\n",
    "    rows=2, cols=2,\n",
    "    subplot_titles=(\n",
    "        'Category Spend Distribution (Top 10)',\n",
    "        'Average Savings Rate by Category',\n",
    "        'Average Lead Time by Category',\n",
    "        'Average Defect Rate by Category'\n",
    "    ),\n",
    "    specs=[[{\"type\": \"bar\"}, {\"type\": \"bar\"}],\n",
    "           [{\"type\": \"bar\"}, {\"type\": \"bar\"}]]\n",
    ")\n",
    "\n",
    "# 1. Category spend distribution\n",
    "fig.add_trace(\n",
    "    go.Bar(\n",
    "        x=top_10_categories.index,\n",
    "        y=top_10_categories['Total_Spend'],\n",
    "        name='Total Spend',\n",
    "        marker_color=COLORS['primary']\n",
    "    ),\n",
    "    row=1, col=1\n",
    ")\n",
    "\n",
    "# 2. Savings rate by category\n",
    "fig.add_trace(\n",
    "    go.Bar(\n",
    "        x=top_10_categories.index,\n",
    "        y=top_10_categories['Avg_Savings_Rate'],\n",
    "        name='Avg Savings Rate',\n",
    "        marker_color=COLORS['success']\n",
    "    ),\n",
    "    row=1, col=2\n",
    ")\n",
    "\n",
    "# 3. Lead time by category\n",
    "fig.add_trace(\n",
    "    go.Bar(\n",
    "        x=top_10_categories.index,\n",
    "        y=top_10_categories['Avg_Lead_Time'],\n",
    "        name='Avg Lead Time',\n",
    "        marker_color=COLORS['warning']\n",
    "    ),\n",
    "    row=2, col=1\n",
    ")\n",
    "\n",
    "# 4. Defect rate by category\n",
    "fig.add_trace(\n",
    "    go.Bar(\n",
    "        x=top_10_categories.index,\n",
    "        y=top_10_categories['Avg_Defect_Rate'],\n",
    "        name='Avg Defect Rate',\n",
    "        marker_color=COLORS['secondary']\n",
    "    ),\n",
    "    row=2, col=2\n",
    ")\n",
    "\n",
    "# Update x-axis labels to be rotated\n",
    "fig.update_xaxes(tickangle=45)\n",
    "\n",
    "fig.update_layout(\n",
    "    height=800,\n",
    "    title_text=\"Category Performance Analysis\",\n",
    "    showlegend=False\n",
    ")\n",
    "\n",
    "fig.show()"
   ]
  },
  {
   "cell_type": "markdown",
   "metadata": {},
   "source": [
    "## 7. Executive KPI Summary"
   ]
  },
  {
   "cell_type": "code",
   "execution_count": 13,
   "metadata": {},
   "outputs": [
    {
     "name": "stdout",
     "output_type": "stream",
     "text": [
      "Creating Executive KPI Summary:\n",
      "==================================================\n",
      "EXECUTIVE PROCUREMENT KPI DASHBOARD\n",
      "============================================================\n",
      "Analysis Date: 2025-07-09\n",
      "Data Period: 2022-01-01 to 2024-01-01\n",
      "Total Records Analyzed: 777\n",
      "\n",
      "💰 FINANCIAL PERFORMANCE:\n",
      "  Total Procurement Spend: $45,373,696.39\n",
      "  Total Cost Savings: $3,931,126.47\n",
      "  Overall Savings Rate: 7.97%\n",
      "  Negotiation Success Rate: 100.0%\n",
      "  Average Order Value: $58,396.01\n",
      "\n",
      "🏭 SUPPLIER PERFORMANCE:\n",
      "  Active Suppliers: 5\n",
      "  Average Lead Time: 10.8 days\n",
      "  On-Time Delivery Rate: 60.7%\n",
      "  Top Supplier Concentration: 21.7%\n",
      "\n",
      "🎯 QUALITY PERFORMANCE:\n",
      "  Overall Defect Rate: 5.78%\n",
      "  Defective Units Rate: 5.64%\n",
      "  Compliance Rate: 0.0%\n",
      "  Perfect Order Rate: 18.0%\n",
      "\n",
      "⚠️ RISK ASSESSMENT:\n",
      "  High Dependency Suppliers: 3\n",
      "  Top Category Concentration: 22.3%\n",
      "  High Risk Orders: 2.3%\n"
     ]
    }
   ],
   "source": [
    "# Create comprehensive executive KPI summary\n",
    "def create_executive_summary(financial_kpis, supplier_kpis, quality_kpis, risk_kpis, df) -> Dict[str, Any]:\n",
    "    \"\"\"\n",
    "    Create executive-level KPI summary.\n",
    "    \"\"\"\n",
    "    print(\"Creating Executive KPI Summary:\")\n",
    "    print(\"=\" * 50)\n",
    "    \n",
    "    summary = {\n",
    "        'analysis_date': datetime.now().strftime('%Y-%m-%d'),\n",
    "        'data_period': f\"{df['Order_Date'].min().strftime('%Y-%m-%d')} to {df['Order_Date'].max().strftime('%Y-%m-%d')}\",\n",
    "        'total_records': len(df)\n",
    "    }\n",
    "    \n",
    "    # Financial performance\n",
    "    summary['financial'] = {\n",
    "        'total_spend': financial_kpis['total_procurement_spend'],\n",
    "        'total_savings': financial_kpis['total_cost_savings'],\n",
    "        'savings_rate': financial_kpis['overall_savings_rate'],\n",
    "        'negotiation_success_rate': financial_kpis['negotiation_success_rate'],\n",
    "        'avg_order_value': financial_kpis['average_order_value']\n",
    "    }\n",
    "    \n",
    "    # Supplier performance\n",
    "    summary['supplier'] = {\n",
    "        'total_suppliers': supplier_kpis['total_suppliers'],\n",
    "        'avg_lead_time': supplier_kpis['average_lead_time'],\n",
    "        'on_time_delivery_rate': supplier_kpis['on_time_delivery_rate'],\n",
    "        'top_supplier_concentration': supplier_kpis['top_supplier_concentration']\n",
    "    }\n",
    "    \n",
    "    # Quality performance\n",
    "    summary['quality'] = {\n",
    "        'overall_defect_rate': quality_kpis['overall_defect_rate'],\n",
    "        'defective_units_rate': quality_kpis['defective_units_rate']\n",
    "    }\n",
    "    \n",
    "    if 'compliance_rate' in quality_kpis:\n",
    "        summary['quality']['compliance_rate'] = quality_kpis['compliance_rate']\n",
    "    \n",
    "    if 'perfect_order_rate' in quality_kpis:\n",
    "        summary['quality']['perfect_order_rate'] = quality_kpis['perfect_order_rate']\n",
    "    \n",
    "    # Risk assessment\n",
    "    summary['risk'] = {\n",
    "        'high_dependency_suppliers': risk_kpis['high_dependency_suppliers'],\n",
    "        'top_category_concentration': risk_kpis['top_category_concentration']\n",
    "    }\n",
    "    \n",
    "    if 'high_risk_orders_pct' in risk_kpis:\n",
    "        summary['risk']['high_risk_orders_pct'] = risk_kpis['high_risk_orders_pct']\n",
    "    \n",
    "    return summary\n",
    "\n",
    "# Create executive summary\n",
    "executive_summary = create_executive_summary(financial_kpis, supplier_kpis, quality_kpis, risk_kpis, df)\n",
    "\n",
    "# Display executive summary\n",
    "print(\"EXECUTIVE PROCUREMENT KPI DASHBOARD\")\n",
    "print(\"=\" * 60)\n",
    "print(f\"Analysis Date: {executive_summary['analysis_date']}\")\n",
    "print(f\"Data Period: {executive_summary['data_period']}\")\n",
    "print(f\"Total Records Analyzed: {executive_summary['total_records']:,}\")\n",
    "\n",
    "print(\"\\n💰 FINANCIAL PERFORMANCE:\")\n",
    "print(f\"  Total Procurement Spend: ${executive_summary['financial']['total_spend']:,.2f}\")\n",
    "print(f\"  Total Cost Savings: ${executive_summary['financial']['total_savings']:,.2f}\")\n",
    "print(f\"  Overall Savings Rate: {executive_summary['financial']['savings_rate']:.2f}%\")\n",
    "print(f\"  Negotiation Success Rate: {executive_summary['financial']['negotiation_success_rate']:.1f}%\")\n",
    "print(f\"  Average Order Value: ${executive_summary['financial']['avg_order_value']:,.2f}\")\n",
    "\n",
    "print(\"\\n🏭 SUPPLIER PERFORMANCE:\")\n",
    "print(f\"  Active Suppliers: {executive_summary['supplier']['total_suppliers']}\")\n",
    "print(f\"  Average Lead Time: {executive_summary['supplier']['avg_lead_time']:.1f} days\")\n",
    "print(f\"  On-Time Delivery Rate: {executive_summary['supplier']['on_time_delivery_rate']:.1f}%\")\n",
    "print(f\"  Top Supplier Concentration: {executive_summary['supplier']['top_supplier_concentration']:.1f}%\")\n",
    "\n",
    "print(\"\\n🎯 QUALITY PERFORMANCE:\")\n",
    "print(f\"  Overall Defect Rate: {executive_summary['quality']['overall_defect_rate']:.2f}%\")\n",
    "print(f\"  Defective Units Rate: {executive_summary['quality']['defective_units_rate']:.2f}%\")\n",
    "if 'compliance_rate' in executive_summary['quality']:\n",
    "    print(f\"  Compliance Rate: {executive_summary['quality']['compliance_rate']:.1f}%\")\n",
    "if 'perfect_order_rate' in executive_summary['quality']:\n",
    "    print(f\"  Perfect Order Rate: {executive_summary['quality']['perfect_order_rate']:.1f}%\")\n",
    "\n",
    "print(\"\\n⚠️ RISK ASSESSMENT:\")\n",
    "print(f\"  High Dependency Suppliers: {executive_summary['risk']['high_dependency_suppliers']}\")\n",
    "print(f\"  Top Category Concentration: {executive_summary['risk']['top_category_concentration']:.1f}%\")\n",
    "if 'high_risk_orders_pct' in executive_summary['risk']:\n",
    "    print(f\"  High Risk Orders: {executive_summary['risk']['high_risk_orders_pct']:.1f}%\")"
   ]
  },
  {
   "cell_type": "markdown",
   "metadata": {},
   "source": [
    "## 8. Strategic Insights and Recommendations"
   ]
  },
  {
   "cell_type": "code",
   "execution_count": 15,
   "metadata": {},
   "outputs": [
    {
     "name": "stdout",
     "output_type": "stream",
     "text": [
      "Generating Strategic Insights:\n",
      "==================================================\n",
      "STRATEGIC INSIGHTS:\n",
      "==================================================\n",
      " 1. GOOD negotiation performance with 8.0% overall savings rate\n",
      " 2. MODERATE RISK: Top supplier concentration at 21.7%\n",
      " 3. QUALITY CONCERN: High defect rate of 5.78%\n",
      " 4. GOOD delivery performance with 10.8 day average lead time\n",
      " 5. BEST PERFORMER: Packaging achieves 8.4% savings rate\n",
      "\n",
      "STRATEGIC RECOMMENDATIONS:\n",
      "==================================================\n",
      " 1. Explore advanced negotiation training to improve savings rate above 10%\n",
      " 2. Monitor supplier dependency and develop backup options\n",
      " 3. URGENT: Launch comprehensive quality improvement initiative\n",
      "\n",
      "OPPORTUNITY ANALYSIS:\n",
      "==================================================\n",
      "Potential Additional Savings: $1,110,395.35\n",
      "Target Savings Rate: 10.0%\n",
      "Current vs Target Gap: 2.0 percentage points\n",
      "\n",
      "Categories Below Average Savings Rate: 3\n",
      "Top 3 Improvement Opportunities:\n",
      "  Office Supplies: 0.3pp gap, $31,334 potential savings\n",
      "  Electronics: 0.3pp gap, $21,875 potential savings\n",
      "  Raw Materials: 0.1pp gap, $11,276 potential savings\n"
     ]
    }
   ],
   "source": [
    "# Generate strategic insights and recommendations\n",
    "def generate_strategic_insights(executive_summary, category_performance, df) -> List[str]:\n",
    "    \"\"\"\n",
    "    Generate strategic insights and actionable recommendations.\n",
    "    \"\"\"\n",
    "    insights = []\n",
    "    recommendations = []\n",
    "    \n",
    "    print(\"Generating Strategic Insights:\")\n",
    "    print(\"=\" * 50)\n",
    "    \n",
    "    # Financial insights\n",
    "    savings_rate = executive_summary['financial']['savings_rate']\n",
    "    if savings_rate >= 10:\n",
    "        insights.append(f\"EXCELLENT negotiation performance with {savings_rate:.1f}% overall savings rate\")\n",
    "    elif savings_rate >= 5:\n",
    "        insights.append(f\"GOOD negotiation performance with {savings_rate:.1f}% overall savings rate\")\n",
    "        recommendations.append(\"Explore advanced negotiation training to improve savings rate above 10%\")\n",
    "    else:\n",
    "        insights.append(f\"IMPROVEMENT NEEDED: Low savings rate of {savings_rate:.1f}%\")\n",
    "        recommendations.append(\"URGENT: Implement strategic sourcing initiatives to improve negotiation outcomes\")\n",
    "    \n",
    "    # Supplier dependency insights\n",
    "    top_supplier_conc = executive_summary['supplier']['top_supplier_concentration']\n",
    "    if top_supplier_conc > 30:\n",
    "        insights.append(f\"HIGH RISK: Single supplier accounts for {top_supplier_conc:.1f}% of spend\")\n",
    "        recommendations.append(\"Develop alternative suppliers to reduce dependency risk\")\n",
    "    elif top_supplier_conc > 20:\n",
    "        insights.append(f\"MODERATE RISK: Top supplier concentration at {top_supplier_conc:.1f}%\")\n",
    "        recommendations.append(\"Monitor supplier dependency and develop backup options\")\n",
    "    \n",
    "    # Quality insights\n",
    "    defect_rate = executive_summary['quality']['overall_defect_rate']\n",
    "    if defect_rate < 2:\n",
    "        insights.append(f\"EXCELLENT quality performance with {defect_rate:.2f}% defect rate\")\n",
    "    elif defect_rate < 5:\n",
    "        insights.append(f\"ACCEPTABLE quality performance with {defect_rate:.2f}% defect rate\")\n",
    "        recommendations.append(\"Implement quality improvement programs to achieve <2% defect rate\")\n",
    "    else:\n",
    "        insights.append(f\"QUALITY CONCERN: High defect rate of {defect_rate:.2f}%\")\n",
    "        recommendations.append(\"URGENT: Launch comprehensive quality improvement initiative\")\n",
    "    \n",
    "    # Lead time insights\n",
    "    avg_lead_time = executive_summary['supplier']['avg_lead_time']\n",
    "    if avg_lead_time <= 10:\n",
    "        insights.append(f\"EXCELLENT delivery performance with {avg_lead_time:.1f} day average lead time\")\n",
    "    elif avg_lead_time <= 20:\n",
    "        insights.append(f\"GOOD delivery performance with {avg_lead_time:.1f} day average lead time\")\n",
    "    else:\n",
    "        insights.append(f\"IMPROVEMENT NEEDED: Long lead time of {avg_lead_time:.1f} days\")\n",
    "        recommendations.append(\"Work with suppliers to reduce lead times and improve delivery performance\")\n",
    "    \n",
    "    # Category insights\n",
    "    top_category = category_performance.index[0]\n",
    "    top_category_spend_pct = category_performance.iloc[0]['Spend_Share_Pct']\n",
    "    \n",
    "    if top_category_spend_pct > 40:\n",
    "        insights.append(f\"HIGH CONCENTRATION: {top_category} represents {top_category_spend_pct:.1f}% of total spend\")\n",
    "        recommendations.append(f\"Diversify spending across categories to reduce {top_category} dependency\")\n",
    "    \n",
    "    # Best performing categories\n",
    "    best_savings_category = category_performance.nlargest(1, 'Avg_Savings_Rate').index[0]\n",
    "    best_savings_rate = category_performance.loc[best_savings_category, 'Avg_Savings_Rate']\n",
    "    insights.append(f\"BEST PERFORMER: {best_savings_category} achieves {best_savings_rate:.1f}% savings rate\")\n",
    "    \n",
    "    return insights, recommendations\n",
    "\n",
    "# Generate insights and recommendations\n",
    "strategic_insights, strategic_recommendations = generate_strategic_insights(executive_summary, category_performance, df)\n",
    "\n",
    "# Display strategic insights\n",
    "print(\"STRATEGIC INSIGHTS:\")\n",
    "print(\"=\" * 50)\n",
    "for i, insight in enumerate(strategic_insights, 1):\n",
    "    print(f\"{i:2d}. {insight}\")\n",
    "\n",
    "print(\"\\nSTRATEGIC RECOMMENDATIONS:\")\n",
    "print(\"=\" * 50)\n",
    "for i, recommendation in enumerate(strategic_recommendations, 1):\n",
    "    print(f\"{i:2d}. {recommendation}\")\n",
    "\n",
    "# Additional opportunity analysis\n",
    "print(\"\\nOPPORTUNITY ANALYSIS:\")\n",
    "print(\"=\" * 50)\n",
    "\n",
    "# Calculate potential savings opportunity\n",
    "current_savings = executive_summary['financial']['total_savings']\n",
    "total_spend = executive_summary['financial']['total_spend']\n",
    "\n",
    "# Assuming 10% is target savings rate\n",
    "target_savings_rate = 10.0\n",
    "potential_savings = (total_spend / (1 - target_savings_rate/100)) * (target_savings_rate/100) - current_savings\n",
    "\n",
    "if potential_savings > 0:\n",
    "    print(f\"Potential Additional Savings: ${potential_savings:,.2f}\")\n",
    "    print(f\"Target Savings Rate: {target_savings_rate}%\")\n",
    "    print(f\"Current vs Target Gap: {target_savings_rate - executive_summary['financial']['savings_rate']:.1f} percentage points\")\n",
    "\n",
    "# Identify underperforming categories\n",
    "below_avg_categories = category_performance[category_performance['Avg_Savings_Rate'] < executive_summary['financial']['savings_rate']]\n",
    "if len(below_avg_categories) > 0:\n",
    "    print(f\"\\nCategories Below Average Savings Rate: {len(below_avg_categories)}\")\n",
    "    print(\"Top 3 Improvement Opportunities:\")\n",
    "    for idx, row in below_avg_categories.head(3).iterrows():\n",
    "        gap = executive_summary['financial']['savings_rate'] - row['Avg_Savings_Rate']\n",
    "        potential = row['Total_Spend'] * (gap / 100)\n",
    "        print(f\"  {idx}: {gap:.1f}pp gap, ${potential:,.0f} potential savings\")"
   ]
  },
  {
   "cell_type": "markdown",
   "metadata": {},
   "source": [
    "## 9. Export KPI Results and Reports"
   ]
  },
  {
   "cell_type": "code",
   "execution_count": 16,
   "metadata": {},
   "outputs": [
    {
     "name": "stdout",
     "output_type": "stream",
     "text": [
      "Exporting KPI Analysis Results:\n",
      "==================================================\n",
      "Category analysis exported to: ../data/processed/category_performance_analysis.csv\n",
      "Executive summary exported to: ../reports/executive_kpi_summary.json\n",
      "Comprehensive KPI report exported to: ../reports/procurement_kpi_report.txt\n",
      "Dashboard data exported to: ../data/processed/kpi_dashboard_data.json\n",
      "\n",
      "KPI Analysis Complete!\n",
      "Files generated:\n",
      "  1. ../data/processed/category_performance_analysis.csv - Category performance analysis\n",
      "  2. ../reports/executive_kpi_summary.json - Executive summary (JSON)\n",
      "  3. ../reports/procurement_kpi_report.txt - Comprehensive KPI report\n",
      "  4. ../data/processed/kpi_dashboard_data.json - Dashboard data (JSON)\n",
      "\n",
      "Ready for next phase: Supplier Performance Analysis (Notebook 05)\n"
     ]
    }
   ],
   "source": [
    "# Export comprehensive KPI analysis results\n",
    "import os\n",
    "import json\n",
    "\n",
    "# Ensure output directories exist\n",
    "os.makedirs('../data/processed', exist_ok=True)\n",
    "os.makedirs('../reports', exist_ok=True)\n",
    "\n",
    "print(\"Exporting KPI Analysis Results:\")\n",
    "print(\"=\" * 50)\n",
    "\n",
    "# 1. Export category performance analysis\n",
    "category_output_path = '../data/processed/category_performance_analysis.csv'\n",
    "category_performance.to_csv(category_output_path)\n",
    "print(f\"Category analysis exported to: {category_output_path}\")\n",
    "\n",
    "# 2. Export executive summary as JSON\n",
    "executive_summary_path = '../reports/executive_kpi_summary.json'\n",
    "with open(executive_summary_path, 'w') as f:\n",
    "    json.dump(executive_summary, f, indent=2, default=str)\n",
    "print(f\"Executive summary exported to: {executive_summary_path}\")\n",
    "\n",
    "# 3. Create comprehensive KPI report\n",
    "kpi_report_path = '../reports/procurement_kpi_report.txt'\n",
    "with open(kpi_report_path, 'w') as f:\n",
    "    f.write(\"PROCUREMENT KPI ANALYSIS REPORT\\n\")\n",
    "    f.write(\"=\" * 60 + \"\\n\")\n",
    "    f.write(f\"Generated: {datetime.now().strftime('%Y-%m-%d %H:%M:%S')}\\n\")\n",
    "    f.write(f\"Analysis Period: {executive_summary['data_period']}\\n\")\n",
    "    f.write(f\"Total Records: {executive_summary['total_records']:,}\\n\")\n",
    "    \n",
    "    f.write(\"\\nFINANCIAL PERFORMANCE SUMMARY:\\n\")\n",
    "    f.write(\"-\" * 40 + \"\\n\")\n",
    "    for key, value in executive_summary['financial'].items():\n",
    "        if isinstance(value, float):\n",
    "            if 'rate' in key or 'savings_rate' in key:\n",
    "                f.write(f\"  {key.replace('_', ' ').title()}: {value:.2f}%\\n\")\n",
    "            else:\n",
    "                f.write(f\"  {key.replace('_', ' ').title()}: ${value:,.2f}\\n\")\n",
    "        else:\n",
    "            f.write(f\"  {key.replace('_', ' ').title()}: {value}\\n\")\n",
    "    \n",
    "    f.write(\"\\nSUPPLIER PERFORMANCE SUMMARY:\\n\")\n",
    "    f.write(\"-\" * 40 + \"\\n\")\n",
    "    for key, value in executive_summary['supplier'].items():\n",
    "        if isinstance(value, float):\n",
    "            if 'rate' in key or 'concentration' in key:\n",
    "                f.write(f\"  {key.replace('_', ' ').title()}: {value:.1f}%\\n\")\n",
    "            elif 'time' in key:\n",
    "                f.write(f\"  {key.replace('_', ' ').title()}: {value:.1f} days\\n\")\n",
    "            else:\n",
    "                f.write(f\"  {key.replace('_', ' ').title()}: {value:.1f}\\n\")\n",
    "        else:\n",
    "            f.write(f\"  {key.replace('_', ' ').title()}: {value}\\n\")\n",
    "    \n",
    "    f.write(\"\\nQUALITY PERFORMANCE SUMMARY:\\n\")\n",
    "    f.write(\"-\" * 40 + \"\\n\")\n",
    "    for key, value in executive_summary['quality'].items():\n",
    "        if isinstance(value, float):\n",
    "            f.write(f\"  {key.replace('_', ' ').title()}: {value:.2f}%\\n\")\n",
    "        else:\n",
    "            f.write(f\"  {key.replace('_', ' ').title()}: {value}\\n\")\n",
    "    \n",
    "    f.write(\"\\nSTRATEGIC INSIGHTS:\\n\")\n",
    "    f.write(\"-\" * 40 + \"\\n\")\n",
    "    for i, insight in enumerate(strategic_insights, 1):\n",
    "        f.write(f\"  {i}. {insight}\\n\")\n",
    "    \n",
    "    f.write(\"\\nSTRATEGIC RECOMMENDATIONS:\\n\")\n",
    "    f.write(\"-\" * 40 + \"\\n\")\n",
    "    for i, recommendation in enumerate(strategic_recommendations, 1):\n",
    "        f.write(f\"  {i}. {recommendation}\\n\")\n",
    "    \n",
    "    f.write(\"\\nTOP 10 CATEGORIES BY PERFORMANCE:\\n\")\n",
    "    f.write(\"-\" * 40 + \"\\n\")\n",
    "    for idx, row in category_performance.head(10).iterrows():\n",
    "        f.write(f\"  {idx}:\\n\")\n",
    "        f.write(f\"    Total Spend: ${row['Total_Spend']:,.0f} ({row['Spend_Share_Pct']:.1f}%)\\n\")\n",
    "        f.write(f\"    Avg Savings Rate: {row['Avg_Savings_Rate']:.1f}%\\n\")\n",
    "        f.write(f\"    Avg Lead Time: {row['Avg_Lead_Time']:.1f} days\\n\")\n",
    "        f.write(f\"    Avg Defect Rate: {row['Avg_Defect_Rate']:.2f}%\\n\")\n",
    "        f.write(\"\\n\")\n",
    "\n",
    "print(f\"Comprehensive KPI report exported to: {kpi_report_path}\")\n",
    "\n",
    "# 4. Create KPI dashboard data for future visualization\n",
    "dashboard_data = {\n",
    "    'kpi_metrics': {\n",
    "        'financial': financial_kpis,\n",
    "        'supplier': supplier_kpis,\n",
    "        'quality': quality_kpis,\n",
    "        'risk': risk_kpis\n",
    "    },\n",
    "    'category_performance': category_performance.to_dict('index'),\n",
    "    'executive_summary': executive_summary,\n",
    "    'insights': strategic_insights,\n",
    "    'recommendations': strategic_recommendations\n",
    "}\n",
    "\n",
    "dashboard_path = '../data/processed/kpi_dashboard_data.json'\n",
    "with open(dashboard_path, 'w') as f:\n",
    "    json.dump(dashboard_data, f, indent=2, default=str)\n",
    "print(f\"Dashboard data exported to: {dashboard_path}\")\n",
    "\n",
    "print(f\"\\nKPI Analysis Complete!\")\n",
    "print(f\"Files generated:\")\n",
    "print(f\"  1. {category_output_path} - Category performance analysis\")\n",
    "print(f\"  2. {executive_summary_path} - Executive summary (JSON)\")\n",
    "print(f\"  3. {kpi_report_path} - Comprehensive KPI report\")\n",
    "print(f\"  4. {dashboard_path} - Dashboard data (JSON)\")\n",
    "\n",
    "print(f\"\\nReady for next phase: Supplier Performance Analysis (Notebook 05)\")"
   ]
  },
  {
   "cell_type": "markdown",
   "metadata": {},
   "source": [
    "---\n",
    "\n",
    "## KPI Analysis Complete!\n",
    "\n",
    "**Major Accomplishments:**\n",
    "- Calculated comprehensive financial performance KPIs (spend, savings, negotiation effectiveness)\n",
    "- Analyzed supplier performance metrics (delivery, quality, concentration risk)\n",
    "- Evaluated quality and compliance indicators (defect rates, perfect orders, compliance rates)\n",
    "- Assessed risk factors and early warning indicators\n",
    "- Performed detailed category performance analysis\n",
    "- Generated strategic insights and actionable recommendations\n",
    "- Created executive-level KPI dashboard summary\n",
    "\n",
    "**Key Business Insights Delivered:**\n",
    "- Financial performance benchmarks and improvement opportunities\n",
    "- Supplier risk assessment and dependency analysis\n",
    "- Quality performance trending and optimization areas\n",
    "- Category-specific performance insights\n",
    "- Strategic recommendations for procurement optimization\n",
    "\n",
    "**Executive Dashboard Metrics:**\n",
    "- Total procurement spend and cost savings achieved\n",
    "- Supplier performance scores and risk indicators\n",
    "- Quality metrics and compliance rates\n",
    "- Category performance rankings\n",
    "- Risk assessment and concentration analysis\n",
    "\n",
    "**Ready for Next Phase:**\n",
    "- **Supplier Performance Analysis** (Notebook 05) - Deep dive into individual supplier performance\n",
    "- **Predictive Modeling** (Notebook 06) - Build forecasting and prediction models\n",
    "- **Interactive Dashboard Creation** - Transform insights into visual dashboards\n",
    "\n",
    "**Files Generated:**\n",
    "- Comprehensive KPI analysis reports\n",
    "- Executive summary for stakeholder communication\n",
    "- Category performance analysis for strategic planning\n",
    "- Dashboard-ready data for visualization tools\n",
    "\n",
    "---"
   ]
  }
 ],
 "metadata": {
  "kernelspec": {
   "display_name": "Python 3 (ipykernel)",
   "language": "python",
   "name": "python3"
  },
  "language_info": {
   "codemirror_mode": {
    "name": "ipython",
    "version": 3
   },
   "file_extension": ".py",
   "mimetype": "text/x-python",
   "name": "python",
   "nbconvert_exporter": "python",
   "pygments_lexer": "ipython3",
   "version": "3.13.2"
  }
 },
 "nbformat": 4,
 "nbformat_minor": 4
}
