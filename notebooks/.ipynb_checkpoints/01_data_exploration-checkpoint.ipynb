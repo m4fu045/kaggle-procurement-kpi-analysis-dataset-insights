{
 "cells": [
  {
   "cell_type": "markdown",
   "metadata": {},
   "source": [
    "# Procurement KPI Analytics - Data Exploration\n",
    "\n",
    "**Objective**: Comprehensive exploration of procurement data to understand data quality, patterns, and business insights.\n",
    "\n",
    "**Dataset**: Procurement KPI Analysis Dataset (777 records, 11 features)\n",
    "\n",
    "**Analysis Focus**:\n",
    "- Data quality assessment\n",
    "- Supplier performance patterns\n",
    "- Cost optimization opportunities\n",
    "- Delivery performance trends\n",
    "- Quality and compliance insights\n",
    "\n",
    "---"
   ]
  },
  {
   "cell_type": "markdown",
   "metadata": {},
   "source": [
    "## 1. Setup & Data Loading"
   ]
  },
  {
   "cell_type": "code",
   "execution_count": 22,
   "metadata": {},
   "outputs": [
    {
     "name": "stdout",
     "output_type": "stream",
     "text": [
      "Libraries loaded successfully!\n",
      "Analysis Date: 2025-07-08 14:55\n"
     ]
    }
   ],
   "source": [
    "# Import essential libraries\n",
    "import pandas as pd\n",
    "import numpy as np\n",
    "import matplotlib.pyplot as plt\n",
    "import seaborn as sns\n",
    "import plotly.express as px\n",
    "import plotly.graph_objects as go\n",
    "from plotly.subplots import make_subplots\n",
    "import warnings\n",
    "from datetime import datetime, timedelta\n",
    "import missingno as msno\n",
    "\n",
    "# Configure display options\n",
    "pd.set_option('display.max_columns', None)\n",
    "pd.set_option('display.max_rows', 100)\n",
    "pd.set_option('display.float_format', '{:.2f}'.format)\n",
    "warnings.filterwarnings('ignore')\n",
    "\n",
    "# Set plotting style\n",
    "plt.style.use('seaborn-v0_8')\n",
    "sns.set_palette(\"husl\")\n",
    "\n",
    "print(\"Libraries loaded successfully!\")\n",
    "print(f\"Analysis Date: {datetime.now().strftime('%Y-%m-%d %H:%M')}\")"
   ]
  },
  {
   "cell_type": "code",
   "execution_count": 23,
   "metadata": {},
   "outputs": [
    {
     "name": "stdout",
     "output_type": "stream",
     "text": [
      "Dataset loaded successfully!\n",
      "Dataset shape: 777 rows × 11 columns\n"
     ]
    }
   ],
   "source": [
    "# Load the procurement dataset\n",
    "try:\n",
    "    df = pd.read_csv('../data/raw/Procurement_KPI_Analysis_Dataset.csv')\n",
    "    print(\"Dataset loaded successfully!\")\n",
    "    print(f\"Dataset shape: {df.shape[0]:,} rows × {df.shape[1]} columns\")\n",
    "except FileNotFoundError:\n",
    "    print(\"Dataset not found. Please ensure the file is in '../data/raw/' directory\")\n",
    "    print(\"Expected filename: 'Procurement_KPI_Analysis_Dataset.csv'\")"
   ]
  },
  {
   "cell_type": "markdown",
   "metadata": {},
   "source": [
    "## 2. Initial Data Overview"
   ]
  },
  {
   "cell_type": "code",
   "execution_count": 24,
   "metadata": {},
   "outputs": [
    {
     "name": "stdout",
     "output_type": "stream",
     "text": [
      "First 5 rows of the dataset:\n"
     ]
    },
    {
     "data": {
      "text/html": [
       "<div>\n",
       "<style scoped>\n",
       "    .dataframe tbody tr th:only-of-type {\n",
       "        vertical-align: middle;\n",
       "    }\n",
       "\n",
       "    .dataframe tbody tr th {\n",
       "        vertical-align: top;\n",
       "    }\n",
       "\n",
       "    .dataframe thead th {\n",
       "        text-align: right;\n",
       "    }\n",
       "</style>\n",
       "<table border=\"1\" class=\"dataframe\">\n",
       "  <thead>\n",
       "    <tr style=\"text-align: right;\">\n",
       "      <th></th>\n",
       "      <th>PO_ID</th>\n",
       "      <th>Supplier</th>\n",
       "      <th>Order_Date</th>\n",
       "      <th>Delivery_Date</th>\n",
       "      <th>Item_Category</th>\n",
       "      <th>Order_Status</th>\n",
       "      <th>Quantity</th>\n",
       "      <th>Unit_Price</th>\n",
       "      <th>Negotiated_Price</th>\n",
       "      <th>Defective_Units</th>\n",
       "      <th>Compliance</th>\n",
       "    </tr>\n",
       "  </thead>\n",
       "  <tbody>\n",
       "    <tr>\n",
       "      <th>0</th>\n",
       "      <td>PO-00001</td>\n",
       "      <td>Alpha_Inc</td>\n",
       "      <td>2023-10-17</td>\n",
       "      <td>2023-10-25</td>\n",
       "      <td>Office Supplies</td>\n",
       "      <td>Cancelled</td>\n",
       "      <td>1176</td>\n",
       "      <td>20.13</td>\n",
       "      <td>17.81</td>\n",
       "      <td>NaN</td>\n",
       "      <td>Yes</td>\n",
       "    </tr>\n",
       "    <tr>\n",
       "      <th>1</th>\n",
       "      <td>PO-00002</td>\n",
       "      <td>Delta_Logistics</td>\n",
       "      <td>2022-04-25</td>\n",
       "      <td>2022-05-05</td>\n",
       "      <td>Office Supplies</td>\n",
       "      <td>Delivered</td>\n",
       "      <td>1509</td>\n",
       "      <td>39.32</td>\n",
       "      <td>37.34</td>\n",
       "      <td>235.00</td>\n",
       "      <td>Yes</td>\n",
       "    </tr>\n",
       "    <tr>\n",
       "      <th>2</th>\n",
       "      <td>PO-00003</td>\n",
       "      <td>Gamma_Co</td>\n",
       "      <td>2022-01-26</td>\n",
       "      <td>2022-02-15</td>\n",
       "      <td>MRO</td>\n",
       "      <td>Delivered</td>\n",
       "      <td>910</td>\n",
       "      <td>95.51</td>\n",
       "      <td>92.26</td>\n",
       "      <td>41.00</td>\n",
       "      <td>Yes</td>\n",
       "    </tr>\n",
       "    <tr>\n",
       "      <th>3</th>\n",
       "      <td>PO-00004</td>\n",
       "      <td>Beta_Supplies</td>\n",
       "      <td>2022-10-09</td>\n",
       "      <td>2022-10-28</td>\n",
       "      <td>Packaging</td>\n",
       "      <td>Delivered</td>\n",
       "      <td>1344</td>\n",
       "      <td>99.85</td>\n",
       "      <td>95.52</td>\n",
       "      <td>112.00</td>\n",
       "      <td>Yes</td>\n",
       "    </tr>\n",
       "    <tr>\n",
       "      <th>4</th>\n",
       "      <td>PO-00005</td>\n",
       "      <td>Delta_Logistics</td>\n",
       "      <td>2022-09-08</td>\n",
       "      <td>2022-09-20</td>\n",
       "      <td>Raw Materials</td>\n",
       "      <td>Delivered</td>\n",
       "      <td>1180</td>\n",
       "      <td>64.07</td>\n",
       "      <td>60.53</td>\n",
       "      <td>171.00</td>\n",
       "      <td>No</td>\n",
       "    </tr>\n",
       "  </tbody>\n",
       "</table>\n",
       "</div>"
      ],
      "text/plain": [
       "      PO_ID         Supplier  Order_Date Delivery_Date    Item_Category  \\\n",
       "0  PO-00001        Alpha_Inc  2023-10-17    2023-10-25  Office Supplies   \n",
       "1  PO-00002  Delta_Logistics  2022-04-25    2022-05-05  Office Supplies   \n",
       "2  PO-00003         Gamma_Co  2022-01-26    2022-02-15              MRO   \n",
       "3  PO-00004    Beta_Supplies  2022-10-09    2022-10-28        Packaging   \n",
       "4  PO-00005  Delta_Logistics  2022-09-08    2022-09-20    Raw Materials   \n",
       "\n",
       "  Order_Status  Quantity  Unit_Price  Negotiated_Price  Defective_Units  \\\n",
       "0    Cancelled      1176       20.13             17.81              NaN   \n",
       "1    Delivered      1509       39.32             37.34           235.00   \n",
       "2    Delivered       910       95.51             92.26            41.00   \n",
       "3    Delivered      1344       99.85             95.52           112.00   \n",
       "4    Delivered      1180       64.07             60.53           171.00   \n",
       "\n",
       "  Compliance  \n",
       "0        Yes  \n",
       "1        Yes  \n",
       "2        Yes  \n",
       "3        Yes  \n",
       "4         No  "
      ]
     },
     "metadata": {},
     "output_type": "display_data"
    }
   ],
   "source": [
    "# Display first few rows\n",
    "print(\"First 5 rows of the dataset:\")\n",
    "display(df.head())"
   ]
  },
  {
   "cell_type": "code",
   "execution_count": 25,
   "metadata": {},
   "outputs": [
    {
     "name": "stdout",
     "output_type": "stream",
     "text": [
      "Dataset Information:\n",
      "==================================================\n",
      "<class 'pandas.core.frame.DataFrame'>\n",
      "RangeIndex: 777 entries, 0 to 776\n",
      "Data columns (total 11 columns):\n",
      " #   Column            Non-Null Count  Dtype  \n",
      "---  ------            --------------  -----  \n",
      " 0   PO_ID             777 non-null    object \n",
      " 1   Supplier          777 non-null    object \n",
      " 2   Order_Date        777 non-null    object \n",
      " 3   Delivery_Date     690 non-null    object \n",
      " 4   Item_Category     777 non-null    object \n",
      " 5   Order_Status      777 non-null    object \n",
      " 6   Quantity          777 non-null    int64  \n",
      " 7   Unit_Price        777 non-null    float64\n",
      " 8   Negotiated_Price  777 non-null    float64\n",
      " 9   Defective_Units   641 non-null    float64\n",
      " 10  Compliance        777 non-null    object \n",
      "dtypes: float64(3), int64(1), object(7)\n",
      "memory usage: 66.9+ KB\n",
      "\n",
      "Dataset Shape:\n",
      "Rows: 777\n",
      "Columns: 11\n",
      "Total cells: 8,547\n"
     ]
    }
   ],
   "source": [
    "# Basic dataset information\n",
    "print(\"Dataset Information:\")\n",
    "print(\"=\" * 50)\n",
    "df.info()\n",
    "\n",
    "print(\"\\nDataset Shape:\")\n",
    "print(f\"Rows: {df.shape[0]:,}\")\n",
    "print(f\"Columns: {df.shape[1]}\")\n",
    "print(f\"Total cells: {df.shape[0] * df.shape[1]:,}\")"
   ]
  },
  {
   "cell_type": "code",
   "execution_count": 26,
   "metadata": {},
   "outputs": [
    {
     "name": "stdout",
     "output_type": "stream",
     "text": [
      "Column Analysis:\n",
      "==================================================\n"
     ]
    },
    {
     "data": {
      "text/html": [
       "<div>\n",
       "<style scoped>\n",
       "    .dataframe tbody tr th:only-of-type {\n",
       "        vertical-align: middle;\n",
       "    }\n",
       "\n",
       "    .dataframe tbody tr th {\n",
       "        vertical-align: top;\n",
       "    }\n",
       "\n",
       "    .dataframe thead th {\n",
       "        text-align: right;\n",
       "    }\n",
       "</style>\n",
       "<table border=\"1\" class=\"dataframe\">\n",
       "  <thead>\n",
       "    <tr style=\"text-align: right;\">\n",
       "      <th></th>\n",
       "      <th>Column</th>\n",
       "      <th>Data_Type</th>\n",
       "      <th>Non_Null_Count</th>\n",
       "      <th>Null_Count</th>\n",
       "      <th>Null_Percentage</th>\n",
       "      <th>Unique_Values</th>\n",
       "      <th>Sample_Value</th>\n",
       "    </tr>\n",
       "  </thead>\n",
       "  <tbody>\n",
       "    <tr>\n",
       "      <th>PO_ID</th>\n",
       "      <td>PO_ID</td>\n",
       "      <td>object</td>\n",
       "      <td>777</td>\n",
       "      <td>0</td>\n",
       "      <td>0.00</td>\n",
       "      <td>777</td>\n",
       "      <td>PO-00001</td>\n",
       "    </tr>\n",
       "    <tr>\n",
       "      <th>Supplier</th>\n",
       "      <td>Supplier</td>\n",
       "      <td>object</td>\n",
       "      <td>777</td>\n",
       "      <td>0</td>\n",
       "      <td>0.00</td>\n",
       "      <td>5</td>\n",
       "      <td>Alpha_Inc</td>\n",
       "    </tr>\n",
       "    <tr>\n",
       "      <th>Order_Date</th>\n",
       "      <td>Order_Date</td>\n",
       "      <td>object</td>\n",
       "      <td>777</td>\n",
       "      <td>0</td>\n",
       "      <td>0.00</td>\n",
       "      <td>476</td>\n",
       "      <td>2023-10-17</td>\n",
       "    </tr>\n",
       "    <tr>\n",
       "      <th>Delivery_Date</th>\n",
       "      <td>Delivery_Date</td>\n",
       "      <td>object</td>\n",
       "      <td>690</td>\n",
       "      <td>87</td>\n",
       "      <td>11.20</td>\n",
       "      <td>449</td>\n",
       "      <td>2023-10-25</td>\n",
       "    </tr>\n",
       "    <tr>\n",
       "      <th>Item_Category</th>\n",
       "      <td>Item_Category</td>\n",
       "      <td>object</td>\n",
       "      <td>777</td>\n",
       "      <td>0</td>\n",
       "      <td>0.00</td>\n",
       "      <td>5</td>\n",
       "      <td>Office Supplies</td>\n",
       "    </tr>\n",
       "    <tr>\n",
       "      <th>Order_Status</th>\n",
       "      <td>Order_Status</td>\n",
       "      <td>object</td>\n",
       "      <td>777</td>\n",
       "      <td>0</td>\n",
       "      <td>0.00</td>\n",
       "      <td>4</td>\n",
       "      <td>Cancelled</td>\n",
       "    </tr>\n",
       "    <tr>\n",
       "      <th>Quantity</th>\n",
       "      <td>Quantity</td>\n",
       "      <td>int64</td>\n",
       "      <td>777</td>\n",
       "      <td>0</td>\n",
       "      <td>0.00</td>\n",
       "      <td>623</td>\n",
       "      <td>1176</td>\n",
       "    </tr>\n",
       "    <tr>\n",
       "      <th>Unit_Price</th>\n",
       "      <td>Unit_Price</td>\n",
       "      <td>float64</td>\n",
       "      <td>777</td>\n",
       "      <td>0</td>\n",
       "      <td>0.00</td>\n",
       "      <td>747</td>\n",
       "      <td>20.13</td>\n",
       "    </tr>\n",
       "    <tr>\n",
       "      <th>Negotiated_Price</th>\n",
       "      <td>Negotiated_Price</td>\n",
       "      <td>float64</td>\n",
       "      <td>777</td>\n",
       "      <td>0</td>\n",
       "      <td>0.00</td>\n",
       "      <td>752</td>\n",
       "      <td>17.81</td>\n",
       "    </tr>\n",
       "    <tr>\n",
       "      <th>Defective_Units</th>\n",
       "      <td>Defective_Units</td>\n",
       "      <td>float64</td>\n",
       "      <td>641</td>\n",
       "      <td>136</td>\n",
       "      <td>17.50</td>\n",
       "      <td>202</td>\n",
       "      <td>NaN</td>\n",
       "    </tr>\n",
       "    <tr>\n",
       "      <th>Compliance</th>\n",
       "      <td>Compliance</td>\n",
       "      <td>object</td>\n",
       "      <td>777</td>\n",
       "      <td>0</td>\n",
       "      <td>0.00</td>\n",
       "      <td>2</td>\n",
       "      <td>Yes</td>\n",
       "    </tr>\n",
       "  </tbody>\n",
       "</table>\n",
       "</div>"
      ],
      "text/plain": [
       "                            Column Data_Type  Non_Null_Count  Null_Count  \\\n",
       "PO_ID                        PO_ID    object             777           0   \n",
       "Supplier                  Supplier    object             777           0   \n",
       "Order_Date              Order_Date    object             777           0   \n",
       "Delivery_Date        Delivery_Date    object             690          87   \n",
       "Item_Category        Item_Category    object             777           0   \n",
       "Order_Status          Order_Status    object             777           0   \n",
       "Quantity                  Quantity     int64             777           0   \n",
       "Unit_Price              Unit_Price   float64             777           0   \n",
       "Negotiated_Price  Negotiated_Price   float64             777           0   \n",
       "Defective_Units    Defective_Units   float64             641         136   \n",
       "Compliance              Compliance    object             777           0   \n",
       "\n",
       "                  Null_Percentage  Unique_Values     Sample_Value  \n",
       "PO_ID                        0.00            777         PO-00001  \n",
       "Supplier                     0.00              5        Alpha_Inc  \n",
       "Order_Date                   0.00            476       2023-10-17  \n",
       "Delivery_Date               11.20            449       2023-10-25  \n",
       "Item_Category                0.00              5  Office Supplies  \n",
       "Order_Status                 0.00              4        Cancelled  \n",
       "Quantity                     0.00            623             1176  \n",
       "Unit_Price                   0.00            747            20.13  \n",
       "Negotiated_Price             0.00            752            17.81  \n",
       "Defective_Units             17.50            202              NaN  \n",
       "Compliance                   0.00              2              Yes  "
      ]
     },
     "metadata": {},
     "output_type": "display_data"
    }
   ],
   "source": [
    "# Column details and data types\n",
    "print(\"Column Analysis:\")\n",
    "print(\"=\" * 50)\n",
    "\n",
    "column_info = pd.DataFrame({\n",
    "    'Column': df.columns,\n",
    "    'Data_Type': df.dtypes,\n",
    "    'Non_Null_Count': df.count(),\n",
    "    'Null_Count': df.isnull().sum(),\n",
    "    'Null_Percentage': (df.isnull().sum() / len(df) * 100).round(2),\n",
    "    'Unique_Values': df.nunique(),\n",
    "    'Sample_Value': [df[col].iloc[0] if not df[col].isnull().all() else 'All NaN' for col in df.columns]\n",
    "})\n",
    "\n",
    "display(column_info)"
   ]
  },
  {
   "cell_type": "markdown",
   "metadata": {},
   "source": [
    "## 3. Data Quality Assessment"
   ]
  },
  {
   "cell_type": "code",
   "execution_count": 28,
   "metadata": {},
   "outputs": [
    {
     "name": "stdout",
     "output_type": "stream",
     "text": [
      "Missing Data Analysis:\n",
      "==================================================\n"
     ]
    },
    {
     "data": {
      "text/html": [
       "<div>\n",
       "<style scoped>\n",
       "    .dataframe tbody tr th:only-of-type {\n",
       "        vertical-align: middle;\n",
       "    }\n",
       "\n",
       "    .dataframe tbody tr th {\n",
       "        vertical-align: top;\n",
       "    }\n",
       "\n",
       "    .dataframe thead th {\n",
       "        text-align: right;\n",
       "    }\n",
       "</style>\n",
       "<table border=\"1\" class=\"dataframe\">\n",
       "  <thead>\n",
       "    <tr style=\"text-align: right;\">\n",
       "      <th></th>\n",
       "      <th>Missing_Count</th>\n",
       "      <th>Missing_Percentage</th>\n",
       "    </tr>\n",
       "  </thead>\n",
       "  <tbody>\n",
       "    <tr>\n",
       "      <th>Defective_Units</th>\n",
       "      <td>136</td>\n",
       "      <td>17.50</td>\n",
       "    </tr>\n",
       "    <tr>\n",
       "      <th>Delivery_Date</th>\n",
       "      <td>87</td>\n",
       "      <td>11.20</td>\n",
       "    </tr>\n",
       "  </tbody>\n",
       "</table>\n",
       "</div>"
      ],
      "text/plain": [
       "                 Missing_Count  Missing_Percentage\n",
       "Defective_Units            136               17.50\n",
       "Delivery_Date               87               11.20"
      ]
     },
     "metadata": {},
     "output_type": "display_data"
    },
    {
     "data": {
      "image/png": "[encoded data removed]",
      "text/plain": [
       "<Figure size 2500x1000 with 3 Axes>"
      ]
     },
     "metadata": {},
     "output_type": "display_data"
    }
   ],
   "source": [
    "# Missing data analysis\n",
    "print(\"Missing Data Analysis:\")\n",
    "print(\"=\" * 50)\n",
    "\n",
    "missing_data = df.isnull().sum().sort_values(ascending=False)\n",
    "missing_percent = (missing_data / len(df) * 100).round(2)\n",
    "\n",
    "missing_df = pd.DataFrame({\n",
    "    'Missing_Count': missing_data,\n",
    "    'Missing_Percentage': missing_percent\n",
    "})\n",
    "\n",
    "missing_df = missing_df[missing_df['Missing_Count'] > 0]\n",
    "\n",
    "if len(missing_df) > 0:\n",
    "    display(missing_df)\n",
    "    \n",
    "    # Visualize missing data\n",
    "    plt.figure(figsize=(12, 6))\n",
    "    msno.bar(df)\n",
    "    plt.title('Missing Data by Column', fontsize=14, fontweight='bold')\n",
    "    plt.tight_layout()\n",
    "    plt.show()\n",
    "else:\n",
    "    print(\"No missing data found!\")"
   ]
  },
  {
   "cell_type": "code",
   "execution_count": 29,
   "metadata": {},
   "outputs": [
    {
     "name": "stdout",
     "output_type": "stream",
     "text": [
      "Duplicate Records Analysis:\n",
      "==================================================\n",
      "Total duplicate rows: 0\n",
      "Duplicate percentage: 0.0%\n",
      "Duplicate PO_IDs: 0\n",
      "All PO_IDs are unique - good data integrity!\n"
     ]
    }
   ],
   "source": [
    "# Duplicate records check\n",
    "print(\"Duplicate Records Analysis:\")\n",
    "print(\"=\" * 50)\n",
    "\n",
    "total_duplicates = df.duplicated().sum()\n",
    "duplicate_percentage = (total_duplicates / len(df) * 100).round(2)\n",
    "\n",
    "print(f\"Total duplicate rows: {total_duplicates:,}\")\n",
    "print(f\"Duplicate percentage: {duplicate_percentage}%\")\n",
    "\n",
    "# Check for duplicate PO_IDs (should be unique)\n",
    "duplicate_po_ids = df['PO_ID'].duplicated().sum()\n",
    "print(f\"Duplicate PO_IDs: {duplicate_po_ids:,}\")\n",
    "\n",
    "if duplicate_po_ids > 0:\n",
    "    print(\"\\nWarning: Found duplicate PO_IDs - investigating...\")\n",
    "    duplicate_pos = df[df['PO_ID'].duplicated(keep=False)].sort_values('PO_ID')\n",
    "    display(duplicate_pos.head(10))\n",
    "else:\n",
    "    print(\"All PO_IDs are unique - good data integrity!\")"
   ]
  },
  {
   "cell_type": "markdown",
   "metadata": {},
   "source": [
    "## 4. Descriptive Statistics"
   ]
  },
  {
   "cell_type": "code",
   "execution_count": 30,
   "metadata": {},
   "outputs": [
    {
     "name": "stdout",
     "output_type": "stream",
     "text": [
      "Numerical Columns - Descriptive Statistics:\n",
      "==================================================\n",
      "Numerical columns: ['Quantity', 'Unit_Price', 'Negotiated_Price', 'Defective_Units']\n"
     ]
    },
    {
     "data": {
      "text/html": [
       "<div>\n",
       "<style scoped>\n",
       "    .dataframe tbody tr th:only-of-type {\n",
       "        vertical-align: middle;\n",
       "    }\n",
       "\n",
       "    .dataframe tbody tr th {\n",
       "        vertical-align: top;\n",
       "    }\n",
       "\n",
       "    .dataframe thead th {\n",
       "        text-align: right;\n",
       "    }\n",
       "</style>\n",
       "<table border=\"1\" class=\"dataframe\">\n",
       "  <thead>\n",
       "    <tr style=\"text-align: right;\">\n",
       "      <th></th>\n",
       "      <th>Quantity</th>\n",
       "      <th>Unit_Price</th>\n",
       "      <th>Negotiated_Price</th>\n",
       "      <th>Defective_Units</th>\n",
       "    </tr>\n",
       "  </thead>\n",
       "  <tbody>\n",
       "    <tr>\n",
       "      <th>count</th>\n",
       "      <td>777.00</td>\n",
       "      <td>777.00</td>\n",
       "      <td>777.00</td>\n",
       "      <td>641.00</td>\n",
       "    </tr>\n",
       "    <tr>\n",
       "      <th>mean</th>\n",
       "      <td>1094.66</td>\n",
       "      <td>58.28</td>\n",
       "      <td>53.66</td>\n",
       "      <td>74.80</td>\n",
       "    </tr>\n",
       "    <tr>\n",
       "      <th>std</th>\n",
       "      <td>647.84</td>\n",
       "      <td>28.10</td>\n",
       "      <td>26.09</td>\n",
       "      <td>69.19</td>\n",
       "    </tr>\n",
       "    <tr>\n",
       "      <th>min</th>\n",
       "      <td>51.00</td>\n",
       "      <td>10.84</td>\n",
       "      <td>9.27</td>\n",
       "      <td>0.00</td>\n",
       "    </tr>\n",
       "    <tr>\n",
       "      <th>25%</th>\n",
       "      <td>615.00</td>\n",
       "      <td>33.29</td>\n",
       "      <td>30.46</td>\n",
       "      <td>26.00</td>\n",
       "    </tr>\n",
       "    <tr>\n",
       "      <th>50%</th>\n",
       "      <td>1075.00</td>\n",
       "      <td>58.95</td>\n",
       "      <td>53.80</td>\n",
       "      <td>49.00</td>\n",
       "    </tr>\n",
       "    <tr>\n",
       "      <th>75%</th>\n",
       "      <td>1548.00</td>\n",
       "      <td>83.13</td>\n",
       "      <td>76.55</td>\n",
       "      <td>100.00</td>\n",
       "    </tr>\n",
       "    <tr>\n",
       "      <th>max</th>\n",
       "      <td>5000.00</td>\n",
       "      <td>109.17</td>\n",
       "      <td>107.39</td>\n",
       "      <td>321.00</td>\n",
       "    </tr>\n",
       "  </tbody>\n",
       "</table>\n",
       "</div>"
      ],
      "text/plain": [
       "       Quantity  Unit_Price  Negotiated_Price  Defective_Units\n",
       "count    777.00      777.00            777.00           641.00\n",
       "mean    1094.66       58.28             53.66            74.80\n",
       "std      647.84       28.10             26.09            69.19\n",
       "min       51.00       10.84              9.27             0.00\n",
       "25%      615.00       33.29             30.46            26.00\n",
       "50%     1075.00       58.95             53.80            49.00\n",
       "75%     1548.00       83.13             76.55           100.00\n",
       "max     5000.00      109.17            107.39           321.00"
      ]
     },
     "metadata": {},
     "output_type": "display_data"
    }
   ],
   "source": [
    "# Numerical columns analysis\n",
    "print(\"Numerical Columns - Descriptive Statistics:\")\n",
    "print(\"=\" * 50)\n",
    "\n",
    "numerical_cols = df.select_dtypes(include=[np.number]).columns.tolist()\n",
    "print(f\"Numerical columns: {numerical_cols}\")\n",
    "\n",
    "if numerical_cols:\n",
    "    display(df[numerical_cols].describe().round(2))"
   ]
  },
  {
   "cell_type": "code",
   "execution_count": 31,
   "metadata": {},
   "outputs": [
    {
     "name": "stdout",
     "output_type": "stream",
     "text": [
      "Categorical Columns - Value Counts:\n",
      "==================================================\n",
      "Categorical columns: ['PO_ID', 'Supplier', 'Order_Date', 'Delivery_Date', 'Item_Category', 'Order_Status', 'Compliance']\n",
      "\n",
      "PO_ID:\n",
      "  Unique values: 777\n",
      "  Most common: PO-00001 (1 records)\n",
      "  Top 5 values:\n"
     ]
    },
    {
     "data": {
      "text/plain": [
       "PO_ID\n",
       "PO-00001    1\n",
       "PO-00535    1\n",
       "PO-00513    1\n",
       "PO-00514    1\n",
       "PO-00515    1\n",
       "Name: count, dtype: int64"
      ]
     },
     "metadata": {},
     "output_type": "display_data"
    },
    {
     "name": "stdout",
     "output_type": "stream",
     "text": [
      "\n",
      "Supplier:\n",
      "  Unique values: 5\n",
      "  Most common: Delta_Logistics (171 records)\n"
     ]
    },
    {
     "data": {
      "text/plain": [
       "Supplier\n",
       "Delta_Logistics    171\n",
       "Epsilon_Group      166\n",
       "Beta_Supplies      156\n",
       "Gamma_Co           143\n",
       "Alpha_Inc          141\n",
       "Name: count, dtype: int64"
      ]
     },
     "metadata": {},
     "output_type": "display_data"
    },
    {
     "name": "stdout",
     "output_type": "stream",
     "text": [
      "\n",
      "Order_Date:\n",
      "  Unique values: 476\n",
      "  Most common: 2022-09-29 (6 records)\n",
      "  Top 5 values:\n"
     ]
    },
    {
     "data": {
      "text/plain": [
       "Order_Date\n",
       "2022-09-29    6\n",
       "2023-01-24    5\n",
       "2022-02-21    4\n",
       "2023-04-30    4\n",
       "2022-07-14    4\n",
       "Name: count, dtype: int64"
      ]
     },
     "metadata": {},
     "output_type": "display_data"
    },
    {
     "name": "stdout",
     "output_type": "stream",
     "text": [
      "\n",
      "Delivery_Date:\n",
      "  Unique values: 449\n",
      "  Most common: 2022-03-04 (4 records)\n",
      "  Top 5 values:\n"
     ]
    },
    {
     "data": {
      "text/plain": [
       "Delivery_Date\n",
       "2022-03-04    4\n",
       "2022-02-13    4\n",
       "2023-02-02    4\n",
       "2023-03-26    4\n",
       "2022-03-12    4\n",
       "Name: count, dtype: int64"
      ]
     },
     "metadata": {},
     "output_type": "display_data"
    },
    {
     "name": "stdout",
     "output_type": "stream",
     "text": [
      "\n",
      "Item_Category:\n",
      "  Unique values: 5\n",
      "  Most common: Office Supplies (174 records)\n"
     ]
    },
    {
     "data": {
      "text/plain": [
       "Item_Category\n",
       "Office Supplies    174\n",
       "MRO                164\n",
       "Electronics        152\n",
       "Packaging          148\n",
       "Raw Materials      139\n",
       "Name: count, dtype: int64"
      ]
     },
     "metadata": {},
     "output_type": "display_data"
    },
    {
     "name": "stdout",
     "output_type": "stream",
     "text": [
      "\n",
      "Order_Status:\n",
      "  Unique values: 4\n",
      "  Most common: Delivered (560 records)\n"
     ]
    },
    {
     "data": {
      "text/plain": [
       "Order_Status\n",
       "Delivered              560\n",
       "Pending                 81\n",
       "Partially Delivered     73\n",
       "Cancelled               63\n",
       "Name: count, dtype: int64"
      ]
     },
     "metadata": {},
     "output_type": "display_data"
    },
    {
     "name": "stdout",
     "output_type": "stream",
     "text": [
      "\n",
      "Compliance:\n",
      "  Unique values: 2\n",
      "  Most common: Yes (640 records)\n"
     ]
    },
    {
     "data": {
      "text/plain": [
       "Compliance\n",
       "Yes    640\n",
       "No     137\n",
       "Name: count, dtype: int64"
      ]
     },
     "metadata": {},
     "output_type": "display_data"
    }
   ],
   "source": [
    "# Categorical columns analysis\n",
    "print(\"Categorical Columns - Value Counts:\")\n",
    "print(\"=\" * 50)\n",
    "\n",
    "categorical_cols = df.select_dtypes(include=['object']).columns.tolist()\n",
    "print(f\"Categorical columns: {categorical_cols}\")\n",
    "\n",
    "for col in categorical_cols:\n",
    "    print(f\"\\n{col}:\")\n",
    "    value_counts = df[col].value_counts()\n",
    "    print(f\"  Unique values: {df[col].nunique()}\")\n",
    "    print(f\"  Most common: {value_counts.index[0]} ({value_counts.iloc[0]} records)\")\n",
    "    \n",
    "    if df[col].nunique() <= 10:\n",
    "        display(value_counts)\n",
    "    else:\n",
    "        print(f\"  Top 5 values:\")\n",
    "        display(value_counts.head())"
   ]
  },
  {
   "cell_type": "markdown",
   "metadata": {},
   "source": [
    "## 5. Date Analysis & Data Preparation"
   ]
  },
  {
   "cell_type": "code",
   "execution_count": 34,
   "metadata": {},
   "outputs": [
    {
     "name": "stdout",
     "output_type": "stream",
     "text": [
      "Date Analysis:\n",
      "==================================================\n",
      "Converted Order_Date to datetime\n",
      "Date range: 2022-01-01 00:00:00 to 2024-01-01 00:00:00\n",
      "Converted Delivery_Date to datetime\n",
      "Date range: 2022-01-06 00:00:00 to 2024-01-12 00:00:00\n",
      "\n",
      "Lead Time Analysis:\n",
      "Average lead time: 10.8 days\n",
      "Median lead time: 11.0 days\n",
      "Min lead time: -5.0 days\n",
      "Max lead time: 20.0 days\n"
     ]
    }
   ],
   "source": [
    "# Convert date columns and analyze temporal patterns\n",
    "print(\"Date Analysis:\")\n",
    "print(\"=\" * 50)\n",
    "\n",
    "# Create a copy for date processing\n",
    "df_processed = df.copy()\n",
    "\n",
    "# Convert date columns\n",
    "date_columns = ['Order_Date', 'Delivery_Date']\n",
    "\n",
    "for col in date_columns:\n",
    "    if col in df_processed.columns:\n",
    "        try:\n",
    "            df_processed[col] = pd.to_datetime(df_processed[col])\n",
    "            print(f\"Converted {col} to datetime\")\n",
    "            print(f\"Date range: {df_processed[col].min()} to {df_processed[col].max()}\")\n",
    "        except Exception as e:\n",
    "            print(f\"Error converting {col}: {e}\")\n",
    "            print(f\"Sample values: {df[col].head(3).tolist()}\")\n",
    "\n",
    "# Calculate lead time (delivery time)\n",
    "if 'Order_Date' in df_processed.columns and 'Delivery_Date' in df_processed.columns:\n",
    "    df_processed['Lead_Time_Days'] = (df_processed['Delivery_Date'] - df_processed['Order_Date']).dt.days\n",
    "    print(f\"\\nLead Time Analysis:\")\n",
    "    print(f\"Average lead time: {df_processed['Lead_Time_Days'].mean():.1f} days\")\n",
    "    print(f\"Median lead time: {df_processed['Lead_Time_Days'].median():.1f} days\")\n",
    "    print(f\"Min lead time: {df_processed['Lead_Time_Days'].min()} days\")\n",
    "    print(f\"Max lead time: {df_processed['Lead_Time_Days'].max()} days\")"
   ]
  },
  {
   "cell_type": "markdown",
   "metadata": {},
   "source": [
    "## 6. Financial Analysis"
   ]
  },
  {
   "cell_type": "code",
   "execution_count": 36,
   "metadata": {},
   "outputs": [
    {
     "name": "stdout",
     "output_type": "stream",
     "text": [
      "Financial Analysis:\n",
      "==================================================\n",
      "Total Original Spend: $49,304,822.86\n",
      "Total Negotiated Spend: $45,373,696.39\n",
      "Total Cost Savings: $3,931,126.47\n",
      "Average Savings Rate: 7.97%\n",
      "\n",
      "Price Statistics:\n"
     ]
    },
    {
     "data": {
      "text/html": [
       "<div>\n",
       "<style scoped>\n",
       "    .dataframe tbody tr th:only-of-type {\n",
       "        vertical-align: middle;\n",
       "    }\n",
       "\n",
       "    .dataframe tbody tr th {\n",
       "        vertical-align: top;\n",
       "    }\n",
       "\n",
       "    .dataframe thead th {\n",
       "        text-align: right;\n",
       "    }\n",
       "</style>\n",
       "<table border=\"1\" class=\"dataframe\">\n",
       "  <thead>\n",
       "    <tr style=\"text-align: right;\">\n",
       "      <th></th>\n",
       "      <th>Unit_Price</th>\n",
       "      <th>Negotiated_Price</th>\n",
       "    </tr>\n",
       "  </thead>\n",
       "  <tbody>\n",
       "    <tr>\n",
       "      <th>count</th>\n",
       "      <td>777.00</td>\n",
       "      <td>777.00</td>\n",
       "    </tr>\n",
       "    <tr>\n",
       "      <th>mean</th>\n",
       "      <td>58.28</td>\n",
       "      <td>53.66</td>\n",
       "    </tr>\n",
       "    <tr>\n",
       "      <th>std</th>\n",
       "      <td>28.10</td>\n",
       "      <td>26.09</td>\n",
       "    </tr>\n",
       "    <tr>\n",
       "      <th>min</th>\n",
       "      <td>10.84</td>\n",
       "      <td>9.27</td>\n",
       "    </tr>\n",
       "    <tr>\n",
       "      <th>25%</th>\n",
       "      <td>33.29</td>\n",
       "      <td>30.46</td>\n",
       "    </tr>\n",
       "    <tr>\n",
       "      <th>50%</th>\n",
       "      <td>58.95</td>\n",
       "      <td>53.80</td>\n",
       "    </tr>\n",
       "    <tr>\n",
       "      <th>75%</th>\n",
       "      <td>83.13</td>\n",
       "      <td>76.55</td>\n",
       "    </tr>\n",
       "    <tr>\n",
       "      <th>max</th>\n",
       "      <td>109.17</td>\n",
       "      <td>107.39</td>\n",
       "    </tr>\n",
       "  </tbody>\n",
       "</table>\n",
       "</div>"
      ],
      "text/plain": [
       "       Unit_Price  Negotiated_Price\n",
       "count      777.00            777.00\n",
       "mean        58.28             53.66\n",
       "std         28.10             26.09\n",
       "min         10.84              9.27\n",
       "25%         33.29             30.46\n",
       "50%         58.95             53.80\n",
       "75%         83.13             76.55\n",
       "max        109.17            107.39"
      ]
     },
     "metadata": {},
     "output_type": "display_data"
    }
   ],
   "source": [
    "# Calculate key financial metrics\n",
    "print(\"Financial Analysis:\")\n",
    "print(\"=\" * 50)\n",
    "\n",
    "# Calculate total order values and savings\n",
    "if all(col in df_processed.columns for col in ['Unit_Price', 'Negotiated_Price', 'Quantity']):\n",
    "    df_processed['Total_Original_Value'] = df_processed['Unit_Price'] * df_processed['Quantity']\n",
    "    df_processed['Total_Negotiated_Value'] = df_processed['Negotiated_Price'] * df_processed['Quantity']\n",
    "    df_processed['Cost_Savings'] = df_processed['Total_Original_Value'] - df_processed['Total_Negotiated_Value']\n",
    "    df_processed['Savings_Percentage'] = (df_processed['Cost_Savings'] / df_processed['Total_Original_Value'] * 100).round(2)\n",
    "    \n",
    "    # Financial summary\n",
    "    total_original_spend = df_processed['Total_Original_Value'].sum()\n",
    "    total_negotiated_spend = df_processed['Total_Negotiated_Value'].sum()\n",
    "    total_savings = df_processed['Cost_Savings'].sum()\n",
    "    avg_savings_rate = df_processed['Savings_Percentage'].mean()\n",
    "    \n",
    "    print(f\"Total Original Spend: ${total_original_spend:,.2f}\")\n",
    "    print(f\"Total Negotiated Spend: ${total_negotiated_spend:,.2f}\")\n",
    "    print(f\"Total Cost Savings: ${total_savings:,.2f}\")\n",
    "    print(f\"Average Savings Rate: {avg_savings_rate:.2f}%\")\n",
    "    #print(f\"Overall Savings Rate: {(total_savings/total_original_spend*100):.2f}%\")\n",
    "\n",
    "# Price analysis\n",
    "price_stats = df_processed[['Unit_Price', 'Negotiated_Price']].describe()\n",
    "print(f\"\\nPrice Statistics:\")\n",
    "display(price_stats)"
   ]
  },
  {
   "cell_type": "markdown",
   "metadata": {},
   "source": [
    "## 7. Supplier Analysis"
   ]
  },
  {
   "cell_type": "code",
   "execution_count": 39,
   "metadata": {},
   "outputs": [
    {
     "name": "stdout",
     "output_type": "stream",
     "text": [
      "Supplier Performance Analysis:\n",
      "==================================================\n",
      "Total Suppliers: 5\n",
      "Average Orders per Supplier: 155.4\n",
      "\n",
      "Suppliers by Order Count:\n"
     ]
    },
    {
     "data": {
      "text/plain": [
       "Supplier\n",
       "Delta_Logistics    171\n",
       "Epsilon_Group      166\n",
       "Beta_Supplies      156\n",
       "Gamma_Co           143\n",
       "Alpha_Inc          141\n",
       "Name: count, dtype: int64"
      ]
     },
     "metadata": {},
     "output_type": "display_data"
    },
    {
     "name": "stdout",
     "output_type": "stream",
     "text": [
      "\n",
      "Suppliers by Total Spend:\n",
      "Beta_Supplies: $9,858,665.90\n",
      "Epsilon_Group: $9,851,156.06\n",
      "Delta_Logistics: $9,236,240.47\n",
      "Gamma_Co: $8,587,921.71\n",
      "Alpha_Inc: $7,839,712.25\n"
     ]
    }
   ],
   "source": [
    "# Comprehensive supplier analysis\n",
    "print(\"Supplier Performance Analysis:\")\n",
    "print(\"=\" * 50)\n",
    "\n",
    "if 'Supplier' in df_processed.columns:\n",
    "    # Basic supplier metrics\n",
    "    supplier_count = df_processed['Supplier'].nunique()\n",
    "    avg_orders_per_supplier = len(df_processed) / supplier_count\n",
    "    \n",
    "    print(f\"Total Suppliers: {supplier_count}\")\n",
    "    print(f\"Average Orders per Supplier: {avg_orders_per_supplier:.1f}\")\n",
    "    \n",
    "    # Top suppliers by order volume\n",
    "    top_suppliers_volume = df_processed['Supplier'].value_counts().head(10)\n",
    "    print(f\"\\nSuppliers by Order Count:\")\n",
    "    display(top_suppliers_volume)\n",
    "    \n",
    "    # Top suppliers by spend\n",
    "    if 'Total_Negotiated_Value' in df_processed.columns:\n",
    "        top_suppliers_spend = df_processed.groupby('Supplier')['Total_Negotiated_Value'].sum().sort_values(ascending=False).head(10)\n",
    "        print(f\"\\nSuppliers by Total Spend:\")\n",
    "        for supplier, spend in top_suppliers_spend.items():\n",
    "            print(f\"{supplier}: ${spend:,.2f}\")"
   ]
  },
  {
   "cell_type": "markdown",
   "metadata": {},
   "source": [
    "## 8. Order Status & Category Analysis"
   ]
  },
  {
   "cell_type": "code",
   "execution_count": 41,
   "metadata": {},
   "outputs": [
    {
     "name": "stdout",
     "output_type": "stream",
     "text": [
      "Order Status Analysis:\n",
      "==================================================\n",
      "Order Status Distribution:\n"
     ]
    },
    {
     "data": {
      "text/html": [
       "<div>\n",
       "<style scoped>\n",
       "    .dataframe tbody tr th:only-of-type {\n",
       "        vertical-align: middle;\n",
       "    }\n",
       "\n",
       "    .dataframe tbody tr th {\n",
       "        vertical-align: top;\n",
       "    }\n",
       "\n",
       "    .dataframe thead th {\n",
       "        text-align: right;\n",
       "    }\n",
       "</style>\n",
       "<table border=\"1\" class=\"dataframe\">\n",
       "  <thead>\n",
       "    <tr style=\"text-align: right;\">\n",
       "      <th></th>\n",
       "      <th>Count</th>\n",
       "      <th>Percentage</th>\n",
       "    </tr>\n",
       "    <tr>\n",
       "      <th>Order_Status</th>\n",
       "      <th></th>\n",
       "      <th></th>\n",
       "    </tr>\n",
       "  </thead>\n",
       "  <tbody>\n",
       "    <tr>\n",
       "      <th>Delivered</th>\n",
       "      <td>560</td>\n",
       "      <td>72.07</td>\n",
       "    </tr>\n",
       "    <tr>\n",
       "      <th>Pending</th>\n",
       "      <td>81</td>\n",
       "      <td>10.42</td>\n",
       "    </tr>\n",
       "    <tr>\n",
       "      <th>Partially Delivered</th>\n",
       "      <td>73</td>\n",
       "      <td>9.40</td>\n",
       "    </tr>\n",
       "    <tr>\n",
       "      <th>Cancelled</th>\n",
       "      <td>63</td>\n",
       "      <td>8.11</td>\n",
       "    </tr>\n",
       "  </tbody>\n",
       "</table>\n",
       "</div>"
      ],
      "text/plain": [
       "                     Count  Percentage\n",
       "Order_Status                          \n",
       "Delivered              560       72.07\n",
       "Pending                 81       10.42\n",
       "Partially Delivered     73        9.40\n",
       "Cancelled               63        8.11"
      ]
     },
     "metadata": {},
     "output_type": "display_data"
    },
    {
     "name": "stdout",
     "output_type": "stream",
     "text": [
      "\n",
      "Item Category Analysis:\n",
      "==================================================\n",
      "Total Categories: 5\n"
     ]
    },
    {
     "data": {
      "text/plain": [
       "Item_Category\n",
       "Office Supplies    174\n",
       "MRO                164\n",
       "Electronics        152\n",
       "Packaging          148\n",
       "Raw Materials      139\n",
       "Name: count, dtype: int64"
      ]
     },
     "metadata": {},
     "output_type": "display_data"
    }
   ],
   "source": [
    "# Order status distribution\n",
    "print(\"Order Status Analysis:\")\n",
    "print(\"=\" * 50)\n",
    "\n",
    "if 'Order_Status' in df_processed.columns:\n",
    "    status_counts = df_processed['Order_Status'].value_counts()\n",
    "    status_percentages = (status_counts / len(df_processed) * 100).round(2)\n",
    "    \n",
    "    status_summary = pd.DataFrame({\n",
    "        'Count': status_counts,\n",
    "        'Percentage': status_percentages\n",
    "    })\n",
    "    \n",
    "    print(\"Order Status Distribution:\")\n",
    "    display(status_summary)\n",
    "\n",
    "# Item category analysis\n",
    "print(f\"\\nItem Category Analysis:\")\n",
    "print(\"=\" * 50)\n",
    "\n",
    "if 'Item_Category' in df_processed.columns:\n",
    "    category_counts = df_processed['Item_Category'].value_counts()\n",
    "    print(f\"Total Categories: {df_processed['Item_Category'].nunique()}\")\n",
    "    \n",
    "    if df_processed['Item_Category'].nunique() <= 15:\n",
    "        display(category_counts)\n",
    "    else:\n",
    "        print(\"Categories:\")\n",
    "        display(category_counts.head(10))"
   ]
  },
  {
   "cell_type": "markdown",
   "metadata": {},
   "source": [
    "## 9. Quality & Compliance Analysis"
   ]
  },
  {
   "cell_type": "code",
   "execution_count": 52,
   "metadata": {},
   "outputs": [
    {
     "name": "stdout",
     "output_type": "stream",
     "text": [
      "Quality Analysis:\n",
      "==================================================\n",
      "Total Units Ordered: 850,551\n",
      "Total Defective Units: 47,949.0\n",
      "Overall Defect Rate: 5.64%\n",
      "Orders with Defects: 637 (81.98%)\n",
      "Perfect Orders: 140 (18.02%)\n",
      "\n",
      "Compliance Analysis:\n",
      "==================================================\n",
      "Compliance Status Distribution:\n"
     ]
    },
    {
     "data": {
      "text/plain": [
       "Compliance\n",
       "Yes    640\n",
       "No     137\n",
       "Name: count, dtype: int64"
      ]
     },
     "metadata": {},
     "output_type": "display_data"
    },
    {
     "name": "stdout",
     "output_type": "stream",
     "text": [
      "\n",
      " Overall Compliance Rate: 82.37%\n"
     ]
    }
   ],
   "source": [
    "# Quality analysis (defective units)\n",
    "print(\"Quality Analysis:\")\n",
    "print(\"=\" * 50)\n",
    "\n",
    "if 'Defective_Units' in df_processed.columns:\n",
    "    # Calculate defect rate\n",
    "    df_processed['Defect_Rate'] = (df_processed['Defective_Units'] / df_processed['Quantity'] * 100)\n",
    "    \n",
    "    # Quality metrics\n",
    "    total_units = df_processed['Quantity'].sum()\n",
    "    total_defective = df_processed['Defective_Units'].sum()\n",
    "    overall_defect_rate = (total_defective / total_units * 100).round(2)\n",
    "    \n",
    "    print(f\"Total Units Ordered: {total_units:,}\")\n",
    "    print(f\"Total Defective Units: {total_defective:,}\")\n",
    "    print(f\"Overall Defect Rate: {overall_defect_rate}%\")\n",
    "    \n",
    "    # Orders with defects\n",
    "    orders_with_defects = (df_processed['Defective_Units'] > 0).sum()\n",
    "    defect_percentage = (orders_with_defects / len(df_processed) * 100).round(2)\n",
    "    \n",
    "    print(f\"Orders with Defects: {orders_with_defects} ({defect_percentage}%)\")\n",
    "    print(f\"Perfect Orders: {len(df_processed) - orders_with_defects} ({(100-defect_percentage):.2f}%)\")\n",
    "\n",
    "# Compliance analysis\n",
    "print(f\"\\nCompliance Analysis:\")\n",
    "print(\"=\" * 50)\n",
    "\n",
    "if 'Compliance' in df_processed.columns:\n",
    "    compliance_counts = df_processed['Compliance'].value_counts()\n",
    "    compliance_rate = (compliance_counts.get('Yes', 0) / len(df_processed) * 100)\n",
    "    \n",
    "    print(f\"Compliance Status Distribution:\")\n",
    "    display(compliance_counts)\n",
    "    print(f\"\\n Overall Compliance Rate: {compliance_rate:.2f}%\")"
   ]
  },
  {
   "cell_type": "markdown",
   "metadata": {},
   "source": [
    "## 10. Data Visualizations"
   ]
  },
  {
   "cell_type": "code",
   "execution_count": 53,
   "metadata": {},
   "outputs": [
    {
     "data": {
      "application/vnd.plotly.v1+json": {
       "config": {
        "plotlyServerURL": "https://plot.ly"
       },
       "data": [
        {
         "domain": {
          "x": [
           0,
           0.45
          ],
          "y": [
           0.625,
           1
          ]
         },
         "labels": [
          "Delivered",
          "Pending",
          "Partially Delivered",
          "Cancelled"
         ],
         "name": "Order Status",
         "type": "pie",
         "values": {
          "bdata": "MAJRAEkAPwA=",
          "dtype": "i2"
         }
        },
        {
         "name": "Lead Time",
         "nbinsx": 30,
         "type": "histogram",
         "x": {
          "bdata": "AAAAAAAAIEAAAAAAAAAkQAAAAAAAADRAAAAAAAAAM0AAAAAAAAAoQAAAAAAAAChAAAAAAAAAJkAAAAAAAAAsQAAAAAAAABBAAAAAAAAAKEAAAAAAAAAuQAAAAAAAACxAAAAAAAAAMUAAAAAAAAD4fwAAAAAAADJAAAAAAAAALkAAAAAAAAAzQAAAAAAAACBAAAAAAAAACEAAAAAAAAAuQAAAAAAAAC5AAAAAAAAAKkAAAAAAAAAwQAAAAAAAABhAAAAAAAAAKEAAAAAAAAAmQAAAAAAAADRAAAAAAAAAIkAAAAAAAAAxQAAAAAAAAPh/AAAAAAAALEAAAAAAAAAgQAAAAAAAADBAAAAAAAAA8D8AAAAAAAAgQAAAAAAAACBAAAAAAAAAM0AAAAAAAAAyQAAAAAAAACxAAAAAAAAA+H8AAAAAAAAoQAAAAAAAACJAAAAAAAAAIEAAAAAAAAAcQAAAAAAAADJAAAAAAAAA+H8AAAAAAAAcQAAAAAAAADBAAAAAAAAAM0AAAAAAAAD4fwAAAAAAACRAAAAAAAAA+H8AAAAAAAAkQAAAAAAAABhAAAAAAAAAMkAAAAAAAAAAQAAAAAAAAPh/AAAAAAAAFEAAAAAAAAAwQAAAAAAAAPA/AAAAAAAAMEAAAAAAAAAmQAAAAAAAAABAAAAAAAAAMEAAAAAAAAAIQAAAAAAAAAhAAAAAAAAAAEAAAAAAAAAzQAAAAAAAAPh/AAAAAAAAIEAAAAAAAAAsQAAAAAAAADRAAAAAAAAAMUAAAAAAAAAuQAAAAAAAADNAAAAAAAAA+H8AAAAAAAA0QAAAAAAAABBAAAAAAAAA+H8AAAAAAAAcQAAAAAAAAAhAAAAAAAAAGEAAAAAAAAAYQAAAAAAAAC5AAAAAAAAAMEAAAAAAAAAgQAAAAAAAACRAAAAAAAAALkAAAAAAAAAgQAAAAAAAAPh/AAAAAAAAM0AAAAAAAAAcQAAAAAAAADJAAAAAAAAAFEAAAAAAAAD4fwAAAAAAAAhAAAAAAAAAJEAAAAAAAAAzQAAAAAAAAPh/AAAAAAAALkAAAAAAAAAUwAAAAAAAAPh/AAAAAAAAMEAAAAAAAAA0QAAAAAAAACxAAAAAAAAANEAAAAAAAAAIQAAAAAAAADNAAAAAAAAA8D8AAAAAAAD4fwAAAAAAACJAAAAAAAAAGEAAAAAAAAAuQAAAAAAAAPh/AAAAAAAAM0AAAAAAAAAwQAAAAAAAAPh/AAAAAAAALEAAAAAAAAAQQAAAAAAAACZAAAAAAAAAMEAAAAAAAAAqQAAAAAAAADJAAAAAAAAACEAAAAAAAAAmQAAAAAAAACpAAAAAAAAA8D8AAAAAAAAyQAAAAAAAAABAAAAAAAAAKEAAAAAAAAAwQAAAAAAAAABAAAAAAAAAMkAAAAAAAAAkQAAAAAAAADBAAAAAAAAANEAAAAAAAAAYQAAAAAAAAPA/AAAAAAAACEAAAAAAAAAQQAAAAAAAABBAAAAAAAAAFEAAAAAAAAAkQAAAAAAAACJAAAAAAAAAMEAAAAAAAAD4fwAAAAAAADJAAAAAAAAAHEAAAAAAAAD4fwAAAAAAABRAAAAAAAAAIkAAAAAAAAAsQAAAAAAAADFAAAAAAAAA8D8AAAAAAAAkQAAAAAAAADNAAAAAAAAA+H8AAAAAAAAUQAAAAAAAADBAAAAAAAAAMkAAAAAAAAAqQAAAAAAAACZAAAAAAAAAIEAAAAAAAAAgQAAAAAAAACxAAAAAAAAAMEAAAAAAAAAqQAAAAAAAABRAAAAAAAAAAEAAAAAAAAAzQAAAAAAAABBAAAAAAAAALkAAAAAAAAAuQAAAAAAAABRAAAAAAAAAFEAAAAAAAAAiQAAAAAAAACpAAAAAAAAAJkAAAAAAAAAyQAAAAAAAACZAAAAAAAAAMEAAAAAAAAAAQAAAAAAAACBAAAAAAAAAJEAAAAAAAAD4fwAAAAAAACxAAAAAAAAA+H8AAAAAAAAQQAAAAAAAACRAAAAAAAAA+H8AAAAAAAAAQAAAAAAAAChAAAAAAAAAIEAAAAAAAAAzQAAAAAAAABhAAAAAAAAACEAAAAAAAAAqQAAAAAAAACBAAAAAAAAAM0AAAAAAAAAuQAAAAAAAAC5AAAAAAAAA8D8AAAAAAAAuQAAAAAAAAPh/AAAAAAAAGEAAAAAAAAAoQAAAAAAAAPh/AAAAAAAALEAAAAAAAAAuQAAAAAAAABxAAAAAAAAA+H8AAAAAAAAQQAAAAAAAADNAAAAAAAAAJEAAAAAAAAD4fwAAAAAAACpAAAAAAAAAM0AAAAAAAAAAQAAAAAAAAPh/AAAAAAAAJEAAAAAAAAAgQAAAAAAAAChAAAAAAAAAHEAAAAAAAAAUQAAAAAAAAABAAAAAAAAALkAAAAAAAAAoQAAAAAAAAAhAAAAAAAAA+H8AAAAAAAAsQAAAAAAAABRAAAAAAAAAKEAAAAAAAAAiQAAAAAAAACJAAAAAAAAA+H8AAAAAAAD4fwAAAAAAAPh/AAAAAAAAJkAAAAAAAAAuQAAAAAAAAPh/AAAAAAAAIEAAAAAAAAAqQAAAAAAAAPh/AAAAAAAAKEAAAAAAAAAqQAAAAAAAADJAAAAAAAAAKEAAAAAAAAAiQAAAAAAAAChAAAAAAAAAIEAAAAAAAAA0QAAAAAAAADJAAAAAAAAANEAAAAAAAAAIQAAAAAAAAC5AAAAAAAAA+H8AAAAAAAAsQAAAAAAAAABAAAAAAAAA+H8AAAAAAAAwQAAAAAAAACBAAAAAAAAAFEAAAAAAAAAoQAAAAAAAADJAAAAAAAAAFEAAAAAAAAAQQAAAAAAAADRAAAAAAAAAIkAAAAAAAAAoQAAAAAAAAC5AAAAAAAAA+H8AAAAAAAAQQAAAAAAAAPh/AAAAAAAAKEAAAAAAAAAiQAAAAAAAABBAAAAAAAAA+H8AAAAAAAAIQAAAAAAAADRAAAAAAAAA+H8AAAAAAAAmQAAAAAAAABRAAAAAAAAAHEAAAAAAAAAyQAAAAAAAABxAAAAAAAAAIEAAAAAAAAAUQAAAAAAAADRAAAAAAAAAFEAAAAAAAAD4fwAAAAAAABhAAAAAAAAA8D8AAAAAAAAoQAAAAAAAACBAAAAAAAAA8D8AAAAAAAAAQAAAAAAAACxAAAAAAAAACEAAAAAAAAAoQAAAAAAAABBAAAAAAAAAIEAAAAAAAAD4fwAAAAAAADFAAAAAAAAA8D8AAAAAAAAwQAAAAAAAACxAAAAAAAAAMEAAAAAAAAAuQAAAAAAAAAhAAAAAAAAAFEAAAAAAAAAiQAAAAAAAADNAAAAAAAAAJkAAAAAAAAA0QAAAAAAAAC5AAAAAAAAALEAAAAAAAAAQQAAAAAAAADJAAAAAAAAAHEAAAAAAAAAgQAAAAAAAAC5AAAAAAAAAEEAAAAAAAAAmQAAAAAAAAChAAAAAAAAA+H8AAAAAAAAwQAAAAAAAAAhAAAAAAAAAEEAAAAAAAAAoQAAAAAAAADJAAAAAAAAAMkAAAAAAAAAQQAAAAAAAACxAAAAAAAAAAEAAAAAAAAD4fwAAAAAAAChAAAAAAAAAMUAAAAAAAAAwQAAAAAAAABBAAAAAAAAAMkAAAAAAAAAiQAAAAAAAACxAAAAAAAAANEAAAAAAAAAyQAAAAAAAACJAAAAAAAAAIkAAAAAAAAAkQAAAAAAAAPh/AAAAAAAAGEAAAAAAAAAzQAAAAAAAAAhAAAAAAAAA8D8AAAAAAAAxQAAAAAAAACxAAAAAAAAAGEAAAAAAAAAmQAAAAAAAADNAAAAAAAAAAEAAAAAAAAA0QAAAAAAAAAhAAAAAAAAALEAAAAAAAAAuQAAAAAAAABxAAAAAAAAAEEAAAAAAAAAQQAAAAAAAADNAAAAAAAAAJEAAAAAAAAAqQAAAAAAAAPh/AAAAAAAAHEAAAAAAAAAcQAAAAAAAACJAAAAAAAAAEEAAAAAAAAAsQAAAAAAAACpAAAAAAAAAIEAAAAAAAAAoQAAAAAAAAABAAAAAAAAALkAAAAAAAAD4fwAAAAAAADNAAAAAAAAAKkAAAAAAAAAsQAAAAAAAACpAAAAAAAAAJkAAAAAAAAA0QAAAAAAAAChAAAAAAAAAEEAAAAAAAAAzQAAAAAAAAAhAAAAAAAAAJEAAAAAAAAAgQAAAAAAAABhAAAAAAAAAEEAAAAAAAAAcQAAAAAAAAPh/AAAAAAAAFEAAAAAAAAAUQAAAAAAAABhAAAAAAAAACEAAAAAAAAAwQAAAAAAAADNAAAAAAAAALkAAAAAAAAAzQAAAAAAAADRAAAAAAAAAJkAAAAAAAAAIQAAAAAAAACRAAAAAAAAAM0AAAAAAAAAxQAAAAAAAAC5AAAAAAAAAAEAAAAAAAAAkQAAAAAAAAAhAAAAAAAAAMUAAAAAAAAAzQAAAAAAAAABAAAAAAAAAM0AAAAAAAAAmQAAAAAAAADFAAAAAAAAAAEAAAAAAAAAmQAAAAAAAAPh/AAAAAAAAGEAAAAAAAAAuQAAAAAAAAPh/AAAAAAAANEAAAAAAAAAoQAAAAAAAAPh/AAAAAAAAJkAAAAAAAAAAQAAAAAAAACZAAAAAAAAAEEAAAAAAAAAqQAAAAAAAADRAAAAAAAAAJkAAAAAAAAAUQAAAAAAAAPh/AAAAAAAAKkAAAAAAAAAIQAAAAAAAACpAAAAAAAAAJkAAAAAAAAAxQAAAAAAAACxAAAAAAAAA8D8AAAAAAAAYQAAAAAAAAPh/AAAAAAAAMEAAAAAAAAAUQAAAAAAAACRAAAAAAAAAEEAAAAAAAAAyQAAAAAAAADFAAAAAAAAAJkAAAAAAAAA0QAAAAAAAACpAAAAAAAAAGEAAAAAAAAA0QAAAAAAAABhAAAAAAAAAAEAAAAAAAAAgQAAAAAAAAPh/AAAAAAAALkAAAAAAAAAgQAAAAAAAADBAAAAAAAAA+H8AAAAAAAAzQAAAAAAAAPh/AAAAAAAAJEAAAAAAAAAxQAAAAAAAABhAAAAAAAAANEAAAAAAAAAiQAAAAAAAADBAAAAAAAAAMkAAAAAAAAD4fwAAAAAAADFAAAAAAAAAJEAAAAAAAAAYQAAAAAAAADFAAAAAAAAALEAAAAAAAAAgQAAAAAAAAChAAAAAAAAA+H8AAAAAAAAqQAAAAAAAACBAAAAAAAAACEAAAAAAAADwPwAAAAAAABBAAAAAAAAAJkAAAAAAAAAUQAAAAAAAADBAAAAAAAAAFEAAAAAAAAAwQAAAAAAAAPA/AAAAAAAA+H8AAAAAAAAcQAAAAAAAADJAAAAAAAAA+H8AAAAAAAAsQAAAAAAAACRAAAAAAAAAEEAAAAAAAAAsQAAAAAAAADRAAAAAAAAAEEAAAAAAAAAwQAAAAAAAAPA/AAAAAAAAM0AAAAAAAAAUQAAAAAAAAPA/AAAAAAAAIEAAAAAAAAAYQAAAAAAAAAhAAAAAAAAAKEAAAAAAAAAxQAAAAAAAADFAAAAAAAAAKkAAAAAAAAAAQAAAAAAAAChAAAAAAAAA8D8AAAAAAAAIQAAAAAAAABBAAAAAAAAAJkAAAAAAAAAoQAAAAAAAABhAAAAAAAAALkAAAAAAAAD4fwAAAAAAABhAAAAAAAAACEAAAAAAAAAuQAAAAAAAABxAAAAAAAAAHEAAAAAAAAAmQAAAAAAAAPh/AAAAAAAAMkAAAAAAAAAAQAAAAAAAABxAAAAAAAAAAEAAAAAAAAAmQAAAAAAAAChAAAAAAAAAKkAAAAAAAAAqQAAAAAAAABhAAAAAAAAAMEAAAAAAAAAxQAAAAAAAAAhAAAAAAAAACEAAAAAAAAAYQAAAAAAAACZAAAAAAAAAJkAAAAAAAAAkQAAAAAAAACxAAAAAAAAALkAAAAAAAAAAQAAAAAAAAChAAAAAAAAALEAAAAAAAAAAQAAAAAAAACpAAAAAAAAAGEAAAAAAAAD4fwAAAAAAADRAAAAAAAAALkAAAAAAAAAIQAAAAAAAAChAAAAAAAAAM0AAAAAAAAAUQAAAAAAAAChAAAAAAAAACEAAAAAAAAAxQAAAAAAAACZAAAAAAAAAIEAAAAAAAAD4fwAAAAAAABhAAAAAAAAAKkAAAAAAAAD4fwAAAAAAACJAAAAAAAAAHEAAAAAAAAD4fwAAAAAAADBAAAAAAAAAFEAAAAAAAAAuQAAAAAAAAC5AAAAAAAAA+H8AAAAAAAAmQAAAAAAAAAhAAAAAAAAAJEAAAAAAAAAYQAAAAAAAABhAAAAAAAAAMUAAAAAAAAAcQAAAAAAAACBAAAAAAAAA8D8AAAAAAAAzQAAAAAAAADJAAAAAAAAACEAAAAAAAAAqQAAAAAAAAPh/AAAAAAAAMUAAAAAAAAAsQAAAAAAAAAhAAAAAAAAAJkAAAAAAAAAuQAAAAAAAADFAAAAAAAAAMkAAAAAAAAAYQAAAAAAAABRAAAAAAAAAAEAAAAAAAAAxQAAAAAAAABhAAAAAAAAAIEAAAAAAAAAxQAAAAAAAAAhAAAAAAAAAMkAAAAAAAAAkQAAAAAAAAAhAAAAAAAAAGEAAAAAAAAAzQAAAAAAAADRAAAAAAAAANEAAAAAAAAAzQAAAAAAAAPA/AAAAAAAAM0AAAAAAAAAcQAAAAAAAACxAAAAAAAAA8D8AAAAAAAAyQAAAAAAAACRAAAAAAAAAKkAAAAAAAAAIQAAAAAAAABhAAAAAAAAAMEAAAAAAAAAmQAAAAAAAACZAAAAAAAAAJkAAAAAAAAAoQAAAAAAAAPh/AAAAAAAAKEAAAAAAAAAQQAAAAAAAAC5AAAAAAAAALkAAAAAAAAAQQAAAAAAAACpAAAAAAAAALEAAAAAAAAAYQAAAAAAAADNAAAAAAAAAHEAAAAAAAAAwQAAAAAAAAPh/AAAAAAAAJEAAAAAAAAAIQAAAAAAAAPh/AAAAAAAAIEAAAAAAAAAoQAAAAAAAACRAAAAAAAAAMEAAAAAAAADwPwAAAAAAACxAAAAAAAAAIkAAAAAAAAAqQAAAAAAAACpAAAAAAAAAMkAAAAAAAAAyQAAAAAAAACpAAAAAAAAAMkAAAAAAAAA0QAAAAAAAABBAAAAAAAAAEEAAAAAAAAAmQAAAAAAAAChAAAAAAAAAHEAAAAAAAAAqQAAAAAAAAABAAAAAAAAAJkAAAAAAAAAxQAAAAAAAADRAAAAAAAAAFEAAAAAAAAA0QAAAAAAAACpAAAAAAAAA+H8AAAAAAAAkQAAAAAAAADFAAAAAAAAAMkAAAAAAAAAzQAAAAAAAAPA/AAAAAAAAEEAAAAAAAAD4fwAAAAAAAPA/AAAAAAAAIkAAAAAAAAD4fwAAAAAAADNAAAAAAAAAAEAAAAAAAAAYQAAAAAAAADRAAAAAAAAAKkAAAAAAAAAgQAAAAAAAABBAAAAAAAAALkAAAAAAAAAUQAAAAAAAABxAAAAAAAAANEAAAAAAAAD4fwAAAAAAAABAAAAAAAAAMUAAAAAAAAAmQAAAAAAAAPh/AAAAAAAAKkAAAAAAAAAYQAAAAAAAADJAAAAAAAAAKEAAAAAAAAAiQAAAAAAAABxAAAAAAAAA+H8AAAAAAAAkQAAAAAAAACRAAAAAAAAAHEAAAAAAAAAwQAAAAAAAAChAAAAAAAAAIkAAAAAAAAAzQAAAAAAAACpAAAAAAAAAKkAAAAAAAAAUQAAAAAAAACRAAAAAAAAA+H8AAAAAAAAuQAAAAAAAADBAAAAAAAAAMkAAAAAAAAAyQAAAAAAAABRAAAAAAAAAM0AAAAAAAAAAQAAAAAAAADFAAAAAAAAAIEAAAAAAAAAsQAAAAAAAADBAAAAAAAAAFEAAAAAAAAAyQAAAAAAAAPh/AAAAAAAAMEAAAAAAAAAcQAAAAAAAACRAAAAAAAAAAEAAAAAAAAD4fwAAAAAAADNAAAAAAAAAAEAAAAAAAAD4fwAAAAAAABhAAAAAAAAA+H8AAAAAAAAqQAAAAAAAABhAAAAAAAAA+H8AAAAAAAD4fwAAAAAAAPh/AAAAAAAA8D8AAAAAAAA0QAAAAAAAACZAAAAAAAAAMkAAAAAAAAAUQAAAAAAAAC5AAAAAAAAAEEAAAAAAAAAuQAAAAAAAABhAAAAAAAAAJkAAAAAAAAAzQAAAAAAAABxAAAAAAAAAKkAAAAAAAAAxQAAAAAAAACpAAAAAAAAAGEAAAAAAAAD4fwAAAAAAACBAAAAAAAAAKkAAAAAAAAAiQAAAAAAAAPh/AAAAAAAAM0AAAAAAAAAoQAAAAAAAAABA",
          "dtype": "f8"
         },
         "xaxis": "x",
         "yaxis": "y"
        },
        {
         "name": "Savings",
         "orientation": "h",
         "type": "bar",
         "x": {
          "bdata": "ehSux6koK0HC9ShcaMkpQa1H4fow3SdBcD0K13giJkGvR+H6MAYlQQ==",
          "dtype": "f8"
         },
         "xaxis": "x2",
         "y": [
          "Beta_Supplies",
          "Epsilon_Group",
          "Delta_Logistics",
          "Gamma_Co",
          "Alpha_Inc"
         ],
         "yaxis": "y2"
        },
        {
         "name": "Defect Rate",
         "type": "box",
         "x": [
          "Office Supplies",
          "Office Supplies",
          "MRO",
          "Packaging",
          "Raw Materials",
          "MRO",
          "MRO",
          "MRO",
          "Raw Materials",
          "Raw Materials",
          "Raw Materials",
          "Raw Materials",
          "Electronics",
          "MRO",
          "Electronics",
          "Packaging",
          "MRO",
          "Raw Materials",
          "Raw Materials",
          "Raw Materials",
          "Electronics",
          "Raw Materials",
          "MRO",
          "Office Supplies",
          "MRO",
          "Packaging",
          "MRO",
          "Raw Materials",
          "MRO",
          "MRO",
          "Electronics",
          "Office Supplies",
          "MRO",
          "Packaging",
          "MRO",
          "Office Supplies",
          "Office Supplies",
          "Office Supplies",
          "Office Supplies",
          "Office Supplies",
          "Electronics",
          "Office Supplies",
          "Electronics",
          "MRO",
          "MRO",
          "Electronics",
          "Raw Materials",
          "Office Supplies",
          "Office Supplies",
          "MRO",
          "Electronics",
          "Office Supplies",
          "MRO",
          "Office Supplies",
          "Electronics",
          "Raw Materials",
          "Packaging",
          "MRO",
          "MRO",
          "Packaging",
          "Packaging",
          "MRO",
          "Raw Materials",
          "MRO",
          "Packaging",
          "Office Supplies",
          "Electronics",
          "Office Supplies",
          "Raw Materials",
          "MRO",
          "MRO",
          "Electronics",
          "Office Supplies",
          "Electronics",
          "Raw Materials",
          "Office Supplies",
          "Office Supplies",
          "Raw Materials",
          "MRO",
          "MRO",
          "Packaging",
          "MRO",
          "Electronics",
          "Raw Materials",
          "MRO",
          "Office Supplies",
          "Raw Materials",
          "MRO",
          "Electronics",
          "Packaging",
          "Packaging",
          "Raw Materials",
          "Electronics",
          "Electronics",
          "Electronics",
          "MRO",
          "Packaging",
          "Electronics",
          "Office Supplies",
          "MRO",
          "Office Supplies",
          "Office Supplies",
          "Raw Materials",
          "MRO",
          "Office Supplies",
          "MRO",
          "Electronics",
          "Raw Materials",
          "Packaging",
          "Office Supplies",
          "Raw Materials",
          "Raw Materials",
          "Raw Materials",
          "Raw Materials",
          "Electronics",
          "MRO",
          "Packaging",
          "Packaging",
          "MRO",
          "Packaging",
          "Raw Materials",
          "Electronics",
          "Raw Materials",
          "Raw Materials",
          "Electronics",
          "Office Supplies",
          "Packaging",
          "Electronics",
          "MRO",
          "MRO",
          "MRO",
          "Office Supplies",
          "Electronics",
          "Office Supplies",
          "MRO",
          "Raw Materials",
          "Raw Materials",
          "Office Supplies",
          "MRO",
          "MRO",
          "MRO",
          "MRO",
          "Electronics",
          "Office Supplies",
          "Office Supplies",
          "Electronics",
          "Raw Materials",
          "Office Supplies",
          "Packaging",
          "Office Supplies",
          "Office Supplies",
          "Raw Materials",
          "Electronics",
          "Raw Materials",
          "Raw Materials",
          "Electronics",
          "Packaging",
          "Electronics",
          "Raw Materials",
          "Electronics",
          "Office Supplies",
          "Office Supplies",
          "Packaging",
          "Packaging",
          "Electronics",
          "Electronics",
          "Electronics",
          "MRO",
          "Raw Materials",
          "Raw Materials",
          "Packaging",
          "Office Supplies",
          "Office Supplies",
          "Office Supplies",
          "Office Supplies",
          "Raw Materials",
          "MRO",
          "Office Supplies",
          "Packaging",
          "Electronics",
          "Electronics",
          "Packaging",
          "Packaging",
          "Packaging",
          "MRO",
          "Electronics",
          "MRO",
          "Office Supplies",
          "Electronics",
          "Packaging",
          "MRO",
          "Raw Materials",
          "Electronics",
          "Packaging",
          "Packaging",
          "Office Supplies",
          "MRO",
          "Office Supplies",
          "Raw Materials",
          "Raw Materials",
          "Office Supplies",
          "Electronics",
          "Electronics",
          "Office Supplies",
          "Office Supplies",
          "Electronics",
          "MRO",
          "Office Supplies",
          "Packaging",
          "MRO",
          "Office Supplies",
          "Packaging",
          "Packaging",
          "Office Supplies",
          "Office Supplies",
          "Office Supplies",
          "Packaging",
          "Raw Materials",
          "Office Supplies",
          "Office Supplies",
          "MRO",
          "Office Supplies",
          "MRO",
          "MRO",
          "Raw Materials",
          "Office Supplies",
          "Raw Materials",
          "Packaging",
          "Raw Materials",
          "Electronics",
          "Electronics",
          "Electronics",
          "MRO",
          "Electronics",
          "Raw Materials",
          "Office Supplies",
          "MRO",
          "MRO",
          "Electronics",
          "Packaging",
          "Packaging",
          "Office Supplies",
          "Raw Materials",
          "Electronics",
          "Raw Materials",
          "Packaging",
          "Packaging",
          "Electronics",
          "Packaging",
          "Packaging",
          "Office Supplies",
          "Office Supplies",
          "Packaging",
          "Electronics",
          "Electronics",
          "Packaging",
          "Packaging",
          "MRO",
          "Office Supplies",
          "Office Supplies",
          "Electronics",
          "Raw Materials",
          "Raw Materials",
          "Packaging",
          "Packaging",
          "MRO",
          "MRO",
          "Electronics",
          "Raw Materials",
          "MRO",
          "Raw Materials",
          "MRO",
          "Office Supplies",
          "Packaging",
          "MRO",
          "MRO",
          "Electronics",
          "Office Supplies",
          "Packaging",
          "Office Supplies",
          "Packaging",
          "Office Supplies",
          "Office Supplies",
          "Electronics",
          "Raw Materials",
          "Office Supplies",
          "Packaging",
          "Packaging",
          "Electronics",
          "Raw Materials",
          "Packaging",
          "Electronics",
          "Packaging",
          "MRO",
          "Office Supplies",
          "Raw Materials",
          "Office Supplies",
          "Office Supplies",
          "MRO",
          "Raw Materials",
          "Office Supplies",
          "Electronics",
          "Packaging",
          "Packaging",
          "Electronics",
          "Packaging",
          "MRO",
          "Electronics",
          "MRO",
          "Raw Materials",
          "Packaging",
          "MRO",
          "Packaging",
          "Raw Materials",
          "Office Supplies",
          "Packaging",
          "Raw Materials",
          "Electronics",
          "Packaging",
          "Electronics",
          "Raw Materials",
          "Electronics",
          "MRO",
          "Office Supplies",
          "Electronics",
          "MRO",
          "Office Supplies",
          "Raw Materials",
          "Raw Materials",
          "Packaging",
          "MRO",
          "Office Supplies",
          "Packaging",
          "Packaging",
          "Raw Materials",
          "Electronics",
          "Office Supplies",
          "Raw Materials",
          "Raw Materials",
          "Electronics",
          "MRO",
          "MRO",
          "Office Supplies",
          "Electronics",
          "Electronics",
          "Packaging",
          "Electronics",
          "Office Supplies",
          "Electronics",
          "Packaging",
          "MRO",
          "Electronics",
          "Electronics",
          "Office Supplies",
          "Packaging",
          "Electronics",
          "Office Supplies",
          "Packaging",
          "Raw Materials",
          "Packaging",
          "Raw Materials",
          "Raw Materials",
          "Packaging",
          "Packaging",
          "Office Supplies",
          "Packaging",
          "MRO",
          "Electronics",
          "Packaging",
          "Raw Materials",
          "Raw Materials",
          "Packaging",
          "Electronics",
          "Electronics",
          "Office Supplies",
          "Office Supplies",
          "Office Supplies",
          "Electronics",
          "Raw Materials",
          "Office Supplies",
          "Packaging",
          "Office Supplies",
          "Packaging",
          "Packaging",
          "Raw Materials",
          "Packaging",
          "Office Supplies",
          "Raw Materials",
          "Raw Materials",
          "Electronics",
          "Packaging",
          "Office Supplies",
          "Packaging",
          "Office Supplies",
          "MRO",
          "Electronics",
          "Raw Materials",
          "Electronics",
          "MRO",
          "Electronics",
          "Electronics",
          "MRO",
          "Electronics",
          "Electronics",
          "MRO",
          "MRO",
          "Raw Materials",
          "Office Supplies",
          "Office Supplies",
          "MRO",
          "Office Supplies",
          "Packaging",
          "Packaging",
          "Packaging",
          "Raw Materials",
          "Office Supplies",
          "Electronics",
          "MRO",
          "Office Supplies",
          "Raw Materials",
          "Electronics",
          "MRO",
          "Electronics",
          "MRO",
          "Packaging",
          "MRO",
          "MRO",
          "Raw Materials",
          "Raw Materials",
          "Raw Materials",
          "Office Supplies",
          "Packaging",
          "Packaging",
          "MRO",
          "Raw Materials",
          "Packaging",
          "Packaging",
          "MRO",
          "MRO",
          "Electronics",
          "Electronics",
          "MRO",
          "Electronics",
          "Packaging",
          "MRO",
          "MRO",
          "Raw Materials",
          "Packaging",
          "Packaging",
          "Office Supplies",
          "Office Supplies",
          "Raw Materials",
          "Office Supplies",
          "Electronics",
          "MRO",
          "Electronics",
          "Packaging",
          "Office Supplies",
          "Electronics",
          "Packaging",
          "Office Supplies",
          "MRO",
          "MRO",
          "Office Supplies",
          "MRO",
          "Raw Materials",
          "Office Supplies",
          "Raw Materials",
          "Office Supplies",
          "Raw Materials",
          "MRO",
          "MRO",
          "Electronics",
          "Packaging",
          "Raw Materials",
          "Office Supplies",
          "MRO",
          "MRO",
          "Office Supplies",
          "Packaging",
          "Office Supplies",
          "Raw Materials",
          "Raw Materials",
          "Electronics",
          "Office Supplies",
          "MRO",
          "Electronics",
          "Office Supplies",
          "Office Supplies",
          "MRO",
          "Packaging",
          "Office Supplies",
          "Electronics",
          "MRO",
          "Raw Materials",
          "Packaging",
          "MRO",
          "Electronics",
          "Office Supplies",
          "Electronics",
          "Office Supplies",
          "MRO",
          "Packaging",
          "MRO",
          "Electronics",
          "Electronics",
          "Raw Materials",
          "Raw Materials",
          "Office Supplies",
          "Electronics",
          "Raw Materials",
          "Raw Materials",
          "MRO",
          "Office Supplies",
          "Packaging",
          "MRO",
          "Office Supplies",
          "Office Supplies",
          "MRO",
          "Raw Materials",
          "Raw Materials",
          "Packaging",
          "Packaging",
          "Office Supplies",
          "Packaging",
          "MRO",
          "Packaging",
          "Electronics",
          "Office Supplies",
          "Electronics",
          "Office Supplies",
          "Office Supplies",
          "MRO",
          "Raw Materials",
          "Packaging",
          "Electronics",
          "Packaging",
          "Office Supplies",
          "Electronics",
          "Electronics",
          "Office Supplies",
          "Packaging",
          "Electronics",
          "Packaging",
          "Electronics",
          "Raw Materials",
          "MRO",
          "Office Supplies",
          "MRO",
          "Packaging",
          "MRO",
          "MRO",
          "MRO",
          "MRO",
          "Office Supplies",
          "Raw Materials",
          "Raw Materials",
          "MRO",
          "Raw Materials",
          "Raw Materials",
          "Office Supplies",
          "MRO",
          "Packaging",
          "MRO",
          "Raw Materials",
          "Packaging",
          "Raw Materials",
          "Raw Materials",
          "Electronics",
          "Electronics",
          "Electronics",
          "Raw Materials",
          "MRO",
          "MRO",
          "Raw Materials",
          "Electronics",
          "Raw Materials",
          "MRO",
          "MRO",
          "Office Supplies",
          "MRO",
          "Office Supplies",
          "Raw Materials",
          "MRO",
          "Office Supplies",
          "MRO",
          "Office Supplies",
          "MRO",
          "MRO",
          "Packaging",
          "Raw Materials",
          "Raw Materials",
          "MRO",
          "Office Supplies",
          "Electronics",
          "Office Supplies",
          "MRO",
          "Raw Materials",
          "Office Supplies",
          "Packaging",
          "MRO",
          "Office Supplies",
          "Office Supplies",
          "Packaging",
          "Electronics",
          "Electronics",
          "Office Supplies",
          "MRO",
          "Packaging",
          "Electronics",
          "Office Supplies",
          "MRO",
          "Electronics",
          "Raw Materials",
          "Office Supplies",
          "Packaging",
          "MRO",
          "Office Supplies",
          "Electronics",
          "Office Supplies",
          "Office Supplies",
          "Electronics",
          "Raw Materials",
          "MRO",
          "Electronics",
          "Office Supplies",
          "Office Supplies",
          "Packaging",
          "Office Supplies",
          "Electronics",
          "Packaging",
          "Office Supplies",
          "Electronics",
          "MRO",
          "MRO",
          "Office Supplies",
          "MRO",
          "Office Supplies",
          "Packaging",
          "MRO",
          "Packaging",
          "Packaging",
          "Packaging",
          "Raw Materials",
          "Electronics",
          "Office Supplies",
          "Packaging",
          "Office Supplies",
          "Packaging",
          "Electronics",
          "MRO",
          "Office Supplies",
          "Raw Materials",
          "Office Supplies",
          "Electronics",
          "Packaging",
          "Office Supplies",
          "Electronics",
          "Packaging",
          "MRO",
          "Electronics",
          "Raw Materials",
          "Office Supplies",
          "Electronics",
          "Packaging",
          "Packaging",
          "Raw Materials",
          "Office Supplies",
          "Packaging",
          "Packaging",
          "Packaging",
          "Electronics",
          "Electronics",
          "Office Supplies",
          "Raw Materials",
          "Office Supplies",
          "Raw Materials",
          "MRO",
          "Packaging",
          "Raw Materials",
          "Packaging",
          "Raw Materials",
          "MRO",
          "Raw Materials",
          "Office Supplies",
          "Electronics",
          "Packaging",
          "Electronics",
          "Raw Materials",
          "Office Supplies",
          "Raw Materials",
          "MRO",
          "MRO",
          "MRO",
          "Raw Materials",
          "MRO",
          "Raw Materials",
          "Raw Materials",
          "Office Supplies",
          "Packaging",
          "Electronics",
          "Packaging",
          "Electronics",
          "Electronics",
          "Raw Materials",
          "MRO",
          "MRO",
          "MRO",
          "Packaging",
          "MRO",
          "Office Supplies",
          "Raw Materials",
          "MRO",
          "MRO",
          "MRO",
          "Packaging",
          "Raw Materials",
          "Office Supplies",
          "MRO",
          "Electronics",
          "Packaging",
          "MRO",
          "MRO",
          "Packaging",
          "Office Supplies",
          "Electronics",
          "Electronics",
          "Office Supplies",
          "Packaging",
          "MRO",
          "Office Supplies",
          "Packaging",
          "Packaging",
          "Packaging",
          "Packaging",
          "Electronics",
          "Packaging",
          "Office Supplies",
          "MRO",
          "MRO",
          "Raw Materials",
          "Office Supplies",
          "Raw Materials",
          "Office Supplies",
          "Packaging",
          "Raw Materials",
          "Packaging",
          "Office Supplies",
          "Electronics",
          "Electronics",
          "Electronics",
          "Electronics",
          "MRO",
          "Electronics",
          "Office Supplies",
          "Electronics",
          "MRO",
          "Packaging",
          "Raw Materials",
          "Packaging",
          "Packaging",
          "Raw Materials",
          "Electronics",
          "Electronics",
          "Office Supplies",
          "Electronics",
          "Electronics",
          "Office Supplies",
          "Raw Materials",
          "Office Supplies",
          "Electronics",
          "Electronics",
          "Electronics",
          "Office Supplies",
          "Raw Materials",
          "MRO",
          "Office Supplies"
         ],
         "xaxis": "x3",
         "y": {
          "bdata": "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",
          "dtype": "f8"
         },
         "yaxis": "y3"
        }
       ],
       "layout": {
        "annotations": [
         {
          "font": {
           "size": 16
          },
          "showarrow": false,
          "text": "Order Status Distribution",
          "x": 0.225,
          "xanchor": "center",
          "xref": "paper",
          "y": 1,
          "yanchor": "bottom",
          "yref": "paper"
         },
         {
          "font": {
           "size": 16
          },
          "showarrow": false,
          "text": "Lead Time Distribution",
          "x": 0.775,
          "xanchor": "center",
          "xref": "paper",
          "y": 1,
          "yanchor": "bottom",
          "yref": "paper"
         },
         {
          "font": {
           "size": 16
          },
          "showarrow": false,
          "text": "Cost Savings by Supplier (Top 10)",
          "x": 0.225,
          "xanchor": "center",
          "xref": "paper",
          "y": 0.375,
          "yanchor": "bottom",
          "yref": "paper"
         },
         {
          "font": {
           "size": 16
          },
          "showarrow": false,
          "text": "Defect Rate by Category",
          "x": 0.775,
          "xanchor": "center",
          "xref": "paper",
          "y": 0.375,
          "yanchor": "bottom",
          "yref": "paper"
         }
        ],
        "height": 800,
        "showlegend": false,
        "template": {
         "data": {
          "bar": [
           {
            "error_x": {
             "color": "#2a3f5f"
            },
            "error_y": {
             "color": "#2a3f5f"
            },
            "marker": {
             "line": {
              "color": "#E5ECF6",
              "width": 0.5
             },
             "pattern": {
              "fillmode": "overlay",
              "size": 10,
              "solidity": 0.2
             }
            },
            "type": "bar"
           }
          ],
          "barpolar": [
           {
            "marker": {
             "line": {
              "color": "#E5ECF6",
              "width": 0.5
             },
             "pattern": {
              "fillmode": "overlay",
              "size": 10,
              "solidity": 0.2
             }
            },
            "type": "barpolar"
           }
          ],
          "carpet": [
           {
            "aaxis": {
             "endlinecolor": "#2a3f5f",
             "gridcolor": "white",
             "linecolor": "white",
             "minorgridcolor": "white",
             "startlinecolor": "#2a3f5f"
            },
            "baxis": {
             "endlinecolor": "#2a3f5f",
             "gridcolor": "white",
             "linecolor": "white",
             "minorgridcolor": "white",
             "startlinecolor": "#2a3f5f"
            },
            "type": "carpet"
           }
          ],
          "choropleth": [
           {
            "colorbar": {
             "outlinewidth": 0,
             "ticks": ""
            },
            "type": "choropleth"
           }
          ],
          "contour": [
           {
            "colorbar": {
             "outlinewidth": 0,
             "ticks": ""
            },
            "colorscale": [
             [
              0,
              "#0d0887"
             ],
             [
              0.1111111111111111,
              "#46039f"
             ],
             [
              0.2222222222222222,
              "#7201a8"
             ],
             [
              0.3333333333333333,
              "#9c179e"
             ],
             [
              0.4444444444444444,
              "#bd3786"
             ],
             [
              0.5555555555555556,
              "#d8576b"
             ],
             [
              0.6666666666666666,
              "#ed7953"
             ],
             [
              0.7777777777777778,
              "#fb9f3a"
             ],
             [
              0.8888888888888888,
              "#fdca26"
             ],
             [
              1,
              "#f0f921"
             ]
            ],
            "type": "contour"
           }
          ],
          "contourcarpet": [
           {
            "colorbar": {
             "outlinewidth": 0,
             "ticks": ""
            },
            "type": "contourcarpet"
           }
          ],
          "heatmap": [
           {
            "colorbar": {
             "outlinewidth": 0,
             "ticks": ""
            },
            "colorscale": [
             [
              0,
              "#0d0887"
             ],
             [
              0.1111111111111111,
              "#46039f"
             ],
             [
              0.2222222222222222,
              "#7201a8"
             ],
             [
              0.3333333333333333,
              "#9c179e"
             ],
             [
              0.4444444444444444,
              "#bd3786"
             ],
             [
              0.5555555555555556,
              "#d8576b"
             ],
             [
              0.6666666666666666,
              "#ed7953"
             ],
             [
              0.7777777777777778,
              "#fb9f3a"
             ],
             [
              0.8888888888888888,
              "#fdca26"
             ],
             [
              1,
              "#f0f921"
             ]
            ],
            "type": "heatmap"
           }
          ],
          "histogram": [
           {
            "marker": {
             "pattern": {
              "fillmode": "overlay",
              "size": 10,
              "solidity": 0.2
             }
            },
            "type": "histogram"
           }
          ],
          "histogram2d": [
           {
            "colorbar": {
             "outlinewidth": 0,
             "ticks": ""
            },
            "colorscale": [
             [
              0,
              "#0d0887"
             ],
             [
              0.1111111111111111,
              "#46039f"
             ],
             [
              0.2222222222222222,
              "#7201a8"
             ],
             [
              0.3333333333333333,
              "#9c179e"
             ],
             [
              0.4444444444444444,
              "#bd3786"
             ],
             [
              0.5555555555555556,
              "#d8576b"
             ],
             [
              0.6666666666666666,
              "#ed7953"
             ],
             [
              0.7777777777777778,
              "#fb9f3a"
             ],
             [
              0.8888888888888888,
              "#fdca26"
             ],
             [
              1,
              "#f0f921"
             ]
            ],
            "type": "histogram2d"
           }
          ],
          "histogram2dcontour": [
           {
            "colorbar": {
             "outlinewidth": 0,
             "ticks": ""
            },
            "colorscale": [
             [
              0,
              "#0d0887"
             ],
             [
              0.1111111111111111,
              "#46039f"
             ],
             [
              0.2222222222222222,
              "#7201a8"
             ],
             [
              0.3333333333333333,
              "#9c179e"
             ],
             [
              0.4444444444444444,
              "#bd3786"
             ],
             [
              0.5555555555555556,
              "#d8576b"
             ],
             [
              0.6666666666666666,
              "#ed7953"
             ],
             [
              0.7777777777777778,
              "#fb9f3a"
             ],
             [
              0.8888888888888888,
              "#fdca26"
             ],
             [
              1,
              "#f0f921"
             ]
            ],
            "type": "histogram2dcontour"
           }
          ],
          "mesh3d": [
           {
            "colorbar": {
             "outlinewidth": 0,
             "ticks": ""
            },
            "type": "mesh3d"
           }
          ],
          "parcoords": [
           {
            "line": {
             "colorbar": {
              "outlinewidth": 0,
              "ticks": ""
             }
            },
            "type": "parcoords"
           }
          ],
          "pie": [
           {
            "automargin": true,
            "type": "pie"
           }
          ],
          "scatter": [
           {
            "fillpattern": {
             "fillmode": "overlay",
             "size": 10,
             "solidity": 0.2
            },
            "type": "scatter"
           }
          ],
          "scatter3d": [
           {
            "line": {
             "colorbar": {
              "outlinewidth": 0,
              "ticks": ""
             }
            },
            "marker": {
             "colorbar": {
              "outlinewidth": 0,
              "ticks": ""
             }
            },
            "type": "scatter3d"
           }
          ],
          "scattercarpet": [
           {
            "marker": {
             "colorbar": {
              "outlinewidth": 0,
              "ticks": ""
             }
            },
            "type": "scattercarpet"
           }
          ],
          "scattergeo": [
           {
            "marker": {
             "colorbar": {
              "outlinewidth": 0,
              "ticks": ""
             }
            },
            "type": "scattergeo"
           }
          ],
          "scattergl": [
           {
            "marker": {
             "colorbar": {
              "outlinewidth": 0,
              "ticks": ""
             }
            },
            "type": "scattergl"
           }
          ],
          "scattermap": [
           {
            "marker": {
             "colorbar": {
              "outlinewidth": 0,
              "ticks": ""
             }
            },
            "type": "scattermap"
           }
          ],
          "scattermapbox": [
           {
            "marker": {
             "colorbar": {
              "outlinewidth": 0,
              "ticks": ""
             }
            },
            "type": "scattermapbox"
           }
          ],
          "scatterpolar": [
           {
            "marker": {
             "colorbar": {
              "outlinewidth": 0,
              "ticks": ""
             }
            },
            "type": "scatterpolar"
           }
          ],
          "scatterpolargl": [
           {
            "marker": {
             "colorbar": {
              "outlinewidth": 0,
              "ticks": ""
             }
            },
            "type": "scatterpolargl"
           }
          ],
          "scatterternary": [
           {
            "marker": {
             "colorbar": {
              "outlinewidth": 0,
              "ticks": ""
             }
            },
            "type": "scatterternary"
           }
          ],
          "surface": [
           {
            "colorbar": {
             "outlinewidth": 0,
             "ticks": ""
            },
            "colorscale": [
             [
              0,
              "#0d0887"
             ],
             [
              0.1111111111111111,
              "#46039f"
             ],
             [
              0.2222222222222222,
              "#7201a8"
             ],
             [
              0.3333333333333333,
              "#9c179e"
             ],
             [
              0.4444444444444444,
              "#bd3786"
             ],
             [
              0.5555555555555556,
              "#d8576b"
             ],
             [
              0.6666666666666666,
              "#ed7953"
             ],
             [
              0.7777777777777778,
              "#fb9f3a"
             ],
             [
              0.8888888888888888,
              "#fdca26"
             ],
             [
              1,
              "#f0f921"
             ]
            ],
            "type": "surface"
           }
          ],
          "table": [
           {
            "cells": {
             "fill": {
              "color": "#EBF0F8"
             },
             "line": {
              "color": "white"
             }
            },
            "header": {
             "fill": {
              "color": "#C8D4E3"
             },
             "line": {
              "color": "white"
             }
            },
            "type": "table"
           }
          ]
         },
         "layout": {
          "annotationdefaults": {
           "arrowcolor": "#2a3f5f",
           "arrowhead": 0,
           "arrowwidth": 1
          },
          "autotypenumbers": "strict",
          "coloraxis": {
           "colorbar": {
            "outlinewidth": 0,
            "ticks": ""
           }
          },
          "colorscale": {
           "diverging": [
            [
             0,
             "#8e0152"
            ],
            [
             0.1,
             "#c51b7d"
            ],
            [
             0.2,
             "#de77ae"
            ],
            [
             0.3,
             "#f1b6da"
            ],
            [
             0.4,
             "#fde0ef"
            ],
            [
             0.5,
             "#f7f7f7"
            ],
            [
             0.6,
             "#e6f5d0"
            ],
            [
             0.7,
             "#b8e186"
            ],
            [
             0.8,
             "#7fbc41"
            ],
            [
             0.9,
             "#4d9221"
            ],
            [
             1,
             "#276419"
            ]
           ],
           "sequential": [
            [
             0,
             "#0d0887"
            ],
            [
             0.1111111111111111,
             "#46039f"
            ],
            [
             0.2222222222222222,
             "#7201a8"
            ],
            [
             0.3333333333333333,
             "#9c179e"
            ],
            [
             0.4444444444444444,
             "#bd3786"
            ],
            [
             0.5555555555555556,
             "#d8576b"
            ],
            [
             0.6666666666666666,
             "#ed7953"
            ],
            [
             0.7777777777777778,
             "#fb9f3a"
            ],
            [
             0.8888888888888888,
             "#fdca26"
            ],
            [
             1,
             "#f0f921"
            ]
           ],
           "sequentialminus": [
            [
             0,
             "#0d0887"
            ],
            [
             0.1111111111111111,
             "#46039f"
            ],
            [
             0.2222222222222222,
             "#7201a8"
            ],
            [
             0.3333333333333333,
             "#9c179e"
            ],
            [
             0.4444444444444444,
             "#bd3786"
            ],
            [
             0.5555555555555556,
             "#d8576b"
            ],
            [
             0.6666666666666666,
             "#ed7953"
            ],
            [
             0.7777777777777778,
             "#fb9f3a"
            ],
            [
             0.8888888888888888,
             "#fdca26"
            ],
            [
             1,
             "#f0f921"
            ]
           ]
          },
          "colorway": [
           "#636efa",
           "#EF553B",
           "#00cc96",
           "#ab63fa",
           "#FFA15A",
           "#19d3f3",
           "#FF6692",
           "#B6E880",
           "#FF97FF",
           "#FECB52"
          ],
          "font": {
           "color": "#2a3f5f"
          },
          "geo": {
           "bgcolor": "white",
           "lakecolor": "white",
           "landcolor": "#E5ECF6",
           "showlakes": true,
           "showland": true,
           "subunitcolor": "white"
          },
          "hoverlabel": {
           "align": "left"
          },
          "hovermode": "closest",
          "mapbox": {
           "style": "light"
          },
          "paper_bgcolor": "white",
          "plot_bgcolor": "#E5ECF6",
          "polar": {
           "angularaxis": {
            "gridcolor": "white",
            "linecolor": "white",
            "ticks": ""
           },
           "bgcolor": "#E5ECF6",
           "radialaxis": {
            "gridcolor": "white",
            "linecolor": "white",
            "ticks": ""
           }
          },
          "scene": {
           "xaxis": {
            "backgroundcolor": "#E5ECF6",
            "gridcolor": "white",
            "gridwidth": 2,
            "linecolor": "white",
            "showbackground": true,
            "ticks": "",
            "zerolinecolor": "white"
           },
           "yaxis": {
            "backgroundcolor": "#E5ECF6",
            "gridcolor": "white",
            "gridwidth": 2,
            "linecolor": "white",
            "showbackground": true,
            "ticks": "",
            "zerolinecolor": "white"
           },
           "zaxis": {
            "backgroundcolor": "#E5ECF6",
            "gridcolor": "white",
            "gridwidth": 2,
            "linecolor": "white",
            "showbackground": true,
            "ticks": "",
            "zerolinecolor": "white"
           }
          },
          "shapedefaults": {
           "line": {
            "color": "#2a3f5f"
           }
          },
          "ternary": {
           "aaxis": {
            "gridcolor": "white",
            "linecolor": "white",
            "ticks": ""
           },
           "baxis": {
            "gridcolor": "white",
            "linecolor": "white",
            "ticks": ""
           },
           "bgcolor": "#E5ECF6",
           "caxis": {
            "gridcolor": "white",
            "linecolor": "white",
            "ticks": ""
           }
          },
          "title": {
           "x": 0.05
          },
          "xaxis": {
           "automargin": true,
           "gridcolor": "white",
           "linecolor": "white",
           "ticks": "",
           "title": {
            "standoff": 15
           },
           "zerolinecolor": "white",
           "zerolinewidth": 2
          },
          "yaxis": {
           "automargin": true,
           "gridcolor": "white",
           "linecolor": "white",
           "ticks": "",
           "title": {
            "standoff": 15
           },
           "zerolinecolor": "white",
           "zerolinewidth": 2
          }
         }
        },
        "title": {
         "text": "Procurement Analytics Dashboard"
        },
        "xaxis": {
         "anchor": "y",
         "domain": [
          0.55,
          1
         ]
        },
        "xaxis2": {
         "anchor": "y2",
         "domain": [
          0,
          0.45
         ]
        },
        "xaxis3": {
         "anchor": "y3",
         "domain": [
          0.55,
          1
         ]
        },
        "yaxis": {
         "anchor": "x",
         "domain": [
          0.625,
          1
         ]
        },
        "yaxis2": {
         "anchor": "x2",
         "domain": [
          0,
          0.375
         ]
        },
        "yaxis3": {
         "anchor": "x3",
         "domain": [
          0,
          0.375
         ]
        }
       }
      },
      "image/png": "[encoded data removed]"
     },
     "metadata": {},
     "output_type": "display_data"
    }
   ],
   "source": [
    "# Create comprehensive visualizations\n",
    "fig = make_subplots(\n",
    "    rows=2, cols=2,\n",
    "    subplot_titles=(\n",
    "        'Order Status Distribution',\n",
    "        'Lead Time Distribution', \n",
    "        'Cost Savings by Supplier (Top 10)',\n",
    "        'Defect Rate by Category'\n",
    "    ),\n",
    "    specs=[[{\"type\": \"pie\"}, {\"type\": \"histogram\"}],\n",
    "           [{\"type\": \"bar\"}, {\"type\": \"box\"}]]\n",
    ")\n",
    "\n",
    "# 1. Order Status Pie Chart\n",
    "if 'Order_Status' in df_processed.columns:\n",
    "    status_counts = df_processed['Order_Status'].value_counts()\n",
    "    fig.add_trace(\n",
    "        go.Pie(labels=status_counts.index, values=status_counts.values, name=\"Order Status\"),\n",
    "        row=1, col=1\n",
    "    )\n",
    "\n",
    "# 2. Lead Time Histogram\n",
    "if 'Lead_Time_Days' in df_processed.columns:\n",
    "    fig.add_trace(\n",
    "        go.Histogram(x=df_processed['Lead_Time_Days'], name=\"Lead Time\", nbinsx=30),\n",
    "        row=1, col=2\n",
    "    )\n",
    "\n",
    "# 3. Top Suppliers by Savings\n",
    "if 'Cost_Savings' in df_processed.columns:\n",
    "    supplier_savings = df_processed.groupby('Supplier')['Cost_Savings'].sum().sort_values(ascending=False).head(10)\n",
    "    fig.add_trace(\n",
    "        go.Bar(x=supplier_savings.values, y=supplier_savings.index, \n",
    "               name=\"Savings\", orientation='h'),\n",
    "        row=2, col=1\n",
    "    )\n",
    "\n",
    "# 4. Defect Rate by Category\n",
    "if 'Defect_Rate' in df_processed.columns and 'Item_Category' in df_processed.columns:\n",
    "    fig.add_trace(\n",
    "        go.Box(x=df_processed['Item_Category'], y=df_processed['Defect_Rate'], name=\"Defect Rate\"),\n",
    "        row=2, col=2\n",
    "    )\n",
    "\n",
    "fig.update_layout(height=800, showlegend=False, title_text=\"Procurement Analytics Dashboard\")\n",
    "fig.show()"
   ]
  },
  {
   "cell_type": "code",
   "execution_count": 54,
   "metadata": {},
   "outputs": [
    {
     "data": {
      "application/vnd.plotly.v1+json": {
       "config": {
        "plotlyServerURL": "https://plot.ly"
       },
       "data": [
        {
         "hovertemplate": "Month=%{x}<br>Number of Orders=%{y}<extra></extra>",
         "legendgroup": "",
         "line": {
          "color": "#636efa",
          "dash": "solid"
         },
         "marker": {
          "symbol": "circle"
         },
         "mode": "lines",
         "name": "",
         "orientation": "v",
         "showlegend": false,
         "type": "scatter",
         "x": [
          "2022-01",
          "2022-02",
          "2022-03",
          "2022-04",
          "2022-05",
          "2022-06",
          "2022-07",
          "2022-08",
          "2022-09",
          "2022-10",
          "2022-11",
          "2022-12",
          "2023-01",
          "2023-02",
          "2023-03",
          "2023-04",
          "2023-05",
          "2023-06",
          "2023-07",
          "2023-08",
          "2023-09",
          "2023-10",
          "2023-11",
          "2023-12",
          "2024-01"
         ],
         "xaxis": "x",
         "y": {
          "bdata": "HxspIxkiGysrHx0eHhwnIRQaLB8dHSwaAg==",
          "dtype": "i1"
         },
         "yaxis": "y"
        }
       ],
       "layout": {
        "legend": {
         "tracegroupgap": 0
        },
        "template": {
         "data": {
          "bar": [
           {
            "error_x": {
             "color": "#2a3f5f"
            },
            "error_y": {
             "color": "#2a3f5f"
            },
            "marker": {
             "line": {
              "color": "#E5ECF6",
              "width": 0.5
             },
             "pattern": {
              "fillmode": "overlay",
              "size": 10,
              "solidity": 0.2
             }
            },
            "type": "bar"
           }
          ],
          "barpolar": [
           {
            "marker": {
             "line": {
              "color": "#E5ECF6",
              "width": 0.5
             },
             "pattern": {
              "fillmode": "overlay",
              "size": 10,
              "solidity": 0.2
             }
            },
            "type": "barpolar"
           }
          ],
          "carpet": [
           {
            "aaxis": {
             "endlinecolor": "#2a3f5f",
             "gridcolor": "white",
             "linecolor": "white",
             "minorgridcolor": "white",
             "startlinecolor": "#2a3f5f"
            },
            "baxis": {
             "endlinecolor": "#2a3f5f",
             "gridcolor": "white",
             "linecolor": "white",
             "minorgridcolor": "white",
             "startlinecolor": "#2a3f5f"
            },
            "type": "carpet"
           }
          ],
          "choropleth": [
           {
            "colorbar": {
             "outlinewidth": 0,
             "ticks": ""
            },
            "type": "choropleth"
           }
          ],
          "contour": [
           {
            "colorbar": {
             "outlinewidth": 0,
             "ticks": ""
            },
            "colorscale": [
             [
              0,
              "#0d0887"
             ],
             [
              0.1111111111111111,
              "#46039f"
             ],
             [
              0.2222222222222222,
              "#7201a8"
             ],
             [
              0.3333333333333333,
              "#9c179e"
             ],
             [
              0.4444444444444444,
              "#bd3786"
             ],
             [
              0.5555555555555556,
              "#d8576b"
             ],
             [
              0.6666666666666666,
              "#ed7953"
             ],
             [
              0.7777777777777778,
              "#fb9f3a"
             ],
             [
              0.8888888888888888,
              "#fdca26"
             ],
             [
              1,
              "#f0f921"
             ]
            ],
            "type": "contour"
           }
          ],
          "contourcarpet": [
           {
            "colorbar": {
             "outlinewidth": 0,
             "ticks": ""
            },
            "type": "contourcarpet"
           }
          ],
          "heatmap": [
           {
            "colorbar": {
             "outlinewidth": 0,
             "ticks": ""
            },
            "colorscale": [
             [
              0,
              "#0d0887"
             ],
             [
              0.1111111111111111,
              "#46039f"
             ],
             [
              0.2222222222222222,
              "#7201a8"
             ],
             [
              0.3333333333333333,
              "#9c179e"
             ],
             [
              0.4444444444444444,
              "#bd3786"
             ],
             [
              0.5555555555555556,
              "#d8576b"
             ],
             [
              0.6666666666666666,
              "#ed7953"
             ],
             [
              0.7777777777777778,
              "#fb9f3a"
             ],
             [
              0.8888888888888888,
              "#fdca26"
             ],
             [
              1,
              "#f0f921"
             ]
            ],
            "type": "heatmap"
           }
          ],
          "histogram": [
           {
            "marker": {
             "pattern": {
              "fillmode": "overlay",
              "size": 10,
              "solidity": 0.2
             }
            },
            "type": "histogram"
           }
          ],
          "histogram2d": [
           {
            "colorbar": {
             "outlinewidth": 0,
             "ticks": ""
            },
            "colorscale": [
             [
              0,
              "#0d0887"
             ],
             [
              0.1111111111111111,
              "#46039f"
             ],
             [
              0.2222222222222222,
              "#7201a8"
             ],
             [
              0.3333333333333333,
              "#9c179e"
             ],
             [
              0.4444444444444444,
              "#bd3786"
             ],
             [
              0.5555555555555556,
              "#d8576b"
             ],
             [
              0.6666666666666666,
              "#ed7953"
             ],
             [
              0.7777777777777778,
              "#fb9f3a"
             ],
             [
              0.8888888888888888,
              "#fdca26"
             ],
             [
              1,
              "#f0f921"
             ]
            ],
            "type": "histogram2d"
           }
          ],
          "histogram2dcontour": [
           {
            "colorbar": {
             "outlinewidth": 0,
             "ticks": ""
            },
            "colorscale": [
             [
              0,
              "#0d0887"
             ],
             [
              0.1111111111111111,
              "#46039f"
             ],
             [
              0.2222222222222222,
              "#7201a8"
             ],
             [
              0.3333333333333333,
              "#9c179e"
             ],
             [
              0.4444444444444444,
              "#bd3786"
             ],
             [
              0.5555555555555556,
              "#d8576b"
             ],
             [
              0.6666666666666666,
              "#ed7953"
             ],
             [
              0.7777777777777778,
              "#fb9f3a"
             ],
             [
              0.8888888888888888,
              "#fdca26"
             ],
             [
              1,
              "#f0f921"
             ]
            ],
            "type": "histogram2dcontour"
           }
          ],
          "mesh3d": [
           {
            "colorbar": {
             "outlinewidth": 0,
             "ticks": ""
            },
            "type": "mesh3d"
           }
          ],
          "parcoords": [
           {
            "line": {
             "colorbar": {
              "outlinewidth": 0,
              "ticks": ""
             }
            },
            "type": "parcoords"
           }
          ],
          "pie": [
           {
            "automargin": true,
            "type": "pie"
           }
          ],
          "scatter": [
           {
            "fillpattern": {
             "fillmode": "overlay",
             "size": 10,
             "solidity": 0.2
            },
            "type": "scatter"
           }
          ],
          "scatter3d": [
           {
            "line": {
             "colorbar": {
              "outlinewidth": 0,
              "ticks": ""
             }
            },
            "marker": {
             "colorbar": {
              "outlinewidth": 0,
              "ticks": ""
             }
            },
            "type": "scatter3d"
           }
          ],
          "scattercarpet": [
           {
            "marker": {
             "colorbar": {
              "outlinewidth": 0,
              "ticks": ""
             }
            },
            "type": "scattercarpet"
           }
          ],
          "scattergeo": [
           {
            "marker": {
             "colorbar": {
              "outlinewidth": 0,
              "ticks": ""
             }
            },
            "type": "scattergeo"
           }
          ],
          "scattergl": [
           {
            "marker": {
             "colorbar": {
              "outlinewidth": 0,
              "ticks": ""
             }
            },
            "type": "scattergl"
           }
          ],
          "scattermap": [
           {
            "marker": {
             "colorbar": {
              "outlinewidth": 0,
              "ticks": ""
             }
            },
            "type": "scattermap"
           }
          ],
          "scattermapbox": [
           {
            "marker": {
             "colorbar": {
              "outlinewidth": 0,
              "ticks": ""
             }
            },
            "type": "scattermapbox"
           }
          ],
          "scatterpolar": [
           {
            "marker": {
             "colorbar": {
              "outlinewidth": 0,
              "ticks": ""
             }
            },
            "type": "scatterpolar"
           }
          ],
          "scatterpolargl": [
           {
            "marker": {
             "colorbar": {
              "outlinewidth": 0,
              "ticks": ""
             }
            },
            "type": "scatterpolargl"
           }
          ],
          "scatterternary": [
           {
            "marker": {
             "colorbar": {
              "outlinewidth": 0,
              "ticks": ""
             }
            },
            "type": "scatterternary"
           }
          ],
          "surface": [
           {
            "colorbar": {
             "outlinewidth": 0,
             "ticks": ""
            },
            "colorscale": [
             [
              0,
              "#0d0887"
             ],
             [
              0.1111111111111111,
              "#46039f"
             ],
             [
              0.2222222222222222,
              "#7201a8"
             ],
             [
              0.3333333333333333,
              "#9c179e"
             ],
             [
              0.4444444444444444,
              "#bd3786"
             ],
             [
              0.5555555555555556,
              "#d8576b"
             ],
             [
              0.6666666666666666,
              "#ed7953"
             ],
             [
              0.7777777777777778,
              "#fb9f3a"
             ],
             [
              0.8888888888888888,
              "#fdca26"
             ],
             [
              1,
              "#f0f921"
             ]
            ],
            "type": "surface"
           }
          ],
          "table": [
           {
            "cells": {
             "fill": {
              "color": "#EBF0F8"
             },
             "line": {
              "color": "white"
             }
            },
            "header": {
             "fill": {
              "color": "#C8D4E3"
             },
             "line": {
              "color": "white"
             }
            },
            "type": "table"
           }
          ]
         },
         "layout": {
          "annotationdefaults": {
           "arrowcolor": "#2a3f5f",
           "arrowhead": 0,
           "arrowwidth": 1
          },
          "autotypenumbers": "strict",
          "coloraxis": {
           "colorbar": {
            "outlinewidth": 0,
            "ticks": ""
           }
          },
          "colorscale": {
           "diverging": [
            [
             0,
             "#8e0152"
            ],
            [
             0.1,
             "#c51b7d"
            ],
            [
             0.2,
             "#de77ae"
            ],
            [
             0.3,
             "#f1b6da"
            ],
            [
             0.4,
             "#fde0ef"
            ],
            [
             0.5,
             "#f7f7f7"
            ],
            [
             0.6,
             "#e6f5d0"
            ],
            [
             0.7,
             "#b8e186"
            ],
            [
             0.8,
             "#7fbc41"
            ],
            [
             0.9,
             "#4d9221"
            ],
            [
             1,
             "#276419"
            ]
           ],
           "sequential": [
            [
             0,
             "#0d0887"
            ],
            [
             0.1111111111111111,
             "#46039f"
            ],
            [
             0.2222222222222222,
             "#7201a8"
            ],
            [
             0.3333333333333333,
             "#9c179e"
            ],
            [
             0.4444444444444444,
             "#bd3786"
            ],
            [
             0.5555555555555556,
             "#d8576b"
            ],
            [
             0.6666666666666666,
             "#ed7953"
            ],
            [
             0.7777777777777778,
             "#fb9f3a"
            ],
            [
             0.8888888888888888,
             "#fdca26"
            ],
            [
             1,
             "#f0f921"
            ]
           ],
           "sequentialminus": [
            [
             0,
             "#0d0887"
            ],
            [
             0.1111111111111111,
             "#46039f"
            ],
            [
             0.2222222222222222,
             "#7201a8"
            ],
            [
             0.3333333333333333,
             "#9c179e"
            ],
            [
             0.4444444444444444,
             "#bd3786"
            ],
            [
             0.5555555555555556,
             "#d8576b"
            ],
            [
             0.6666666666666666,
             "#ed7953"
            ],
            [
             0.7777777777777778,
             "#fb9f3a"
            ],
            [
             0.8888888888888888,
             "#fdca26"
            ],
            [
             1,
             "#f0f921"
            ]
           ]
          },
          "colorway": [
           "#636efa",
           "#EF553B",
           "#00cc96",
           "#ab63fa",
           "#FFA15A",
           "#19d3f3",
           "#FF6692",
           "#B6E880",
           "#FF97FF",
           "#FECB52"
          ],
          "font": {
           "color": "#2a3f5f"
          },
          "geo": {
           "bgcolor": "white",
           "lakecolor": "white",
           "landcolor": "#E5ECF6",
           "showlakes": true,
           "showland": true,
           "subunitcolor": "white"
          },
          "hoverlabel": {
           "align": "left"
          },
          "hovermode": "closest",
          "mapbox": {
           "style": "light"
          },
          "paper_bgcolor": "white",
          "plot_bgcolor": "#E5ECF6",
          "polar": {
           "angularaxis": {
            "gridcolor": "white",
            "linecolor": "white",
            "ticks": ""
           },
           "bgcolor": "#E5ECF6",
           "radialaxis": {
            "gridcolor": "white",
            "linecolor": "white",
            "ticks": ""
           }
          },
          "scene": {
           "xaxis": {
            "backgroundcolor": "#E5ECF6",
            "gridcolor": "white",
            "gridwidth": 2,
            "linecolor": "white",
            "showbackground": true,
            "ticks": "",
            "zerolinecolor": "white"
           },
           "yaxis": {
            "backgroundcolor": "#E5ECF6",
            "gridcolor": "white",
            "gridwidth": 2,
            "linecolor": "white",
            "showbackground": true,
            "ticks": "",
            "zerolinecolor": "white"
           },
           "zaxis": {
            "backgroundcolor": "#E5ECF6",
            "gridcolor": "white",
            "gridwidth": 2,
            "linecolor": "white",
            "showbackground": true,
            "ticks": "",
            "zerolinecolor": "white"
           }
          },
          "shapedefaults": {
           "line": {
            "color": "#2a3f5f"
           }
          },
          "ternary": {
           "aaxis": {
            "gridcolor": "white",
            "linecolor": "white",
            "ticks": ""
           },
           "baxis": {
            "gridcolor": "white",
            "linecolor": "white",
            "ticks": ""
           },
           "bgcolor": "#E5ECF6",
           "caxis": {
            "gridcolor": "white",
            "linecolor": "white",
            "ticks": ""
           }
          },
          "title": {
           "x": 0.05
          },
          "xaxis": {
           "automargin": true,
           "gridcolor": "white",
           "linecolor": "white",
           "ticks": "",
           "title": {
            "standoff": 15
           },
           "zerolinecolor": "white",
           "zerolinewidth": 2
          },
          "yaxis": {
           "automargin": true,
           "gridcolor": "white",
           "linecolor": "white",
           "ticks": "",
           "title": {
            "standoff": 15
           },
           "zerolinecolor": "white",
           "zerolinewidth": 2
          }
         }
        },
        "title": {
         "text": "Orders Over Time"
        },
        "xaxis": {
         "anchor": "y",
         "domain": [
          0,
          1
         ],
         "title": {
          "text": "Month"
         }
        },
        "yaxis": {
         "anchor": "x",
         "domain": [
          0,
          1
         ],
         "title": {
          "text": "Number of Orders"
         }
        }
       }
      },
      "image/png": "[encoded data removed]"
     },
     "metadata": {},
     "output_type": "display_data"
    },
    {
     "data": {
      "application/vnd.plotly.v1+json": {
       "config": {
        "plotlyServerURL": "https://plot.ly"
       },
       "data": [
        {
         "hovertemplate": "Month=%{x}<br>Total Spend ($)=%{y}<extra></extra>",
         "legendgroup": "",
         "marker": {
          "color": "#636efa",
          "pattern": {
           "shape": ""
          }
         },
         "name": "",
         "orientation": "v",
         "showlegend": false,
         "textposition": "auto",
         "type": "bar",
         "x": [
          "2022-01",
          "2022-02",
          "2022-03",
          "2022-04",
          "2022-05",
          "2022-06",
          "2022-07",
          "2022-08",
          "2022-09",
          "2022-10",
          "2022-11",
          "2022-12",
          "2023-01",
          "2023-02",
          "2023-03",
          "2023-04",
          "2023-05",
          "2023-06",
          "2023-07",
          "2023-08",
          "2023-09",
          "2023-10",
          "2023-11",
          "2023-12",
          "2024-01"
         ],
         "xaxis": "x",
         "y": {
          "bdata": "4XoU7npxN0GPwvWo6gQ1QXsUrifgx0NBj8L16MptPUGuR+H6+QgyQVK4HgVZwTdBw/UoHBy9M0HXo3AdSMVBQR+F63H+mUBB4noUbocxO0GkcD2KDW03QTMzM1NnkEBB7FG4/vxeQUH2KFzPoxE7QUjhetQ98ERBzczMzJEWOkEzMzMzkhE3QWZmZmaoTTVBzczM7HQMQkFI4XpUbaw+QT0K16O6BEFBMzMzMxOIPEFSuB6lPbZDQR+F65H7YDNBzMzMzJqrBEE=",
          "dtype": "f8"
         },
         "yaxis": "y"
        }
       ],
       "layout": {
        "barmode": "relative",
        "legend": {
         "tracegroupgap": 0
        },
        "template": {
         "data": {
          "bar": [
           {
            "error_x": {
             "color": "#2a3f5f"
            },
            "error_y": {
             "color": "#2a3f5f"
            },
            "marker": {
             "line": {
              "color": "#E5ECF6",
              "width": 0.5
             },
             "pattern": {
              "fillmode": "overlay",
              "size": 10,
              "solidity": 0.2
             }
            },
            "type": "bar"
           }
          ],
          "barpolar": [
           {
            "marker": {
             "line": {
              "color": "#E5ECF6",
              "width": 0.5
             },
             "pattern": {
              "fillmode": "overlay",
              "size": 10,
              "solidity": 0.2
             }
            },
            "type": "barpolar"
           }
          ],
          "carpet": [
           {
            "aaxis": {
             "endlinecolor": "#2a3f5f",
             "gridcolor": "white",
             "linecolor": "white",
             "minorgridcolor": "white",
             "startlinecolor": "#2a3f5f"
            },
            "baxis": {
             "endlinecolor": "#2a3f5f",
             "gridcolor": "white",
             "linecolor": "white",
             "minorgridcolor": "white",
             "startlinecolor": "#2a3f5f"
            },
            "type": "carpet"
           }
          ],
          "choropleth": [
           {
            "colorbar": {
             "outlinewidth": 0,
             "ticks": ""
            },
            "type": "choropleth"
           }
          ],
          "contour": [
           {
            "colorbar": {
             "outlinewidth": 0,
             "ticks": ""
            },
            "colorscale": [
             [
              0,
              "#0d0887"
             ],
             [
              0.1111111111111111,
              "#46039f"
             ],
             [
              0.2222222222222222,
              "#7201a8"
             ],
             [
              0.3333333333333333,
              "#9c179e"
             ],
             [
              0.4444444444444444,
              "#bd3786"
             ],
             [
              0.5555555555555556,
              "#d8576b"
             ],
             [
              0.6666666666666666,
              "#ed7953"
             ],
             [
              0.7777777777777778,
              "#fb9f3a"
             ],
             [
              0.8888888888888888,
              "#fdca26"
             ],
             [
              1,
              "#f0f921"
             ]
            ],
            "type": "contour"
           }
          ],
          "contourcarpet": [
           {
            "colorbar": {
             "outlinewidth": 0,
             "ticks": ""
            },
            "type": "contourcarpet"
           }
          ],
          "heatmap": [
           {
            "colorbar": {
             "outlinewidth": 0,
             "ticks": ""
            },
            "colorscale": [
             [
              0,
              "#0d0887"
             ],
             [
              0.1111111111111111,
              "#46039f"
             ],
             [
              0.2222222222222222,
              "#7201a8"
             ],
             [
              0.3333333333333333,
              "#9c179e"
             ],
             [
              0.4444444444444444,
              "#bd3786"
             ],
             [
              0.5555555555555556,
              "#d8576b"
             ],
             [
              0.6666666666666666,
              "#ed7953"
             ],
             [
              0.7777777777777778,
              "#fb9f3a"
             ],
             [
              0.8888888888888888,
              "#fdca26"
             ],
             [
              1,
              "#f0f921"
             ]
            ],
            "type": "heatmap"
           }
          ],
          "histogram": [
           {
            "marker": {
             "pattern": {
              "fillmode": "overlay",
              "size": 10,
              "solidity": 0.2
             }
            },
            "type": "histogram"
           }
          ],
          "histogram2d": [
           {
            "colorbar": {
             "outlinewidth": 0,
             "ticks": ""
            },
            "colorscale": [
             [
              0,
              "#0d0887"
             ],
             [
              0.1111111111111111,
              "#46039f"
             ],
             [
              0.2222222222222222,
              "#7201a8"
             ],
             [
              0.3333333333333333,
              "#9c179e"
             ],
             [
              0.4444444444444444,
              "#bd3786"
             ],
             [
              0.5555555555555556,
              "#d8576b"
             ],
             [
              0.6666666666666666,
              "#ed7953"
             ],
             [
              0.7777777777777778,
              "#fb9f3a"
             ],
             [
              0.8888888888888888,
              "#fdca26"
             ],
             [
              1,
              "#f0f921"
             ]
            ],
            "type": "histogram2d"
           }
          ],
          "histogram2dcontour": [
           {
            "colorbar": {
             "outlinewidth": 0,
             "ticks": ""
            },
            "colorscale": [
             [
              0,
              "#0d0887"
             ],
             [
              0.1111111111111111,
              "#46039f"
             ],
             [
              0.2222222222222222,
              "#7201a8"
             ],
             [
              0.3333333333333333,
              "#9c179e"
             ],
             [
              0.4444444444444444,
              "#bd3786"
             ],
             [
              0.5555555555555556,
              "#d8576b"
             ],
             [
              0.6666666666666666,
              "#ed7953"
             ],
             [
              0.7777777777777778,
              "#fb9f3a"
             ],
             [
              0.8888888888888888,
              "#fdca26"
             ],
             [
              1,
              "#f0f921"
             ]
            ],
            "type": "histogram2dcontour"
           }
          ],
          "mesh3d": [
           {
            "colorbar": {
             "outlinewidth": 0,
             "ticks": ""
            },
            "type": "mesh3d"
           }
          ],
          "parcoords": [
           {
            "line": {
             "colorbar": {
              "outlinewidth": 0,
              "ticks": ""
             }
            },
            "type": "parcoords"
           }
          ],
          "pie": [
           {
            "automargin": true,
            "type": "pie"
           }
          ],
          "scatter": [
           {
            "fillpattern": {
             "fillmode": "overlay",
             "size": 10,
             "solidity": 0.2
            },
            "type": "scatter"
           }
          ],
          "scatter3d": [
           {
            "line": {
             "colorbar": {
              "outlinewidth": 0,
              "ticks": ""
             }
            },
            "marker": {
             "colorbar": {
              "outlinewidth": 0,
              "ticks": ""
             }
            },
            "type": "scatter3d"
           }
          ],
          "scattercarpet": [
           {
            "marker": {
             "colorbar": {
              "outlinewidth": 0,
              "ticks": ""
             }
            },
            "type": "scattercarpet"
           }
          ],
          "scattergeo": [
           {
            "marker": {
             "colorbar": {
              "outlinewidth": 0,
              "ticks": ""
             }
            },
            "type": "scattergeo"
           }
          ],
          "scattergl": [
           {
            "marker": {
             "colorbar": {
              "outlinewidth": 0,
              "ticks": ""
             }
            },
            "type": "scattergl"
           }
          ],
          "scattermap": [
           {
            "marker": {
             "colorbar": {
              "outlinewidth": 0,
              "ticks": ""
             }
            },
            "type": "scattermap"
           }
          ],
          "scattermapbox": [
           {
            "marker": {
             "colorbar": {
              "outlinewidth": 0,
              "ticks": ""
             }
            },
            "type": "scattermapbox"
           }
          ],
          "scatterpolar": [
           {
            "marker": {
             "colorbar": {
              "outlinewidth": 0,
              "ticks": ""
             }
            },
            "type": "scatterpolar"
           }
          ],
          "scatterpolargl": [
           {
            "marker": {
             "colorbar": {
              "outlinewidth": 0,
              "ticks": ""
             }
            },
            "type": "scatterpolargl"
           }
          ],
          "scatterternary": [
           {
            "marker": {
             "colorbar": {
              "outlinewidth": 0,
              "ticks": ""
             }
            },
            "type": "scatterternary"
           }
          ],
          "surface": [
           {
            "colorbar": {
             "outlinewidth": 0,
             "ticks": ""
            },
            "colorscale": [
             [
              0,
              "#0d0887"
             ],
             [
              0.1111111111111111,
              "#46039f"
             ],
             [
              0.2222222222222222,
              "#7201a8"
             ],
             [
              0.3333333333333333,
              "#9c179e"
             ],
             [
              0.4444444444444444,
              "#bd3786"
             ],
             [
              0.5555555555555556,
              "#d8576b"
             ],
             [
              0.6666666666666666,
              "#ed7953"
             ],
             [
              0.7777777777777778,
              "#fb9f3a"
             ],
             [
              0.8888888888888888,
              "#fdca26"
             ],
             [
              1,
              "#f0f921"
             ]
            ],
            "type": "surface"
           }
          ],
          "table": [
           {
            "cells": {
             "fill": {
              "color": "#EBF0F8"
             },
             "line": {
              "color": "white"
             }
            },
            "header": {
             "fill": {
              "color": "#C8D4E3"
             },
             "line": {
              "color": "white"
             }
            },
            "type": "table"
           }
          ]
         },
         "layout": {
          "annotationdefaults": {
           "arrowcolor": "#2a3f5f",
           "arrowhead": 0,
           "arrowwidth": 1
          },
          "autotypenumbers": "strict",
          "coloraxis": {
           "colorbar": {
            "outlinewidth": 0,
            "ticks": ""
           }
          },
          "colorscale": {
           "diverging": [
            [
             0,
             "#8e0152"
            ],
            [
             0.1,
             "#c51b7d"
            ],
            [
             0.2,
             "#de77ae"
            ],
            [
             0.3,
             "#f1b6da"
            ],
            [
             0.4,
             "#fde0ef"
            ],
            [
             0.5,
             "#f7f7f7"
            ],
            [
             0.6,
             "#e6f5d0"
            ],
            [
             0.7,
             "#b8e186"
            ],
            [
             0.8,
             "#7fbc41"
            ],
            [
             0.9,
             "#4d9221"
            ],
            [
             1,
             "#276419"
            ]
           ],
           "sequential": [
            [
             0,
             "#0d0887"
            ],
            [
             0.1111111111111111,
             "#46039f"
            ],
            [
             0.2222222222222222,
             "#7201a8"
            ],
            [
             0.3333333333333333,
             "#9c179e"
            ],
            [
             0.4444444444444444,
             "#bd3786"
            ],
            [
             0.5555555555555556,
             "#d8576b"
            ],
            [
             0.6666666666666666,
             "#ed7953"
            ],
            [
             0.7777777777777778,
             "#fb9f3a"
            ],
            [
             0.8888888888888888,
             "#fdca26"
            ],
            [
             1,
             "#f0f921"
            ]
           ],
           "sequentialminus": [
            [
             0,
             "#0d0887"
            ],
            [
             0.1111111111111111,
             "#46039f"
            ],
            [
             0.2222222222222222,
             "#7201a8"
            ],
            [
             0.3333333333333333,
             "#9c179e"
            ],
            [
             0.4444444444444444,
             "#bd3786"
            ],
            [
             0.5555555555555556,
             "#d8576b"
            ],
            [
             0.6666666666666666,
             "#ed7953"
            ],
            [
             0.7777777777777778,
             "#fb9f3a"
            ],
            [
             0.8888888888888888,
             "#fdca26"
            ],
            [
             1,
             "#f0f921"
            ]
           ]
          },
          "colorway": [
           "#636efa",
           "#EF553B",
           "#00cc96",
           "#ab63fa",
           "#FFA15A",
           "#19d3f3",
           "#FF6692",
           "#B6E880",
           "#FF97FF",
           "#FECB52"
          ],
          "font": {
           "color": "#2a3f5f"
          },
          "geo": {
           "bgcolor": "white",
           "lakecolor": "white",
           "landcolor": "#E5ECF6",
           "showlakes": true,
           "showland": true,
           "subunitcolor": "white"
          },
          "hoverlabel": {
           "align": "left"
          },
          "hovermode": "closest",
          "mapbox": {
           "style": "light"
          },
          "paper_bgcolor": "white",
          "plot_bgcolor": "#E5ECF6",
          "polar": {
           "angularaxis": {
            "gridcolor": "white",
            "linecolor": "white",
            "ticks": ""
           },
           "bgcolor": "#E5ECF6",
           "radialaxis": {
            "gridcolor": "white",
            "linecolor": "white",
            "ticks": ""
           }
          },
          "scene": {
           "xaxis": {
            "backgroundcolor": "#E5ECF6",
            "gridcolor": "white",
            "gridwidth": 2,
            "linecolor": "white",
            "showbackground": true,
            "ticks": "",
            "zerolinecolor": "white"
           },
           "yaxis": {
            "backgroundcolor": "#E5ECF6",
            "gridcolor": "white",
            "gridwidth": 2,
            "linecolor": "white",
            "showbackground": true,
            "ticks": "",
            "zerolinecolor": "white"
           },
           "zaxis": {
            "backgroundcolor": "#E5ECF6",
            "gridcolor": "white",
            "gridwidth": 2,
            "linecolor": "white",
            "showbackground": true,
            "ticks": "",
            "zerolinecolor": "white"
           }
          },
          "shapedefaults": {
           "line": {
            "color": "#2a3f5f"
           }
          },
          "ternary": {
           "aaxis": {
            "gridcolor": "white",
            "linecolor": "white",
            "ticks": ""
           },
           "baxis": {
            "gridcolor": "white",
            "linecolor": "white",
            "ticks": ""
           },
           "bgcolor": "#E5ECF6",
           "caxis": {
            "gridcolor": "white",
            "linecolor": "white",
            "ticks": ""
           }
          },
          "title": {
           "x": 0.05
          },
          "xaxis": {
           "automargin": true,
           "gridcolor": "white",
           "linecolor": "white",
           "ticks": "",
           "title": {
            "standoff": 15
           },
           "zerolinecolor": "white",
           "zerolinewidth": 2
          },
          "yaxis": {
           "automargin": true,
           "gridcolor": "white",
           "linecolor": "white",
           "ticks": "",
           "title": {
            "standoff": 15
           },
           "zerolinecolor": "white",
           "zerolinewidth": 2
          }
         }
        },
        "title": {
         "text": "Monthly Procurement Spend"
        },
        "xaxis": {
         "anchor": "y",
         "domain": [
          0,
          1
         ],
         "title": {
          "text": "Month"
         }
        },
        "yaxis": {
         "anchor": "x",
         "domain": [
          0,
          1
         ],
         "title": {
          "text": "Total Spend ($)"
         }
        }
       }
      },
      "image/png": "[encoded data removed]"
     },
     "metadata": {},
     "output_type": "display_data"
    }
   ],
   "source": [
    "# Time series analysis\n",
    "if 'Order_Date' in df_processed.columns:\n",
    "    # Orders over time\n",
    "    df_processed['Order_Month'] = df_processed['Order_Date'].dt.to_period('M')\n",
    "    monthly_orders = df_processed.groupby('Order_Month').size()\n",
    "    \n",
    "    fig = px.line(x=monthly_orders.index.astype(str), y=monthly_orders.values,\n",
    "                  title='Orders Over Time',\n",
    "                  labels={'x': 'Month', 'y': 'Number of Orders'})\n",
    "    fig.show()\n",
    "    \n",
    "    # Monthly spend trend\n",
    "    if 'Total_Negotiated_Value' in df_processed.columns:\n",
    "        monthly_spend = df_processed.groupby('Order_Month')['Total_Negotiated_Value'].sum()\n",
    "        \n",
    "        fig = px.bar(x=monthly_spend.index.astype(str), y=monthly_spend.values,\n",
    "                     title='Monthly Procurement Spend',\n",
    "                     labels={'x': 'Month', 'y': 'Total Spend ($)'})\n",
    "        fig.show()"
   ]
  },
  {
   "cell_type": "markdown",
   "metadata": {},
   "source": [
    "## 11. Correlation Analysis"
   ]
  },
  {
   "cell_type": "code",
   "execution_count": 55,
   "metadata": {},
   "outputs": [
    {
     "name": "stdout",
     "output_type": "stream",
     "text": [
      " Correlation Analysis:\n",
      "==================================================\n"
     ]
    },
    {
     "data": {
      "image/png": "[encoded data removed]",
      "text/plain": [
       "<Figure size 1200x1000 with 2 Axes>"
      ]
     },
     "metadata": {},
     "output_type": "display_data"
    },
    {
     "name": "stdout",
     "output_type": "stream",
     "text": [
      "\n",
      " Strong Correlations (|r| > 0.5):\n",
      "  Quantity ↔ Total_Original_Value: 0.724\n",
      "  Quantity ↔ Total_Negotiated_Value: 0.722\n",
      "  Quantity ↔ Cost_Savings: 0.557\n",
      "  Unit_Price ↔ Negotiated_Price: 0.995\n",
      "  Unit_Price ↔ Total_Original_Value: 0.574\n",
      "  Unit_Price ↔ Total_Negotiated_Value: 0.574\n",
      "  Negotiated_Price ↔ Total_Original_Value: 0.569\n",
      "  Negotiated_Price ↔ Total_Negotiated_Value: 0.575\n",
      "  Defective_Units ↔ Defect_Rate: 0.716\n",
      "  Total_Original_Value ↔ Total_Negotiated_Value: 0.997\n",
      "  Total_Original_Value ↔ Cost_Savings: 0.766\n",
      "  Total_Negotiated_Value ↔ Cost_Savings: 0.717\n"
     ]
    }
   ],
   "source": [
    "# Correlation analysis of numerical variables\n",
    "print(\" Correlation Analysis:\")\n",
    "print(\"=\" * 50)\n",
    "\n",
    "# Select numerical columns for correlation\n",
    "numerical_cols = df_processed.select_dtypes(include=[np.number]).columns.tolist()\n",
    "\n",
    "if len(numerical_cols) > 1:\n",
    "    correlation_matrix = df_processed[numerical_cols].corr()\n",
    "    \n",
    "    # Create correlation heatmap\n",
    "    plt.figure(figsize=(12, 10))\n",
    "    mask = np.triu(np.ones_like(correlation_matrix, dtype=bool))\n",
    "    sns.heatmap(correlation_matrix, mask=mask, annot=True, cmap='coolwarm', center=0,\n",
    "                square=True, linewidths=0.5, cbar_kws={\"shrink\": .5})\n",
    "    plt.title('Correlation Matrix of Numerical Variables', fontsize=14, fontweight='bold')\n",
    "    plt.tight_layout()\n",
    "    plt.show()\n",
    "    \n",
    "    # Identify strong correlations\n",
    "    print(\"\\n Strong Correlations (|r| > 0.5):\")\n",
    "    for i in range(len(correlation_matrix.columns)):\n",
    "        for j in range(i+1, len(correlation_matrix.columns)):\n",
    "            corr_value = correlation_matrix.iloc[i, j]\n",
    "            if abs(corr_value) > 0.5:\n",
    "                print(f\"  {correlation_matrix.columns[i]} ↔ {correlation_matrix.columns[j]}: {corr_value:.3f}\")"
   ]
  },
  {
   "cell_type": "markdown",
   "metadata": {},
   "source": [
    "## 12. Key Insights & Recommendations"
   ]
  },
  {
   "cell_type": "code",
   "execution_count": 57,
   "metadata": {},
   "outputs": [
    {
     "name": "stdout",
     "output_type": "stream",
     "text": [
      " KEY INSIGHTS & RECOMMENDATIONS\n",
      "============================================================\n",
      " 1.  Data quality issues - 223 missing values found\n",
      " 2.  Total cost savings achieved: $3,931,126.47 (8.0% average rate)\n",
      " 3.  Significant quality concerns - 7.01% average defect rate\n",
      " 4.  Supplier portfolio: 5 suppliers (top supplier: 22.0% of orders)\n",
      " 5.  Average delivery time: 10.8 days\n",
      "\n",
      " RECOMMENDED NEXT STEPS:\n",
      "========================================\n",
      "1.  Deep-dive supplier performance analysis\n",
      "2.  Cost optimization opportunity identification\n",
      "3.  Quality improvement action plan\n",
      "4.  KPI dashboard development\n",
      "5.  Predictive model development\n",
      "6.  Automated reporting implementation\n"
     ]
    }
   ],
   "source": [
    "# Generate key insights summary\n",
    "print(\" KEY INSIGHTS & RECOMMENDATIONS\")\n",
    "print(\"=\" * 60)\n",
    "\n",
    "insights = []\n",
    "\n",
    "# Data quality insights\n",
    "if df.isnull().sum().sum() == 0:\n",
    "    insights.append(\" EXCELLENT data quality - no missing values detected\")\n",
    "else:\n",
    "    insights.append(f\" Data quality issues - {df.isnull().sum().sum()} missing values found\")\n",
    "\n",
    "# Financial insights\n",
    "if 'Cost_Savings' in df_processed.columns:\n",
    "    total_savings = df_processed['Cost_Savings'].sum()\n",
    "    avg_savings_rate = df_processed['Savings_Percentage'].mean()\n",
    "    insights.append(f\" Total cost savings achieved: ${total_savings:,.2f} ({avg_savings_rate:.1f}% average rate)\")\n",
    "\n",
    "# Quality insights\n",
    "if 'Defect_Rate' in df_processed.columns:\n",
    "    avg_defect_rate = df_processed['Defect_Rate'].mean()\n",
    "    if avg_defect_rate < 2:\n",
    "        insights.append(f\" EXCELLENT quality performance - {avg_defect_rate:.2f}% average defect rate\")\n",
    "    elif avg_defect_rate < 5:\n",
    "        insights.append(f\" Moderate quality issues - {avg_defect_rate:.2f}% average defect rate\")\n",
    "    else:\n",
    "        insights.append(f\" Significant quality concerns - {avg_defect_rate:.2f}% average defect rate\")\n",
    "\n",
    "# Supplier insights\n",
    "if 'Supplier' in df_processed.columns:\n",
    "    supplier_count = df_processed['Supplier'].nunique()\n",
    "    top_supplier_concentration = (df_processed['Supplier'].value_counts().iloc[0] / len(df_processed) * 100)\n",
    "    insights.append(f\" Supplier portfolio: {supplier_count} suppliers (top supplier: {top_supplier_concentration:.1f}% of orders)\")\n",
    "\n",
    "# Delivery insights\n",
    "if 'Lead_Time_Days' in df_processed.columns:\n",
    "    avg_lead_time = df_processed['Lead_Time_Days'].mean()\n",
    "    insights.append(f\" Average delivery time: {avg_lead_time:.1f} days\")\n",
    "\n",
    "# Print insights\n",
    "for i, insight in enumerate(insights, 1):\n",
    "    print(f\"{i:2d}. {insight}\")\n",
    "\n",
    "print(\"\\n RECOMMENDED NEXT STEPS:\")\n",
    "print(\"=\" * 40)\n",
    "recommendations = [\n",
    "    \" Deep-dive supplier performance analysis\",\n",
    "    \" Cost optimization opportunity identification\", \n",
    "    \" Quality improvement action plan\",\n",
    "    \" KPI dashboard development\",\n",
    "    \" Predictive model development\",\n",
    "    \" Automated reporting implementation\"\n",
    "]\n",
    "\n",
    "for i, rec in enumerate(recommendations, 1):\n",
    "    print(f\"{i}. {rec}\")"
   ]
  },
  {
   "cell_type": "markdown",
   "metadata": {},
   "source": [
    "## 13. Save Processed Data"
   ]
  },
  {
   "cell_type": "code",
   "execution_count": 58,
   "metadata": {},
   "outputs": [
    {
     "name": "stdout",
     "output_type": "stream",
     "text": [
      " Processed data saved to: ../data/interim/procurement_data_processed.csv\n",
      " Records saved: 777\n",
      " Columns saved: 18\n",
      " Summary saved to: ../data/interim/data_exploration_summary.txt\n",
      "\n",
      " Data exploration completed successfully!\n"
     ]
    }
   ],
   "source": [
    "# Save the processed dataset for future analysis\n",
    "import os\n",
    "\n",
    "# Ensure the interim directory exists\n",
    "os.makedirs('../data/interim', exist_ok=True)\n",
    "\n",
    "# Save processed data\n",
    "output_path = '../data/interim/procurement_data_processed.csv'\n",
    "df_processed.to_csv(output_path, index=False)\n",
    "\n",
    "print(f\" Processed data saved to: {output_path}\")\n",
    "print(f\" Records saved: {len(df_processed):,}\")\n",
    "print(f\" Columns saved: {len(df_processed.columns)}\")\n",
    "\n",
    "# Save summary statistics\n",
    "summary_path = '../data/interim/data_exploration_summary.txt'\n",
    "with open(summary_path, 'w') as f:\n",
    "    f.write(\"PROCUREMENT DATA EXPLORATION SUMMARY\\n\")\n",
    "    f.write(\"=\" * 50 + \"\\n\")\n",
    "    f.write(f\"Analysis Date: {datetime.now().strftime('%Y-%m-%d %H:%M')}\\n\")\n",
    "    f.write(f\"Dataset Shape: {df_processed.shape[0]:,} rows × {df_processed.shape[1]} columns\\n\")\n",
    "    f.write(f\"Data Quality: {df.isnull().sum().sum()} missing values\\n\")\n",
    "    \n",
    "    if 'Cost_Savings' in df_processed.columns:\n",
    "        f.write(f\"Total Savings: ${df_processed['Cost_Savings'].sum():,.2f}\\n\")\n",
    "    \n",
    "    if 'Defect_Rate' in df_processed.columns:\n",
    "        f.write(f\"Average Defect Rate: {df_processed['Defect_Rate'].mean():.2f}%\\n\")\n",
    "\n",
    "print(f\" Summary saved to: {summary_path}\")\n",
    "print(\"\\n Data exploration completed successfully!\")"
   ]
  },
  {
   "cell_type": "markdown",
   "metadata": {},
   "source": [
    "---\n",
    "\n",
    "## 🎯 Exploration Complete!\n",
    "\n",
    "**What we've accomplished:**\n",
    "- ✅ Comprehensive data quality assessment\n",
    "- ✅ Financial performance analysis \n",
    "- ✅ Supplier performance evaluation\n",
    "- ✅ Quality and compliance metrics\n",
    "- ✅ Temporal trend analysis\n",
    "- ✅ Key insight identification\n",
    "\n",
    "**Next Steps:**\n",
    "1. **Data Cleaning** (Notebook 02) - Address any data quality issues\n",
    "2. **Feature Engineering** (Notebook 03) - Create advanced KPI features\n",
    "3. **KPI Analysis** (Notebook 04) - Deep-dive into performance metrics\n",
    "4. **Supplier Analysis** (Notebook 05) - Comprehensive supplier evaluation\n",
    "5. **Predictive Modeling** (Notebook 06) - Build forecasting models\n",
    "\n",
    "**Key Files Generated:**\n",
    "- `../data/interim/procurement_data_processed.csv` - Clean, processed dataset\n",
    "- `../data/interim/data_exploration_summary.txt` - Analysis summary\n",
    "\n",
    "---"
   ]
  }
 ],
 "metadata": {
  "kernelspec": {
   "display_name": "Python 3 (ipykernel)",
   "language": "python",
   "name": "python3"
  },
  "language_info": {
   "codemirror_mode": {
    "name": "ipython",
    "version": 3
   },
   "file_extension": ".py",
   "mimetype": "text/x-python",
   "name": "python",
   "nbconvert_exporter": "python",
   "pygments_lexer": "ipython3",
   "version": "3.13.2"
  }
 },
 "nbformat": 4,
 "nbformat_minor": 4
}
